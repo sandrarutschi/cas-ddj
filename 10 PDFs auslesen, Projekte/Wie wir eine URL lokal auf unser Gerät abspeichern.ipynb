{
 "cells": [
  {
   "cell_type": "code",
   "execution_count": 1,
   "metadata": {},
   "outputs": [],
   "source": [
    "import requests"
   ]
  },
  {
   "cell_type": "code",
   "execution_count": 5,
   "metadata": {},
   "outputs": [],
   "source": [
    "from bs4 import BeautifulSoup"
   ]
  },
  {
   "cell_type": "code",
   "execution_count": 22,
   "metadata": {},
   "outputs": [],
   "source": [
    "url = requests.get('https://www.zahnarztvergleich.ch/zahnarzt.php?p=20&geschlecht=0')\n",
    "#save html web page as text file. dann komm ich hier drauf: https://stackoverflow.com/questions/35166169/how-to-save-web-page-as-text-file-python\n",
    "#url.text #so lese ich den inhalt\n",
    "page_content = url.text"
   ]
  },
  {
   "cell_type": "code",
   "execution_count": 23,
   "metadata": {},
   "outputs": [],
   "source": [
    "file = open('test.html', 'w')\n",
    "file.write(page_content)\n",
    "file.close()"
   ]
  },
  {
   "cell_type": "code",
   "execution_count": 26,
   "metadata": {},
   "outputs": [
    {
     "data": {
      "text/plain": [
       "<_io.TextIOWrapper name='test.html' mode='w' encoding='cp1252'>"
      ]
     },
     "execution_count": 26,
     "metadata": {},
     "output_type": "execute_result"
    }
   ],
   "source": [
    "file"
   ]
  },
  {
   "cell_type": "code",
   "execution_count": null,
   "metadata": {},
   "outputs": [],
   "source": []
  },
  {
   "cell_type": "code",
   "execution_count": null,
   "metadata": {},
   "outputs": [],
   "source": []
  },
  {
   "cell_type": "code",
   "execution_count": null,
   "metadata": {},
   "outputs": [],
   "source": []
  },
  {
   "cell_type": "code",
   "execution_count": 25,
   "metadata": {},
   "outputs": [
    {
     "name": "stderr",
     "output_type": "stream",
     "text": [
      "Der Befehl \"open\" ist entweder falsch geschrieben oder\n",
      "konnte nicht gefunden werden.\n"
     ]
    }
   ],
   "source": [
    "!open file"
   ]
  },
  {
   "cell_type": "code",
   "execution_count": null,
   "metadata": {},
   "outputs": [],
   "source": [
    "# oder: \n",
    "with open('test.html','wb') as file:\n",
    "    file.write(r)\n",
    "    file.close()"
   ]
  },
  {
   "cell_type": "code",
   "execution_count": null,
   "metadata": {},
   "outputs": [],
   "source": [
    "for page in range (1,100):\n",
    "    with open(str(page)+'.html','wb') as file:\n",
    "    file.write(r)\n",
    "    file.close()\n",
    "#man kann all das zeugs mit htmls/ auch in einen ordner ablegen, wenn ich mehrere files hab\n",
    "\n",
    "#also entweder:\n",
    "\n",
    "with open(\"test.html\", \"wb\") as file:\n",
    "    file.write(r)\n",
    "    file.close()\n",
    "\n",
    "#oder:\n",
    "file = open('test.html', 'w')\n",
    "file.write(page_content)\n",
    "file.close()\n",
    "\n",
    "#das gedöhns wird auch später angepasst, googeln hilft oft"
   ]
  }
 ],
 "metadata": {
  "kernelspec": {
   "display_name": "Python 3",
   "language": "python",
   "name": "python3"
  },
  "language_info": {
   "codemirror_mode": {
    "name": "ipython",
    "version": 3
   },
   "file_extension": ".py",
   "mimetype": "text/x-python",
   "name": "python",
   "nbconvert_exporter": "python",
   "pygments_lexer": "ipython3",
   "version": "3.7.3"
  }
 },
 "nbformat": 4,
 "nbformat_minor": 2
}
