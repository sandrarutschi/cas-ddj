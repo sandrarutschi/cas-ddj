{
 "cells": [
  {
   "cell_type": "markdown",
   "metadata": {},
   "source": [
    "# Bereiten wir das Script vor"
   ]
  },
  {
   "cell_type": "code",
   "execution_count": 15,
   "metadata": {},
   "outputs": [
    {
     "name": "stdout",
     "output_type": "stream",
     "text": [
      "Requirement already satisfied: textract in c:\\users\\admin\\anaconda3\\lib\\site-packages (1.6.3)\n",
      "Requirement already satisfied: EbookLib==0.17.1 in c:\\users\\admin\\anaconda3\\lib\\site-packages (from textract) (0.17.1)\n",
      "Requirement already satisfied: pdfminer.six==20181108 in c:\\users\\admin\\anaconda3\\lib\\site-packages (from textract) (20181108)\n",
      "Requirement already satisfied: xlrd==1.2.0 in c:\\users\\admin\\anaconda3\\lib\\site-packages (from textract) (1.2.0)\n",
      "Requirement already satisfied: six==1.12.0 in c:\\users\\admin\\anaconda3\\lib\\site-packages (from textract) (1.12.0)\n",
      "Requirement already satisfied: argcomplete==1.10.0 in c:\\users\\admin\\anaconda3\\lib\\site-packages (from textract) (1.10.0)\n",
      "Requirement already satisfied: extract-msg==0.23.1 in c:\\users\\admin\\anaconda3\\lib\\site-packages (from textract) (0.23.1)\n",
      "Requirement already satisfied: docx2txt==0.8 in c:\\users\\admin\\anaconda3\\lib\\site-packages (from textract) (0.8)\n",
      "Requirement already satisfied: SpeechRecognition==3.8.1 in c:\\users\\admin\\anaconda3\\lib\\site-packages (from textract) (3.8.1)\n",
      "Requirement already satisfied: chardet==3.0.4 in c:\\users\\admin\\anaconda3\\lib\\site-packages (from textract) (3.0.4)\n",
      "Requirement already satisfied: python-pptx==0.6.18 in c:\\users\\admin\\anaconda3\\lib\\site-packages (from textract) (0.6.18)\n",
      "Requirement already satisfied: beautifulsoup4==4.8.0 in c:\\users\\admin\\anaconda3\\lib\\site-packages (from textract) (4.8.0)\n",
      "Requirement already satisfied: lxml in c:\\users\\admin\\anaconda3\\lib\\site-packages (from EbookLib==0.17.1->textract) (4.3.4)\n",
      "Requirement already satisfied: sortedcontainers in c:\\users\\admin\\anaconda3\\lib\\site-packages (from pdfminer.six==20181108->textract) (2.1.0)\n",
      "Requirement already satisfied: pycryptodome in c:\\users\\admin\\anaconda3\\lib\\site-packages (from pdfminer.six==20181108->textract) (3.9.0)\n",
      "Requirement already satisfied: imapclient==2.1.0 in c:\\users\\admin\\anaconda3\\lib\\site-packages (from extract-msg==0.23.1->textract) (2.1.0)\n",
      "Requirement already satisfied: olefile==0.46 in c:\\users\\admin\\anaconda3\\lib\\site-packages (from extract-msg==0.23.1->textract) (0.46)\n",
      "Requirement already satisfied: tzlocal==1.5.1 in c:\\users\\admin\\anaconda3\\lib\\site-packages (from extract-msg==0.23.1->textract) (1.5.1)\n",
      "Requirement already satisfied: XlsxWriter>=0.5.7 in c:\\users\\admin\\anaconda3\\lib\\site-packages (from python-pptx==0.6.18->textract) (1.1.8)\n",
      "Requirement already satisfied: Pillow>=3.3.2 in c:\\users\\admin\\anaconda3\\lib\\site-packages (from python-pptx==0.6.18->textract) (6.1.0)\n",
      "Requirement already satisfied: soupsieve>=1.2 in c:\\users\\admin\\anaconda3\\lib\\site-packages (from beautifulsoup4==4.8.0->textract) (1.8)\n",
      "Requirement already satisfied: pytz in c:\\users\\admin\\anaconda3\\lib\\site-packages (from tzlocal==1.5.1->extract-msg==0.23.1->textract) (2019.1)\n"
     ]
    }
   ],
   "source": [
    "!pip install textract \n",
    "#Imports\n",
    "import os #Files in listen abgreifen\n",
    "import tqdm #anzeigen, wo wir stehen\n",
    "import textract #das ist das instrument, um text aus pdfs raus zu ziehen\n",
    "import pandas as pd\n"
   ]
  },
  {
   "cell_type": "markdown",
   "metadata": {},
   "source": [
    "## Vorbereitung"
   ]
  },
  {
   "cell_type": "code",
   "execution_count": 13,
   "metadata": {},
   "outputs": [],
   "source": [
    "#Als Vorbereitung, machen aus dem Inhalt des Folders eine Liste. Es handelt sich hierbei\n",
    "#um eine Liste aller pdfs im Ordner pdfs. Es sind die Swissmedic Recalls (#ImplantFiles)\n",
    "pdfs = os.listdir('pdfs')"
   ]
  },
  {
   "cell_type": "code",
   "execution_count": 14,
   "metadata": {},
   "outputs": [
    {
     "data": {
      "text/plain": [
       "['Vk_20180226_08documents0.pdf',\n",
       " 'Vk_20180226_08documents1.pdf',\n",
       " 'Vk_20180226_08documents2.pdf',\n",
       " 'Vk_20180326_03documents0.pdf',\n",
       " 'Vk_20180413_17documents0.pdf',\n",
       " 'Vk_20180413_17documents1.pdf',\n",
       " 'Vk_20180413_17documents2.pdf',\n",
       " 'Vk_20180413_17documents3.pdf',\n",
       " 'Vk_20180417_10documents0.pdf',\n",
       " 'Vk_20180417_10documents1.pdf',\n",
       " 'Vk_20180509_08documents0.pdf',\n",
       " 'Vk_20180509_08documents1.pdf',\n",
       " 'Vk_20180509_08documents2.pdf',\n",
       " 'Vk_20180514_49documents0.pdf',\n",
       " 'Vk_20180514_49documents1.pdf',\n",
       " 'Vk_20180514_49documents2.pdf',\n",
       " 'Vk_20180516_01documents0.pdf',\n",
       " 'Vk_20180516_01documents1.pdf',\n",
       " 'Vk_20180516_07documents0.pdf',\n",
       " 'Vk_20180516_07documents1.pdf',\n",
       " 'Vk_20180516_07documents2.pdf',\n",
       " 'Vk_20180516_12documents0.pdf',\n",
       " 'Vk_20180516_14documents0.pdf',\n",
       " 'Vk_20180516_14documents1.pdf',\n",
       " 'Vk_20180517_02documents0.pdf',\n",
       " 'Vk_20180517_02documents1.pdf',\n",
       " 'Vk_20180517_02documents2.pdf',\n",
       " 'Vk_20180517_02documents3.pdf',\n",
       " 'Vk_20180517_06documents0.pdf',\n",
       " 'Vk_20180517_12documents0.pdf',\n",
       " 'Vk_20180518_18documents0.pdf',\n",
       " 'Vk_20180518_18documents1.pdf',\n",
       " 'Vk_20180518_18documents2.pdf',\n",
       " 'Vk_20180518_18documents3.pdf',\n",
       " 'Vk_20180521_01documents0.pdf',\n",
       " 'Vk_20180521_01documents1.pdf',\n",
       " 'Vk_20180521_01documents2.pdf',\n",
       " 'Vk_20180522_02documents0.pdf',\n",
       " 'Vk_20180522_02documents1.pdf',\n",
       " 'Vk_20180522_02documents2.pdf',\n",
       " 'Vk_20180522_05documents0.pdf',\n",
       " 'Vk_20180522_05documents1.pdf',\n",
       " 'Vk_20180522_05documents2.pdf',\n",
       " 'Vk_20180522_05documents3.pdf',\n",
       " 'Vk_20180522_13documents0.pdf',\n",
       " 'Vk_20180522_13documents1.pdf',\n",
       " 'Vk_20180522_23documents0.pdf',\n",
       " 'Vk_20180522_23documents1.pdf',\n",
       " 'Vk_20180522_23documents2.pdf',\n",
       " 'Vk_20180522_23documents3.pdf',\n",
       " 'Vk_20180523_05documents0.pdf',\n",
       " 'Vk_20180523_05documents1.pdf',\n",
       " 'Vk_20180523_05documents2.pdf',\n",
       " 'Vk_20180523_09documents0.pdf',\n",
       " 'Vk_20180523_09documents1.pdf',\n",
       " 'Vk_20180524_02documents0.pdf',\n",
       " 'Vk_20180524_02documents1.pdf',\n",
       " 'Vk_20180524_02documents2.pdf',\n",
       " 'Vk_20180524_08documents0.pdf',\n",
       " 'Vk_20180525_03documents0.pdf',\n",
       " 'Vk_20180525_03documents1.pdf',\n",
       " 'Vk_20180525_03documents2.pdf',\n",
       " 'Vk_20180525_26documents0.pdf',\n",
       " 'Vk_20180525_26documents1.pdf',\n",
       " 'Vk_20180525_26documents2.pdf',\n",
       " 'Vk_20180528_08documents0.pdf',\n",
       " 'Vk_20180528_08documents1.pdf',\n",
       " 'Vk_20180529_02documents0.pdf',\n",
       " 'Vk_20180529_02documents1.pdf',\n",
       " 'Vk_20180529_02documents2.pdf',\n",
       " 'Vk_20180530_08documents0.pdf',\n",
       " 'Vk_20180530_08documents1.pdf',\n",
       " 'Vk_20180530_08documents2.pdf',\n",
       " 'Vk_20180530_09documents0.pdf',\n",
       " 'Vk_20180530_09documents1.pdf',\n",
       " 'Vk_20180530_10documents0.pdf',\n",
       " 'Vk_20180530_10documents1.pdf',\n",
       " 'Vk_20180530_10documents2.pdf',\n",
       " 'Vk_20180530_11documents0.pdf',\n",
       " 'Vk_20180530_11documents1.pdf',\n",
       " 'Vk_20180530_11documents2.pdf',\n",
       " 'Vk_20180530_11documents3.pdf']"
      ]
     },
     "execution_count": 14,
     "metadata": {},
     "output_type": "execute_result"
    }
   ],
   "source": [
    "pdfs"
   ]
  },
  {
   "cell_type": "markdown",
   "metadata": {},
   "source": [
    "## Fortschritt anzeigen"
   ]
  },
  {
   "cell_type": "code",
   "execution_count": 10,
   "metadata": {},
   "outputs": [
    {
     "name": "stderr",
     "output_type": "stream",
     "text": [
      "100%|██████████| 1000/1000 [00:00<00:00, 722657.48it/s]\n"
     ]
    }
   ],
   "source": [
    "from tqdm import tqdm\n",
    "for i in tqdm(range(1000)): #100000000000\n",
    "    elem = i"
   ]
  },
  {
   "cell_type": "markdown",
   "metadata": {},
   "source": [
    "## Ein File auslesen"
   ]
  },
  {
   "cell_type": "code",
   "execution_count": 16,
   "metadata": {
    "scrolled": true
   },
   "outputs": [
    {
     "ename": "ShellError",
     "evalue": "The command `pdftotext pdfs/Vk_20180226_08documents1.pdf -` failed with exit code 127\n------------- stdout -------------\n------------- stderr -------------\n",
     "output_type": "error",
     "traceback": [
      "\u001b[1;31m---------------------------------------------------------------------------\u001b[0m",
      "\u001b[1;31mFileNotFoundError\u001b[0m                         Traceback (most recent call last)",
      "\u001b[1;32m~\\Anaconda3\\lib\\site-packages\\textract\\parsers\\utils.py\u001b[0m in \u001b[0;36mrun\u001b[1;34m(self, args)\u001b[0m\n\u001b[0;32m     83\u001b[0m                 \u001b[0margs\u001b[0m\u001b[1;33m,\u001b[0m\u001b[1;33m\u001b[0m\u001b[1;33m\u001b[0m\u001b[0m\n\u001b[1;32m---> 84\u001b[1;33m                 \u001b[0mstdout\u001b[0m\u001b[1;33m=\u001b[0m\u001b[0msubprocess\u001b[0m\u001b[1;33m.\u001b[0m\u001b[0mPIPE\u001b[0m\u001b[1;33m,\u001b[0m \u001b[0mstderr\u001b[0m\u001b[1;33m=\u001b[0m\u001b[0msubprocess\u001b[0m\u001b[1;33m.\u001b[0m\u001b[0mPIPE\u001b[0m\u001b[1;33m,\u001b[0m\u001b[1;33m\u001b[0m\u001b[1;33m\u001b[0m\u001b[0m\n\u001b[0m\u001b[0;32m     85\u001b[0m             )\n",
      "\u001b[1;32m~\\Anaconda3\\lib\\subprocess.py\u001b[0m in \u001b[0;36m__init__\u001b[1;34m(self, args, bufsize, executable, stdin, stdout, stderr, preexec_fn, close_fds, shell, cwd, env, universal_newlines, startupinfo, creationflags, restore_signals, start_new_session, pass_fds, encoding, errors, text)\u001b[0m\n\u001b[0;32m    774\u001b[0m                                 \u001b[0merrread\u001b[0m\u001b[1;33m,\u001b[0m \u001b[0merrwrite\u001b[0m\u001b[1;33m,\u001b[0m\u001b[1;33m\u001b[0m\u001b[1;33m\u001b[0m\u001b[0m\n\u001b[1;32m--> 775\u001b[1;33m                                 restore_signals, start_new_session)\n\u001b[0m\u001b[0;32m    776\u001b[0m         \u001b[1;32mexcept\u001b[0m\u001b[1;33m:\u001b[0m\u001b[1;33m\u001b[0m\u001b[1;33m\u001b[0m\u001b[0m\n",
      "\u001b[1;32m~\\Anaconda3\\lib\\subprocess.py\u001b[0m in \u001b[0;36m_execute_child\u001b[1;34m(self, args, executable, preexec_fn, close_fds, pass_fds, cwd, env, startupinfo, creationflags, shell, p2cread, p2cwrite, c2pread, c2pwrite, errread, errwrite, unused_restore_signals, unused_start_new_session)\u001b[0m\n\u001b[0;32m   1177\u001b[0m                                          \u001b[0mos\u001b[0m\u001b[1;33m.\u001b[0m\u001b[0mfspath\u001b[0m\u001b[1;33m(\u001b[0m\u001b[0mcwd\u001b[0m\u001b[1;33m)\u001b[0m \u001b[1;32mif\u001b[0m \u001b[0mcwd\u001b[0m \u001b[1;32mis\u001b[0m \u001b[1;32mnot\u001b[0m \u001b[1;32mNone\u001b[0m \u001b[1;32melse\u001b[0m \u001b[1;32mNone\u001b[0m\u001b[1;33m,\u001b[0m\u001b[1;33m\u001b[0m\u001b[1;33m\u001b[0m\u001b[0m\n\u001b[1;32m-> 1178\u001b[1;33m                                          startupinfo)\n\u001b[0m\u001b[0;32m   1179\u001b[0m             \u001b[1;32mfinally\u001b[0m\u001b[1;33m:\u001b[0m\u001b[1;33m\u001b[0m\u001b[1;33m\u001b[0m\u001b[0m\n",
      "\u001b[1;31mFileNotFoundError\u001b[0m: [WinError 2] Das System kann die angegebene Datei nicht finden",
      "\nDuring handling of the above exception, another exception occurred:\n",
      "\u001b[1;31mShellError\u001b[0m                                Traceback (most recent call last)",
      "\u001b[1;32m<ipython-input-16-cd30aaf76e83>\u001b[0m in \u001b[0;36m<module>\u001b[1;34m\u001b[0m\n\u001b[1;32m----> 1\u001b[1;33m \u001b[0mtext\u001b[0m \u001b[1;33m=\u001b[0m \u001b[0mtextract\u001b[0m\u001b[1;33m.\u001b[0m\u001b[0mprocess\u001b[0m\u001b[1;33m(\u001b[0m\u001b[1;34m\"pdfs/\"\u001b[0m\u001b[1;33m+\u001b[0m\u001b[0mpdfs\u001b[0m\u001b[1;33m[\u001b[0m\u001b[1;36m1\u001b[0m\u001b[1;33m]\u001b[0m\u001b[1;33m)\u001b[0m \u001b[1;31m#method='pdfminer', encoding='ISO-8859-1'\u001b[0m\u001b[1;33m\u001b[0m\u001b[1;33m\u001b[0m\u001b[0m\n\u001b[0m",
      "\u001b[1;32m~\\Anaconda3\\lib\\site-packages\\textract\\parsers\\__init__.py\u001b[0m in \u001b[0;36mprocess\u001b[1;34m(filename, encoding, extension, **kwargs)\u001b[0m\n\u001b[0;32m     75\u001b[0m \u001b[1;33m\u001b[0m\u001b[0m\n\u001b[0;32m     76\u001b[0m     \u001b[0mparser\u001b[0m \u001b[1;33m=\u001b[0m \u001b[0mfiletype_module\u001b[0m\u001b[1;33m.\u001b[0m\u001b[0mParser\u001b[0m\u001b[1;33m(\u001b[0m\u001b[1;33m)\u001b[0m\u001b[1;33m\u001b[0m\u001b[1;33m\u001b[0m\u001b[0m\n\u001b[1;32m---> 77\u001b[1;33m     \u001b[1;32mreturn\u001b[0m \u001b[0mparser\u001b[0m\u001b[1;33m.\u001b[0m\u001b[0mprocess\u001b[0m\u001b[1;33m(\u001b[0m\u001b[0mfilename\u001b[0m\u001b[1;33m,\u001b[0m \u001b[0mencoding\u001b[0m\u001b[1;33m,\u001b[0m \u001b[1;33m**\u001b[0m\u001b[0mkwargs\u001b[0m\u001b[1;33m)\u001b[0m\u001b[1;33m\u001b[0m\u001b[1;33m\u001b[0m\u001b[0m\n\u001b[0m\u001b[0;32m     78\u001b[0m \u001b[1;33m\u001b[0m\u001b[0m\n\u001b[0;32m     79\u001b[0m \u001b[1;33m\u001b[0m\u001b[0m\n",
      "\u001b[1;32m~\\Anaconda3\\lib\\site-packages\\textract\\parsers\\utils.py\u001b[0m in \u001b[0;36mprocess\u001b[1;34m(self, filename, encoding, **kwargs)\u001b[0m\n\u001b[0;32m     44\u001b[0m         \u001b[1;31m# output encoding\u001b[0m\u001b[1;33m\u001b[0m\u001b[1;33m\u001b[0m\u001b[1;33m\u001b[0m\u001b[0m\n\u001b[0;32m     45\u001b[0m         \u001b[1;31m# http://nedbatchelder.com/text/unipain/unipain.html#35\u001b[0m\u001b[1;33m\u001b[0m\u001b[1;33m\u001b[0m\u001b[1;33m\u001b[0m\u001b[0m\n\u001b[1;32m---> 46\u001b[1;33m         \u001b[0mbyte_string\u001b[0m \u001b[1;33m=\u001b[0m \u001b[0mself\u001b[0m\u001b[1;33m.\u001b[0m\u001b[0mextract\u001b[0m\u001b[1;33m(\u001b[0m\u001b[0mfilename\u001b[0m\u001b[1;33m,\u001b[0m \u001b[1;33m**\u001b[0m\u001b[0mkwargs\u001b[0m\u001b[1;33m)\u001b[0m\u001b[1;33m\u001b[0m\u001b[1;33m\u001b[0m\u001b[0m\n\u001b[0m\u001b[0;32m     47\u001b[0m         \u001b[0municode_string\u001b[0m \u001b[1;33m=\u001b[0m \u001b[0mself\u001b[0m\u001b[1;33m.\u001b[0m\u001b[0mdecode\u001b[0m\u001b[1;33m(\u001b[0m\u001b[0mbyte_string\u001b[0m\u001b[1;33m)\u001b[0m\u001b[1;33m\u001b[0m\u001b[1;33m\u001b[0m\u001b[0m\n\u001b[0;32m     48\u001b[0m         \u001b[1;32mreturn\u001b[0m \u001b[0mself\u001b[0m\u001b[1;33m.\u001b[0m\u001b[0mencode\u001b[0m\u001b[1;33m(\u001b[0m\u001b[0municode_string\u001b[0m\u001b[1;33m,\u001b[0m \u001b[0mencoding\u001b[0m\u001b[1;33m)\u001b[0m\u001b[1;33m\u001b[0m\u001b[1;33m\u001b[0m\u001b[0m\n",
      "\u001b[1;32m~\\Anaconda3\\lib\\site-packages\\textract\\parsers\\pdf_parser.py\u001b[0m in \u001b[0;36mextract\u001b[1;34m(self, filename, method, **kwargs)\u001b[0m\n\u001b[0;32m     26\u001b[0m                     \u001b[1;32mreturn\u001b[0m \u001b[0mself\u001b[0m\u001b[1;33m.\u001b[0m\u001b[0mextract_pdfminer\u001b[0m\u001b[1;33m(\u001b[0m\u001b[0mfilename\u001b[0m\u001b[1;33m,\u001b[0m \u001b[1;33m**\u001b[0m\u001b[0mkwargs\u001b[0m\u001b[1;33m)\u001b[0m\u001b[1;33m\u001b[0m\u001b[1;33m\u001b[0m\u001b[0m\n\u001b[0;32m     27\u001b[0m                 \u001b[1;32melse\u001b[0m\u001b[1;33m:\u001b[0m\u001b[1;33m\u001b[0m\u001b[1;33m\u001b[0m\u001b[0m\n\u001b[1;32m---> 28\u001b[1;33m                     \u001b[1;32mraise\u001b[0m \u001b[0mex\u001b[0m\u001b[1;33m\u001b[0m\u001b[1;33m\u001b[0m\u001b[0m\n\u001b[0m\u001b[0;32m     29\u001b[0m \u001b[1;33m\u001b[0m\u001b[0m\n\u001b[0;32m     30\u001b[0m         \u001b[1;32melif\u001b[0m \u001b[0mmethod\u001b[0m \u001b[1;33m==\u001b[0m \u001b[1;34m'pdfminer'\u001b[0m\u001b[1;33m:\u001b[0m\u001b[1;33m\u001b[0m\u001b[1;33m\u001b[0m\u001b[0m\n",
      "\u001b[1;32m~\\Anaconda3\\lib\\site-packages\\textract\\parsers\\pdf_parser.py\u001b[0m in \u001b[0;36mextract\u001b[1;34m(self, filename, method, **kwargs)\u001b[0m\n\u001b[0;32m     18\u001b[0m         \u001b[1;32mif\u001b[0m \u001b[0mmethod\u001b[0m \u001b[1;33m==\u001b[0m \u001b[1;34m''\u001b[0m \u001b[1;32mor\u001b[0m \u001b[0mmethod\u001b[0m \u001b[1;33m==\u001b[0m \u001b[1;34m'pdftotext'\u001b[0m\u001b[1;33m:\u001b[0m\u001b[1;33m\u001b[0m\u001b[1;33m\u001b[0m\u001b[0m\n\u001b[0;32m     19\u001b[0m             \u001b[1;32mtry\u001b[0m\u001b[1;33m:\u001b[0m\u001b[1;33m\u001b[0m\u001b[1;33m\u001b[0m\u001b[0m\n\u001b[1;32m---> 20\u001b[1;33m                 \u001b[1;32mreturn\u001b[0m \u001b[0mself\u001b[0m\u001b[1;33m.\u001b[0m\u001b[0mextract_pdftotext\u001b[0m\u001b[1;33m(\u001b[0m\u001b[0mfilename\u001b[0m\u001b[1;33m,\u001b[0m \u001b[1;33m**\u001b[0m\u001b[0mkwargs\u001b[0m\u001b[1;33m)\u001b[0m\u001b[1;33m\u001b[0m\u001b[1;33m\u001b[0m\u001b[0m\n\u001b[0m\u001b[0;32m     21\u001b[0m             \u001b[1;32mexcept\u001b[0m \u001b[0mShellError\u001b[0m \u001b[1;32mas\u001b[0m \u001b[0mex\u001b[0m\u001b[1;33m:\u001b[0m\u001b[1;33m\u001b[0m\u001b[1;33m\u001b[0m\u001b[0m\n\u001b[0;32m     22\u001b[0m                 \u001b[1;31m# If pdftotext isn't installed and the pdftotext method\u001b[0m\u001b[1;33m\u001b[0m\u001b[1;33m\u001b[0m\u001b[1;33m\u001b[0m\u001b[0m\n",
      "\u001b[1;32m~\\Anaconda3\\lib\\site-packages\\textract\\parsers\\pdf_parser.py\u001b[0m in \u001b[0;36mextract_pdftotext\u001b[1;34m(self, filename, **kwargs)\u001b[0m\n\u001b[0;32m     41\u001b[0m         \u001b[1;32melse\u001b[0m\u001b[1;33m:\u001b[0m\u001b[1;33m\u001b[0m\u001b[1;33m\u001b[0m\u001b[0m\n\u001b[0;32m     42\u001b[0m             \u001b[0margs\u001b[0m \u001b[1;33m=\u001b[0m \u001b[1;33m[\u001b[0m\u001b[1;34m'pdftotext'\u001b[0m\u001b[1;33m,\u001b[0m \u001b[0mfilename\u001b[0m\u001b[1;33m,\u001b[0m \u001b[1;34m'-'\u001b[0m\u001b[1;33m]\u001b[0m\u001b[1;33m\u001b[0m\u001b[1;33m\u001b[0m\u001b[0m\n\u001b[1;32m---> 43\u001b[1;33m         \u001b[0mstdout\u001b[0m\u001b[1;33m,\u001b[0m \u001b[0m_\u001b[0m \u001b[1;33m=\u001b[0m \u001b[0mself\u001b[0m\u001b[1;33m.\u001b[0m\u001b[0mrun\u001b[0m\u001b[1;33m(\u001b[0m\u001b[0margs\u001b[0m\u001b[1;33m)\u001b[0m\u001b[1;33m\u001b[0m\u001b[1;33m\u001b[0m\u001b[0m\n\u001b[0m\u001b[0;32m     44\u001b[0m         \u001b[1;32mreturn\u001b[0m \u001b[0mstdout\u001b[0m\u001b[1;33m\u001b[0m\u001b[1;33m\u001b[0m\u001b[0m\n\u001b[0;32m     45\u001b[0m \u001b[1;33m\u001b[0m\u001b[0m\n",
      "\u001b[1;32m~\\Anaconda3\\lib\\site-packages\\textract\\parsers\\utils.py\u001b[0m in \u001b[0;36mrun\u001b[1;34m(self, args)\u001b[0m\n\u001b[0;32m     89\u001b[0m                 \u001b[1;31m# This is equivalent to getting exitcode 127 from sh\u001b[0m\u001b[1;33m\u001b[0m\u001b[1;33m\u001b[0m\u001b[1;33m\u001b[0m\u001b[0m\n\u001b[0;32m     90\u001b[0m                 raise exceptions.ShellError(\n\u001b[1;32m---> 91\u001b[1;33m                     \u001b[1;34m' '\u001b[0m\u001b[1;33m.\u001b[0m\u001b[0mjoin\u001b[0m\u001b[1;33m(\u001b[0m\u001b[0margs\u001b[0m\u001b[1;33m)\u001b[0m\u001b[1;33m,\u001b[0m \u001b[1;36m127\u001b[0m\u001b[1;33m,\u001b[0m \u001b[1;34m''\u001b[0m\u001b[1;33m,\u001b[0m \u001b[1;34m''\u001b[0m\u001b[1;33m,\u001b[0m\u001b[1;33m\u001b[0m\u001b[1;33m\u001b[0m\u001b[0m\n\u001b[0m\u001b[0;32m     92\u001b[0m                 )\n\u001b[0;32m     93\u001b[0m \u001b[1;33m\u001b[0m\u001b[0m\n",
      "\u001b[1;31mShellError\u001b[0m: The command `pdftotext pdfs/Vk_20180226_08documents1.pdf -` failed with exit code 127\n------------- stdout -------------\n------------- stderr -------------\n"
     ]
    }
   ],
   "source": [
    "text = textract.process(\"pdfs/\"+pdfs[1]) #method='pdfminer', encoding='ISO-8859-1'"
   ]
  },
  {
   "cell_type": "code",
   "execution_count": 17,
   "metadata": {},
   "outputs": [
    {
     "ename": "NameError",
     "evalue": "name 'text' is not defined",
     "output_type": "error",
     "traceback": [
      "\u001b[1;31m---------------------------------------------------------------------------\u001b[0m",
      "\u001b[1;31mNameError\u001b[0m                                 Traceback (most recent call last)",
      "\u001b[1;32m<ipython-input-17-a4479a90e13d>\u001b[0m in \u001b[0;36m<module>\u001b[1;34m\u001b[0m\n\u001b[1;32m----> 1\u001b[1;33m \u001b[0mstr\u001b[0m\u001b[1;33m(\u001b[0m\u001b[0mtext\u001b[0m\u001b[1;33m)\u001b[0m \u001b[1;31m#weil der text ein bytes ist, muss ichs in einen string verwandeln\u001b[0m\u001b[1;33m\u001b[0m\u001b[1;33m\u001b[0m\u001b[0m\n\u001b[0m",
      "\u001b[1;31mNameError\u001b[0m: name 'text' is not defined"
     ]
    }
   ],
   "source": [
    "str(text) #weil der text ein bytes ist, muss ichs in einen string verwandeln"
   ]
  },
  {
   "cell_type": "markdown",
   "metadata": {},
   "source": [
    "## Alle Files auslesen"
   ]
  },
  {
   "cell_type": "code",
   "execution_count": 18,
   "metadata": {
    "scrolled": true
   },
   "outputs": [
    {
     "name": "stderr",
     "output_type": "stream",
     "text": [
      "\n",
      "  0%|          | 0/82 [00:00<?, ?it/s]\u001b[A\n",
      "  1%|          | 1/82 [00:00<00:11,  7.01it/s]\u001b[A\n",
      "  2%|▏         | 2/82 [00:00<00:24,  3.25it/s]\u001b[A\n",
      "  4%|▎         | 3/82 [00:02<00:48,  1.64it/s]\u001b[A\n",
      "  5%|▍         | 4/82 [00:02<00:41,  1.90it/s]\u001b[A\n",
      "  6%|▌         | 5/82 [00:02<00:38,  2.01it/s]\u001b[A\n",
      "  7%|▋         | 6/82 [00:03<00:42,  1.81it/s]\u001b[A\n",
      "  9%|▊         | 7/82 [00:03<00:31,  2.36it/s]\u001b[A\n",
      " 10%|▉         | 8/82 [00:04<00:29,  2.49it/s]\u001b[A\n",
      " 11%|█         | 9/82 [00:05<00:53,  1.37it/s]\u001b[A\n",
      " 12%|█▏        | 10/82 [00:05<00:41,  1.72it/s]\u001b[A\n",
      " 13%|█▎        | 11/82 [00:05<00:31,  2.26it/s]\u001b[A\n",
      " 15%|█▍        | 12/82 [00:07<00:53,  1.30it/s]\u001b[A\n",
      " 16%|█▌        | 13/82 [00:08<00:52,  1.31it/s]\u001b[A\n",
      " 17%|█▋        | 14/82 [00:09<01:02,  1.08it/s]\u001b[A\n",
      " 18%|█▊        | 15/82 [00:09<00:49,  1.35it/s]\u001b[A\n",
      " 20%|█▉        | 16/82 [00:10<00:46,  1.41it/s]\u001b[A\n",
      " 21%|██        | 17/82 [00:10<00:41,  1.58it/s]\u001b[A\n",
      " 22%|██▏       | 18/82 [00:11<00:43,  1.48it/s]\u001b[A\n",
      " 23%|██▎       | 19/82 [00:12<00:38,  1.66it/s]\u001b[A\n",
      " 24%|██▍       | 20/82 [00:12<00:39,  1.58it/s]\u001b[A\n",
      " 26%|██▌       | 21/82 [00:13<00:35,  1.70it/s]\u001b[A\n",
      " 27%|██▋       | 22/82 [00:14<00:45,  1.33it/s]\u001b[A\n",
      " 28%|██▊       | 23/82 [00:14<00:32,  1.79it/s]\u001b[A\n",
      " 29%|██▉       | 24/82 [00:15<00:37,  1.56it/s]\u001b[A\n",
      " 30%|███       | 25/82 [00:15<00:34,  1.65it/s]\u001b[A\n",
      " 32%|███▏      | 26/82 [00:16<00:25,  2.19it/s]\u001b[A\n",
      " 33%|███▎      | 27/82 [00:16<00:19,  2.83it/s]\u001b[A"
     ]
    },
    {
     "name": "stdout",
     "output_type": "stream",
     "text": [
      "Vk_20180517_12documents0.pdf\n"
     ]
    },
    {
     "name": "stderr",
     "output_type": "stream",
     "text": [
      "\n",
      " 34%|███▍      | 28/82 [00:17<00:28,  1.92it/s]\u001b[A\n",
      " 35%|███▌      | 29/82 [00:18<00:35,  1.49it/s]\u001b[A\n",
      " 37%|███▋      | 30/82 [00:18<00:30,  1.72it/s]\u001b[A\n",
      " 38%|███▊      | 31/82 [00:19<00:29,  1.72it/s]\u001b[A\n",
      " 39%|███▉      | 32/82 [00:19<00:33,  1.48it/s]\u001b[A\n",
      " 40%|████      | 33/82 [00:20<00:29,  1.68it/s]\u001b[A\n",
      " 41%|████▏     | 34/82 [00:20<00:25,  1.86it/s]\u001b[A\n",
      " 43%|████▎     | 35/82 [00:21<00:24,  1.93it/s]\u001b[A\n",
      " 44%|████▍     | 36/82 [00:22<00:29,  1.58it/s]\u001b[A\n",
      " 45%|████▌     | 37/82 [00:23<00:37,  1.19it/s]\u001b[A\n",
      " 46%|████▋     | 38/82 [00:24<00:43,  1.01it/s]\u001b[A\n",
      " 48%|████▊     | 39/82 [00:25<00:40,  1.05it/s]\u001b[A"
     ]
    },
    {
     "name": "stdout",
     "output_type": "stream",
     "text": [
      "Vk_20180523_05documents2.pdf\n"
     ]
    },
    {
     "name": "stderr",
     "output_type": "stream",
     "text": [
      "\n",
      " 49%|████▉     | 40/82 [00:26<00:33,  1.27it/s]\u001b[A\n",
      " 50%|█████     | 41/82 [00:26<00:30,  1.37it/s]\u001b[A\n",
      " 51%|█████     | 42/82 [00:27<00:29,  1.37it/s]\u001b[A\n",
      " 52%|█████▏    | 43/82 [00:27<00:24,  1.59it/s]\u001b[A\n",
      " 54%|█████▎    | 44/82 [00:28<00:21,  1.73it/s]\u001b[A\n",
      " 55%|█████▍    | 45/82 [00:28<00:16,  2.27it/s]\u001b[A"
     ]
    },
    {
     "name": "stdout",
     "output_type": "stream",
     "text": [
      "Vk_20180523_05documents1.pdf\n"
     ]
    },
    {
     "name": "stderr",
     "output_type": "stream",
     "text": [
      "\n",
      " 56%|█████▌    | 46/82 [00:28<00:18,  1.98it/s]\u001b[A\n",
      " 57%|█████▋    | 47/82 [00:29<00:18,  1.85it/s]\u001b[A\n",
      " 59%|█████▊    | 48/82 [00:31<00:32,  1.06it/s]\u001b[A"
     ]
    },
    {
     "name": "stdout",
     "output_type": "stream",
     "text": [
      "Vk_20180522_23documents3.pdf\n"
     ]
    },
    {
     "name": "stderr",
     "output_type": "stream",
     "text": [
      "\n",
      " 61%|██████    | 50/82 [00:32<00:23,  1.34it/s]\u001b[A\n",
      " 62%|██████▏   | 51/82 [00:32<00:17,  1.81it/s]\u001b[A\n",
      " 63%|██████▎   | 52/82 [00:32<00:12,  2.38it/s]\u001b[A\n",
      " 65%|██████▍   | 53/82 [00:32<00:13,  2.13it/s]\u001b[A\n",
      " 66%|██████▌   | 54/82 [00:33<00:14,  1.98it/s]\u001b[A\n",
      " 67%|██████▋   | 55/82 [00:33<00:10,  2.54it/s]\u001b[A\n",
      " 68%|██████▊   | 56/82 [00:35<00:18,  1.41it/s]\u001b[A\n",
      " 70%|██████▉   | 57/82 [00:35<00:13,  1.89it/s]\u001b[A"
     ]
    },
    {
     "name": "stdout",
     "output_type": "stream",
     "text": [
      "Vk_20180524_02documents1.pdf\n",
      "Vk_20180530_11documents2.pdf\n"
     ]
    },
    {
     "name": "stderr",
     "output_type": "stream",
     "text": [
      "\n",
      " 71%|███████   | 58/82 [00:35<00:09,  2.46it/s]\u001b[A\n",
      " 72%|███████▏  | 59/82 [00:35<00:07,  3.06it/s]\u001b[A"
     ]
    },
    {
     "name": "stdout",
     "output_type": "stream",
     "text": [
      "Vk_20180530_11documents3.pdf\n",
      "Vk_20180524_02documents0.pdf\n"
     ]
    },
    {
     "name": "stderr",
     "output_type": "stream",
     "text": [
      "\n",
      " 73%|███████▎  | 60/82 [00:35<00:06,  3.54it/s]\u001b[A"
     ]
    },
    {
     "name": "stdout",
     "output_type": "stream",
     "text": [
      "Vk_20180326_03documents0.pdf\n"
     ]
    },
    {
     "name": "stderr",
     "output_type": "stream",
     "text": [
      "\n",
      " 74%|███████▍  | 61/82 [00:35<00:06,  3.40it/s]\u001b[A\n",
      " 76%|███████▌  | 62/82 [00:36<00:05,  3.48it/s]\u001b[A\n",
      " 77%|███████▋  | 63/82 [00:36<00:04,  4.26it/s]\u001b[A\n",
      " 78%|███████▊  | 64/82 [00:41<00:30,  1.72s/it]\u001b[A\n",
      " 79%|███████▉  | 65/82 [00:41<00:23,  1.36s/it]\u001b[A\n",
      " 80%|████████  | 66/82 [00:42<00:18,  1.16s/it]\u001b[A\n",
      " 82%|████████▏ | 67/82 [00:43<00:16,  1.08s/it]\u001b[A\n",
      " 83%|████████▎ | 68/82 [00:43<00:11,  1.18it/s]\u001b[A\n",
      " 84%|████████▍ | 69/82 [00:44<00:09,  1.31it/s]\u001b[A\n",
      " 85%|████████▌ | 70/82 [00:45<00:08,  1.38it/s]\u001b[A\n",
      " 87%|████████▋ | 71/82 [00:45<00:06,  1.59it/s]\u001b[A\n",
      " 88%|████████▊ | 72/82 [00:45<00:05,  1.79it/s]\u001b[A\n",
      " 89%|████████▉ | 73/82 [00:46<00:04,  2.05it/s]\u001b[A\n",
      " 90%|█████████ | 74/82 [00:46<00:03,  2.07it/s]\u001b[A\n",
      " 91%|█████████▏| 75/82 [00:46<00:02,  2.69it/s]\u001b[A\n",
      " 93%|█████████▎| 76/82 [00:47<00:03,  1.59it/s]\u001b[A\n",
      " 94%|█████████▍| 77/82 [00:49<00:03,  1.27it/s]\u001b[A\n",
      " 95%|█████████▌| 78/82 [00:49<00:02,  1.44it/s]\u001b[A\n",
      " 96%|█████████▋| 79/82 [00:50<00:01,  1.62it/s]\u001b[A\n",
      " 98%|█████████▊| 80/82 [00:50<00:01,  1.99it/s]\u001b[A\n",
      " 99%|█████████▉| 81/82 [00:50<00:00,  2.36it/s]\u001b[A\n",
      "100%|██████████| 82/82 [00:50<00:00,  2.73it/s]\u001b[A"
     ]
    }
   ],
   "source": [
    "lst = []\n",
    "mistakes = []\n",
    "for pdf in tqdm(pdfs):\n",
    "    try:\n",
    "        text = textract.process(\"pdfs/\"+pdf, method='pdfminer', encoding='ISO-8859-1') #damit ziehen wir den text raus. pdf ist der pfad, dann die methode, dann das endcoding. das alles brauchts. \n",
    "        lst.append(text) #dann den text in die liste packen\n",
    "    except:\n",
    "        mistakes.append(pdf) #wenn er keinen text hat, tut der das ins mistakes rein"
   ]
  },
  {
   "cell_type": "markdown",
   "metadata": {},
   "source": [
    "## Bilder auslesen"
   ]
  },
  {
   "cell_type": "code",
   "execution_count": 21,
   "metadata": {},
   "outputs": [],
   "source": [
    "text = textract.process(\"pdfs/\"+pdfs[0], method='tesseract') #Nicht ideal, aber gut. tesseract nimmt bilder und wandelt das in text um"
   ]
  },
  {
   "cell_type": "markdown",
   "metadata": {},
   "source": [
    "## Alles zusammen"
   ]
  },
  {
   "cell_type": "code",
   "execution_count": null,
   "metadata": {
    "scrolled": false
   },
   "outputs": [
    {
     "name": "stderr",
     "output_type": "stream",
     "text": [
      "\n",
      "  0%|          | 0/82 [00:00<?, ?it/s]\u001b[A\n",
      "  1%|          | 1/82 [00:00<00:55,  1.47it/s]\u001b[A\n",
      "  2%|▏         | 2/82 [00:01<00:54,  1.46it/s]\u001b[A\n",
      "  4%|▎         | 3/82 [00:02<01:08,  1.15it/s]\u001b[A\n",
      "  5%|▍         | 4/82 [00:03<00:56,  1.39it/s]\u001b[A\n",
      "  6%|▌         | 5/82 [00:03<00:48,  1.58it/s]\u001b[A\n",
      "  7%|▋         | 6/82 [00:04<00:48,  1.58it/s]\u001b[A\n",
      "  9%|▊         | 7/82 [00:05<01:13,  1.02it/s]\u001b[A\n",
      " 10%|▉         | 8/82 [00:06<00:57,  1.29it/s]\u001b[A\n",
      " 11%|█         | 9/82 [00:07<01:10,  1.03it/s]\u001b[A\n",
      " 12%|█▏        | 10/82 [00:07<00:53,  1.35it/s]\u001b[A\n",
      " 13%|█▎        | 11/82 [00:08<00:51,  1.38it/s]\u001b[A\n",
      " 15%|█▍        | 12/82 [00:10<01:08,  1.03it/s]\u001b[A\n",
      " 16%|█▌        | 13/82 [00:10<01:01,  1.13it/s]\u001b[A\n",
      " 17%|█▋        | 14/82 [00:12<01:11,  1.05s/it]\u001b[A\n",
      " 18%|█▊        | 15/82 [00:12<00:56,  1.19it/s]\u001b[A\n",
      " 20%|█▉        | 16/82 [00:13<00:53,  1.25it/s]\u001b[A\n",
      " 21%|██        | 17/82 [00:13<00:47,  1.37it/s]\u001b[A\n",
      " 22%|██▏       | 18/82 [00:14<00:47,  1.35it/s]\u001b[A\n",
      " 23%|██▎       | 19/82 [00:15<00:40,  1.55it/s]\u001b[A\n",
      " 24%|██▍       | 20/82 [00:15<00:39,  1.57it/s]\u001b[A\n",
      " 26%|██▌       | 21/82 [00:16<00:34,  1.74it/s]\u001b[A\n",
      " 27%|██▋       | 22/82 [00:17<00:42,  1.42it/s]\u001b[A\n",
      " 28%|██▊       | 23/82 [00:17<00:40,  1.46it/s]\u001b[A\n",
      " 29%|██▉       | 24/82 [00:18<00:42,  1.35it/s]\u001b[A\n",
      " 30%|███       | 25/82 [00:19<00:39,  1.45it/s]\u001b[A\n",
      " 32%|███▏      | 26/82 [00:19<00:28,  1.93it/s]\u001b[A\n",
      " 33%|███▎      | 27/82 [00:20<00:35,  1.54it/s]\u001b[A\n",
      " 34%|███▍      | 28/82 [00:21<00:37,  1.43it/s]\u001b[A\n",
      " 35%|███▌      | 29/82 [00:21<00:40,  1.30it/s]\u001b[A\n",
      " 37%|███▋      | 30/82 [00:22<00:33,  1.53it/s]\u001b[A\n",
      " 38%|███▊      | 31/82 [00:22<00:31,  1.63it/s]\u001b[A\n",
      " 39%|███▉      | 32/82 [00:23<00:34,  1.47it/s]\u001b[A\n",
      " 40%|████      | 33/82 [00:24<00:28,  1.69it/s]\u001b[A\n",
      " 41%|████▏     | 34/82 [00:24<00:25,  1.88it/s]\u001b[A\n",
      " 43%|████▎     | 35/82 [00:24<00:23,  1.98it/s]\u001b[A\n",
      " 44%|████▍     | 36/82 [00:25<00:27,  1.65it/s]\u001b[A\n",
      " 45%|████▌     | 37/82 [00:26<00:34,  1.32it/s]\u001b[A\n",
      " 46%|████▋     | 38/82 [00:28<00:38,  1.13it/s]\u001b[A\n",
      " 48%|████▊     | 39/82 [00:29<00:48,  1.12s/it]\u001b[A\n",
      " 49%|████▉     | 40/82 [00:30<00:36,  1.14it/s]\u001b[A\n",
      " 50%|█████     | 41/82 [00:30<00:30,  1.32it/s]\u001b[A\n",
      " 51%|█████     | 42/82 [00:31<00:28,  1.42it/s]\u001b[A\n",
      " 52%|█████▏    | 43/82 [00:31<00:23,  1.68it/s]\u001b[A\n",
      " 54%|█████▎    | 44/82 [00:31<00:20,  1.87it/s]\u001b[A\n",
      " 55%|█████▍    | 45/82 [00:33<00:34,  1.06it/s]\u001b[A\n",
      " 56%|█████▌    | 46/82 [00:34<00:31,  1.15it/s]\u001b[A\n",
      " 57%|█████▋    | 47/82 [00:35<00:27,  1.25it/s]\u001b[A\n",
      " 59%|█████▊    | 48/82 [00:37<00:40,  1.18s/it]\u001b[A"
     ]
    }
   ],
   "source": [
    "#Rohe Analyse\n",
    "for pdf in tqdm(pdfs):\n",
    "    try:\n",
    "        text = textract.process(\"pdfs/\"+pdf, method='pdfminer', encoding='ISO-8859-1') # ich encodiere das zeug zuerst\n",
    "        text = text.decode(\"ISO-8859-1\").replace(\"\\n\", \" \") #ich ersetze leere zeilen mit leerem abstand\n",
    "        if len(text) < 40:\n",
    "            text = textract.process(\"pdfs/\"+pdf, method='tesseract', encoding='ISO-8859-1') #alles, was kleiner ist als 40 zeichen, ist ein bild\n",
    "            text = text.decode(\"ISO-8859-1\").replace(\"\\n\", \" \") #dann decodiere ich es wieder\n",
    "            \n",
    "        mini_dict = {'Text':text,\n",
    "                     'File':pdf}\n",
    "        lst.append(mini_dict)\n",
    "    except:\n",
    "        mini_dict = {'Text':'Fehlermeldung',\n",
    "                     'File':pdf}\n",
    "        lst.append(mini_dict)"
   ]
  },
  {
   "cell_type": "code",
   "execution_count": null,
   "metadata": {},
   "outputs": [],
   "source": [
    "df=pd.DataFrame(lst)"
   ]
  },
  {
   "cell_type": "code",
   "execution_count": null,
   "metadata": {},
   "outputs": [],
   "source": [
    "def length(elem):\n",
    "    elem = len(elem)\n",
    "    reutrn elem\n",
    "df['Text Länge'] = df['Text'].apply(length) #und das ist dann eine weitere kolonne, mit der ich arbeiten kann. \n",
    "#ich kann das dann so weiter auseinanderdröseln, bis ich erhalte, was ich benötige. "
   ]
  },
  {
   "cell_type": "code",
   "execution_count": null,
   "metadata": {},
   "outputs": [],
   "source": []
  },
  {
   "cell_type": "code",
   "execution_count": null,
   "metadata": {},
   "outputs": [],
   "source": []
  },
  {
   "cell_type": "code",
   "execution_count": null,
   "metadata": {},
   "outputs": [],
   "source": [
    "#Erste Säuberung\n",
    "df = pd.DataFrame(lst)\n",
    "def date(elem):\n",
    "    elem = elem[3:11]\n",
    "    return elem\n",
    "df['date'] = df['File'].apply(date)\n",
    "df['date'] = pd.to_datetime(df['date'], format='%Y%m%d')\n",
    "df.index = df['date']\n",
    "#Suchen wir noch nach Implantaten\n",
    "df['implant'] = df['Text'].str.contains('implant')\n",
    "df.to_csv('datafile.csv')"
   ]
  },
  {
   "cell_type": "code",
   "execution_count": null,
   "metadata": {},
   "outputs": [],
   "source": []
  }
 ],
 "metadata": {
  "kernelspec": {
   "display_name": "Python 3",
   "language": "python",
   "name": "python3"
  },
  "language_info": {
   "codemirror_mode": {
    "name": "ipython",
    "version": 3
   },
   "file_extension": ".py",
   "mimetype": "text/x-python",
   "name": "python",
   "nbconvert_exporter": "python",
   "pygments_lexer": "ipython3",
   "version": "3.7.3"
  }
 },
 "nbformat": 4,
 "nbformat_minor": 2
}
