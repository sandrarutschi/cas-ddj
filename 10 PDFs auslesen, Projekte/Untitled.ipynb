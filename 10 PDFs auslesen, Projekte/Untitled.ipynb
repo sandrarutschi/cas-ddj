{
 "cells": [
  {
   "cell_type": "code",
   "execution_count": 2,
   "metadata": {},
   "outputs": [
    {
     "name": "stdout",
     "output_type": "stream",
     "text": [
      "Collecting textract\n",
      "  Downloading https://files.pythonhosted.org/packages/32/31/ef9451e6e48a1a57e337c5f20d4ef58c1a13d91560d2574c738b1320bb8d/textract-1.6.3-py3-none-any.whl\n",
      "Collecting extract-msg==0.23.1 (from textract)\n",
      "  Downloading https://files.pythonhosted.org/packages/a1/90/84485a914ed90adb5e87df17e626be04162fbba146dfecf34643659a4633/extract_msg-0.23.1-py2.py3-none-any.whl (45kB)\n",
      "Requirement already satisfied: chardet==3.0.4 in c:\\users\\admin\\anaconda3\\lib\\site-packages (from textract) (3.0.4)\n",
      "Collecting pdfminer.six==20181108 (from textract)\n",
      "  Downloading https://files.pythonhosted.org/packages/8a/fd/6e8746e6965d1a7ea8e97253e3d79e625da5547e8f376f88de5d024bacb9/pdfminer.six-20181108-py2.py3-none-any.whl (5.6MB)\n",
      "Collecting argcomplete==1.10.0 (from textract)\n",
      "  Downloading https://files.pythonhosted.org/packages/4d/82/f44c9661e479207348a979b1f6f063625d11dc4ca6256af053719bbb0124/argcomplete-1.10.0-py2.py3-none-any.whl\n",
      "Collecting python-pptx==0.6.18 (from textract)\n",
      "  Downloading https://files.pythonhosted.org/packages/bf/86/eb979f7b0333ec769041aae36df8b9f1bd8bea5bbad44620663890dce561/python-pptx-0.6.18.tar.gz (8.9MB)\n",
      "Collecting beautifulsoup4==4.8.0 (from textract)\n",
      "  Downloading https://files.pythonhosted.org/packages/1a/b7/34eec2fe5a49718944e215fde81288eec1fa04638aa3fb57c1c6cd0f98c3/beautifulsoup4-4.8.0-py3-none-any.whl (97kB)\n",
      "Collecting EbookLib==0.17.1 (from textract)\n",
      "  Downloading https://files.pythonhosted.org/packages/00/38/7d6ab2e569a9165249619d73b7bc6be0e713a899a3bc2513814b6598a84c/EbookLib-0.17.1.tar.gz (111kB)\n",
      "Requirement already satisfied: six==1.12.0 in c:\\users\\admin\\anaconda3\\lib\\site-packages (from textract) (1.12.0)\n",
      "Collecting SpeechRecognition==3.8.1 (from textract)\n",
      "  Downloading https://files.pythonhosted.org/packages/26/e1/7f5678cd94ec1234269d23756dbdaa4c8cfaed973412f88ae8adf7893a50/SpeechRecognition-3.8.1-py2.py3-none-any.whl (32.8MB)\n",
      "Collecting docx2txt==0.8 (from textract)\n",
      "  Downloading https://files.pythonhosted.org/packages/7d/7d/60ee3f2b16d9bfdfa72e8599470a2c1a5b759cb113c6fe1006be28359327/docx2txt-0.8.tar.gz\n",
      "Requirement already satisfied: xlrd==1.2.0 in c:\\users\\admin\\anaconda3\\lib\\site-packages (from textract) (1.2.0)\n",
      "Collecting imapclient==2.1.0 (from extract-msg==0.23.1->textract)\n",
      "  Downloading https://files.pythonhosted.org/packages/dc/39/e1c2c2c6e2356ab6ea81fcfc0a74b044b311d6a91a45300811d9a6077ef7/IMAPClient-2.1.0-py2.py3-none-any.whl (73kB)\n",
      "Requirement already satisfied: olefile==0.46 in c:\\users\\admin\\anaconda3\\lib\\site-packages (from extract-msg==0.23.1->textract) (0.46)\n",
      "Collecting tzlocal==1.5.1 (from extract-msg==0.23.1->textract)\n",
      "  Downloading https://files.pythonhosted.org/packages/cb/89/e3687d3ed99bc882793f82634e9824e62499fdfdc4b1ae39e211c5b05017/tzlocal-1.5.1.tar.gz\n",
      "Requirement already satisfied: sortedcontainers in c:\\users\\admin\\anaconda3\\lib\\site-packages (from pdfminer.six==20181108->textract) (2.1.0)\n",
      "Collecting pycryptodome (from pdfminer.six==20181108->textract)\n",
      "  Downloading https://files.pythonhosted.org/packages/43/61/41dfdccaf42732ce1a6aef4a69fba916d6eb0ae189ce5a2a67888cee3ffb/pycryptodome-3.9.0-cp37-cp37m-win_amd64.whl (10.1MB)\n",
      "Requirement already satisfied: lxml>=3.1.0 in c:\\users\\admin\\anaconda3\\lib\\site-packages (from python-pptx==0.6.18->textract) (4.3.4)\n",
      "Requirement already satisfied: Pillow>=3.3.2 in c:\\users\\admin\\anaconda3\\lib\\site-packages (from python-pptx==0.6.18->textract) (6.1.0)\n",
      "Requirement already satisfied: XlsxWriter>=0.5.7 in c:\\users\\admin\\anaconda3\\lib\\site-packages (from python-pptx==0.6.18->textract) (1.1.8)\n",
      "Requirement already satisfied: soupsieve>=1.2 in c:\\users\\admin\\anaconda3\\lib\\site-packages (from beautifulsoup4==4.8.0->textract) (1.8)\n",
      "Requirement already satisfied: pytz in c:\\users\\admin\\anaconda3\\lib\\site-packages (from tzlocal==1.5.1->extract-msg==0.23.1->textract) (2019.1)\n",
      "Building wheels for collected packages: python-pptx, EbookLib, docx2txt, tzlocal\n",
      "  Building wheel for python-pptx (setup.py): started\n",
      "  Building wheel for python-pptx (setup.py): finished with status 'done'\n",
      "  Created wheel for python-pptx: filename=python_pptx-0.6.18-cp37-none-any.whl size=275709 sha256=f9839e48e6c0675be2e11f2aea04c455bf10f1361e46ec43350d7b59194e4bb2\n",
      "  Stored in directory: C:\\Users\\Admin\\AppData\\Local\\pip\\Cache\\wheels\\1f\\1f\\2c\\29acca422b420a0b5210bd2cd7e9669804520d602d2462f20b\n",
      "  Building wheel for EbookLib (setup.py): started\n",
      "  Building wheel for EbookLib (setup.py): finished with status 'done'\n",
      "  Created wheel for EbookLib: filename=EbookLib-0.17.1-cp37-none-any.whl size=38168 sha256=7aa9a169345cd19f4ff8ee6f871a75d5d65d8966aae7725ebd2b75ab2b0d812b\n",
      "  Stored in directory: C:\\Users\\Admin\\AppData\\Local\\pip\\Cache\\wheels\\84\\11\\01\\951369cbbf8f96878786a1f4da68bd7ac19a5d945b38e03d54\n",
      "  Building wheel for docx2txt (setup.py): started\n",
      "  Building wheel for docx2txt (setup.py): finished with status 'done'\n",
      "  Created wheel for docx2txt: filename=docx2txt-0.8-cp37-none-any.whl size=3971 sha256=0bc32a5a756e3d2d5a801266679518ab3bf93b34590f8cae3cc8a54f72899680\n",
      "  Stored in directory: C:\\Users\\Admin\\AppData\\Local\\pip\\Cache\\wheels\\b2\\1f\\26\\a051209bbb77fc6bcfae2bb7e01fa0ff941b82292ab084d596\n",
      "  Building wheel for tzlocal (setup.py): started\n",
      "  Building wheel for tzlocal (setup.py): finished with status 'done'\n",
      "  Created wheel for tzlocal: filename=tzlocal-1.5.1-cp37-none-any.whl size=17548 sha256=47869a066e95933dea6a93b5a67bbf35af6df3ed3a05bc2f90be79c8a06bbd4b\n",
      "  Stored in directory: C:\\Users\\Admin\\AppData\\Local\\pip\\Cache\\wheels\\15\\ae\\df\\a67bf1ed84e9bf230187d36d8dcfd30072bea0236cb059ed91\n",
      "Successfully built python-pptx EbookLib docx2txt tzlocal\n",
      "Installing collected packages: imapclient, tzlocal, extract-msg, pycryptodome, pdfminer.six, argcomplete, python-pptx, beautifulsoup4, EbookLib, SpeechRecognition, docx2txt, textract\n",
      "  Found existing installation: beautifulsoup4 4.7.1\n",
      "    Uninstalling beautifulsoup4-4.7.1:\n",
      "      Successfully uninstalled beautifulsoup4-4.7.1\n",
      "Successfully installed EbookLib-0.17.1 SpeechRecognition-3.8.1 argcomplete-1.10.0 beautifulsoup4-4.8.0 docx2txt-0.8 extract-msg-0.23.1 imapclient-2.1.0 pdfminer.six-20181108 pycryptodome-3.9.0 python-pptx-0.6.18 textract-1.6.3 tzlocal-1.5.1\n"
     ]
    }
   ],
   "source": [
    "!pip install textract"
   ]
  },
  {
   "cell_type": "code",
   "execution_count": 3,
   "metadata": {},
   "outputs": [],
   "source": [
    "import text"
   ]
  },
  {
   "cell_type": "code",
   "execution_count": null,
   "metadata": {},
   "outputs": [],
   "source": []
  }
 ],
 "metadata": {
  "kernelspec": {
   "display_name": "Python 3",
   "language": "python",
   "name": "python3"
  },
  "language_info": {
   "codemirror_mode": {
    "name": "ipython",
    "version": 3
   },
   "file_extension": ".py",
   "mimetype": "text/x-python",
   "name": "python",
   "nbconvert_exporter": "python",
   "pygments_lexer": "ipython3",
   "version": "3.7.3"
  }
 },
 "nbformat": 4,
 "nbformat_minor": 2
}
