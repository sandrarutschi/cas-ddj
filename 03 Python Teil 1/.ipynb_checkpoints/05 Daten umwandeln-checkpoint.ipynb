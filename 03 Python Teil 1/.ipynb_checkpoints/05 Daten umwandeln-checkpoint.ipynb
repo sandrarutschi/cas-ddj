{
 "cells": [
  {
   "cell_type": "markdown",
   "metadata": {},
   "source": [
    "# Daten umwandeln - Strings und Zahlen\n",
    "Daten umzuwandeln ist wahrscheinlich, das was du am meisten machen wirst. Deshalb ist es praktisch es schon jetzt kennen zu lernen. "
   ]
  },
  {
   "cell_type": "markdown",
   "metadata": {},
   "source": [
    "### Einen String in eine Zahl umwandeln\n",
    "Dazu wenden wir den **int()**-Befehl auf einen String (direkt oder in einer Variable gespeichert) an: **int(string)**\n",
    "\n",
    "int steht für Integer, den englischen Begriff für Ganzzahl."
   ]
  },
  {
   "cell_type": "code",
   "execution_count": 1,
   "metadata": {},
   "outputs": [
    {
     "name": "stdout",
     "output_type": "stream",
     "text": [
      "11\n"
     ]
    }
   ],
   "source": [
    "a = \"5\"\n",
    "b = \"6\"\n",
    "\n",
    "print(int(a) + int(b))"
   ]
  },
  {
   "cell_type": "markdown",
   "metadata": {},
   "source": [
    "### Einen String in eine Kommazahl umwandeln\n",
    "Dazu wenden wir den **float()**-Befehl auf einen String (direkt oder in einer Variable gespeichert) an: **float(string)** \n",
    " \n",
    " \n",
    "Der Name float kommt daher, dass man Kommazahlen auch Fließkommazahlen nennt."
   ]
  },
  {
   "cell_type": "code",
   "execution_count": 2,
   "metadata": {},
   "outputs": [
    {
     "name": "stdout",
     "output_type": "stream",
     "text": [
      "12.1\n"
     ]
    }
   ],
   "source": [
    "a = \"5.5\"\n",
    "b = \"6.6\"\n",
    "\n",
    "print(float(a) + float(b))"
   ]
  },
  {
   "cell_type": "markdown",
   "metadata": {},
   "source": [
    "### Eine Zahl in einen String umwandeln\n",
    "Dazu wenden wir den **str()**-Befehl auf eine Ganzzahl oder Kommazahl an (direkt oder in einer Variable gespeichert): **str(zahl)**"
   ]
  },
  {
   "cell_type": "code",
   "execution_count": 3,
   "metadata": {},
   "outputs": [
    {
     "name": "stdout",
     "output_type": "stream",
     "text": [
      "Ich bin 21 Jahre alt\n"
     ]
    }
   ],
   "source": [
    "age = 21\n",
    "print(\"Ich bin \" + str(age) + \" Jahre alt\")"
   ]
  },
  {
   "cell_type": "markdown",
   "metadata": {},
   "source": [
    "## Übung\n",
    "\n",
    "- Speichere  die Zahl PI mit 4 Nachkommastellen in der Variable a. \n",
    "- Multipliziere sie mit 2. \n",
    "- Wandle die Zahl in einen String um und gebe sie aus als Satz: \"Das doppelter der Zahl Pi ist: a\"\n",
    "\n"
   ]
  },
  {
   "cell_type": "code",
   "execution_count": 4,
   "metadata": {},
   "outputs": [],
   "source": [
    "#das ist mein hauptprogramm\n",
    "a = 3,1416\n",
    "zwei_mal_pi = 2*a"
   ]
  },
  {
   "cell_type": "code",
   "execution_count": 12,
   "metadata": {},
   "outputs": [],
   "source": [
    "zwei_mal_pi = (2 * (a))"
   ]
  },
  {
   "cell_type": "code",
   "execution_count": 13,
   "metadata": {},
   "outputs": [
    {
     "data": {
      "text/plain": [
       "(3, 1416, 3, 1416)"
      ]
     },
     "execution_count": 13,
     "metadata": {},
     "output_type": "execute_result"
    }
   ],
   "source": [
    "zwei_mal_pi"
   ]
  },
  {
   "cell_type": "markdown",
   "metadata": {},
   "source": [
    "# Daten umwandeln - Listen und Strings\n",
    "Wir können mit Python Elemente zu einer Liste zusammenfügen oder eine Liste in einzelne Elemente zerlegen."
   ]
  },
  {
   "cell_type": "markdown",
   "metadata": {},
   "source": [
    "### Strings aus einer Liste zu einem String zusammenfügen\n",
    "\n",
    "Mit dem  **join()**-Befehl, der auf einen String angewendet wird, verbinden wir die Strings aus einer Liste zu einem neuen String: **string.join(liste)**\n",
    "\n",
    "Der String, auf den join() angewendet wird, bildet dabei die Nahtstelle: Dieser String wird als Verbindung zwischen den einzelnen Listenelementen im neuen String gesetzt."
   ]
  },
  {
   "cell_type": "code",
   "execution_count": 15,
   "metadata": {
    "scrolled": true
   },
   "outputs": [],
   "source": [
    "students = [\"Max\", \"Monika\", \"Erik\", \"Franziska\"]\n",
    "a = (\", \".join(students))"
   ]
  },
  {
   "cell_type": "code",
   "execution_count": 16,
   "metadata": {},
   "outputs": [
    {
     "data": {
      "text/plain": [
       "'Max, Monika, Erik, Franziska'"
      ]
     },
     "execution_count": 16,
     "metadata": {},
     "output_type": "execute_result"
    }
   ],
   "source": [
    "a"
   ]
  },
  {
   "cell_type": "code",
   "execution_count": null,
   "metadata": {},
   "outputs": [],
   "source": []
  },
  {
   "cell_type": "code",
   "execution_count": 18,
   "metadata": {},
   "outputs": [
    {
     "name": "stdout",
     "output_type": "stream",
     "text": [
      "An unserer Uni studieren: ['Max', 'Monika', 'Erik', 'Franziska']\n"
     ]
    }
   ],
   "source": [
    "students_as_string = \", \".join(students)\n",
    "print(\"An unserer Uni studieren: \" + str(students))"
   ]
  },
  {
   "cell_type": "code",
   "execution_count": null,
   "metadata": {},
   "outputs": [],
   "source": [
    "students = [\"Max\", \"Monika\", \"Erik\", \"Franziska\"]\n",
    "print(\" - \".join(students))"
   ]
  },
  {
   "cell_type": "markdown",
   "metadata": {},
   "source": [
    "### Einen String in eine Liste aufspalten\n",
    "\n",
    "Mit dem **split()**-Befehl, der auf einen String angewendet wird, wird dieser String an seinen Leerzeichen aufgespalten und die daraus resultierenden Einzelstrings in einer Liste gespeichert: **string.split()**"
   ]
  },
  {
   "cell_type": "code",
   "execution_count": 20,
   "metadata": {},
   "outputs": [],
   "source": [
    "i = \"Max, Monika, Erik, Franziska\""
   ]
  },
  {
   "cell_type": "code",
   "execution_count": 21,
   "metadata": {
    "scrolled": true
   },
   "outputs": [
    {
     "name": "stdout",
     "output_type": "stream",
     "text": [
      "['Max,', 'Monika,', 'Erik,', 'Franziska']\n"
     ]
    }
   ],
   "source": [
    "print(i.split())"
   ]
  },
  {
   "cell_type": "markdown",
   "metadata": {},
   "source": [
    "Wir können sogar noch genauer festlegen, an welchen Stellen der String von split() aufgespaltet werden soll."
   ]
  },
  {
   "cell_type": "code",
   "execution_count": 22,
   "metadata": {
    "scrolled": true
   },
   "outputs": [
    {
     "name": "stdout",
     "output_type": "stream",
     "text": [
      "['Max', 'Monika', 'Erik', 'Franziska']\n"
     ]
    }
   ],
   "source": [
    "print(i.split(\", \"))"
   ]
  },
  {
   "cell_type": "code",
   "execution_count": 23,
   "metadata": {},
   "outputs": [
    {
     "name": "stdout",
     "output_type": "stream",
     "text": [
      "['M', 'x, Monik', ', Erik, Fr', 'nzisk', '']\n"
     ]
    }
   ],
   "source": [
    "print(i.split(\"a\"))"
   ]
  },
  {
   "cell_type": "markdown",
   "metadata": {},
   "source": [
    "Insbesondere können wir auch mehrere der Befehle, die wir schon kennen gelernt haben, miteinander kombinieren:"
   ]
  },
  {
   "cell_type": "code",
   "execution_count": 24,
   "metadata": {},
   "outputs": [
    {
     "name": "stdout",
     "output_type": "stream",
     "text": [
      "7\n"
     ]
    }
   ],
   "source": [
    "# Hier zählen wir die Anzahl der Wörter des Satzes s\n",
    "\n",
    "s = \"Ich bin ein Satz mit vielen Wörtern\"\n",
    "print(len(s.split()))"
   ]
  },
  {
   "cell_type": "markdown",
   "metadata": {},
   "source": [
    "## Übung 1\n",
    "- Nimm einen Artikel aus 20 minuten. \n",
    "- Kopiere ihn in einen String. \n",
    "- Zerlege den Artikel in Wörter. \n",
    "- Zähle die Wörter. \n",
    "- Gib aus \" Der Artikel xyz enthält x wörter\" "
   ]
  },
  {
   "cell_type": "code",
   "execution_count": 38,
   "metadata": {},
   "outputs": [
    {
     "name": "stdout",
     "output_type": "stream",
     "text": [
      "['Der', 'neue', 'Campus', 'der', 'Berner', 'Fachhochschule', '(BFH)', 'in', 'Biel', 'steht', 'weiterhin', 'unter', 'keinem', 'guten', 'Stern.', 'Der', 'Rechtsstreit', 'um', 'eine', 'Enteignung', 'führte', 'diesen', 'Sommer', 'bereits', 'zu', 'einem', 'bis', 'heute', 'anhaltenden', 'Baustopp.', 'Bis', 'das', 'Bundesgericht', 'in', 'Lausanne', 'über', 'den', 'Fall', 'entschieden', 'hat,', 'gehört', 'den', 'Behörden', 'nicht', 'das', 'ganze', 'Areal.', 'Folglich', 'sind', 'die', 'Bauarbeiten', 'bis', 'zu', 'diesem', 'Entscheid', 'blockiert.', 'Nun', 'stellt', 'sich', 'dem', 'Projekt', 'allerdings', 'ein', 'weiteres', 'Problem', 'in', 'den', 'Weg.', 'Wie', 'die', 'Baudirektion', 'von', 'Regierungsrat', 'Christoph', 'Neuhaus', '(SVP)', 'heute', 'mitteilt,', 'bewegen', 'sich', 'die', 'eingegangenen', 'Offerten', 'der', 'Totalunternehmer', 'nicht', 'im', 'Kostenrahmen', 'des', 'Kantons.', 'Die', 'Offerten', 'seien', '«deutlich', 'höher»', 'als', 'der', 'gesprochene', 'Kredit,', 'so', 'Neuhaus.', 'Wie', 'viel', 'höher', 'könne', 'er', 'aufgrund', 'des', 'laufenden', 'Verfahrens', 'nicht', 'sagen.', 'Gemäss', 'einem', 'Bundesgerichtsurteil', 'von', '1990', 'dürfen', 'Offerten', 'für', 'öffentliche', 'Bauten', 'allerdings', 'höchstens', 'um', 'zehn', 'Prozent', 'vom', 'bewilligten', 'Ausführungskredit', 'abweichen,', 'damit', 'gebaut', 'werden', 'kann.', 'Für', 'den', 'BFH-Campus', 'Biel', 'sprach', 'der', 'Grosse', 'Rat', 'seinerzeit', 'einen', 'Kredit', 'von', '233,5', 'Millionen', 'Franken.', 'Die', 'eingegangenen', 'Offerten', 'düften', 'also', 'um', 'mehr', 'als', '23', 'Millionen', 'Franken', 'von', 'den', 'Vorstellungen', 'des', 'Kantons', 'Bern', 'abweichen.']\n",
      "168\n",
      "Der Artikel zum Campus Biel enthält 168 Wörter.\n"
     ]
    }
   ],
   "source": [
    "#das ist mein hauptprogramm\n",
    "artikel = '''Der neue Campus der Berner Fachhochschule (BFH) in Biel steht weiterhin unter keinem guten Stern. \n",
    "Der Rechtsstreit um eine Enteignung führte diesen Sommer bereits zu einem bis heute anhaltenden Baustopp. \n",
    "Bis das Bundesgericht in Lausanne über den Fall entschieden hat, gehört den Behörden nicht das ganze Areal. \n",
    "Folglich sind die Bauarbeiten bis zu diesem Entscheid blockiert.\n",
    "Nun stellt sich dem Projekt allerdings ein weiteres Problem in den Weg. Wie die Baudirektion von Regierungsrat \n",
    "Christoph Neuhaus (SVP) heute mitteilt, bewegen sich die eingegangenen Offerten der Totalunternehmer nicht im Kostenrahmen \n",
    "des Kantons. Die Offerten seien «deutlich höher» als der gesprochene Kredit, so Neuhaus. Wie viel höher könne \n",
    "er aufgrund des laufenden Verfahrens nicht sagen.\n",
    "Gemäss einem Bundesgerichtsurteil von 1990 dürfen Offerten für öffentliche Bauten allerdings höchstens um zehn Prozent \n",
    "vom bewilligten Ausführungskredit abweichen, damit gebaut werden kann. Für den BFH-Campus Biel sprach der Grosse Rat \n",
    "seinerzeit einen Kredit von 233,5 Millionen Franken. Die eingegangenen Offerten düften also um mehr als 23 Millionen \n",
    "Franken von den Vorstellungen des Kantons Bern abweichen.'''\n",
    "print(artikel.split())\n",
    "print(len(artikel.split()))\n",
    "x = (len(artikel.split()))\n",
    "print(\"Der Artikel zum Campus Biel enthält \" + str(x) + \" Wörter.\")"
   ]
  },
  {
   "cell_type": "markdown",
   "metadata": {},
   "source": [
    "## Übung 2 \n",
    "\n",
    "- Lass dir vom Nachbarn seine Email geben. \n",
    "- Wenn die Mailadresse _Max-Mustermann@gmail.com_ lautet, sollst du _Max-Mustermann_ ausgeben; wenn die Mailadresse _KlaraKlarnamen@uni-berlin.de_ heisst, sollst du _KlaraKlarnamen_ ausgeben."
   ]
  },
  {
   "cell_type": "code",
   "execution_count": 58,
   "metadata": {},
   "outputs": [
    {
     "name": "stdout",
     "output_type": "stream",
     "text": [
      "manuela.paganini\n"
     ]
    },
    {
     "data": {
      "text/plain": [
       "['manuela', 'paganini']"
      ]
     },
     "execution_count": 58,
     "metadata": {},
     "output_type": "execute_result"
    }
   ],
   "source": [
    "#das ist mein hauptskript\n",
    "mailadress = \"manuela.paganini@jungejournalisten.ch\"\n",
    "mailadress.split(\"@\")\n",
    "name = mailadress.split(\"@\")[0] #gibt mir von dieser aufgesplitteten liste das nullte element\n",
    "print(name)\n",
    "name_without_dot = name.split(\".\")\n",
    "name_without_dot"
   ]
  },
  {
   "cell_type": "markdown",
   "metadata": {},
   "source": [
    "## Übung 3\n",
    "\n",
    "Aktuell legen alle Kunden (`mail1`, `mail2`, `mail3`) als separate Variable vor. Wir möchten daraus jetzt eine Liste bauen, sodass wir die Möglichkeit hätten, später noch weitere Kunden in diese Liste hinzuzufügen.\n",
    "\n",
    "Überführe deswegen die Kunden `mail1`, `mail2` und `mail3` in die Liste `clients` und lasse dir anschließend die Anzahl der Elemente der Liste `clients` mit Hilfe von Python ausgeben."
   ]
  },
  {
   "cell_type": "code",
   "execution_count": 69,
   "metadata": {},
   "outputs": [
    {
     "name": "stdout",
     "output_type": "stream",
     "text": [
      "['zarah.zauber@zauberberg.de', 'thomas.plotkowiak@gmail.com', 'uwe_unhold@dunklerwald.de']\n"
     ]
    },
    {
     "data": {
      "text/plain": [
       "3"
      ]
     },
     "execution_count": 69,
     "metadata": {},
     "output_type": "execute_result"
    }
   ],
   "source": [
    "mail1 = \"zarah.zauber@zauberberg.de\"\n",
    "mail2 = \"thomas.plotkowiak@gmail.com\"\n",
    "mail3 = \"uwe_unhold@dunklerwald.de\" \n",
    "\n",
    "clients = []\n",
    "clients.append(mail1) #man muss sie appenden, addieren bringt nichts, weils die einfach aneinanderreiht und als 1 wahrnimmt\n",
    "clients.append(mail2)\n",
    "clients.append(mail3)\n",
    "\n",
    "# Füge hier mail1, mail2, mail3 zur clients - Liste hinzu \n",
    "# Zähle wieviele elemente die liste hat.\n",
    "\n",
    "print(clients)\n",
    "len(clients)"
   ]
  },
  {
   "cell_type": "code",
   "execution_count": 72,
   "metadata": {},
   "outputs": [
    {
     "name": "stdout",
     "output_type": "stream",
     "text": [
      "Wir haben aktuell 3 Kunden im System. \n",
      "Das sind:\n",
      "zarah.zauber\n",
      "thomas.plotkowiak\n",
      "uwe_unhold\n"
     ]
    }
   ],
   "source": [
    "mail1 = \"zarah.zauber@zauberberg.de\"\n",
    "mail2 = \"thomas.plotkowiak@gmail.com\"\n",
    "mail3 = \"uwe_unhold@dunklerwald.de\" \n",
    "clients = []\n",
    "clients.append(mail1.split(\"@\")[0])\n",
    "clients.append(mail2.split(\"@\")[0])\n",
    "clients.append(mail3.split(\"@\")[0])\n",
    "# Füge hier mail1, mail2, mail3 zur clients - Liste hinzu \n",
    "# Zähle wieviele elemente die liste hat.\n",
    "print(\"Wir haben aktuell \" + str(len(clients)) + \" Kunden im System. \\nDas sind:\\n\" + \"\\n\".join(clients))"
   ]
  },
  {
   "cell_type": "code",
   "execution_count": null,
   "metadata": {},
   "outputs": [],
   "source": []
  }
 ],
 "metadata": {
  "kernelspec": {
   "display_name": "Python 3",
   "language": "python",
   "name": "python3"
  },
  "language_info": {
   "codemirror_mode": {
    "name": "ipython",
    "version": 3
   },
   "file_extension": ".py",
   "mimetype": "text/x-python",
   "name": "python",
   "nbconvert_exporter": "python",
   "pygments_lexer": "ipython3",
   "version": "3.7.3"
  }
 },
 "nbformat": 4,
 "nbformat_minor": 2
}
