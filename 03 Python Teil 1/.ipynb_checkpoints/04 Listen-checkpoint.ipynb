{
 "cells": [
  {
   "cell_type": "markdown",
   "metadata": {
    "collapsed": true
   },
   "source": [
    "# Listen\n",
    "\n",
    "Bislang haben wir in einer Variable jeweils nur ein Element (Zahl oder String) gespeichert. "
   ]
  },
  {
   "cell_type": "code",
   "execution_count": null,
   "metadata": {},
   "outputs": [],
   "source": [
    "student1 = \"Max\"\n",
    "student2 = \"Monika\"\n",
    "student3 = \"Erik\"\n",
    "student4 = \"Franziska\""
   ]
  },
  {
   "cell_type": "markdown",
   "metadata": {},
   "source": [
    "### Eine Liste erstellen\n",
    "**Listen** hingegen können mehrere Elemente enthalten. Man erzeugt eine Liste und füllt sie mit Elementen wie folgt:\n",
    "\n",
    "**Listenname = [Element1, Element2, Element3]** \n",
    "\n",
    "Natürlich kann eine Liste nicht nur drei, sondern beliebig viele Elemente enthalten.\n",
    "\n",
    "Konkret kann das dann so aussehen:"
   ]
  },
  {
   "cell_type": "code",
   "execution_count": 2,
   "metadata": {},
   "outputs": [],
   "source": [
    "studenten = [\"Max\", \"Monika\", \"Erik\", \"Franziska\"]"
   ]
  },
  {
   "cell_type": "code",
   "execution_count": 3,
   "metadata": {},
   "outputs": [],
   "source": [
    "noten = [4, 3, 2, 1]"
   ]
  },
  {
   "cell_type": "code",
   "execution_count": 5,
   "metadata": {},
   "outputs": [
    {
     "data": {
      "text/plain": [
       "[4, 3, 2, 1]"
      ]
     },
     "execution_count": 5,
     "metadata": {},
     "output_type": "execute_result"
    }
   ],
   "source": [
    "noten"
   ]
  },
  {
   "cell_type": "markdown",
   "metadata": {},
   "source": [
    "Listen kannst du wie Zahlen und Strings per print()-Befehl ausgeben."
   ]
  },
  {
   "cell_type": "code",
   "execution_count": 4,
   "metadata": {},
   "outputs": [
    {
     "name": "stdout",
     "output_type": "stream",
     "text": [
      "['Max', 'Monika', 'Erik', 'Franziska']\n"
     ]
    }
   ],
   "source": [
    "print(studenten) "
   ]
  },
  {
   "cell_type": "markdown",
   "metadata": {},
   "source": [
    "In einer Liste dürfen auch Strings und Zahlen nebeneinander vorkommen, doch davon ist abzuraten! Wir werden dafür später geeignetere Strukturen kennenlernen. :-)"
   ]
  },
  {
   "cell_type": "markdown",
   "metadata": {},
   "source": [
    "### Ein Element aus einer Liste auswählen\n",
    "Du kannst auch auf die Elemente aus einer Liste einzeln zugreifen. Stell dir vor, dass alle Elemente in einer Liste durchnummeriert sind, aufsteigend von 0 an. Per **Index** kannst du ein Element über seine Position in der Liste anwählen: \n",
    "\n",
    "**Listenname[Position]**\n",
    "\n",
    "Konkret sieht das so aus:"
   ]
  },
  {
   "cell_type": "code",
   "execution_count": 6,
   "metadata": {},
   "outputs": [
    {
     "name": "stdout",
     "output_type": "stream",
     "text": [
      "Max\n"
     ]
    }
   ],
   "source": [
    "print(studenten[0])"
   ]
  },
  {
   "cell_type": "code",
   "execution_count": 7,
   "metadata": {},
   "outputs": [
    {
     "name": "stdout",
     "output_type": "stream",
     "text": [
      "Monika\n"
     ]
    }
   ],
   "source": [
    "print(studenten[1])"
   ]
  },
  {
   "cell_type": "code",
   "execution_count": 8,
   "metadata": {},
   "outputs": [
    {
     "name": "stdout",
     "output_type": "stream",
     "text": [
      "Erik\n"
     ]
    }
   ],
   "source": [
    "print(studenten[2])"
   ]
  },
  {
   "cell_type": "code",
   "execution_count": 9,
   "metadata": {},
   "outputs": [
    {
     "name": "stdout",
     "output_type": "stream",
     "text": [
      "Franziska\n"
     ]
    }
   ],
   "source": [
    "print(studenten[3])"
   ]
  },
  {
   "cell_type": "markdown",
   "metadata": {},
   "source": [
    "Die ausgewählten Elemente aus einer Liste kannst du dann weiterverarbeiten wie du das von Variablen schon kennst. Dabei solltest du beachten, ob es sich bei den Elementen um Zahlen oder Strings handelt."
   ]
  },
  {
   "cell_type": "code",
   "execution_count": 10,
   "metadata": {},
   "outputs": [
    {
     "name": "stdout",
     "output_type": "stream",
     "text": [
      "Max und Franziska\n"
     ]
    }
   ],
   "source": [
    "print(studenten[0] + \" und \" + studenten[3])"
   ]
  },
  {
   "cell_type": "code",
   "execution_count": 11,
   "metadata": {},
   "outputs": [
    {
     "name": "stdout",
     "output_type": "stream",
     "text": [
      "2.5\n"
     ]
    }
   ],
   "source": [
    "# den Notendurchschnitt ausrechnen\n",
    "print((noten[0] + noten[1] + noten[2] + noten[3]) / 4)"
   ]
  },
  {
   "cell_type": "markdown",
   "metadata": {},
   "source": [
    "### Ein weiteres Element an eine Liste anhängen\n",
    "Möchtest du ein weiteres Element an deine Liste anhängen, verwendest du den **append()**-Befehl. Anders als die Befehle, die du schon kennst, wie den print()-Befehl, steht append() nicht für sich, sondern mit einem Punkt _hinter_ dem Objekt, auf den append() angewendet wird: \n",
    "\n",
    "**Listenname.append(Element)**\n",
    " "
   ]
  },
  {
   "cell_type": "code",
   "execution_count": null,
   "metadata": {},
   "outputs": [],
   "source": []
  },
  {
   "cell_type": "code",
   "execution_count": 12,
   "metadata": {},
   "outputs": [],
   "source": [
    "studenten.append(\"Plotti\")"
   ]
  },
  {
   "cell_type": "markdown",
   "metadata": {},
   "source": [
    "Jetzt schauen wir uns an, ob der Befehl auch funktioniert hat ;-):"
   ]
  },
  {
   "cell_type": "code",
   "execution_count": 13,
   "metadata": {
    "scrolled": true
   },
   "outputs": [
    {
     "name": "stdout",
     "output_type": "stream",
     "text": [
      "['Max', 'Monika', 'Erik', 'Franziska', 'Plotti']\n"
     ]
    }
   ],
   "source": [
    "print(studenten)"
   ]
  },
  {
   "cell_type": "code",
   "execution_count": null,
   "metadata": {},
   "outputs": [],
   "source": [
    "studenten. #und mit tab kommen dann die sachen, die diese liste alles kann. und dann kann ich einfach ausführen."
   ]
  },
  {
   "cell_type": "markdown",
   "metadata": {
    "collapsed": true
   },
   "source": [
    "### Ein Element entfernen\n",
    "Genauso wie du ein Element hinzufügen kannst, so kannst du auch das letzte Element aus der Liste entfernen. \n",
    "\n",
    "**Listenname.pop()**\n"
   ]
  },
  {
   "cell_type": "code",
   "execution_count": null,
   "metadata": {},
   "outputs": [],
   "source": []
  },
  {
   "cell_type": "code",
   "execution_count": 16,
   "metadata": {
    "scrolled": true
   },
   "outputs": [
    {
     "name": "stdout",
     "output_type": "stream",
     "text": [
      "['Merkur', 'Venus', 'Erde', 'Mars', 'Jupiter', 'Saturn', 'Uranus', 'Neptun']\n"
     ]
    }
   ],
   "source": [
    "planets = [\"Merkur\", \"Venus\", \"Erde\", \"Mars\", \"Jupiter\", \"Saturn\", \"Uranus\", \"Neptun\", \"Pluto\"]\n",
    "planets.pop() #es hat nun also das letzte Element raus geholt, wie physisch. im Gegensatz zu eckigen klammer\n",
    "#die etwas einfach nur anzeigt\n",
    "print(planets)"
   ]
  },
  {
   "cell_type": "code",
   "execution_count": 17,
   "metadata": {},
   "outputs": [
    {
     "name": "stdout",
     "output_type": "stream",
     "text": [
      "Pluto\n"
     ]
    }
   ],
   "source": [
    "planets = [\"Merkur\", \"Venus\", \"Erde\", \"Mars\", \"Jupiter\", \"Saturn\", \"Uranus\", \"Neptun\", \"Pluto\"]\n",
    "p = planets.pop()\n",
    "print(p)"
   ]
  },
  {
   "cell_type": "markdown",
   "metadata": {},
   "source": [
    "planets = [\"Merkur\", \"Venus\", \"Erde\", \"Mars\", \"Jupiter\", \"Saturn\", \"Uranus\", \"Neptun\", \"Pluto\")\n",
    "p = planets.pop()\n",
    "print(p)\n",
    "\n",
    "print(planets)"
   ]
  },
  {
   "cell_type": "markdown",
   "metadata": {},
   "source": [
    "### Die Länge einer Liste abfragen\n",
    "Mit dem len-Befehl kannst du herausfinden, wie viele Elemente eine Liste enthält: **len(Listenname)**"
   ]
  },
  {
   "cell_type": "code",
   "execution_count": 19,
   "metadata": {},
   "outputs": [
    {
     "name": "stdout",
     "output_type": "stream",
     "text": [
      "5\n"
     ]
    }
   ],
   "source": [
    "print(len(studenten)) #len für length"
   ]
  },
  {
   "cell_type": "markdown",
   "metadata": {},
   "source": [
    "## Übung\n",
    "- Speichere die Namen aller Kursteilnehmer in einer Liste, angefangen mit Dir.\n",
    "- Jetzt füge per append die Instruktoren hinzu.\n",
    "- Jetzt füge per append noch Dein Alter hinzu. \n",
    "- Jetzt lösche lieber Dein Alter. \n",
    "- Gib die Liste aus. "
   ]
  },
  {
   "cell_type": "code",
   "execution_count": 78,
   "metadata": {},
   "outputs": [
    {
     "data": {
      "text/plain": [
       "['Sandra',\n",
       " 'Reto',\n",
       " 'Zoe',\n",
       " 'Marius',\n",
       " 'Katrin',\n",
       " 'Jörg',\n",
       " 'Manuela',\n",
       " 'Martin',\n",
       " 'Fabian',\n",
       " 'Sven',\n",
       " 'Barnaby',\n",
       " 'Thierry',\n",
       " 'Thomas',\n",
       " 'Simon',\n",
       " 'Dominique']"
      ]
     },
     "execution_count": 78,
     "metadata": {},
     "output_type": "execute_result"
    }
   ],
   "source": [
    "kursteilnehmer = [\"Sandra\", \"Reto\", \"Zoe\", \"Marius\", \"Katrin\", \"Jörg\", \"Manuela\", \"Martin\", \"Fabian\", \"Sven\"]\n",
    "kursteilnehmer.append(\"Barnaby\")\n",
    "kursteilnehmer.append(\"Thierry\")\n",
    "kursteilnehmer.append(\"Thomas\")\n",
    "kursteilnehmer.append(\"Simon\")\n",
    "kursteilnehmer.append(\"Dominique\")\n",
    "kursteilnehmer.pop()\n",
    "kursteilnehmer.pop()\n",
    "kursteilnehmer.pop()\n",
    "kursteilnehmer\n",
    "kursteilnehmer.append(\"40\")\n",
    "kursteilnehmer\n",
    "kursteilnehmer.pop()\n",
    "kursteilnehmer.append(\"Thomas\")\n",
    "kursteilnehmer.append(\"Simon\")\n",
    "kursteilnehmer.append(\"Dominique\")\n",
    "kursteilnehmer"
   ]
  },
  {
   "cell_type": "code",
   "execution_count": null,
   "metadata": {},
   "outputs": [],
   "source": []
  }
 ],
 "metadata": {
  "kernelspec": {
   "display_name": "Python 3",
   "language": "python",
   "name": "python3"
  },
  "language_info": {
   "codemirror_mode": {
    "name": "ipython",
    "version": 3
   },
   "file_extension": ".py",
   "mimetype": "text/x-python",
   "name": "python",
   "nbconvert_exporter": "python",
   "pygments_lexer": "ipython3",
   "version": "3.7.3"
  }
 },
 "nbformat": 4,
 "nbformat_minor": 2
}
