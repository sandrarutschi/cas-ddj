{
 "cells": [
  {
   "cell_type": "markdown",
   "metadata": {},
   "source": [
    "# Vergleichsoperatoren"
   ]
  },
  {
   "cell_type": "markdown",
   "metadata": {},
   "source": [
    "Um die Bedingungen in den if-else-Strukturen besser zu verstehen, schauen wir uns **Vergleichsoperationen** an. Das wird uns helfen, eine Vielfalt an Bedingungen formulieren zu können."
   ]
  },
  {
   "cell_type": "markdown",
   "metadata": {},
   "source": [
    "### Ungleichheitsoperatoren und Bools"
   ]
  },
  {
   "cell_type": "code",
   "execution_count": 1,
   "metadata": {},
   "outputs": [],
   "source": [
    "if 6 < 5:\n",
    "    print(\"JA\")"
   ]
  },
  {
   "cell_type": "markdown",
   "metadata": {},
   "source": [
    "Warum kommt es zu keiner Ausgabe mit print()? Schauen wir uns doch Ausdrücke mit Ungleichheitszeichen (<,>) im Detail an:"
   ]
  },
  {
   "cell_type": "code",
   "execution_count": 5,
   "metadata": {},
   "outputs": [
    {
     "name": "stdout",
     "output_type": "stream",
     "text": [
      "False\n",
      "True\n",
      "False\n"
     ]
    }
   ],
   "source": [
    "print(6 < 5)\n",
    "print(5 < 6)\n",
    "print(6 > 7)"
   ]
  },
  {
   "cell_type": "markdown",
   "metadata": {},
   "source": [
    "**True** und **False** (Großschreibung beachten!) sind weitere _feststehende Ausdrücke_ in Python. Neben Strings (Zeichenketten), Ganzzahlen (Integer) und Fließkommazahlen (Floats) bilden sie einen weiteren Datentyp - den **Bool**."
   ]
  },
  {
   "cell_type": "code",
   "execution_count": 7,
   "metadata": {},
   "outputs": [
    {
     "name": "stdout",
     "output_type": "stream",
     "text": [
      "False\n"
     ]
    }
   ],
   "source": [
    "b = False\n",
    "print(b)"
   ]
  },
  {
   "cell_type": "markdown",
   "metadata": {},
   "source": [
    "Genauer wird eine if-Bedingung also nur dann ausgeführt, wenn nach dem if ein Bool mit dem Wert True steht: "
   ]
  },
  {
   "cell_type": "code",
   "execution_count": 8,
   "metadata": {},
   "outputs": [
    {
     "name": "stdout",
     "output_type": "stream",
     "text": [
      "5 ist kleiner als 6\n"
     ]
    }
   ],
   "source": [
    "result = 5 < 6\n",
    "if result:\n",
    "    print(\"5 ist kleiner als 6\")"
   ]
  },
  {
   "cell_type": "code",
   "execution_count": 10,
   "metadata": {},
   "outputs": [
    {
     "name": "stdout",
     "output_type": "stream",
     "text": [
      "True\n"
     ]
    }
   ],
   "source": [
    "print(5 < 6)"
   ]
  },
  {
   "cell_type": "markdown",
   "metadata": {},
   "source": [
    "### Der Gleichheitsoperator"
   ]
  },
  {
   "cell_type": "markdown",
   "metadata": {},
   "source": [
    "Neben Ungleichheiten können wir natürlich auch Gleichheiten abfragen, und zwar mit **==**"
   ]
  },
  {
   "cell_type": "code",
   "execution_count": 11,
   "metadata": {},
   "outputs": [
    {
     "name": "stdout",
     "output_type": "stream",
     "text": [
      "True\n",
      "False\n"
     ]
    }
   ],
   "source": [
    "print(5 == 5)\n",
    "print(5 == 4)"
   ]
  },
  {
   "cell_type": "code",
   "execution_count": 19,
   "metadata": {},
   "outputs": [
    {
     "name": "stdout",
     "output_type": "stream",
     "text": [
      "5 ist 5\n"
     ]
    }
   ],
   "source": [
    "if 5 == 5:\n",
    "    print(\"5 ist 5\")"
   ]
  },
  {
   "cell_type": "markdown",
   "metadata": {},
   "source": [
    "Mittels des Gleichheitsoperators können wir auch die Zustände _größer gleich_ (**>=**) und _kleiner gleich_ (**<=**) abfragen:"
   ]
  },
  {
   "cell_type": "code",
   "execution_count": 18,
   "metadata": {},
   "outputs": [
    {
     "name": "stdout",
     "output_type": "stream",
     "text": [
      "False\n",
      "True\n",
      "True\n"
     ]
    }
   ],
   "source": [
    "print(5 < 5)\n",
    "print(5 <= 5)\n",
    "print(5 >= 5)"
   ]
  },
  {
   "cell_type": "markdown",
   "metadata": {},
   "source": [
    "### Strings vergleichen "
   ]
  },
  {
   "cell_type": "markdown",
   "metadata": {},
   "source": [
    "Wir können nicht nur Zahlen miteinander vergleichen, sondern auch Strings:"
   ]
  },
  {
   "cell_type": "code",
   "execution_count": 15,
   "metadata": {},
   "outputs": [
    {
     "name": "stdout",
     "output_type": "stream",
     "text": [
      "True\n",
      "False\n"
     ]
    }
   ],
   "source": [
    "word = \"Hallo\"\n",
    "print(word == \"Hallo\")\n",
    "print(word == \"Welt\")"
   ]
  },
  {
   "cell_type": "markdown",
   "metadata": {},
   "source": [
    "### Der Ungleichheitsoperator"
   ]
  },
  {
   "cell_type": "markdown",
   "metadata": {},
   "source": [
    "Auf Ungleichheit checken wir mit dem Zeichen **!=**"
   ]
  },
  {
   "cell_type": "code",
   "execution_count": 16,
   "metadata": {},
   "outputs": [
    {
     "name": "stdout",
     "output_type": "stream",
     "text": [
      "False\n",
      "True\n"
     ]
    }
   ],
   "source": [
    "word = \"Hallo\"\n",
    "print(word != \"Hallo\")\n",
    "print(word != \"Welt\")"
   ]
  },
  {
   "cell_type": "markdown",
   "metadata": {},
   "source": [
    "Auch Zahlen kann man auf Ungleichheit hin miteinander vergleichen:"
   ]
  },
  {
   "cell_type": "code",
   "execution_count": 3,
   "metadata": {},
   "outputs": [
    {
     "name": "stdout",
     "output_type": "stream",
     "text": [
      "False\n",
      "True\n"
     ]
    }
   ],
   "source": [
    "zahl = 4\n",
    "print(zahl != 4)\n",
    "print(zahl != 5.5)"
   ]
  },
  {
   "cell_type": "markdown",
   "metadata": {},
   "source": [
    "### Übrigends: Das klappt auch auf Strings!"
   ]
  },
  {
   "cell_type": "code",
   "execution_count": 8,
   "metadata": {},
   "outputs": [
    {
     "name": "stdout",
     "output_type": "stream",
     "text": [
      "JA\n"
     ]
    }
   ],
   "source": [
    "sentence = \"Ja! Die Monika studiert hier!\"\n",
    "\n",
    "if \"!\" in sentence:\n",
    "    print(\"JA\")\n",
    "else:\n",
    "    print(\"NEIN\")"
   ]
  },
  {
   "cell_type": "markdown",
   "metadata": {},
   "source": [
    "## Booleans (`and` und `or`)"
   ]
  },
  {
   "cell_type": "code",
   "execution_count": 3,
   "metadata": {},
   "outputs": [
    {
     "name": "stdout",
     "output_type": "stream",
     "text": [
      "Diese Person ist in ihren 30-ern\n"
     ]
    }
   ],
   "source": [
    "age = 35\n",
    "\n",
    "if age >= 30 and age <= 39:\n",
    "    print(\"Diese Person ist in ihren 30-ern\")"
   ]
  },
  {
   "cell_type": "code",
   "execution_count": 6,
   "metadata": {},
   "outputs": [
    {
     "name": "stdout",
     "output_type": "stream",
     "text": [
      "Diese Person ist nicht in ihren 30-ern\n"
     ]
    }
   ],
   "source": [
    "age = 45\n",
    "if age < 30 or age >= 40:\n",
    "    print(\"Diese Person ist nicht in ihren 30-ern\")"
   ]
  },
  {
   "cell_type": "code",
   "execution_count": 7,
   "metadata": {},
   "outputs": [
    {
     "name": "stdout",
     "output_type": "stream",
     "text": [
      "True\n"
     ]
    }
   ],
   "source": [
    "age = 25\n",
    "print(age < 30)"
   ]
  },
  {
   "cell_type": "code",
   "execution_count": 10,
   "metadata": {},
   "outputs": [
    {
     "name": "stdout",
     "output_type": "stream",
     "text": [
      "False\n"
     ]
    }
   ],
   "source": [
    "above_30 = age >= 30\n",
    "\n",
    "print(above_30)"
   ]
  },
  {
   "cell_type": "code",
   "execution_count": 14,
   "metadata": {},
   "outputs": [
    {
     "name": "stdout",
     "output_type": "stream",
     "text": [
      "True\n",
      "if-Abfrage wurde ausgeführt\n"
     ]
    }
   ],
   "source": [
    "age = 25\n",
    "\n",
    "above_20 = age >= 20\n",
    "print(above_20)\n",
    "\n",
    "if age >= 20:\n",
    "    print(\"if-Abfrage wurde ausgeführt\")"
   ]
  },
  {
   "cell_type": "markdown",
   "metadata": {},
   "source": [
    "### Logiktabelle"
   ]
  },
  {
   "cell_type": "code",
   "execution_count": 11,
   "metadata": {
    "scrolled": true
   },
   "outputs": [
    {
     "name": "stdout",
     "output_type": "stream",
     "text": [
      "True\n",
      "False\n",
      "False\n",
      "False\n",
      "True\n",
      "True\n",
      "True\n",
      "False\n"
     ]
    }
   ],
   "source": [
    "print(True and True)\n",
    "print(True and False)\n",
    "print(False and True)\n",
    "print(False and False)\n",
    "\n",
    "print(True or True)\n",
    "print(True or False)\n",
    "print(False or True)\n",
    "print(False or False)"
   ]
  },
  {
   "cell_type": "markdown",
   "metadata": {},
   "source": [
    "## Übung\n",
    "Wie sieht das ganze für \"or\" aus?"
   ]
  },
  {
   "cell_type": "markdown",
   "metadata": {},
   "source": [
    "## Der `not` - Operator"
   ]
  },
  {
   "cell_type": "code",
   "execution_count": 8,
   "metadata": {},
   "outputs": [
    {
     "name": "stdout",
     "output_type": "stream",
     "text": [
      "ausgeführt\n",
      "ausgeführt\n"
     ]
    }
   ],
   "source": [
    "age = 25\n",
    "\n",
    "if not age >= 30:\n",
    "    print(\"ausgeführt\")\n",
    "    \n",
    "if age < 30:\n",
    "    print(\"ausgeführt\") #keep it simple, doppelte verneinung weg; vivat journalism"
   ]
  },
  {
   "cell_type": "code",
   "execution_count": 10,
   "metadata": {},
   "outputs": [
    {
     "name": "stdout",
     "output_type": "stream",
     "text": [
      "Moritz ist nicht in der Liste enthalten\n",
      "Moritz ist nicht in der Liste enthalten\n"
     ]
    }
   ],
   "source": [
    "names = [\"Max\", \"Nadine\"]\n",
    "\n",
    "if \"Moritz\" not in names:\n",
    "    print(\"Moritz ist nicht in der Liste enthalten\")\n",
    "    \n",
    "if not \"Moritz\" in names:\n",
    "    print(\"Moritz ist nicht in der Liste enthalten\") #in solchen fälen machts sinn, wenn mans logisch formulieren kann"
   ]
  },
  {
   "cell_type": "markdown",
   "metadata": {},
   "source": [
    "## Übung\n",
    "\n",
    "Schreibe eine Abfrage die für Personen bestimmt ob sie alkohol trinken oder nicht?"
   ]
  },
  {
   "cell_type": "code",
   "execution_count": 19,
   "metadata": {},
   "outputs": [
    {
     "name": "stdout",
     "output_type": "stream",
     "text": [
      "You may drink alcohol\n"
     ]
    }
   ],
   "source": [
    "country = \"Switzerland\"\n",
    "age = 19\n",
    "\n",
    "# schreibe hier deinen Code\n",
    "\n",
    "if \"US\" in country and age >= 21:\n",
    "    print(\"You may drink alcohol\")\n",
    "elif \"US\" not in country and age >=18:\n",
    "    print(\"You may drink alcohol\")\n",
    "else:\n",
    "    print(\"You may not drink alcohol\")"
   ]
  },
  {
   "cell_type": "code",
   "execution_count": 20,
   "metadata": {},
   "outputs": [
    {
     "name": "stdout",
     "output_type": "stream",
     "text": [
      "You may drink alcohol\n"
     ]
    }
   ],
   "source": [
    "country = \"Switzerland\"\n",
    "age = 19\n",
    "\n",
    "# hier kommt eine andere variante für den code\n",
    "\n",
    "if country == \"US\" and age >= 21:\n",
    "    print(\"You may drink alcohol\")\n",
    "elif country != \"US\" and age >=18:\n",
    "    print(\"You may drink alcohol\")\n",
    "else:\n",
    "    print(\"You may not drink alcohol\")"
   ]
  },
  {
   "cell_type": "markdown",
   "metadata": {},
   "source": [
    "## Vergleichsoperatoren und Listen\n",
    "Wir können mit **in** checken, ob ein Element in einem anderen Element enthalten ist."
   ]
  },
  {
   "cell_type": "markdown",
   "metadata": {},
   "source": [
    "### Der in-Operator und Listen"
   ]
  },
  {
   "cell_type": "markdown",
   "metadata": {},
   "source": [
    "Operatoren gibt es auch in Bezug auf Listen; wir können etwa mit dem **in**-Operator prüfen, ob ein Element in einer Liste enthalten ist. \n",
    " \n",
    "\n",
    "Formal sieht die Syntax so aus: **Element <span style=\"color:green\">in</span> Liste**\n"
   ]
  },
  {
   "cell_type": "code",
   "execution_count": 2,
   "metadata": {},
   "outputs": [
    {
     "name": "stdout",
     "output_type": "stream",
     "text": [
      "True\n",
      "False\n"
     ]
    }
   ],
   "source": [
    "students = [\"Max\", \"Monika\", \"Erik\", \"Franziska\"]\n",
    "\n",
    "print(\"Monika\" in students)\n",
    "print(\"Moritz\" in students)"
   ]
  },
  {
   "cell_type": "markdown",
   "metadata": {},
   "source": [
    "Das Resultat einer solchen Abfrage ist ein Bool, d. h., dass der Wert entweder True oder False ist. Somit können wir Ausdrücke mit dem in-Operator auch in if-else-Strukturen verwenden:"
   ]
  },
  {
   "cell_type": "code",
   "execution_count": 3,
   "metadata": {},
   "outputs": [
    {
     "name": "stdout",
     "output_type": "stream",
     "text": [
      "Ja, die Monika studiert hier!\n",
      "Nein, der Moritz studiert hier nicht!\n"
     ]
    }
   ],
   "source": [
    "if \"Monika\" in students:\n",
    "    print(\"Ja, die Monika studiert hier!\")\n",
    "else:\n",
    "    print(\"Nein, die Monika studiert hier nicht!\")\n",
    "    \n",
    "if \"Moritz\" in students:\n",
    "    print(\"Ja, der Moritz studiert hier!\")\n",
    "else:\n",
    "    print(\"Nein, der Moritz studiert hier nicht!\")"
   ]
  },
  {
   "cell_type": "markdown",
   "metadata": {},
   "source": [
    "### Der in-Operator und Strings\n",
    "Tatsächlich lässt sich der in-Operator auch auf Strings anwenden. Wir können also z. B. checken, ob ein Buchstabe bzw. ein Zeichen in einem Wort enthalten ist, oder ein Wort in einem Satz, usw."
   ]
  },
  {
   "cell_type": "code",
   "execution_count": 5,
   "metadata": {},
   "outputs": [
    {
     "name": "stdout",
     "output_type": "stream",
     "text": [
      "JA\n"
     ]
    }
   ],
   "source": [
    "sentence = \"Ja, die Monika studiert hier!\"\n",
    "\n",
    "if \"!\" in sentence:\n",
    "    print(\"JA\")\n",
    "else:\n",
    "    print(\"NEIN\")"
   ]
  },
  {
   "cell_type": "code",
   "execution_count": 4,
   "metadata": {},
   "outputs": [
    {
     "name": "stdout",
     "output_type": "stream",
     "text": [
      "JA\n"
     ]
    }
   ],
   "source": [
    "word = \"Studium\"\n",
    "\n",
    "if \"udi\" in word:\n",
    "    print(\"JA\")\n",
    "else:\n",
    "    print(\"NEIN\")"
   ]
  },
  {
   "cell_type": "markdown",
   "metadata": {},
   "source": [
    "## Übung \n",
    "\n",
    "Zurück zu unserem Shop:\n",
    "* Artikel, die zwischen 0 und 20 (einschließlich) CHF kosten, werden um 20 % reduziert; \n",
    "* Artikel, die zwischen 20 (nicht einschließlich) und 50 CHF (einschließlich) kosten, werden um 40 % reduziert. \n",
    "* Alle anderen Artikel, also solche, die mehr als 50 CHF kosten, werden um 60 % reduziert.\n",
    "* **NEU** Weil crazy September ist sind Artikel deren Preis mit einer 5 anfangen oder eine 5 beinhalten sind umsonst!\n",
    "\n",
    "Berechne nun für jeden der alten Preise aus der Liste _prices_ die passenden reduzierten Preise und speichere sie in der neuen Liste new_prices. Gib diese Liste schließlich aus."
   ]
  },
  {
   "cell_type": "code",
   "execution_count": 34,
   "metadata": {},
   "outputs": [
    {
     "name": "stdout",
     "output_type": "stream",
     "text": [
      "Normaler Rabatt\n",
      "Rabatt 20 Prozent\n",
      "Gratis\n",
      "Normaler Rabatt\n",
      "Rabatt 60 Prozent\n",
      "Normaler Rabatt\n",
      "Rabatt 40 Prozent\n",
      "Gratis\n",
      "[1.6, 28.0, 18.0]\n"
     ]
    }
   ],
   "source": [
    "prices = [2, 50, 70, 30, 555]\n",
    "new_prices =[]\n",
    "\n",
    "# schreibe hier deinen Code\n",
    "\n",
    "for price in prices:\n",
    "    if \"5\" in str(price):\n",
    "        print(\"Gratis\")\n",
    "    else:\n",
    "        print(\"Normaler Rabatt\") #diese zeile ist später nicht mehr nötig, weil sonst immer \"Normaler Rabatt\" geprintet wird\n",
    "        if price <=20:\n",
    "            print(\"Rabatt 20 Prozent\")\n",
    "            new_prices.append(price*0.8)\n",
    "        elif price <=50:\n",
    "            print(\"Rabatt 40 Prozent\")\n",
    "            new_prices.append(price*0.6)\n",
    "        else:\n",
    "            print (\"Rabatt 60 Prozent\")\n",
    "            new_prices.append(price*0.4)\n",
    "\n",
    "\n",
    "    \n",
    "print(new_prices) "
   ]
  },
  {
   "cell_type": "code",
   "execution_count": null,
   "metadata": {},
   "outputs": [],
   "source": []
  }
 ],
 "metadata": {
  "kernelspec": {
   "display_name": "Python 3",
   "language": "python",
   "name": "python3"
  },
  "language_info": {
   "codemirror_mode": {
    "name": "ipython",
    "version": 3
   },
   "file_extension": ".py",
   "mimetype": "text/x-python",
   "name": "python",
   "nbconvert_exporter": "python",
   "pygments_lexer": "ipython3",
   "version": "3.7.3"
  }
 },
 "nbformat": 4,
 "nbformat_minor": 2
}
