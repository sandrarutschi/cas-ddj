{
 "cells": [
  {
   "cell_type": "markdown",
   "metadata": {},
   "source": [
    "# Funktionen\n",
    "Funktionen sind zusammengefasste Codeblöcke. Mittels Funktionen können wir es vermeiden, mehrmals verwendete Codeblöcke zu wiederholen. Wir definieren stattdessen einmal eine Funktion, die diese Codeblöcke enthält und brauchen an weiteren Stellen nur noch (kurz) die Funktion aufzurufen, ohne die in ihr enthaltenen Codezeilen zu kopieren."
   ]
  },
  {
   "cell_type": "markdown",
   "metadata": {},
   "source": [
    "### Eine Funktion definieren und aufrufen\n",
    "Wir haben schon einige Funktionen kennengelernt, die uns Python zur Verfügung stellt. Die Funktion, die wir bislang wohl am häufigsten verwendet haben, ist die print-Funktion:"
   ]
  },
  {
   "cell_type": "code",
   "execution_count": 1,
   "metadata": {},
   "outputs": [
    {
     "name": "stdout",
     "output_type": "stream",
     "text": [
      "HALLO WELT\n"
     ]
    }
   ],
   "source": [
    "print(\"HALLO WELT\")"
   ]
  },
  {
   "cell_type": "markdown",
   "metadata": {},
   "source": [
    "P.S. Eine Übersicht über Funktionen in Python findest du hier: https://docs.python.org/3/library/functions.html"
   ]
  },
  {
   "cell_type": "markdown",
   "metadata": {},
   "source": [
    "### Weitere Funktionen in Python"
   ]
  },
  {
   "cell_type": "markdown",
   "metadata": {},
   "source": [
    "Auch die len-Funktion für Listen kennst du schon. :-) "
   ]
  },
  {
   "cell_type": "code",
   "execution_count": 1,
   "metadata": {
    "scrolled": true
   },
   "outputs": [
    {
     "name": "stdout",
     "output_type": "stream",
     "text": [
      "2\n"
     ]
    }
   ],
   "source": [
    "print(len([\"Hallo\", \"Welt\"]))"
   ]
  },
  {
   "cell_type": "markdown",
   "metadata": {},
   "source": [
    "Du kannst die len-Funktion auch auf Strings anwenden."
   ]
  },
  {
   "cell_type": "code",
   "execution_count": 2,
   "metadata": {},
   "outputs": [
    {
     "name": "stdout",
     "output_type": "stream",
     "text": [
      "5\n"
     ]
    }
   ],
   "source": [
    "print(len(\"Hallo\"))"
   ]
  },
  {
   "cell_type": "code",
   "execution_count": 4,
   "metadata": {
    "collapsed": true
   },
   "outputs": [],
   "source": [
    "def multi_print():\n",
    "    print(\"Hallo Welt!\")\n",
    "    print(\"Hallo Welt!\")"
   ]
  },
  {
   "cell_type": "markdown",
   "metadata": {},
   "source": [
    "Wenn wir eine eigene Funktion verwenden wollen, müssen wir sie zuerst definieren. Eine solche Funktionsdefinition hat die allgemeine Syntax:\n",
    "\n",
    "**def Funktionname():**\n",
    "<br>\n",
    "&nbsp;&nbsp;&nbsp;&nbsp;&nbsp;&nbsp; **Code**"
   ]
  },
  {
   "cell_type": "markdown",
   "metadata": {},
   "source": [
    "Um eine Funktion auszuführen, die definiert wurde, schreiben wir: **Funktionname()**"
   ]
  },
  {
   "cell_type": "code",
   "execution_count": 5,
   "metadata": {},
   "outputs": [
    {
     "name": "stdout",
     "output_type": "stream",
     "text": [
      "Hallo Welt!\n",
      "Hallo Welt!\n"
     ]
    }
   ],
   "source": [
    "multi_print()"
   ]
  },
  {
   "cell_type": "markdown",
   "metadata": {},
   "source": [
    "### Funktionen mit einem Argument\n",
    "Man kann Funktionen ein **Argument** übergeben, d. h. einen Wert, von dem der Code innerhalb der Funktion abhängt:\n",
    "\n",
    "\n",
    "**def Funktionsname(Argument):**\n",
    "<br>\n",
    "&nbsp;&nbsp;&nbsp;&nbsp;&nbsp;&nbsp; **Code, in dem mit dem spezifischen Argument gearbeitet wird**"
   ]
  },
  {
   "cell_type": "code",
   "execution_count": 6,
   "metadata": {},
   "outputs": [
    {
     "name": "stdout",
     "output_type": "stream",
     "text": [
      "HALLO\n",
      "HALLO\n",
      "WELT\n",
      "WELT\n"
     ]
    }
   ],
   "source": [
    "def multi_print2(name):\n",
    "    print(name)\n",
    "    print(name)\n",
    "    \n",
    "multi_print2(\"HALLO\")\n",
    "multi_print2(\"WELT\")"
   ]
  },
  {
   "cell_type": "markdown",
   "metadata": {},
   "source": [
    "### Funktionen mit mehreren Argumenten\n",
    "\n",
    "Eine Funktion darf auch mehrere Argumente enthalten:\n",
    "\n",
    "**def Funktionenname(Argument1, Argument2, ...):**\n",
    "<br>\n",
    "&nbsp;&nbsp;&nbsp;&nbsp;&nbsp;&nbsp; **Code, in dem mit Argument1, Argument2,... gearbeitet wird**"
   ]
  },
  {
   "cell_type": "code",
   "execution_count": 1,
   "metadata": {
    "scrolled": true
   },
   "outputs": [
    {
     "name": "stdout",
     "output_type": "stream",
     "text": [
      "Hallo!\n",
      "Hallo!\n",
      "Hallo!\n",
      "Hallo!\n",
      "Hallo!\n"
     ]
    }
   ],
   "source": [
    "def multi_print(name, count):\n",
    "    for i in range(0, count):\n",
    "        print(name)\n",
    "        \n",
    "multi_print(\"Hallo!\", 5)"
   ]
  },
  {
   "cell_type": "markdown",
   "metadata": {},
   "source": [
    "Du kannst dir einen solchen Parameter als eine zu einer Funktion gehörige Variable vorstellen. Vermeide es, einen Funktionsparameter wie eine bereits bestehende Variable zu benennen - Verwirrungsgefahr!"
   ]
  },
  {
   "cell_type": "markdown",
   "metadata": {},
   "source": [
    "### Funktionen und Gültigkeit von Variablen"
   ]
  },
  {
   "cell_type": "code",
   "execution_count": 8,
   "metadata": {},
   "outputs": [
    {
     "name": "stdout",
     "output_type": "stream",
     "text": [
      "MARS\n",
      "HalloPlotti\n",
      "MARS\n"
     ]
    }
   ],
   "source": [
    "name = \"MARS\"\n",
    "planet = \"MARS\"\n",
    "\n",
    "def hallo(name):\n",
    "    print(\"Hallo\" + name)\n",
    "    \n",
    "hallo(\"Plotti\")\n",
    "\n",
    "print(name)"
   ]
  },
  {
   "cell_type": "markdown",
   "metadata": {},
   "source": [
    "Du siehst, dass der Wert der Variable _name_ keinen Einfluss auf das Argument _name_ der Funktion hat! Die Variable _name_ außerhalb der Funktion ist also eine andere Variable als die Variable _name_ innerhalb der Funktion. \n",
    "\n",
    "Daher Achtung: Das macht den Code unübersichtlich!"
   ]
  },
  {
   "cell_type": "markdown",
   "metadata": {},
   "source": [
    "## Übung\n",
    "\n",
    "Schreibe eine Funktion, die den Gesamtpreis der Produkte im Warenkorb berechnet!\n",
    "Vervollständige die Funktion list_sum(), der als Parameter eine Liste mit den Preisen übergeben wird. Die Funktion soll dann die Summe der Zahlen aus der Liste ausgeben."
   ]
  },
  {
   "cell_type": "code",
   "execution_count": 11,
   "metadata": {},
   "outputs": [
    {
     "name": "stdout",
     "output_type": "stream",
     "text": [
      "54.1\n"
     ]
    }
   ],
   "source": [
    "cart_prices = [20, 3.5, 6.49, 8.99, 9.99, 14.98]\n",
    "myprices = [4,5,6,8]\n",
    "fantasyprices = [875.2352452, 12, 57389, 39.75]\n",
    "klaras_shop = [18, 34, 1.2, 0.9]\n",
    "#das hier draussen sind die listen, mit denen meine funktion arbeiten können muss; also fantasyprices und klaras_shop\n",
    "\n",
    "#das hier ist die funktion:\n",
    "def list_sum(liste): #list_sum ist der name meiner funktion. liste bezieht sich auf irgendeine liste, die ich von draussen reinziehe (kann myprices oder cart_prices sein)\n",
    "    sum = 0\n",
    "    for amount in liste:\n",
    "        sum = sum + amount\n",
    "    print(sum)\n",
    "        \n",
    "        \n",
    "list_sum(klaras_shop)      "
   ]
  },
  {
   "cell_type": "markdown",
   "metadata": {},
   "source": [
    "### Funktionen in Funktionen\n",
    "Funktionen können auch ineinander geschachtelt werden:"
   ]
  },
  {
   "cell_type": "code",
   "execution_count": 13,
   "metadata": {},
   "outputs": [],
   "source": [
    "def multi_print(text,anzahl):\n",
    "    for i in range(0,anzahl):\n",
    "        print(text)\n",
    "        \n",
    "def super_begruessung():\n",
    "    multi_print(\"Hallo!\", 3)\n",
    "    multi_print(\"Welt!\", 3)"
   ]
  },
  {
   "cell_type": "code",
   "execution_count": 14,
   "metadata": {
    "scrolled": true
   },
   "outputs": [
    {
     "name": "stdout",
     "output_type": "stream",
     "text": [
      "Hallo!\n",
      "Hallo!\n",
      "Hallo!\n",
      "Welt!\n",
      "Welt!\n",
      "Welt!\n"
     ]
    }
   ],
   "source": [
    "super_begruessung()"
   ]
  },
  {
   "cell_type": "markdown",
   "metadata": {},
   "source": [
    "### Einen Wert zurückgeben\n",
    "Bislang führen wir mit Funktionen einen Codeblock aus, der von Argumenten abhängen kann. Funktionen können aber auch mittels des Befehls **return** Werte zurückgeben. "
   ]
  },
  {
   "cell_type": "code",
   "execution_count": 12,
   "metadata": {
    "scrolled": true
   },
   "outputs": [
    {
     "name": "stdout",
     "output_type": "stream",
     "text": [
      "Hi\n"
     ]
    }
   ],
   "source": [
    "def return_element(name):\n",
    "    return name\n",
    "\n",
    "print(return_element(\"Hi\"))"
   ]
  },
  {
   "cell_type": "markdown",
   "metadata": {},
   "source": [
    "Solche Funktionen mit return können wir dann wie Variablen behandeln:"
   ]
  },
  {
   "cell_type": "code",
   "execution_count": 15,
   "metadata": {},
   "outputs": [
    {
     "name": "stdout",
     "output_type": "stream",
     "text": [
      "Right!\n"
     ]
    }
   ],
   "source": [
    "def return_with_exclamation(name):\n",
    "    return name + \"!\"\n",
    "\n",
    "a = return_with_exclamation(\"Hi\")\n",
    "\n",
    "if a == \"Hi!\":\n",
    "    print(\"Right!\")\n",
    "else:\n",
    "    print(\"Wrong.\")"
   ]
  },
  {
   "cell_type": "code",
   "execution_count": 13,
   "metadata": {},
   "outputs": [
    {
     "name": "stdout",
     "output_type": "stream",
     "text": [
      "8\n"
     ]
    }
   ],
   "source": [
    "a = 8\n",
    "b = 7\n",
    "\n",
    "def maximum(a, b):\n",
    "    if a < b:\n",
    "        return b\n",
    "    else:\n",
    "        return a\n",
    "\n",
    "result = maximum(a, b)\n",
    "print(result)"
   ]
  },
  {
   "cell_type": "markdown",
   "metadata": {},
   "source": [
    "## Übung\n",
    "\n",
    "In Amerika ist es üblich Trinkgeld zu geben. Du möchtest eine Funktion schreiben der du den Preis des Essens eingibst (price), die erhöhung in % (percent) und eine Tabelle erhälst die dir zeigt wieviel Trinkgeld du geben kannst. Ein Beispiel:\n",
    "tipp_generator(10,0.05) sollte ausgeben:\n",
    "* Preis des Essens: 10 dollar\n",
    "* Mit 5% Trinkgeld: 10,5 dollar\n",
    "* Mit 10% Trinkgeld: 11 dollar \n",
    "* Mit 15% Trinkgeld: 11,5 dollar\n"
   ]
  },
  {
   "cell_type": "code",
   "execution_count": 19,
   "metadata": {},
   "outputs": [
    {
     "name": "stdout",
     "output_type": "stream",
     "text": [
      "Preis des Essens100\n"
     ]
    }
   ],
   "source": [
    "price = 100\n",
    "percent = 10\n",
    "\n",
    "def tipp_generator(price,percent):\n",
    "    print(\"Preis des Essens\" + str(price))\n",
    "    \n",
    "    \n",
    "    \n",
    "tipp_generator(price, percent) \n",
    "    \n",
    "    # dein code hier\n",
    "    #lösung ist auf slack"
   ]
  },
  {
   "cell_type": "markdown",
   "metadata": {},
   "source": [
    "# Funktionen vs. Methoden"
   ]
  },
  {
   "cell_type": "markdown",
   "metadata": {},
   "source": [
    "### Funktionen\n",
    "Bei ihrem Aufruf stehen Funktionen \"für sich\" und das, worauf sie sich beziehen steht ggf. als Argument in den Klammern hinter ihnen:"
   ]
  },
  {
   "cell_type": "code",
   "execution_count": 36,
   "metadata": {
    "collapsed": true
   },
   "outputs": [],
   "source": [
    "liste = [1, 2, 3]"
   ]
  },
  {
   "cell_type": "code",
   "execution_count": 28,
   "metadata": {
    "scrolled": true
   },
   "outputs": [
    {
     "name": "stdout",
     "output_type": "stream",
     "text": [
      "[1, 2, 3]\n"
     ]
    }
   ],
   "source": [
    "print(liste)"
   ]
  },
  {
   "cell_type": "code",
   "execution_count": 29,
   "metadata": {},
   "outputs": [
    {
     "name": "stdout",
     "output_type": "stream",
     "text": [
      "3\n"
     ]
    }
   ],
   "source": [
    "print(len(liste))"
   ]
  },
  {
   "cell_type": "markdown",
   "metadata": {},
   "source": [
    "### Methoden\n",
    "Daneben kennen wir aber auch schon Befehle, die mit einem Punkt an Objekte angehängt werden. Eine Liste ist ein solches **Objekt**. Jedes Objekt hat Methoden, auf die wir zurückgreifen können. Diese Methoden können wir aber nicht auf ein Objekt eines anderen Typs anwenden (meistens zumindest).\n",
    "\n",
    "Schauen wir uns einige nützliche Methoden des Listen-Objektes an. Zwei kennst du ja schon gut:"
   ]
  },
  {
   "cell_type": "code",
   "execution_count": 37,
   "metadata": {},
   "outputs": [
    {
     "name": "stdout",
     "output_type": "stream",
     "text": [
      "[1, 2, 3, 4]\n"
     ]
    }
   ],
   "source": [
    "# ein Element anhängen\n",
    "liste.append(4)\n",
    "\n",
    "print(liste)"
   ]
  },
  {
   "cell_type": "code",
   "execution_count": 39,
   "metadata": {},
   "outputs": [
    {
     "data": {
      "text/plain": [
       "2"
      ]
     },
     "execution_count": 39,
     "metadata": {},
     "output_type": "execute_result"
    }
   ],
   "source": [
    "# ein Element an einem bestimmten Index entfernen\n",
    "liste.pop(2)"
   ]
  },
  {
   "cell_type": "markdown",
   "metadata": {},
   "source": [
    "# Übung"
   ]
  },
  {
   "cell_type": "markdown",
   "metadata": {},
   "source": [
    "Python objekte haben oft schon von \"Haus aus\" methoden die sehr praktisch sind. \n",
    "Finde für Listen heraus:\n",
    " - Wie kann man die Elemente einer Liste umdrehen?\n",
    " - Wie kann man rausfinden an welcher Stelle \"Max\" steht?\n",
    " - Wie kann ich \"Max\" von der Liste entfernen?\n"
   ]
  },
  {
   "cell_type": "code",
   "execution_count": 39,
   "metadata": {},
   "outputs": [
    {
     "name": "stdout",
     "output_type": "stream",
     "text": [
      "['Elena', 'Klara', 'Moritz', 'Max']\n",
      "['Elena', 'Klara', 'Moritz']\n"
     ]
    }
   ],
   "source": [
    "liste = [\"Max\", \"Moritz\", \"Klara\", \"Elena\"]\n",
    "\n",
    "liste.reverse()\n",
    "print(liste)\n",
    "\n",
    "liste.reverse\n",
    "\n",
    "liste.index(\"Max\")\n",
    "\n",
    "liste.remove(\"Max\")\n",
    "print(liste)"
   ]
  },
  {
   "cell_type": "markdown",
   "metadata": {},
   "source": [
    "### Übung Extra: \n",
    "Wenn du noch Zeit hast: was für Methoden gibt es denn für Strings?\n",
    "- z.B. wie kann ich alle buchstaben a durch x ersetzen?\n",
    "- wie kann ich einen String in kleinbuchstaben verwandeln?\n",
    "- was gibt es noch?"
   ]
  },
  {
   "cell_type": "code",
   "execution_count": 45,
   "metadata": {},
   "outputs": [],
   "source": [
    "word = \"apfesafttetrapack\""
   ]
  },
  {
   "cell_type": "code",
   "execution_count": 46,
   "metadata": {},
   "outputs": [
    {
     "data": {
      "text/plain": [
       "'zpfeszfttetrzpzck'"
      ]
     },
     "execution_count": 46,
     "metadata": {},
     "output_type": "execute_result"
    }
   ],
   "source": [
    "word.replace(\"a\", \"z\")"
   ]
  },
  {
   "cell_type": "code",
   "execution_count": 52,
   "metadata": {},
   "outputs": [
    {
     "data": {
      "text/plain": [
       "'Mein auto fährt 90 km/h'"
      ]
     },
     "execution_count": 52,
     "metadata": {},
     "output_type": "execute_result"
    }
   ],
   "source": [
    "\"Mein auto fährt %s km/h\" % 90   #mit %s kann ich die zahl definieren, 90 dann direkt hinten dran"
   ]
  },
  {
   "cell_type": "code",
   "execution_count": null,
   "metadata": {},
   "outputs": [],
   "source": []
  }
 ],
 "metadata": {
  "kernelspec": {
   "display_name": "Python 3",
   "language": "python",
   "name": "python3"
  },
  "language_info": {
   "codemirror_mode": {
    "name": "ipython",
    "version": 3
   },
   "file_extension": ".py",
   "mimetype": "text/x-python",
   "name": "python",
   "nbconvert_exporter": "python",
   "pygments_lexer": "ipython3",
   "version": "3.7.3"
  }
 },
 "nbformat": 4,
 "nbformat_minor": 2
}
