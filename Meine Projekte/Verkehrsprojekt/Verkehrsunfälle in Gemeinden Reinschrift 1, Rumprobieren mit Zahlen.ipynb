{
 "cells": [
  {
   "cell_type": "code",
   "execution_count": null,
   "metadata": {},
   "outputs": [],
   "source": [
    "import camelot\n",
    "import tabula\n",
    "import pandas as pd"
   ]
  },
  {
   "cell_type": "markdown",
   "metadata": {},
   "source": [
    "# Schritt 1: PDF Verkehrsunfälle"
   ]
  },
  {
   "cell_type": "markdown",
   "metadata": {},
   "source": [
    "(Für mehr erklärungen siehe Notebook \"Verkehrsunfälle in Gemeinden\")\n",
    "\n",
    "Ursprünglich sollte das die definitive Reinschrift sein. Nun beginne ich, in dieser Chose die Datensätze besser zu putzen, damit ich sie gut mergen kann. "
   ]
  },
  {
   "cell_type": "markdown",
   "metadata": {},
   "source": [
    "### PDF einlesen"
   ]
  },
  {
   "cell_type": "code",
   "execution_count": null,
   "metadata": {},
   "outputs": [],
   "source": [
    "tables_stream = camelot.read_pdf(\"Verkehrsunfälle2018.pdf\", flavor='stream', pages='all', table_areas=['0,842,595,0'])"
   ]
  },
  {
   "cell_type": "markdown",
   "metadata": {},
   "source": [
    "### Daten reinigen"
   ]
  },
  {
   "cell_type": "code",
   "execution_count": null,
   "metadata": {},
   "outputs": [],
   "source": [
    "ff = pd.DataFrame() #=meine leere df\n",
    "\n",
    "headers = ['Gemeinde', 'Sachschaden', 'Personenschaden', 'Getötete', \n",
    "           'Schwerverletzte', 'Lebensbedrohlich Verletzte', \n",
    "           'Erheblich Verletzte', 'Leichtverletzte'] #=meine Headers\n",
    "\n",
    "#Und nun durch alles iterieren\n",
    "#https://pandas.pydata.org/pandas-docs/stable/user_guide/merging.html\n",
    "for number in range(0,8):\n",
    "    temporary = tables_stream[number].df #hier sagen wir, immer vorwärts gehen zur nächsten seite\n",
    "    temporary = temporary[9:] #hier sagen wir: aber im fall erst ab der 9. reihe\n",
    "    temporary.columns = headers #und dann setz uns bitte noch diese headers, die wir da definitert haben\n",
    "    frames = [ff, temporary]  #so kleben wir eine tabelle an die andere an. ff ist ein neues frame, temp ist unsere einzelne tabelle oben\n",
    "    ff = pd.concat(frames)   #mit concat kommts dann in die richtige form"
   ]
  },
  {
   "cell_type": "code",
   "execution_count": null,
   "metadata": {},
   "outputs": [],
   "source": [
    "def clean(elem):\n",
    "    if elem == \"\": #wenn das element ein leerer string ist, gibt mir 0 zurück\n",
    "        return 0\n",
    "    else:\n",
    "        return elem #sonst gib mir das element zurück\n",
    "    \n",
    "ff = ff.applymap(clean)"
   ]
  },
  {
   "cell_type": "code",
   "execution_count": null,
   "metadata": {},
   "outputs": [],
   "source": [
    "## Die Gemeinden zwischenzeitlich löschen und dann wieder reinnehmen bei der Umwandlung in Zahlen\n",
    "gem = ff['Gemeinde'] \n",
    "del ff['Gemeinde'] #damit schneide ich die Kolonne \"Gmeinde\" ab\n",
    "\n",
    "#für das noch überbleibende Dataframe wandle ich alle Strings in Integer\n",
    "ff = ff.astype(int)\n",
    "\n",
    "#und setze die Gemeinde-Kolonne wieder rein.\n",
    "ff['Gemeinde'] = gem\n",
    "\n",
    "#und definiere auch gleich die Reihenfolge der Headers, was hier aber nur Kosmetik ist\n",
    "ff = ff[['Gemeinde', 'Sachschaden', 'Personenschaden', 'Getötete', \n",
    "           'Schwerverletzte', 'Lebensbedrohlich Verletzte', \n",
    "           'Erheblich Verletzte', 'Leichtverletzte']].copy()"
   ]
  },
  {
   "cell_type": "code",
   "execution_count": null,
   "metadata": {},
   "outputs": [],
   "source": [
    "ff = ff.reset_index() #so läuft das von 1 an durch dann, nicht erst ab 9\n",
    "del ff['index']"
   ]
  },
  {
   "cell_type": "code",
   "execution_count": null,
   "metadata": {},
   "outputs": [],
   "source": [
    "dfunfälle=ff[:-1]"
   ]
  },
  {
   "cell_type": "code",
   "execution_count": null,
   "metadata": {},
   "outputs": [],
   "source": [
    "del dfunfälle['Lebensbedrohlich Verletzte']\n",
    "del dfunfälle['Erheblich Verletzte']\n",
    "dfunfälle.tail(5)"
   ]
  },
  {
   "cell_type": "code",
   "execution_count": null,
   "metadata": {},
   "outputs": [],
   "source": [
    "dfunfälle.tail(5)"
   ]
  },
  {
   "cell_type": "markdown",
   "metadata": {},
   "source": [
    "# Schritt 2: PDF Einwohnerzahlen"
   ]
  },
  {
   "cell_type": "markdown",
   "metadata": {},
   "source": [
    "### PDF einlesen"
   ]
  },
  {
   "cell_type": "code",
   "execution_count": null,
   "metadata": {},
   "outputs": [],
   "source": [
    "einwohnerzahlen = camelot.read_pdf('EinwohnerzahlenKantonBern.pdf', flavor='stream', pages='all', table_areas=['0,842,595,0'])\n",
    "einwohnerzahlen"
   ]
  },
  {
   "cell_type": "markdown",
   "metadata": {},
   "source": [
    "### PDF reinigen"
   ]
  },
  {
   "cell_type": "code",
   "execution_count": null,
   "metadata": {},
   "outputs": [],
   "source": [
    "#Ich lasse die Sache mit den Headers weg, weil die Kolonnenzahl unterschiedlich war\n",
    "#Ausserdem schneide ich die letzte Zeile auch noch gleich weg.\n",
    "\n",
    "ffeinwohnerzahlen = pd.DataFrame() #=meine leere df\n",
    "\n",
    "        \n",
    "#Und nun durch alles iterieren\n",
    "#https://pandas.pydata.org/pandas-docs/stable/user_guide/merging.html\n",
    "for seite in range(0,4):\n",
    "    temporaer = einwohnerzahlen[seite].df #hier sagen wir, immer vorwärts gehen zur nächsten seite\n",
    "    temporaer = temporaer[4:99] #hier sagen wir: aber im fall erst ab der 4. reihe\n",
    "    frameseinwohnerzahlen = [ffeinwohnerzahlen, temporaer]  #so kleben wir eine tabelle an die andere an. ff ist ein neues frame, temp ist unsere einzelne tabelle oben\n",
    "    ffeinwohnerzahlen = pd.concat(frameseinwohnerzahlen)   #mit concat kommts dann in die richtige formffeinwohnerzahlen = pd.DataFrame() #=meine leere df"
   ]
  },
  {
   "cell_type": "code",
   "execution_count": null,
   "metadata": {},
   "outputs": [],
   "source": [
    "# dann schnappe ich mir nur die zweil Kolonnen raus, die mich interessieren\n",
    "einwohnerzahlenneu = ffeinwohnerzahlen.iloc[:, [1,5]]"
   ]
  },
  {
   "cell_type": "code",
   "execution_count": null,
   "metadata": {},
   "outputs": [],
   "source": [
    "#jetzt mach ich noch dass die Tabelle bei 0 beginnt und nicht bei 4 (reset index)\n",
    "einwohnerzahlenneu = einwohnerzahlenneu.reset_index() #so läuft das von 1 an durch dann, nicht erst ab 9\n",
    "del einwohnerzahlenneu['index'] #und so lösche ich dann die index-kolonne, die index heisst und nun nicht mehr nötig ist"
   ]
  },
  {
   "cell_type": "code",
   "execution_count": null,
   "metadata": {},
   "outputs": [],
   "source": [
    "# und sage denen, wie sie heissen sollen\n",
    "headerseinwohnerzahlenneu = ['Gemeinde','Einwohnerzahl 2018']\n",
    "einwohnerzahlenneu.columns = headerseinwohnerzahlenneu"
   ]
  },
  {
   "cell_type": "code",
   "execution_count": null,
   "metadata": {},
   "outputs": [],
   "source": [
    "#Um die beiden Tabellen zu mergen, muss die Gemeindespalte der Einwohner-Tabelle bearbeitet werden.\n",
    "#In jeder Zelle müssen die ersten vier Stellen abgeschnitten werden.\n",
    "def cutstring(string):\n",
    "    string = string[4:]\n",
    "    return string\n",
    "var = \"301 Aarberg\"\n",
    "cutstring(var)"
   ]
  },
  {
   "cell_type": "code",
   "execution_count": null,
   "metadata": {},
   "outputs": [],
   "source": [
    "#jetzt für alle\n",
    "einwohnerzahlenneu['Gemeinde'] = einwohnerzahlenneu['Gemeinde'].apply(cutstring)"
   ]
  },
  {
   "cell_type": "code",
   "execution_count": null,
   "metadata": {
    "scrolled": true
   },
   "outputs": [],
   "source": [
    "einwohnerzahlenneu"
   ]
  },
  {
   "cell_type": "markdown",
   "metadata": {},
   "source": [
    "# Hier putze ich jetzt diesen Datensatz, weil ich das Zeug dann vielleicht mergen kann, ohne dass diese NaNs kommen"
   ]
  },
  {
   "cell_type": "code",
   "execution_count": null,
   "metadata": {},
   "outputs": [],
   "source": [
    "def geputzt(zeile):\n",
    "    zeile = zeile.replace('(', '')\n",
    "    zeile = zeile.replace(')', '')\n",
    "    zeile = zeile.replace ('BE', '')\n",
    "    zeile = zeile.replace(' / ', '/').strip() #strip knallt alles raus, das am anfang und am ende ist\n",
    "    return zeile"
   ]
  },
  {
   "cell_type": "code",
   "execution_count": null,
   "metadata": {},
   "outputs": [],
   "source": [
    "einwohnerzahlenneu['Gemeinde'] = einwohnerzahlenneu['Gemeinde'].apply(geputzt)"
   ]
  },
  {
   "cell_type": "code",
   "execution_count": null,
   "metadata": {},
   "outputs": [],
   "source": [
    "einwohnerzahlenneu['Gemeinde']"
   ]
  },
  {
   "cell_type": "code",
   "execution_count": null,
   "metadata": {},
   "outputs": [],
   "source": [
    "#wenns komplexer wird fuzzywuzzy anwenden"
   ]
  },
  {
   "cell_type": "markdown",
   "metadata": {},
   "source": [
    "Das ist schon mal ganz gut. Wie ich beim Mergen, dem nächsten Schritt, sehe, hauts mir ein paar Zahlen raus. Das liegt wohl an diesem doofen Apostroph, das verhindert, dass Python die Chose als Integer einordnen kann (jedenfalls hats mir auch ein paarmal eine Fehlermeldung gegeben, als ich das ändern wollte.) Wie ich das löse, finde ich später raus. Zuerst merge ich das hier noch zusammen, damit ich den nächsten Schritt hätte. Die NaNs putze ich dann mir frischerem Kopf wieder raus. Und am besten nehme ich das hier als Grundlage."
   ]
  },
  {
   "cell_type": "markdown",
   "metadata": {},
   "source": [
    "# Schritt 3: Mergen"
   ]
  },
  {
   "cell_type": "code",
   "execution_count": null,
   "metadata": {},
   "outputs": [],
   "source": [
    "pd.merge(dfunfälle,einwohnerzahlenneu,\n",
    "         how ='left',on='Gemeinde')\n",
    "#geht immer noch nicht, ich muss die klammern auch bei den unfällen rauslöschen"
   ]
  },
  {
   "cell_type": "markdown",
   "metadata": {},
   "source": [
    "Geht immer noch nicht bei den Klammern. Ich putze also auch noch den anderen Datensatz mit der exakt gleichen Funktion wie oben."
   ]
  },
  {
   "cell_type": "code",
   "execution_count": null,
   "metadata": {},
   "outputs": [],
   "source": [
    "dfunfälle['Gemeinde'] = dfunfälle['Gemeinde'].apply(geputzt)"
   ]
  },
  {
   "cell_type": "code",
   "execution_count": null,
   "metadata": {},
   "outputs": [],
   "source": [
    "dfDefinitiv = pd.merge(dfunfälle,einwohnerzahlenneu,\n",
    "         how ='left',on='Gemeinde')"
   ]
  },
  {
   "cell_type": "code",
   "execution_count": null,
   "metadata": {},
   "outputs": [],
   "source": [
    "dfDefinitiv"
   ]
  },
  {
   "cell_type": "markdown",
   "metadata": {},
   "source": [
    "## Juhui, ich habe eine richtig gemergte Tabelle, voll krass! nun kann ich mit dem Spielen beginnen\n",
    "Zur Sicherheit mache ich zuerst von oben ein Reinschrift-Notebook, dann kann ich hier mit dem Rumspielen beginnen. "
   ]
  },
  {
   "cell_type": "markdown",
   "metadata": {},
   "source": [
    "## Was will ich eigentlich wissen?"
   ]
  },
  {
   "cell_type": "markdown",
   "metadata": {},
   "source": [
    "Ich will wissen, welche Gemeinde pro Einwohnerzahl am Gefährlichsten ist. Aufpassen muss ich, dass ich nicht einfach alle Zahlen addieren kann punkto Unfälle, sondern wirklich nur die einzelnen Zahlen nehme. \n",
    "\n",
    "Arbeiten mit Dreisatz\n",
    "\n",
    "Wo gibts prozentual gesehen die meisten Toten?\n",
    "Wo gibts prozentual gesehen am meisten Schwerverletzte?\n",
    "Wo gibts prozentual gesehen am meisten Tote und Schwerverletzte?\n",
    "Wo gibts prozentual gesehen am meisten Personenschaden?\n",
    "Wo gibts prozentual gesehen am meisten Sachschaden?"
   ]
  },
  {
   "cell_type": "markdown",
   "metadata": {},
   "source": [
    "### Wie soll das aussehen?"
   ]
  },
  {
   "cell_type": "markdown",
   "metadata": {},
   "source": [
    "Eigentlich möchte ich für jede dieser Fragen eine Tabelle, von denen ich dann die Top10 oder so nehmen kann. Einzeln, damit ich das dann abgeichen kann. "
   ]
  },
  {
   "cell_type": "markdown",
   "metadata": {},
   "source": [
    "#### Ein weiergehender Schritt könnte sein\n",
    "Dass ich auch noch die vergangenen Jahre mitberücksichtige. ACHTUNG: Dort muss ich dann aber immer die damalige Einwohnerzahl reinholen und dann Dataframes machen, die ich gegenspielen kann."
   ]
  },
  {
   "cell_type": "code",
   "execution_count": null,
   "metadata": {
    "scrolled": false
   },
   "outputs": [],
   "source": [
    "dfDefinitiv.info()"
   ]
  },
  {
   "cell_type": "markdown",
   "metadata": {},
   "source": [
    "#### Mist, ich hab jetzt die Einwohnerzahl noch als Objekt drin anstatt als Integer. Ich versuche, das zu ändern"
   ]
  },
  {
   "cell_type": "code",
   "execution_count": null,
   "metadata": {},
   "outputs": [],
   "source": [
    "dfDefinitiv['Einwohnerzahl 2018']"
   ]
  },
  {
   "cell_type": "markdown",
   "metadata": {},
   "source": [
    "#### Der Grund ist also, dass es so doofe Strichli noch drin hat. Also putze ich doch die auch noch grad raus. \n",
    "Ich muss die Spalte zuerst in Strings umwandeln, damit ich das Strichli mit Replace rausnehmen kann. Sonst reklamiert er. "
   ]
  },
  {
   "cell_type": "code",
   "execution_count": null,
   "metadata": {
    "scrolled": true
   },
   "outputs": [],
   "source": [
    "dfDefinitiv['Einwohnerzahl 2018'] = dfDefinitiv['Einwohnerzahl 2018'].astype(str)\n",
    "#Umwandeln in einen String und gleich so definieren"
   ]
  },
  {
   "cell_type": "code",
   "execution_count": null,
   "metadata": {},
   "outputs": [],
   "source": [
    "dfDefinitiv.info()"
   ]
  },
  {
   "cell_type": "code",
   "execution_count": null,
   "metadata": {},
   "outputs": [],
   "source": [
    "def striche_weg(zeile):\n",
    "    zeile = zeile.replace(\"'\", \"\").strip()\n",
    "    return zeile"
   ]
  },
  {
   "cell_type": "code",
   "execution_count": null,
   "metadata": {
    "scrolled": true
   },
   "outputs": [],
   "source": [
    "dfDefinitiv['Einwohnerzahl 2018'] = dfDefinitiv['Einwohnerzahl 2018'].apply(striche_weg)"
   ]
  },
  {
   "cell_type": "code",
   "execution_count": null,
   "metadata": {},
   "outputs": [],
   "source": [
    "dfDefinitiv['Einwohnerzahl 2018']"
   ]
  },
  {
   "cell_type": "markdown",
   "metadata": {},
   "source": [
    "### Jetzt hab ich die Striche draussen. Nun schaue ich, ob ich die Einwohnerzahlen in einen Integer wandeln kann"
   ]
  },
  {
   "cell_type": "code",
   "execution_count": null,
   "metadata": {},
   "outputs": [],
   "source": [
    "!pip install fuzzywuzzy[speedup]"
   ]
  },
  {
   "cell_type": "code",
   "execution_count": null,
   "metadata": {},
   "outputs": [],
   "source": [
    "dfDefinitiv['Einwohnerzahl 2018'].astype(int)"
   ]
  },
  {
   "cell_type": "markdown",
   "metadata": {},
   "source": [
    "Ich hab also irgendwo noch so ein Krüppel-NaN drin. Knurr!!!"
   ]
  },
  {
   "cell_type": "code",
   "execution_count": null,
   "metadata": {},
   "outputs": [],
   "source": [
    "#df = df.dropna()  so könnte ich die nans droppen"
   ]
  },
  {
   "cell_type": "code",
   "execution_count": 179,
   "metadata": {},
   "outputs": [
    {
     "data": {
      "text/html": [
       "<div>\n",
       "<style scoped>\n",
       "    .dataframe tbody tr th:only-of-type {\n",
       "        vertical-align: middle;\n",
       "    }\n",
       "\n",
       "    .dataframe tbody tr th {\n",
       "        vertical-align: top;\n",
       "    }\n",
       "\n",
       "    .dataframe thead th {\n",
       "        text-align: right;\n",
       "    }\n",
       "</style>\n",
       "<table border=\"1\" class=\"dataframe\">\n",
       "  <thead>\n",
       "    <tr style=\"text-align: right;\">\n",
       "      <th></th>\n",
       "      <th>Gemeinde</th>\n",
       "      <th>Sachschaden</th>\n",
       "      <th>Personenschaden</th>\n",
       "      <th>Getötete</th>\n",
       "      <th>Schwerverletzte</th>\n",
       "      <th>Leichtverletzte</th>\n",
       "      <th>Einwohnerzahl 2018</th>\n",
       "    </tr>\n",
       "  </thead>\n",
       "  <tbody>\n",
       "    <tr>\n",
       "      <th>271</th>\n",
       "      <td>Seehof</td>\n",
       "      <td>0</td>\n",
       "      <td>0</td>\n",
       "      <td>0</td>\n",
       "      <td>0</td>\n",
       "      <td>0</td>\n",
       "      <td>nan</td>\n",
       "    </tr>\n",
       "    <tr>\n",
       "      <th>71</th>\n",
       "      <td>Evilard</td>\n",
       "      <td>3</td>\n",
       "      <td>3</td>\n",
       "      <td>0</td>\n",
       "      <td>1</td>\n",
       "      <td>2</td>\n",
       "      <td>nan</td>\n",
       "    </tr>\n",
       "    <tr>\n",
       "      <th>261</th>\n",
       "      <td>Schelten</td>\n",
       "      <td>0</td>\n",
       "      <td>0</td>\n",
       "      <td>0</td>\n",
       "      <td>0</td>\n",
       "      <td>0</td>\n",
       "      <td>nan</td>\n",
       "    </tr>\n",
       "    <tr>\n",
       "      <th>91</th>\n",
       "      <td>Gsteig</td>\n",
       "      <td>5</td>\n",
       "      <td>2</td>\n",
       "      <td>0</td>\n",
       "      <td>1</td>\n",
       "      <td>1</td>\n",
       "      <td>nan</td>\n",
       "    </tr>\n",
       "    <tr>\n",
       "      <th>198</th>\n",
       "      <td>Niederried bei Interlaken</td>\n",
       "      <td>1</td>\n",
       "      <td>1</td>\n",
       "      <td>0</td>\n",
       "      <td>0</td>\n",
       "      <td>2</td>\n",
       "      <td>nan</td>\n",
       "    </tr>\n",
       "    <tr>\n",
       "      <th>84</th>\n",
       "      <td>Golaten</td>\n",
       "      <td>0</td>\n",
       "      <td>1</td>\n",
       "      <td>0</td>\n",
       "      <td>0</td>\n",
       "      <td>1</td>\n",
       "      <td>nan</td>\n",
       "    </tr>\n",
       "    <tr>\n",
       "      <th>231</th>\n",
       "      <td>Reutigen</td>\n",
       "      <td>0</td>\n",
       "      <td>3</td>\n",
       "      <td>0</td>\n",
       "      <td>0</td>\n",
       "      <td>3</td>\n",
       "      <td>999</td>\n",
       "    </tr>\n",
       "    <tr>\n",
       "      <th>15</th>\n",
       "      <td>Bargen</td>\n",
       "      <td>2</td>\n",
       "      <td>4</td>\n",
       "      <td>0</td>\n",
       "      <td>0</td>\n",
       "      <td>4</td>\n",
       "      <td>999</td>\n",
       "    </tr>\n",
       "    <tr>\n",
       "      <th>304</th>\n",
       "      <td>Unterlangenegg</td>\n",
       "      <td>3</td>\n",
       "      <td>6</td>\n",
       "      <td>0</td>\n",
       "      <td>0</td>\n",
       "      <td>10</td>\n",
       "      <td>998</td>\n",
       "    </tr>\n",
       "    <tr>\n",
       "      <th>258</th>\n",
       "      <td>Saxeten</td>\n",
       "      <td>0</td>\n",
       "      <td>0</td>\n",
       "      <td>0</td>\n",
       "      <td>0</td>\n",
       "      <td>0</td>\n",
       "      <td>99</td>\n",
       "    </tr>\n",
       "    <tr>\n",
       "      <th>60</th>\n",
       "      <td>Diessbach bei Büren</td>\n",
       "      <td>2</td>\n",
       "      <td>5</td>\n",
       "      <td>0</td>\n",
       "      <td>1</td>\n",
       "      <td>4</td>\n",
       "      <td>989</td>\n",
       "    </tr>\n",
       "    <tr>\n",
       "      <th>329</th>\n",
       "      <td>Wiler bei Utzenstorf</td>\n",
       "      <td>0</td>\n",
       "      <td>3</td>\n",
       "      <td>0</td>\n",
       "      <td>2</td>\n",
       "      <td>1</td>\n",
       "      <td>963</td>\n",
       "    </tr>\n",
       "    <tr>\n",
       "      <th>82</th>\n",
       "      <td>Gampelen</td>\n",
       "      <td>4</td>\n",
       "      <td>4</td>\n",
       "      <td>0</td>\n",
       "      <td>1</td>\n",
       "      <td>3</td>\n",
       "      <td>963</td>\n",
       "    </tr>\n",
       "    <tr>\n",
       "      <th>295</th>\n",
       "      <td>Trachselwald</td>\n",
       "      <td>0</td>\n",
       "      <td>2</td>\n",
       "      <td>0</td>\n",
       "      <td>1</td>\n",
       "      <td>1</td>\n",
       "      <td>960</td>\n",
       "    </tr>\n",
       "    <tr>\n",
       "      <th>151</th>\n",
       "      <td>Langnau im Emmental</td>\n",
       "      <td>17</td>\n",
       "      <td>19</td>\n",
       "      <td>2</td>\n",
       "      <td>2</td>\n",
       "      <td>17</td>\n",
       "      <td>9380</td>\n",
       "    </tr>\n",
       "    <tr>\n",
       "      <th>333</th>\n",
       "      <td>Wohlen bei Bern</td>\n",
       "      <td>8</td>\n",
       "      <td>9</td>\n",
       "      <td>0</td>\n",
       "      <td>2</td>\n",
       "      <td>14</td>\n",
       "      <td>9282</td>\n",
       "    </tr>\n",
       "    <tr>\n",
       "      <th>11</th>\n",
       "      <td>Arni</td>\n",
       "      <td>2</td>\n",
       "      <td>1</td>\n",
       "      <td>0</td>\n",
       "      <td>0</td>\n",
       "      <td>1</td>\n",
       "      <td>928</td>\n",
       "    </tr>\n",
       "    <tr>\n",
       "      <th>230</th>\n",
       "      <td>Renan</td>\n",
       "      <td>2</td>\n",
       "      <td>2</td>\n",
       "      <td>0</td>\n",
       "      <td>0</td>\n",
       "      <td>5</td>\n",
       "      <td>928</td>\n",
       "    </tr>\n",
       "    <tr>\n",
       "      <th>312</th>\n",
       "      <td>Villeret</td>\n",
       "      <td>5</td>\n",
       "      <td>5</td>\n",
       "      <td>0</td>\n",
       "      <td>1</td>\n",
       "      <td>4</td>\n",
       "      <td>925</td>\n",
       "    </tr>\n",
       "    <tr>\n",
       "      <th>259</th>\n",
       "      <td>Schangnau</td>\n",
       "      <td>1</td>\n",
       "      <td>1</td>\n",
       "      <td>0</td>\n",
       "      <td>0</td>\n",
       "      <td>1</td>\n",
       "      <td>908</td>\n",
       "    </tr>\n",
       "  </tbody>\n",
       "</table>\n",
       "</div>"
      ],
      "text/plain": [
       "                      Gemeinde  Sachschaden  Personenschaden  Getötete  \\\n",
       "271                     Seehof            0                0         0   \n",
       "71                     Evilard            3                3         0   \n",
       "261                   Schelten            0                0         0   \n",
       "91                      Gsteig            5                2         0   \n",
       "198  Niederried bei Interlaken            1                1         0   \n",
       "84                     Golaten            0                1         0   \n",
       "231                   Reutigen            0                3         0   \n",
       "15                      Bargen            2                4         0   \n",
       "304             Unterlangenegg            3                6         0   \n",
       "258                    Saxeten            0                0         0   \n",
       "60         Diessbach bei Büren            2                5         0   \n",
       "329       Wiler bei Utzenstorf            0                3         0   \n",
       "82                    Gampelen            4                4         0   \n",
       "295               Trachselwald            0                2         0   \n",
       "151        Langnau im Emmental           17               19         2   \n",
       "333            Wohlen bei Bern            8                9         0   \n",
       "11                        Arni            2                1         0   \n",
       "230                      Renan            2                2         0   \n",
       "312                   Villeret            5                5         0   \n",
       "259                  Schangnau            1                1         0   \n",
       "\n",
       "     Schwerverletzte  Leichtverletzte Einwohnerzahl 2018  \n",
       "271                0                0                nan  \n",
       "71                 1                2                nan  \n",
       "261                0                0                nan  \n",
       "91                 1                1                nan  \n",
       "198                0                2                nan  \n",
       "84                 0                1                nan  \n",
       "231                0                3                999  \n",
       "15                 0                4                999  \n",
       "304                0               10                998  \n",
       "258                0                0                 99  \n",
       "60                 1                4                989  \n",
       "329                2                1                963  \n",
       "82                 1                3                963  \n",
       "295                1                1                960  \n",
       "151                2               17               9380  \n",
       "333                2               14               9282  \n",
       "11                 0                1                928  \n",
       "230                0                5                928  \n",
       "312                1                4                925  \n",
       "259                0                1                908  "
      ]
     },
     "execution_count": 179,
     "metadata": {},
     "output_type": "execute_result"
    }
   ],
   "source": [
    "dfDefinitiv.sort_values(by='Einwohnerzahl 2018', ascending=False).head(20)"
   ]
  },
  {
   "cell_type": "markdown",
   "metadata": {},
   "source": [
    "#### Gwaaaa! Da sind also noch immer sieben nans drin! Ich muss zuerst schauen, weshalb die drin sind. Und wie ich die rausputzen kann. "
   ]
  },
  {
   "cell_type": "code",
   "execution_count": 162,
   "metadata": {},
   "outputs": [
    {
     "data": {
      "text/html": [
       "<div>\n",
       "<style scoped>\n",
       "    .dataframe tbody tr th:only-of-type {\n",
       "        vertical-align: middle;\n",
       "    }\n",
       "\n",
       "    .dataframe tbody tr th {\n",
       "        vertical-align: top;\n",
       "    }\n",
       "\n",
       "    .dataframe thead th {\n",
       "        text-align: right;\n",
       "    }\n",
       "</style>\n",
       "<table border=\"1\" class=\"dataframe\">\n",
       "  <thead>\n",
       "    <tr style=\"text-align: right;\">\n",
       "      <th></th>\n",
       "      <th>Gemeinde</th>\n",
       "      <th>Einwohnerzahl 2018</th>\n",
       "    </tr>\n",
       "  </thead>\n",
       "  <tbody>\n",
       "    <tr>\n",
       "      <th>234</th>\n",
       "      <td>Reutigen</td>\n",
       "      <td>999</td>\n",
       "    </tr>\n",
       "    <tr>\n",
       "      <th>15</th>\n",
       "      <td>Bargen BE</td>\n",
       "      <td>999</td>\n",
       "    </tr>\n",
       "    <tr>\n",
       "      <th>305</th>\n",
       "      <td>Unterlangenegg</td>\n",
       "      <td>998</td>\n",
       "    </tr>\n",
       "    <tr>\n",
       "      <th>261</th>\n",
       "      <td>Saxeten</td>\n",
       "      <td>99</td>\n",
       "    </tr>\n",
       "    <tr>\n",
       "      <th>60</th>\n",
       "      <td>Diessbach bei Büren</td>\n",
       "      <td>989</td>\n",
       "    </tr>\n",
       "    <tr>\n",
       "      <th>91</th>\n",
       "      <td>Gsteig b. Gstaad</td>\n",
       "      <td>978</td>\n",
       "    </tr>\n",
       "    <tr>\n",
       "      <th>82</th>\n",
       "      <td>Gampelen</td>\n",
       "      <td>963</td>\n",
       "    </tr>\n",
       "    <tr>\n",
       "      <th>330</th>\n",
       "      <td>Wiler bei Utzenstorf</td>\n",
       "      <td>963</td>\n",
       "    </tr>\n",
       "    <tr>\n",
       "      <th>296</th>\n",
       "      <td>Trachselwald</td>\n",
       "      <td>960</td>\n",
       "    </tr>\n",
       "    <tr>\n",
       "      <th>233</th>\n",
       "      <td>Renan BE</td>\n",
       "      <td>928</td>\n",
       "    </tr>\n",
       "    <tr>\n",
       "      <th>11</th>\n",
       "      <td>Arni BE</td>\n",
       "      <td>928</td>\n",
       "    </tr>\n",
       "    <tr>\n",
       "      <th>313</th>\n",
       "      <td>Villeret</td>\n",
       "      <td>925</td>\n",
       "    </tr>\n",
       "    <tr>\n",
       "      <th>262</th>\n",
       "      <td>Schangnau</td>\n",
       "      <td>908</td>\n",
       "    </tr>\n",
       "    <tr>\n",
       "      <th>152</th>\n",
       "      <td>Langnau im Emmental</td>\n",
       "      <td>9'380</td>\n",
       "    </tr>\n",
       "    <tr>\n",
       "      <th>334</th>\n",
       "      <td>Wohlen bei Bern</td>\n",
       "      <td>9'282</td>\n",
       "    </tr>\n",
       "    <tr>\n",
       "      <th>307</th>\n",
       "      <td>Ursenbach</td>\n",
       "      <td>896</td>\n",
       "    </tr>\n",
       "    <tr>\n",
       "      <th>184</th>\n",
       "      <td>Mörigen</td>\n",
       "      <td>879</td>\n",
       "    </tr>\n",
       "    <tr>\n",
       "      <th>212</th>\n",
       "      <td>Oberwil bei Büren</td>\n",
       "      <td>875</td>\n",
       "    </tr>\n",
       "    <tr>\n",
       "      <th>40</th>\n",
       "      <td>Büetigen</td>\n",
       "      <td>870</td>\n",
       "    </tr>\n",
       "    <tr>\n",
       "      <th>314</th>\n",
       "      <td>Vinelz</td>\n",
       "      <td>867</td>\n",
       "    </tr>\n",
       "    <tr>\n",
       "      <th>57</th>\n",
       "      <td>Deisswil bei Münchenbuchsee</td>\n",
       "      <td>86</td>\n",
       "    </tr>\n",
       "    <tr>\n",
       "      <th>252</th>\n",
       "      <td>Rüti bei Büren</td>\n",
       "      <td>859</td>\n",
       "    </tr>\n",
       "    <tr>\n",
       "      <th>202</th>\n",
       "      <td>Oberbalm</td>\n",
       "      <td>853</td>\n",
       "    </tr>\n",
       "    <tr>\n",
       "      <th>56</th>\n",
       "      <td>Därstetten</td>\n",
       "      <td>849</td>\n",
       "    </tr>\n",
       "    <tr>\n",
       "      <th>96</th>\n",
       "      <td>Gurzelen</td>\n",
       "      <td>840</td>\n",
       "    </tr>\n",
       "    <tr>\n",
       "      <th>81</th>\n",
       "      <td>Gals</td>\n",
       "      <td>827</td>\n",
       "    </tr>\n",
       "    <tr>\n",
       "      <th>153</th>\n",
       "      <td>Lauenen</td>\n",
       "      <td>827</td>\n",
       "    </tr>\n",
       "    <tr>\n",
       "      <th>259</th>\n",
       "      <td>Sauge</td>\n",
       "      <td>815</td>\n",
       "    </tr>\n",
       "    <tr>\n",
       "      <th>9</th>\n",
       "      <td>Amsoldingen</td>\n",
       "      <td>812</td>\n",
       "    </tr>\n",
       "    <tr>\n",
       "      <th>72</th>\n",
       "      <td>Fahrni</td>\n",
       "      <td>809</td>\n",
       "    </tr>\n",
       "    <tr>\n",
       "      <th>213</th>\n",
       "      <td>Oberwil im Simmental</td>\n",
       "      <td>808</td>\n",
       "    </tr>\n",
       "    <tr>\n",
       "      <th>130</th>\n",
       "      <td>Kandergrund</td>\n",
       "      <td>805</td>\n",
       "    </tr>\n",
       "    <tr>\n",
       "      <th>248</th>\n",
       "      <td>Rumendingen</td>\n",
       "      <td>78</td>\n",
       "    </tr>\n",
       "    <tr>\n",
       "      <th>201</th>\n",
       "      <td>Nods</td>\n",
       "      <td>765</td>\n",
       "    </tr>\n",
       "    <tr>\n",
       "      <th>76</th>\n",
       "      <td>Forst-Längenbühl</td>\n",
       "      <td>765</td>\n",
       "    </tr>\n",
       "    <tr>\n",
       "      <th>85</th>\n",
       "      <td>Gondiswil</td>\n",
       "      <td>730</td>\n",
       "    </tr>\n",
       "    <tr>\n",
       "      <th>211</th>\n",
       "      <td>Oberthal</td>\n",
       "      <td>727</td>\n",
       "    </tr>\n",
       "    <tr>\n",
       "      <th>51</th>\n",
       "      <td>Cortébert</td>\n",
       "      <td>705</td>\n",
       "    </tr>\n",
       "    <tr>\n",
       "      <th>103</th>\n",
       "      <td>Heiligenschwendi</td>\n",
       "      <td>703</td>\n",
       "    </tr>\n",
       "    <tr>\n",
       "      <th>186</th>\n",
       "      <td>Moutier</td>\n",
       "      <td>7'384</td>\n",
       "    </tr>\n",
       "    <tr>\n",
       "      <th>110</th>\n",
       "      <td>Herzogenbuchsee</td>\n",
       "      <td>7'200</td>\n",
       "    </tr>\n",
       "    <tr>\n",
       "      <th>27</th>\n",
       "      <td>Bleienbach</td>\n",
       "      <td>697</td>\n",
       "    </tr>\n",
       "    <tr>\n",
       "      <th>303</th>\n",
       "      <td>Uebeschi</td>\n",
       "      <td>673</td>\n",
       "    </tr>\n",
       "    <tr>\n",
       "      <th>14</th>\n",
       "      <td>Bannwil</td>\n",
       "      <td>669</td>\n",
       "    </tr>\n",
       "    <tr>\n",
       "      <th>266</th>\n",
       "      <td>Schwadernau</td>\n",
       "      <td>662</td>\n",
       "    </tr>\n",
       "    <tr>\n",
       "      <th>128</th>\n",
       "      <td>Jens</td>\n",
       "      <td>659</td>\n",
       "    </tr>\n",
       "    <tr>\n",
       "      <th>216</th>\n",
       "      <td>Oppligen</td>\n",
       "      <td>650</td>\n",
       "    </tr>\n",
       "    <tr>\n",
       "      <th>197</th>\n",
       "      <td>Niederhünigen</td>\n",
       "      <td>644</td>\n",
       "    </tr>\n",
       "    <tr>\n",
       "      <th>98</th>\n",
       "      <td>Habkern</td>\n",
       "      <td>639</td>\n",
       "    </tr>\n",
       "    <tr>\n",
       "      <th>24</th>\n",
       "      <td>Bettenhausen</td>\n",
       "      <td>631</td>\n",
       "    </tr>\n",
       "  </tbody>\n",
       "</table>\n",
       "</div>"
      ],
      "text/plain": [
       "                        Gemeinde Einwohnerzahl 2018\n",
       "234                     Reutigen                999\n",
       "15                     Bargen BE                999\n",
       "305               Unterlangenegg                998\n",
       "261                      Saxeten                 99\n",
       "60           Diessbach bei Büren                989\n",
       "91              Gsteig b. Gstaad                978\n",
       "82                      Gampelen                963\n",
       "330         Wiler bei Utzenstorf                963\n",
       "296                 Trachselwald                960\n",
       "233                     Renan BE                928\n",
       "11                       Arni BE                928\n",
       "313                     Villeret                925\n",
       "262                    Schangnau                908\n",
       "152          Langnau im Emmental              9'380\n",
       "334              Wohlen bei Bern              9'282\n",
       "307                    Ursenbach                896\n",
       "184                      Mörigen                879\n",
       "212            Oberwil bei Büren                875\n",
       "40                      Büetigen                870\n",
       "314                       Vinelz                867\n",
       "57   Deisswil bei Münchenbuchsee                 86\n",
       "252               Rüti bei Büren                859\n",
       "202                     Oberbalm                853\n",
       "56                    Därstetten                849\n",
       "96                      Gurzelen                840\n",
       "81                          Gals                827\n",
       "153                      Lauenen                827\n",
       "259                        Sauge                815\n",
       "9                    Amsoldingen                812\n",
       "72                        Fahrni                809\n",
       "213         Oberwil im Simmental                808\n",
       "130                  Kandergrund                805\n",
       "248                  Rumendingen                 78\n",
       "201                         Nods                765\n",
       "76              Forst-Längenbühl                765\n",
       "85                     Gondiswil                730\n",
       "211                     Oberthal                727\n",
       "51                     Cortébert                705\n",
       "103             Heiligenschwendi                703\n",
       "186                      Moutier              7'384\n",
       "110              Herzogenbuchsee              7'200\n",
       "27                    Bleienbach                697\n",
       "303                     Uebeschi                673\n",
       "14                       Bannwil                669\n",
       "266                  Schwadernau                662\n",
       "128                         Jens                659\n",
       "216                     Oppligen                650\n",
       "197                Niederhünigen                644\n",
       "98                       Habkern                639\n",
       "24                  Bettenhausen                631"
      ]
     },
     "execution_count": 162,
     "metadata": {},
     "output_type": "execute_result"
    }
   ],
   "source": [
    "einwohnerzahlenneu.sort_values(by='Einwohnerzahl 2018', ascending=False).head(50\n",
    "                                                                             )"
   ]
  },
  {
   "cell_type": "markdown",
   "metadata": {},
   "source": [
    "Hier empfiehlt Barnaby, mit Fuzzywuzzy weiter zu fahren. Link: http://jonathansoma.com/lede/algorithms-2017/classes/fuzziness-matplotlib/fuzzing-matching-in-pandas-with-fuzzywuzzy/"
   ]
  },
  {
   "cell_type": "code",
   "execution_count": null,
   "metadata": {},
   "outputs": [],
   "source": []
  }
 ],
 "metadata": {
  "kernelspec": {
   "display_name": "Python 3",
   "language": "python",
   "name": "python3"
  },
  "language_info": {
   "codemirror_mode": {
    "name": "ipython",
    "version": 3
   },
   "file_extension": ".py",
   "mimetype": "text/x-python",
   "name": "python",
   "nbconvert_exporter": "python",
   "pygments_lexer": "ipython3",
   "version": "3.7.3"
  }
 },
 "nbformat": 4,
 "nbformat_minor": 2
}
