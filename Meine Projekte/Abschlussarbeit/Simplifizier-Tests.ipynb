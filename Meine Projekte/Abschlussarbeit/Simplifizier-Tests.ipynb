{
 "cells": [
  {
   "cell_type": "markdown",
   "metadata": {},
   "source": [
    "ich probiere mal aus, ob ich da auch loops einbauen könnte, um nicht so viele Wiederholungen zu haben"
   ]
  },
  {
   "cell_type": "code",
   "execution_count": 1,
   "metadata": {},
   "outputs": [],
   "source": [
    "import camelot\n",
    "import tabula\n",
    "import pandas as pd"
   ]
  },
  {
   "cell_type": "code",
   "execution_count": 2,
   "metadata": {},
   "outputs": [],
   "source": [
    "Firmen_2015 = camelot.read_pdf(\"Firmen_2015.pdf\", flavor='stream', pages='all', table_areas=['0,842,595,0'])"
   ]
  },
  {
   "cell_type": "code",
   "execution_count": 12,
   "metadata": {},
   "outputs": [
    {
     "data": {
      "text/plain": [
       "Steuerbarer Gewinn 0-10000 CHF               int32\n",
       "Steuerbarer Gewinn 10100-50000 CHF           int32\n",
       "Steuerbarer Gewinn 50100-250000 CHF          int32\n",
       "Steuerbarer Gewinn 250100 bis 1000000 CHF    int32\n",
       "Steuerbarer Gewinn ab 1000100 CHF            int32\n",
       "Total Steuerbarer Gewinn                     int32\n",
       "dtype: object"
      ]
     },
     "execution_count": 12,
     "metadata": {},
     "output_type": "execute_result"
    }
   ],
   "source": [
    "#zurechtschneiden\n",
    "test_df = Firmen_2015[0].df\n",
    "Firmen_15 = test_df[12:]\n",
    "firmen_2015 = Firmen_15.head(6)\n",
    "\n",
    "#headers setzen\n",
    "headers = ['Weglassen', 'Steuerbarer Gewinn ab CHF', 'weglassen', 'etwas seltsames',\n",
    "           'lassweg', 'überflüssig']\n",
    "firmen_2015.columns = headers\n",
    "\n",
    "# aus einer Kolonne zwei Kolonnen machen\n",
    "# von https://stackoverflow.com/questions/14745022/how-to-split-a-column-into-two-columns\n",
    "getrennte_kolonnen15 = firmen_2015['etwas seltsames'].str.split(' ', 1, expand=True)\n",
    "\n",
    "# überflüssige kolonnen löschen\n",
    "del firmen_2015['Weglassen']\n",
    "del firmen_2015['weglassen']\n",
    "del firmen_2015['lassweg']\n",
    "del firmen_2015['etwas seltsames']\n",
    "del firmen_2015['überflüssig']\n",
    "\n",
    "#die beiden df firmen_2015 und getrennte_kolonnen zusammenfügen\n",
    "Firmen_2015_neu = pd.concat([firmen_2015, getrennte_kolonnen15], axis=1)\n",
    "\n",
    "#headers setzen\n",
    "headers = ['Steuerbarer Gewinn ab CHF', 'Anzahl Steuerpflichtige 2015', 'Betrag Kantonssteuer 2015 in CHF']\n",
    "Firmen_2015_neu.columns = headers\n",
    "\n",
    "#putzen\n",
    "def geputzt(zeile):\n",
    "    zeile = zeile.replace('(', '')\n",
    "    zeile = zeile.replace(')', '')\n",
    "    zeile = zeile.replace('\\n', '') #das neu rein\n",
    "    zeile = zeile.replace(\"'\", \"\").strip()\n",
    "    return zeile\n",
    "Firmen_2015_neu['Steuerbarer Gewinn ab CHF'] = Firmen_2015_neu['Steuerbarer Gewinn ab CHF'].apply(geputzt)\n",
    "Firmen_2015_neu['Anzahl Steuerpflichtige 2015'] = Firmen_2015_neu['Anzahl Steuerpflichtige 2015'].apply(geputzt)\n",
    "Firmen_2015_neu['Betrag Kantonssteuer 2015 in CHF'] = Firmen_2015_neu['Betrag Kantonssteuer 2015 in CHF'].apply(geputzt)\n",
    "\n",
    "#um 90 Grad drehen\n",
    "firmen_15_neu = Firmen_2015_neu.T\n",
    "\n",
    "# erste Zeile weg\n",
    "Firmen15 = firmen_15_neu[1:]\n",
    "\n",
    "# headers neu\n",
    "headers = ['Steuerbarer Gewinn 0-10000 CHF', 'Steuerbarer Gewinn 10100-50000 CHF', 'Steuerbarer Gewinn 50100-250000 CHF', \n",
    "           'Steuerbarer Gewinn 250100 bis 1000000 CHF', 'Steuerbarer Gewinn ab 1000100 CHF', 'Total Steuerbarer Gewinn']\n",
    "Firmen15.columns = headers\n",
    "\n",
    "# Objekte in Integers verwandeln, damit ich die Zahlen addieren kann\n",
    "Firmen15 = Firmen15.astype(int)\n",
    "\n",
    "Firmen15.dtypes\n"
   ]
  },
  {
   "cell_type": "code",
   "execution_count": null,
   "metadata": {},
   "outputs": [],
   "source": [
    "\n",
    "for cols in Firmen15:\n",
    "    cols = Firmen15.filter(like = 'Steuerbarer Gewinn 0-10000 CHF')columns.tolist()\n",
    "    Firmen15[cols] = Firmen15[cols].astype(int)\n",
    "\n",
    "Firmen15.dtypes\n",
    "\n",
    "\n",
    "\n",
    "cols = df.filter(like='AnalyzeParameters').columns.tolist()\n",
    "df[cols] = df[cols].astype(np.int64)"
   ]
  },
  {
   "cell_type": "code",
   "execution_count": null,
   "metadata": {},
   "outputs": [],
   "source": [
    "# Objekte in Integers verwandeln, damit ich die Zahlen addieren kann\n",
    "Firmen15['Steuerbarer Gewinn 0-10000 CHF'] = Firmen15['Steuerbarer Gewinn 0-10000 CHF'].astype(str).astype(int)\n",
    "Firmen15['Steuerbarer Gewinn 10100-50000 CHF'] = Firmen15['Steuerbarer Gewinn 10100-50000 CHF'].astype(str).astype(int)\n",
    "Firmen15['Steuerbarer Gewinn 50100-250000 CHF'] = Firmen15['Steuerbarer Gewinn 50100-250000 CHF'].astype(str).astype(int)\n",
    "Firmen15['Steuerbarer Gewinn 250100 bis 1000000 CHF'] = Firmen15['Steuerbarer Gewinn 250100 bis 1000000 CHF'].astype(str).astype(int)\n",
    "Firmen15['Steuerbarer Gewinn ab 1000100 CHF'] = Firmen15['Steuerbarer Gewinn ab 1000100 CHF'].astype(str).astype(int)\n",
    "Firmen15['Total Steuerbarer Gewinn'] = Firmen15['Total Steuerbarer Gewinn'].astype(str).astype(int)\n",
    "\n",
    "# die Spalten addieren\n",
    "Firmen15['Steuerbarer Gewinn ab 250100 CHF'] = Firmen15['Steuerbarer Gewinn 250100 bis 1000000 CHF'] + Firmen15['Steuerbarer Gewinn ab 1000100 CHF']\n",
    "\n",
    "# die überflüssigen addierten Spalten raus\n",
    "del Firmen15['Steuerbarer Gewinn 250100 bis 1000000 CHF']\n",
    "del Firmen15['Steuerbarer Gewinn ab 1000100 CHF']\n",
    "\n",
    "# die Reihenfolge der Kolonnen anpassen\n",
    "Firmen15 = Firmen15[['Steuerbarer Gewinn 0-10000 CHF', 'Steuerbarer Gewinn 10100-50000 CHF', \n",
    "                     'Steuerbarer Gewinn 50100-250000 CHF', 'Steuerbarer Gewinn ab 250100 CHF', \n",
    "                     'Total Steuerbarer Gewinn']]\n",
    "\n",
    "# den Betrag Kantonssteuer raus ziehen\n",
    "Betrag_Kantonssteuer_2015 = Firmen15.drop(['Anzahl Steuerpflichtige 2015'])\n",
    "Betrag_Kantonssteuer_2015"
   ]
  }
 ],
 "metadata": {
  "kernelspec": {
   "display_name": "Python 3",
   "language": "python",
   "name": "python3"
  },
  "language_info": {
   "codemirror_mode": {
    "name": "ipython",
    "version": 3
   },
   "file_extension": ".py",
   "mimetype": "text/x-python",
   "name": "python",
   "nbconvert_exporter": "python",
   "pygments_lexer": "ipython3",
   "version": "3.7.3"
  }
 },
 "nbformat": 4,
 "nbformat_minor": 2
}
