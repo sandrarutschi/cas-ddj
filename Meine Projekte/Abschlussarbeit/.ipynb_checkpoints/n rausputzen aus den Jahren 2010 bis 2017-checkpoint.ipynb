{
 "cells": [
  {
   "cell_type": "markdown",
   "metadata": {},
   "source": [
    "Ich habe im Notebook \"Gewinnsteuer zusammenfügen\" das Problem gehabt, dass ab 2010 mein vorheriger Code nicht mehr funktioniert, weil die Kolonne drei zwei Zahlen beinhaltet und durch /n getrennt ist. Dieses Problem versuche ich hier zu lösen."
   ]
  },
  {
   "cell_type": "code",
   "execution_count": 1,
   "metadata": {},
   "outputs": [],
   "source": [
    "import camelot\n",
    "import tabula\n",
    "import pandas as pd"
   ]
  },
  {
   "cell_type": "code",
   "execution_count": 2,
   "metadata": {},
   "outputs": [],
   "source": [
    "Firmen_2010 = camelot.read_pdf(\"Firmen_2010.pdf\", flavor='stream', pages='all', table_areas=['0,842,595,0'])"
   ]
  },
  {
   "cell_type": "code",
   "execution_count": 3,
   "metadata": {
    "scrolled": false
   },
   "outputs": [
    {
     "data": {
      "text/html": [
       "<div>\n",
       "<style scoped>\n",
       "    .dataframe tbody tr th:only-of-type {\n",
       "        vertical-align: middle;\n",
       "    }\n",
       "\n",
       "    .dataframe tbody tr th {\n",
       "        vertical-align: top;\n",
       "    }\n",
       "\n",
       "    .dataframe thead th {\n",
       "        text-align: right;\n",
       "    }\n",
       "</style>\n",
       "<table border=\"1\" class=\"dataframe\">\n",
       "  <thead>\n",
       "    <tr style=\"text-align: right;\">\n",
       "      <th></th>\n",
       "      <th>0</th>\n",
       "      <th>1</th>\n",
       "      <th>2</th>\n",
       "      <th>3</th>\n",
       "      <th>4</th>\n",
       "      <th>5</th>\n",
       "    </tr>\n",
       "  </thead>\n",
       "  <tbody>\n",
       "    <tr>\n",
       "      <th>12</th>\n",
       "      <td></td>\n",
       "      <td>0</td>\n",
       "      <td>10'000</td>\n",
       "      <td>21'101\\n           \\n1'051'519</td>\n",
       "      <td>6'782</td>\n",
       "      <td>116'360</td>\n",
       "    </tr>\n",
       "    <tr>\n",
       "      <th>13</th>\n",
       "      <td></td>\n",
       "      <td>10'100</td>\n",
       "      <td>50'000</td>\n",
       "      <td>4'270\\n           \\n8'379'718</td>\n",
       "      <td>279</td>\n",
       "      <td>427'696</td>\n",
       "    </tr>\n",
       "    <tr>\n",
       "      <th>14</th>\n",
       "      <td></td>\n",
       "      <td>50'100</td>\n",
       "      <td>250'000</td>\n",
       "      <td>3'302\\n         \\n35'558'173</td>\n",
       "      <td>77</td>\n",
       "      <td>448'731</td>\n",
       "    </tr>\n",
       "    <tr>\n",
       "      <th>15</th>\n",
       "      <td></td>\n",
       "      <td>250'100</td>\n",
       "      <td>+</td>\n",
       "      <td>2'028\\n       \\n388'354'588</td>\n",
       "      <td>34</td>\n",
       "      <td>1'503'531</td>\n",
       "    </tr>\n",
       "    <tr>\n",
       "      <th>16</th>\n",
       "      <td></td>\n",
       "      <td>Total</td>\n",
       "      <td></td>\n",
       "      <td>30'701\\n      \\n433'343'998</td>\n",
       "      <td>7'172</td>\n",
       "      <td>2'496'318</td>\n",
       "    </tr>\n",
       "  </tbody>\n",
       "</table>\n",
       "</div>"
      ],
      "text/plain": [
       "   0        1        2                               3      4          5\n",
       "12          0   10'000  21'101\\n           \\n1'051'519  6'782    116'360\n",
       "13     10'100   50'000   4'270\\n           \\n8'379'718    279    427'696\n",
       "14     50'100  250'000    3'302\\n         \\n35'558'173     77    448'731\n",
       "15    250'100        +     2'028\\n       \\n388'354'588     34  1'503'531\n",
       "16      Total              30'701\\n      \\n433'343'998  7'172  2'496'318"
      ]
     },
     "execution_count": 3,
     "metadata": {},
     "output_type": "execute_result"
    }
   ],
   "source": [
    "#zurechtschneiden\n",
    "test_df = Firmen_2010[0].df\n",
    "Firmen_10 = test_df[12:]\n",
    "firmen_2010 = Firmen_10.head(5)\n",
    "firmen_2010"
   ]
  },
  {
   "cell_type": "code",
   "execution_count": 23,
   "metadata": {},
   "outputs": [
    {
     "data": {
      "text/html": [
       "<div>\n",
       "<style scoped>\n",
       "    .dataframe tbody tr th:only-of-type {\n",
       "        vertical-align: middle;\n",
       "    }\n",
       "\n",
       "    .dataframe tbody tr th {\n",
       "        vertical-align: top;\n",
       "    }\n",
       "\n",
       "    .dataframe thead th {\n",
       "        text-align: right;\n",
       "    }\n",
       "</style>\n",
       "<table border=\"1\" class=\"dataframe\">\n",
       "  <thead>\n",
       "    <tr style=\"text-align: right;\">\n",
       "      <th></th>\n",
       "      <th>Weglassen</th>\n",
       "      <th>Steuerbarer Gewinn ab CHF</th>\n",
       "      <th>weglassen</th>\n",
       "      <th>etwas seltsames</th>\n",
       "      <th>lassweg</th>\n",
       "      <th>überflüssig</th>\n",
       "    </tr>\n",
       "  </thead>\n",
       "  <tbody>\n",
       "    <tr>\n",
       "      <th>12</th>\n",
       "      <td></td>\n",
       "      <td>0</td>\n",
       "      <td>10'000</td>\n",
       "      <td>21'101\\n           \\n1'051'519</td>\n",
       "      <td>6'782</td>\n",
       "      <td>116'360</td>\n",
       "    </tr>\n",
       "    <tr>\n",
       "      <th>13</th>\n",
       "      <td></td>\n",
       "      <td>10'100</td>\n",
       "      <td>50'000</td>\n",
       "      <td>4'270\\n           \\n8'379'718</td>\n",
       "      <td>279</td>\n",
       "      <td>427'696</td>\n",
       "    </tr>\n",
       "    <tr>\n",
       "      <th>14</th>\n",
       "      <td></td>\n",
       "      <td>50'100</td>\n",
       "      <td>250'000</td>\n",
       "      <td>3'302\\n         \\n35'558'173</td>\n",
       "      <td>77</td>\n",
       "      <td>448'731</td>\n",
       "    </tr>\n",
       "    <tr>\n",
       "      <th>15</th>\n",
       "      <td></td>\n",
       "      <td>250'100</td>\n",
       "      <td>+</td>\n",
       "      <td>2'028\\n       \\n388'354'588</td>\n",
       "      <td>34</td>\n",
       "      <td>1'503'531</td>\n",
       "    </tr>\n",
       "    <tr>\n",
       "      <th>16</th>\n",
       "      <td></td>\n",
       "      <td>Total</td>\n",
       "      <td></td>\n",
       "      <td>30'701\\n      \\n433'343'998</td>\n",
       "      <td>7'172</td>\n",
       "      <td>2'496'318</td>\n",
       "    </tr>\n",
       "  </tbody>\n",
       "</table>\n",
       "</div>"
      ],
      "text/plain": [
       "   Weglassen Steuerbarer Gewinn ab CHF weglassen  \\\n",
       "12                                   0    10'000   \n",
       "13                              10'100    50'000   \n",
       "14                              50'100   250'000   \n",
       "15                             250'100         +   \n",
       "16                               Total             \n",
       "\n",
       "                   etwas seltsames lassweg überflüssig  \n",
       "12  21'101\\n           \\n1'051'519   6'782     116'360  \n",
       "13   4'270\\n           \\n8'379'718     279     427'696  \n",
       "14    3'302\\n         \\n35'558'173      77     448'731  \n",
       "15     2'028\\n       \\n388'354'588      34   1'503'531  \n",
       "16     30'701\\n      \\n433'343'998   7'172   2'496'318  "
      ]
     },
     "execution_count": 23,
     "metadata": {},
     "output_type": "execute_result"
    }
   ],
   "source": [
    "\n",
    "#headers setzen\n",
    "headers = ['Weglassen', 'Steuerbarer Gewinn ab CHF', 'weglassen', 'etwas seltsames',\n",
    "           'lassweg', 'überflüssig']\n",
    "firmen_2010.columns = headers\n",
    "firmen_2010"
   ]
  },
  {
   "cell_type": "code",
   "execution_count": 33,
   "metadata": {
    "scrolled": true
   },
   "outputs": [],
   "source": [
    "# firmen_2010['A'], firmen_2010['B'] = firmen_2010['etwas seltsames'].str.split('\\').str\n",
    "#gibt errormeldung"
   ]
  },
  {
   "cell_type": "code",
   "execution_count": 34,
   "metadata": {},
   "outputs": [
    {
     "data": {
      "text/plain": [
       "<bound method DataFrame.info of    Weglassen Steuerbarer Gewinn ab CHF weglassen  \\\n",
       "12                                   0    10'000   \n",
       "13                              10'100    50'000   \n",
       "14                              50'100   250'000   \n",
       "15                             250'100         +   \n",
       "16                               Total             \n",
       "\n",
       "                   etwas seltsames lassweg überflüssig  \n",
       "12  21'101\\n           \\n1'051'519   6'782     116'360  \n",
       "13   4'270\\n           \\n8'379'718     279     427'696  \n",
       "14    3'302\\n         \\n35'558'173      77     448'731  \n",
       "15     2'028\\n       \\n388'354'588      34   1'503'531  \n",
       "16     30'701\\n      \\n433'343'998   7'172   2'496'318  >"
      ]
     },
     "execution_count": 34,
     "metadata": {},
     "output_type": "execute_result"
    }
   ],
   "source": [
    "firmen_2010.info"
   ]
  },
  {
   "cell_type": "code",
   "execution_count": null,
   "metadata": {},
   "outputs": [],
   "source": []
  },
  {
   "cell_type": "markdown",
   "metadata": {},
   "source": [
    "## Versuch mit Cutstring"
   ]
  },
  {
   "cell_type": "code",
   "execution_count": 31,
   "metadata": {},
   "outputs": [
    {
     "ename": "TypeError",
     "evalue": "string indices must be integers",
     "output_type": "error",
     "traceback": [
      "\u001b[1;31m---------------------------------------------------------------------------\u001b[0m",
      "\u001b[1;31mTypeError\u001b[0m                                 Traceback (most recent call last)",
      "\u001b[1;32m<ipython-input-31-f4eb4f12249e>\u001b[0m in \u001b[0;36m<module>\u001b[1;34m\u001b[0m\n\u001b[0;32m      3\u001b[0m     \u001b[1;32mreturn\u001b[0m \u001b[0mstring\u001b[0m\u001b[1;33m\u001b[0m\u001b[1;33m\u001b[0m\u001b[0m\n\u001b[0;32m      4\u001b[0m \u001b[0mvar\u001b[0m \u001b[1;33m=\u001b[0m \u001b[1;34m\"21'101\\n \\n1'051'519\"\u001b[0m\u001b[1;33m\u001b[0m\u001b[1;33m\u001b[0m\u001b[0m\n\u001b[1;32m----> 5\u001b[1;33m \u001b[0mcutstring\u001b[0m\u001b[1;33m(\u001b[0m\u001b[0mvar\u001b[0m\u001b[1;33m)\u001b[0m\u001b[1;33m\u001b[0m\u001b[1;33m\u001b[0m\u001b[0m\n\u001b[0m",
      "\u001b[1;32m<ipython-input-31-f4eb4f12249e>\u001b[0m in \u001b[0;36mcutstring\u001b[1;34m(string)\u001b[0m\n\u001b[0;32m      1\u001b[0m \u001b[1;32mdef\u001b[0m \u001b[0mcutstring\u001b[0m\u001b[1;33m(\u001b[0m\u001b[0mstring\u001b[0m\u001b[1;33m)\u001b[0m\u001b[1;33m:\u001b[0m\u001b[1;33m\u001b[0m\u001b[1;33m\u001b[0m\u001b[0m\n\u001b[1;32m----> 2\u001b[1;33m     \u001b[0mstring\u001b[0m \u001b[1;33m=\u001b[0m \u001b[0mstring\u001b[0m\u001b[1;33m[\u001b[0m\u001b[1;34m' '\u001b[0m\u001b[1;33m]\u001b[0m\u001b[1;33m\u001b[0m\u001b[1;33m\u001b[0m\u001b[0m\n\u001b[0m\u001b[0;32m      3\u001b[0m     \u001b[1;32mreturn\u001b[0m \u001b[0mstring\u001b[0m\u001b[1;33m\u001b[0m\u001b[1;33m\u001b[0m\u001b[0m\n\u001b[0;32m      4\u001b[0m \u001b[0mvar\u001b[0m \u001b[1;33m=\u001b[0m \u001b[1;34m\"21'101\\n \\n1'051'519\"\u001b[0m\u001b[1;33m\u001b[0m\u001b[1;33m\u001b[0m\u001b[0m\n\u001b[0;32m      5\u001b[0m \u001b[0mcutstring\u001b[0m\u001b[1;33m(\u001b[0m\u001b[0mvar\u001b[0m\u001b[1;33m)\u001b[0m\u001b[1;33m\u001b[0m\u001b[1;33m\u001b[0m\u001b[0m\n",
      "\u001b[1;31mTypeError\u001b[0m: string indices must be integers"
     ]
    }
   ],
   "source": [
    "def cutstring(string):\n",
    "    string = string[' ']\n",
    "    return string\n",
    "var = \"21'101\\n \\n1'051'519\"\n",
    "cutstring(var)"
   ]
  },
  {
   "cell_type": "markdown",
   "metadata": {},
   "source": [
    "funktioniert nicht, weil ich nicht bei einer integer trennen kann, es ist immer an einer anderen stelle. "
   ]
  },
  {
   "cell_type": "code",
   "execution_count": null,
   "metadata": {},
   "outputs": [],
   "source": []
  },
  {
   "cell_type": "code",
   "execution_count": 18,
   "metadata": {},
   "outputs": [
    {
     "data": {
      "text/plain": [
       "12    [21'101,            , 1'051'519]\n",
       "13     [4'270,            , 8'379'718]\n",
       "14      [3'302,          , 35'558'173]\n",
       "15       [2'028,        , 388'354'588]\n",
       "16       [30'701,       , 433'343'998]\n",
       "Name: 3, dtype: object"
      ]
     },
     "execution_count": 18,
     "metadata": {},
     "output_type": "execute_result"
    }
   ],
   "source": [
    "test = firmen_2010[3].str.split('\\n')\n",
    "test"
   ]
  },
  {
   "cell_type": "code",
   "execution_count": null,
   "metadata": {},
   "outputs": [],
   "source": [
    "df['AB_split'] = df['AB'].str.split('-')\n",
    ">>> df"
   ]
  },
  {
   "cell_type": "code",
   "execution_count": null,
   "metadata": {},
   "outputs": [],
   "source": []
  },
  {
   "cell_type": "code",
   "execution_count": null,
   "metadata": {},
   "outputs": [],
   "source": []
  },
  {
   "cell_type": "code",
   "execution_count": null,
   "metadata": {},
   "outputs": [],
   "source": []
  },
  {
   "cell_type": "code",
   "execution_count": null,
   "metadata": {},
   "outputs": [],
   "source": []
  },
  {
   "cell_type": "code",
   "execution_count": null,
   "metadata": {},
   "outputs": [],
   "source": []
  },
  {
   "cell_type": "code",
   "execution_count": null,
   "metadata": {},
   "outputs": [],
   "source": []
  },
  {
   "cell_type": "markdown",
   "metadata": {},
   "source": [
    "### Zum Vergleich: so sieht das 2007 aus"
   ]
  },
  {
   "cell_type": "code",
   "execution_count": 4,
   "metadata": {},
   "outputs": [],
   "source": [
    "Firmen_2007 = camelot.read_pdf(\"Firmen_2007.pdf\", flavor='stream', pages='all', table_areas=['0,842,595,0'])"
   ]
  },
  {
   "cell_type": "code",
   "execution_count": 5,
   "metadata": {},
   "outputs": [
    {
     "data": {
      "text/html": [
       "<div>\n",
       "<style scoped>\n",
       "    .dataframe tbody tr th:only-of-type {\n",
       "        vertical-align: middle;\n",
       "    }\n",
       "\n",
       "    .dataframe tbody tr th {\n",
       "        vertical-align: top;\n",
       "    }\n",
       "\n",
       "    .dataframe thead th {\n",
       "        text-align: right;\n",
       "    }\n",
       "</style>\n",
       "<table border=\"1\" class=\"dataframe\">\n",
       "  <thead>\n",
       "    <tr style=\"text-align: right;\">\n",
       "      <th></th>\n",
       "      <th>0</th>\n",
       "      <th>1</th>\n",
       "      <th>2</th>\n",
       "      <th>3</th>\n",
       "      <th>4</th>\n",
       "      <th>5</th>\n",
       "    </tr>\n",
       "  </thead>\n",
       "  <tbody>\n",
       "    <tr>\n",
       "      <th>12</th>\n",
       "      <td></td>\n",
       "      <td>0</td>\n",
       "      <td>10'000</td>\n",
       "      <td>18'759</td>\n",
       "      <td>996'701</td>\n",
       "      <td>7'098\\n               \\n73'685</td>\n",
       "    </tr>\n",
       "    <tr>\n",
       "      <th>13</th>\n",
       "      <td></td>\n",
       "      <td>10'100</td>\n",
       "      <td>50'000</td>\n",
       "      <td>4'028</td>\n",
       "      <td>7'654'106</td>\n",
       "      <td>258\\n             \\n367'378</td>\n",
       "    </tr>\n",
       "    <tr>\n",
       "      <th>14</th>\n",
       "      <td></td>\n",
       "      <td>50'100</td>\n",
       "      <td>250'000</td>\n",
       "      <td>2'636</td>\n",
       "      <td>28'215'316</td>\n",
       "      <td>93\\n             \\n594'332</td>\n",
       "    </tr>\n",
       "    <tr>\n",
       "      <th>15</th>\n",
       "      <td></td>\n",
       "      <td>250'100</td>\n",
       "      <td>+</td>\n",
       "      <td>1'723</td>\n",
       "      <td>487'465'494</td>\n",
       "      <td>31\\n          \\n1'057'921</td>\n",
       "    </tr>\n",
       "    <tr>\n",
       "      <th>16</th>\n",
       "      <td></td>\n",
       "      <td>Total</td>\n",
       "      <td></td>\n",
       "      <td>27'146</td>\n",
       "      <td>524'331'616</td>\n",
       "      <td>7'480\\n          \\n2'093'316</td>\n",
       "    </tr>\n",
       "  </tbody>\n",
       "</table>\n",
       "</div>"
      ],
      "text/plain": [
       "   0        1        2       3            4                               5\n",
       "12          0   10'000  18'759      996'701  7'098\\n               \\n73'685\n",
       "13     10'100   50'000   4'028    7'654'106     258\\n             \\n367'378\n",
       "14     50'100  250'000   2'636   28'215'316      93\\n             \\n594'332\n",
       "15    250'100        +   1'723  487'465'494       31\\n          \\n1'057'921\n",
       "16      Total           27'146  524'331'616    7'480\\n          \\n2'093'316"
      ]
     },
     "execution_count": 5,
     "metadata": {},
     "output_type": "execute_result"
    }
   ],
   "source": [
    "#zurechtschneiden\n",
    "test_df = Firmen_2007[0].df\n",
    "Firmen_07 = test_df[12:]\n",
    "firmen_2007 = Firmen_07.head(5)\n",
    "firmen_2007"
   ]
  },
  {
   "cell_type": "code",
   "execution_count": null,
   "metadata": {},
   "outputs": [],
   "source": []
  },
  {
   "cell_type": "code",
   "execution_count": null,
   "metadata": {},
   "outputs": [],
   "source": []
  },
  {
   "cell_type": "code",
   "execution_count": null,
   "metadata": {},
   "outputs": [],
   "source": []
  },
  {
   "cell_type": "code",
   "execution_count": null,
   "metadata": {},
   "outputs": [],
   "source": []
  },
  {
   "cell_type": "code",
   "execution_count": null,
   "metadata": {},
   "outputs": [],
   "source": []
  },
  {
   "cell_type": "code",
   "execution_count": null,
   "metadata": {},
   "outputs": [],
   "source": []
  },
  {
   "cell_type": "markdown",
   "metadata": {},
   "source": [
    "Hier der ganze bisherige Code, der aber noch ergänzt werden muss:"
   ]
  },
  {
   "cell_type": "code",
   "execution_count": null,
   "metadata": {},
   "outputs": [],
   "source": [
    "#zurechtschneiden\n",
    "test_df = Firmen_2010[0].df\n",
    "Firmen_10 = test_df[12:]\n",
    "firmen_2010 = Firmen_10.head(5)\n",
    "\n",
    "#headers setzen\n",
    "headers = ['Weglassen', 'Steuerbarer Gewinn ab CHF', 'weglassen', 'Anzahl Steuerpflichtige 2010', 'Betrag Kantonssteuer 2010 in CHF', \n",
    "           'lassweg']\n",
    "firmen_2010.columns = headers\n",
    "\n",
    "#überflüssige kolonnen weg\n",
    "del firmen_2010['Weglassen']\n",
    "del firmen_2010['weglassen']\n",
    "del firmen_2010['lassweg']\n",
    "\n",
    "#putzen\n",
    "def geputzt(zeile):\n",
    "    zeile = zeile.replace('(', '')\n",
    "    zeile = zeile.replace(')', '')\n",
    "    zeile = zeile.replace(\"'\", \"\").strip()\n",
    "    return zeile\n",
    "firmen_2010['Steuerbarer Gewinn ab CHF'] = firmen_2010['Steuerbarer Gewinn ab CHF'].apply(geputzt)\n",
    "firmen_2010['Anzahl Steuerpflichtige 2010'] = firmen_2010['Anzahl Steuerpflichtige 2010'].apply(geputzt)\n",
    "firmen_2010['Betrag Kantonssteuer 2010 in CHF'] = firmen_2010['Betrag Kantonssteuer 2010 in CHF'].apply(geputzt)\n",
    "\n",
    "#um 90 Grad drehen\n",
    "firmen_10 = firmen_2010.T\n",
    "\n",
    "#headers weg\n",
    "Firmen10 = firmen_10[1:]\n",
    "\n",
    "#headers neu setzen\n",
    "headers = ['Steuerbarer Gewinn 0-10000 CHF', 'Steuerbarer Gewinn 10100-50000 CHF', 'Steuerbarer Gewinn 50100-250000 CHF', \n",
    "           'Steuerbarer Gewinn ab 250100 CHF', 'Total Steuerbarer Gewinn']\n",
    "Firmen10.columns = headers\n",
    "\n",
    "#nur den Betrag Kantonssteuer rausziehen\n",
    "Betrag_Kantonssteuer_2010 = Firmen10.drop(['Anzahl Steuerpflichtige 2010'])\n",
    "Betrag_Kantonssteuer_2010"
   ]
  }
 ],
 "metadata": {
  "kernelspec": {
   "display_name": "Python 3",
   "language": "python",
   "name": "python3"
  },
  "language_info": {
   "codemirror_mode": {
    "name": "ipython",
    "version": 3
   },
   "file_extension": ".py",
   "mimetype": "text/x-python",
   "name": "python",
   "nbconvert_exporter": "python",
   "pygments_lexer": "ipython3",
   "version": "3.7.3"
  }
 },
 "nbformat": 4,
 "nbformat_minor": 2
}
