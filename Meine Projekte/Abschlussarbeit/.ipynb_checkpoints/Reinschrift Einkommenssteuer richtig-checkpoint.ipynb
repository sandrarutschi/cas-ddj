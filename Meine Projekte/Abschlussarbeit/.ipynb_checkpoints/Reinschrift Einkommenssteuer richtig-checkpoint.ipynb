{
 "cells": [
  {
   "cell_type": "markdown",
   "metadata": {},
   "source": [
    "# Natürliche Personen mit Alleinstehendenabzug separiert\n",
    "Hans Frauchiger von der Steuerverwaltung hat mir in einem Sheets auch noch den Alleinstehendenabzug mit eingerechnet, den Personen machen dürfen, die in einzelnen Haushalten leben. So kann ich also z.B. Singles von Konkubinatspaaren unterscheiden. Berücksichtigen: Altersheimbewohner und WGs können den Abzug auch  nicht machen. Es hat zudem einen aktuelleren Veranlagungsstand als die Zahlen im Netz. Ich nehme deshalb diese Tabelle."
   ]
  },
  {
   "cell_type": "code",
   "execution_count": 1,
   "metadata": {},
   "outputs": [],
   "source": [
    "import pandas as pd\n",
    "%matplotlib inline"
   ]
  },
  {
   "cell_type": "code",
   "execution_count": 2,
   "metadata": {},
   "outputs": [],
   "source": [
    "Alleinstehendenabzug = pd.read_csv('2020 Rutschi BZ CAS - Pivot.csv')"
   ]
  },
  {
   "cell_type": "markdown",
   "metadata": {},
   "source": [
    "### Grund-Dataframe"
   ]
  },
  {
   "cell_type": "code",
   "execution_count": 3,
   "metadata": {},
   "outputs": [
    {
     "name": "stderr",
     "output_type": "stream",
     "text": [
      "C:\\Users\\Admin\\Anaconda3\\lib\\site-packages\\pandas\\core\\frame.py:3391: SettingWithCopyWarning: \n",
      "A value is trying to be set on a copy of a slice from a DataFrame.\n",
      "Try using .loc[row_indexer,col_indexer] = value instead\n",
      "\n",
      "See the caveats in the documentation: http://pandas.pydata.org/pandas-docs/stable/indexing.html#indexing-view-versus-copy\n",
      "  self[k1] = value[k2]\n"
     ]
    },
    {
     "data": {
      "text/html": [
       "<div>\n",
       "<style scoped>\n",
       "    .dataframe tbody tr th:only-of-type {\n",
       "        vertical-align: middle;\n",
       "    }\n",
       "\n",
       "    .dataframe tbody tr th {\n",
       "        vertical-align: top;\n",
       "    }\n",
       "\n",
       "    .dataframe thead th {\n",
       "        text-align: right;\n",
       "    }\n",
       "</style>\n",
       "<table border=\"1\" class=\"dataframe\">\n",
       "  <thead>\n",
       "    <tr style=\"text-align: right;\">\n",
       "      <th></th>\n",
       "      <th>AS mit Abzug 2007</th>\n",
       "      <th>AS ohne Abzug 2007</th>\n",
       "      <th>Ehepaare 2007</th>\n",
       "      <th>AS mit Abzug 2008</th>\n",
       "      <th>AS ohne Abzug 2008</th>\n",
       "      <th>Ehepaare 2008</th>\n",
       "      <th>AS mit Abzug 2009</th>\n",
       "      <th>AS ohne Abzug 2009</th>\n",
       "      <th>Ehepaare 2009</th>\n",
       "      <th>AS mit Abzug 2010</th>\n",
       "      <th>...</th>\n",
       "      <th>Ehepaare 2014</th>\n",
       "      <th>AS mit Abzug 2015</th>\n",
       "      <th>AS ohne Abzug 2015</th>\n",
       "      <th>Ehepaare 2015</th>\n",
       "      <th>AS mit Abzug 2016</th>\n",
       "      <th>AS ohne Abzug 2016</th>\n",
       "      <th>Ehepaare 2016</th>\n",
       "      <th>AS mit Abzug 2017</th>\n",
       "      <th>AS ohne Abzug 2017</th>\n",
       "      <th>Ehepaare 2017</th>\n",
       "    </tr>\n",
       "  </thead>\n",
       "  <tbody>\n",
       "    <tr>\n",
       "      <th>Anzahl EK 0</th>\n",
       "      <td>16884</td>\n",
       "      <td>79618</td>\n",
       "      <td>16085</td>\n",
       "      <td>15880</td>\n",
       "      <td>79516</td>\n",
       "      <td>16070</td>\n",
       "      <td>16153</td>\n",
       "      <td>81956</td>\n",
       "      <td>16596</td>\n",
       "      <td>16430</td>\n",
       "      <td>...</td>\n",
       "      <td>16450</td>\n",
       "      <td>18726</td>\n",
       "      <td>80165</td>\n",
       "      <td>16087</td>\n",
       "      <td>18770</td>\n",
       "      <td>80030</td>\n",
       "      <td>15789</td>\n",
       "      <td>18783</td>\n",
       "      <td>79472</td>\n",
       "      <td>15225</td>\n",
       "    </tr>\n",
       "    <tr>\n",
       "      <th>Steuerertrag EK 0</th>\n",
       "      <td>0</td>\n",
       "      <td>0</td>\n",
       "      <td>0</td>\n",
       "      <td>0</td>\n",
       "      <td>0</td>\n",
       "      <td>0</td>\n",
       "      <td>0</td>\n",
       "      <td>0</td>\n",
       "      <td>0</td>\n",
       "      <td>0</td>\n",
       "      <td>...</td>\n",
       "      <td>0</td>\n",
       "      <td>0</td>\n",
       "      <td>0</td>\n",
       "      <td>0</td>\n",
       "      <td>0</td>\n",
       "      <td>0</td>\n",
       "      <td>0</td>\n",
       "      <td>0</td>\n",
       "      <td>0</td>\n",
       "      <td>0</td>\n",
       "    </tr>\n",
       "    <tr>\n",
       "      <th>Anzahl EK 20000</th>\n",
       "      <td>37048</td>\n",
       "      <td>54429</td>\n",
       "      <td>26478</td>\n",
       "      <td>35034</td>\n",
       "      <td>55384</td>\n",
       "      <td>25360</td>\n",
       "      <td>34401</td>\n",
       "      <td>55638</td>\n",
       "      <td>27022</td>\n",
       "      <td>34348</td>\n",
       "      <td>...</td>\n",
       "      <td>26621</td>\n",
       "      <td>35320</td>\n",
       "      <td>58557</td>\n",
       "      <td>27170</td>\n",
       "      <td>35406</td>\n",
       "      <td>58936</td>\n",
       "      <td>26314</td>\n",
       "      <td>35486</td>\n",
       "      <td>59413</td>\n",
       "      <td>26268</td>\n",
       "    </tr>\n",
       "  </tbody>\n",
       "</table>\n",
       "<p>3 rows × 33 columns</p>\n",
       "</div>"
      ],
      "text/plain": [
       "                   AS mit Abzug 2007  AS ohne Abzug 2007  Ehepaare 2007  \\\n",
       "Anzahl EK 0                    16884               79618          16085   \n",
       "Steuerertrag EK 0                  0                   0              0   \n",
       "Anzahl EK 20000                37048               54429          26478   \n",
       "\n",
       "                   AS mit Abzug 2008  AS ohne Abzug 2008  Ehepaare 2008  \\\n",
       "Anzahl EK 0                    15880               79516          16070   \n",
       "Steuerertrag EK 0                  0                   0              0   \n",
       "Anzahl EK 20000                35034               55384          25360   \n",
       "\n",
       "                   AS mit Abzug 2009  AS ohne Abzug 2009  Ehepaare 2009  \\\n",
       "Anzahl EK 0                    16153               81956          16596   \n",
       "Steuerertrag EK 0                  0                   0              0   \n",
       "Anzahl EK 20000                34401               55638          27022   \n",
       "\n",
       "                   AS mit Abzug 2010  ...  Ehepaare 2014  AS mit Abzug 2015  \\\n",
       "Anzahl EK 0                    16430  ...          16450              18726   \n",
       "Steuerertrag EK 0                  0  ...              0                  0   \n",
       "Anzahl EK 20000                34348  ...          26621              35320   \n",
       "\n",
       "                   AS ohne Abzug 2015  Ehepaare 2015  AS mit Abzug 2016  \\\n",
       "Anzahl EK 0                     80165          16087              18770   \n",
       "Steuerertrag EK 0                   0              0                  0   \n",
       "Anzahl EK 20000                 58557          27170              35406   \n",
       "\n",
       "                   AS ohne Abzug 2016  Ehepaare 2016  AS mit Abzug 2017  \\\n",
       "Anzahl EK 0                     80030          15789              18783   \n",
       "Steuerertrag EK 0                   0              0                  0   \n",
       "Anzahl EK 20000                 58936          26314              35486   \n",
       "\n",
       "                   AS ohne Abzug 2017  Ehepaare 2017  \n",
       "Anzahl EK 0                     79472          15225  \n",
       "Steuerertrag EK 0                   0              0  \n",
       "Anzahl EK 20000                 59413          26268  \n",
       "\n",
       "[3 rows x 33 columns]"
      ]
     },
     "execution_count": 3,
     "metadata": {},
     "output_type": "execute_result"
    }
   ],
   "source": [
    "#zurechtschneiden\n",
    "Tabelle = Alleinstehendenabzug[7:]\n",
    "Tabelle_neu = Tabelle.head(36)\n",
    "\n",
    "headers = ['Einkommensklasse', 'Werte', 'AS mit Abzug 2005', \n",
    "           'AS ohne Abzug 2005', 'Ehepaare 2005', 'AS mit Abzug 2006', \n",
    "           'AS ohne Abzug 2006', 'Ehepaare 2006', 'AS mit Abzug 2007', \n",
    "           'AS ohne Abzug 2007', 'Ehepaare 2007', 'AS mit Abzug 2008', \n",
    "           'AS ohne Abzug 2008', 'Ehepaare 2008', 'AS mit Abzug 2009', \n",
    "           'AS ohne Abzug 2009', 'Ehepaare 2009', 'AS mit Abzug 2010', \n",
    "           'AS ohne Abzug 2010', 'Ehepaare 2010', 'AS mit Abzug 2011', \n",
    "           'AS ohne Abzug 2011', 'Ehepaare 2011', 'AS mit Abzug 2012', \n",
    "           'AS ohne Abzug 2012', 'Ehepaare 2012', 'AS mit Abzug 2013', \n",
    "           'AS ohne Abzug 2013', 'Ehepaare 2013', 'AS mit Abzug 2014', \n",
    "           'AS ohne Abzug 2014', 'Ehepaare 2014', 'AS mit Abzug 2015', \n",
    "           'AS ohne Abzug 2015', 'Ehepaare 2015', 'AS mit Abzug 2016', \n",
    "           'AS ohne Abzug 2016', 'Ehepaare 2016', 'AS mit Abzug 2017', \n",
    "           'AS ohne Abzug 2017', 'Ehepaare 2017', ]\n",
    "Tabelle_neu.columns = headers\n",
    "\n",
    "#überflüssiges raus, erst ab 2007\n",
    "del Tabelle_neu['AS mit Abzug 2005']\n",
    "del Tabelle_neu['AS ohne Abzug 2005']\n",
    "del Tabelle_neu['Ehepaare 2005']\n",
    "del Tabelle_neu['AS mit Abzug 2006']\n",
    "del Tabelle_neu['AS ohne Abzug 2006']\n",
    "del Tabelle_neu['Ehepaare 2006']\n",
    "\n",
    "# kippen, um die Chose nach Einkommensklasse zu definieren\n",
    "# Tabelle kippen, um die Einkommensklasse gut anzugeben\n",
    "Tabelle_gekippt = Tabelle_neu.T\n",
    "\n",
    "# Headers setzen. EK=Einkommensklasse. Anzahl=Anzahl Steuerzahler dieser Art. Steuerertrag=Summe des Steuerertrags dieser Leute\n",
    "headers = ['Anzahl EK 0', 'Steuerertrag EK 0', 'Anzahl EK 20000', 'Steuerertrag EK 20000', \n",
    "           'Anzahl EK 40000', 'Steuerertrag EK 40000', 'Anzahl EK 60000', 'Steuerertrag EK 60000',\n",
    "          'Anzahl EK 80000', 'Steuerertrag EK 80000', 'Anzahl EK 100000', 'Steuerertrag EK 100000',\n",
    "          'Anzahl EK 125000', 'Steuerertrag EK 125000', 'Anzahl EK 150000', 'Steuerertrag EK 150000',\n",
    "          'Anzahl EK 175000', 'Steuerertrag EK 175000', 'Anzahl EK 200000', 'Steuerertrag EK 200000',\n",
    "          'Anzahl EK 250000', 'Steuerertrag EK 250000', 'Anzahl EK 300000', 'Steuerertrag EK 300000',\n",
    "          'Anzahl EK 400000', 'Steuerertrag EK 400000', 'Anzahl EK 500000', 'Steuerertrag EK 500000',\n",
    "          'Anzahl EK 750000', 'Steuerertrag EK 750000', 'Anzahl EK 1000000', 'Steuerertrag EK 1000000',\n",
    "          'Anzahl EK 1000001', 'Steuerertrag EK 1000001', 'Total Anzahl', 'Total Steuerertrag']\n",
    "Tabelle_gekippt.columns = headers\n",
    "\n",
    "Tabelle_gekippt_fertig = Tabelle_gekippt[2:]\n",
    "\n",
    "# putzen\n",
    "# https://stackoverflow.com/questions/38516481/trying-to-remove-commas-and-dollars-signs-with-pandas-in-python \n",
    "\n",
    "cols = ['Anzahl EK 0', 'Steuerertrag EK 0', 'Anzahl EK 20000', 'Steuerertrag EK 20000', \n",
    "           'Anzahl EK 40000', 'Steuerertrag EK 40000', 'Anzahl EK 60000', 'Steuerertrag EK 60000',\n",
    "          'Anzahl EK 80000', 'Steuerertrag EK 80000', 'Anzahl EK 100000', 'Steuerertrag EK 100000',\n",
    "          'Anzahl EK 125000', 'Steuerertrag EK 125000', 'Anzahl EK 150000', 'Steuerertrag EK 150000',\n",
    "          'Anzahl EK 175000', 'Steuerertrag EK 175000', 'Anzahl EK 200000', 'Steuerertrag EK 200000',\n",
    "          'Anzahl EK 250000', 'Steuerertrag EK 250000', 'Anzahl EK 300000', 'Steuerertrag EK 300000',\n",
    "          'Anzahl EK 400000', 'Steuerertrag EK 400000', 'Anzahl EK 500000', 'Steuerertrag EK 500000',\n",
    "          'Anzahl EK 750000', 'Steuerertrag EK 750000', 'Anzahl EK 1000000', 'Steuerertrag EK 1000000',\n",
    "          'Anzahl EK 1000001', 'Steuerertrag EK 1000001', 'Total Anzahl', 'Total Steuerertrag',]\n",
    "\n",
    "Tabelle_gekippt_fertig[cols] = Tabelle_gekippt_fertig[cols].replace({' ': '', ',':'', '\\n':''}, regex = True)\n",
    "\n",
    "# integers machen und in richtige Form bringen\n",
    "Einkommen = Tabelle_gekippt_fertig.astype(int)\n",
    "Einkommen = Einkommen.T\n",
    "Einkommen.head(3)  ### Das hier ist mein Grunddataframe, mit dem ich weiterarbeiten kann"
   ]
  },
  {
   "cell_type": "markdown",
   "metadata": {},
   "source": [
    "### Dataframe mit Total pro Jahr:"
   ]
  },
  {
   "cell_type": "code",
   "execution_count": 4,
   "metadata": {},
   "outputs": [],
   "source": [
    "Einkommen['Total 2007'] = (Einkommen['AS mit Abzug 2007'] + Einkommen['AS ohne Abzug 2007'] + Einkommen['Ehepaare 2007'])\n",
    "Einkommen['Total 2008'] = (Einkommen['AS mit Abzug 2008'] + Einkommen['AS ohne Abzug 2008'] + Einkommen['Ehepaare 2008'])\n",
    "Einkommen['Total 2009'] = (Einkommen['AS mit Abzug 2009'] + Einkommen['AS ohne Abzug 2009'] + Einkommen['Ehepaare 2009'])\n",
    "Einkommen['Total 2010'] = (Einkommen['AS mit Abzug 2010'] + Einkommen['AS ohne Abzug 2010'] + Einkommen['Ehepaare 2010'])\n",
    "Einkommen['Total 2011'] = (Einkommen['AS mit Abzug 2011'] + Einkommen['AS ohne Abzug 2011'] + Einkommen['Ehepaare 2011'])\n",
    "Einkommen['Total 2012'] = (Einkommen['AS mit Abzug 2012'] + Einkommen['AS ohne Abzug 2012'] + Einkommen['Ehepaare 2012'])\n",
    "Einkommen['Total 2013'] = (Einkommen['AS mit Abzug 2013'] + Einkommen['AS ohne Abzug 2013'] + Einkommen['Ehepaare 2013'])\n",
    "Einkommen['Total 2014'] = (Einkommen['AS mit Abzug 2014'] + Einkommen['AS ohne Abzug 2014'] + Einkommen['Ehepaare 2014'])\n",
    "Einkommen['Total 2015'] = (Einkommen['AS mit Abzug 2015'] + Einkommen['AS ohne Abzug 2015'] + Einkommen['Ehepaare 2015'])\n",
    "Einkommen['Total 2016'] = (Einkommen['AS mit Abzug 2016'] + Einkommen['AS ohne Abzug 2016'] + Einkommen['Ehepaare 2016'])\n",
    "Einkommen['Total 2017'] = (Einkommen['AS mit Abzug 2017'] + Einkommen['AS ohne Abzug 2017'] + Einkommen['Ehepaare 2017'])"
   ]
  },
  {
   "cell_type": "markdown",
   "metadata": {},
   "source": [
    "### Dataframes einzeln für Anzahl und Einkommen:"
   ]
  },
  {
   "cell_type": "code",
   "execution_count": 5,
   "metadata": {},
   "outputs": [],
   "source": [
    "# Mein Dataframe für die Anzahl Steuerpflichtige\n",
    "\n",
    "Anzahl_Steuerpflichtige = Einkommen.drop(['Steuerertrag EK 0', 'Steuerertrag EK 20000', 'Steuerertrag EK 40000', \n",
    "                                          'Steuerertrag EK 60000', 'Steuerertrag EK 80000', 'Steuerertrag EK 100000',\n",
    "                                          'Steuerertrag EK 125000', 'Steuerertrag EK 150000', 'Steuerertrag EK 175000', \n",
    "                                          'Steuerertrag EK 200000', 'Steuerertrag EK 250000', 'Steuerertrag EK 300000',\n",
    "                                          'Steuerertrag EK 750000', 'Steuerertrag EK 1000000', 'Steuerertrag EK 400000',\n",
    "                                          'Steuerertrag EK 1000001', 'Steuerertrag EK 500000', 'Total Steuerertrag'])"
   ]
  },
  {
   "cell_type": "code",
   "execution_count": 6,
   "metadata": {},
   "outputs": [],
   "source": [
    "# Mein Dataframe für den Steuerbetrag \n",
    "\n",
    "Steuerbetrag = Einkommen.drop(['Anzahl EK 0', 'Anzahl EK 20000', 'Anzahl EK 40000', 'Anzahl EK 60000',\n",
    "                               'Anzahl EK 80000', 'Anzahl EK 100000','Anzahl EK 125000', 'Anzahl EK 150000',\n",
    "                               'Anzahl EK 175000', 'Anzahl EK 200000', 'Anzahl EK 250000', 'Anzahl EK 300000',\n",
    "                               'Anzahl EK 400000', 'Anzahl EK 500000','Anzahl EK 750000', 'Anzahl EK 1000000',\n",
    "                               'Anzahl EK 1000001', 'Total Anzahl'])"
   ]
  },
  {
   "cell_type": "code",
   "execution_count": 7,
   "metadata": {
    "scrolled": true
   },
   "outputs": [
    {
     "data": {
      "text/html": [
       "<div>\n",
       "<style scoped>\n",
       "    .dataframe tbody tr th:only-of-type {\n",
       "        vertical-align: middle;\n",
       "    }\n",
       "\n",
       "    .dataframe tbody tr th {\n",
       "        vertical-align: top;\n",
       "    }\n",
       "\n",
       "    .dataframe thead th {\n",
       "        text-align: right;\n",
       "    }\n",
       "</style>\n",
       "<table border=\"1\" class=\"dataframe\">\n",
       "  <thead>\n",
       "    <tr style=\"text-align: right;\">\n",
       "      <th></th>\n",
       "      <th>AS mit Abzug 2007</th>\n",
       "      <th>AS ohne Abzug 2007</th>\n",
       "      <th>Ehepaare 2007</th>\n",
       "      <th>AS mit Abzug 2008</th>\n",
       "      <th>AS ohne Abzug 2008</th>\n",
       "      <th>Ehepaare 2008</th>\n",
       "      <th>AS mit Abzug 2009</th>\n",
       "      <th>AS ohne Abzug 2009</th>\n",
       "      <th>Ehepaare 2009</th>\n",
       "      <th>AS mit Abzug 2010</th>\n",
       "      <th>...</th>\n",
       "      <th>Total 2008</th>\n",
       "      <th>Total 2009</th>\n",
       "      <th>Total 2010</th>\n",
       "      <th>Total 2011</th>\n",
       "      <th>Total 2012</th>\n",
       "      <th>Total 2013</th>\n",
       "      <th>Total 2014</th>\n",
       "      <th>Total 2015</th>\n",
       "      <th>Total 2016</th>\n",
       "      <th>Total 2017</th>\n",
       "    </tr>\n",
       "  </thead>\n",
       "  <tbody>\n",
       "    <tr>\n",
       "      <th>Steuerertrag EK 0</th>\n",
       "      <td>0</td>\n",
       "      <td>0</td>\n",
       "      <td>0</td>\n",
       "      <td>0</td>\n",
       "      <td>0</td>\n",
       "      <td>0</td>\n",
       "      <td>0</td>\n",
       "      <td>0</td>\n",
       "      <td>0</td>\n",
       "      <td>0</td>\n",
       "      <td>...</td>\n",
       "      <td>0</td>\n",
       "      <td>0</td>\n",
       "      <td>0</td>\n",
       "      <td>0</td>\n",
       "      <td>0</td>\n",
       "      <td>0</td>\n",
       "      <td>0</td>\n",
       "      <td>0</td>\n",
       "      <td>0</td>\n",
       "      <td>0</td>\n",
       "    </tr>\n",
       "    <tr>\n",
       "      <th>Steuerertrag EK 20000</th>\n",
       "      <td>13935610</td>\n",
       "      <td>15789693</td>\n",
       "      <td>6929582</td>\n",
       "      <td>13199991</td>\n",
       "      <td>15960604</td>\n",
       "      <td>6558300</td>\n",
       "      <td>12928562</td>\n",
       "      <td>15952132</td>\n",
       "      <td>6811394</td>\n",
       "      <td>12827383</td>\n",
       "      <td>...</td>\n",
       "      <td>35718895</td>\n",
       "      <td>35692088</td>\n",
       "      <td>35895484</td>\n",
       "      <td>36126596</td>\n",
       "      <td>36096387</td>\n",
       "      <td>36143897</td>\n",
       "      <td>35340670</td>\n",
       "      <td>35892437</td>\n",
       "      <td>35668471</td>\n",
       "      <td>35836369</td>\n",
       "    </tr>\n",
       "    <tr>\n",
       "      <th>Steuerertrag EK 40000</th>\n",
       "      <td>66899931</td>\n",
       "      <td>58968871</td>\n",
       "      <td>43047533</td>\n",
       "      <td>65144334</td>\n",
       "      <td>61480266</td>\n",
       "      <td>41273341</td>\n",
       "      <td>62972277</td>\n",
       "      <td>62545938</td>\n",
       "      <td>41142413</td>\n",
       "      <td>62559223</td>\n",
       "      <td>...</td>\n",
       "      <td>167897941</td>\n",
       "      <td>166660628</td>\n",
       "      <td>166839617</td>\n",
       "      <td>165859566</td>\n",
       "      <td>162742928</td>\n",
       "      <td>163324196</td>\n",
       "      <td>161628364</td>\n",
       "      <td>162573306</td>\n",
       "      <td>161491463</td>\n",
       "      <td>161632347</td>\n",
       "    </tr>\n",
       "  </tbody>\n",
       "</table>\n",
       "<p>3 rows × 44 columns</p>\n",
       "</div>"
      ],
      "text/plain": [
       "                       AS mit Abzug 2007  AS ohne Abzug 2007  Ehepaare 2007  \\\n",
       "Steuerertrag EK 0                      0                   0              0   \n",
       "Steuerertrag EK 20000           13935610            15789693        6929582   \n",
       "Steuerertrag EK 40000           66899931            58968871       43047533   \n",
       "\n",
       "                       AS mit Abzug 2008  AS ohne Abzug 2008  Ehepaare 2008  \\\n",
       "Steuerertrag EK 0                      0                   0              0   \n",
       "Steuerertrag EK 20000           13199991            15960604        6558300   \n",
       "Steuerertrag EK 40000           65144334            61480266       41273341   \n",
       "\n",
       "                       AS mit Abzug 2009  AS ohne Abzug 2009  Ehepaare 2009  \\\n",
       "Steuerertrag EK 0                      0                   0              0   \n",
       "Steuerertrag EK 20000           12928562            15952132        6811394   \n",
       "Steuerertrag EK 40000           62972277            62545938       41142413   \n",
       "\n",
       "                       AS mit Abzug 2010  ...  Total 2008  Total 2009  \\\n",
       "Steuerertrag EK 0                      0  ...           0           0   \n",
       "Steuerertrag EK 20000           12827383  ...    35718895    35692088   \n",
       "Steuerertrag EK 40000           62559223  ...   167897941   166660628   \n",
       "\n",
       "                       Total 2010  Total 2011  Total 2012  Total 2013  \\\n",
       "Steuerertrag EK 0               0           0           0           0   \n",
       "Steuerertrag EK 20000    35895484    36126596    36096387    36143897   \n",
       "Steuerertrag EK 40000   166839617   165859566   162742928   163324196   \n",
       "\n",
       "                       Total 2014  Total 2015  Total 2016  Total 2017  \n",
       "Steuerertrag EK 0               0           0           0           0  \n",
       "Steuerertrag EK 20000    35340670    35892437    35668471    35836369  \n",
       "Steuerertrag EK 40000   161628364   162573306   161491463   161632347  \n",
       "\n",
       "[3 rows x 44 columns]"
      ]
     },
     "execution_count": 7,
     "metadata": {},
     "output_type": "execute_result"
    }
   ],
   "source": [
    "Steuerbetrag.head(3)"
   ]
  },
  {
   "cell_type": "markdown",
   "metadata": {},
   "source": [
    "# 1. Grundentwicklung der Steuern 2007-2017"
   ]
  },
  {
   "cell_type": "markdown",
   "metadata": {},
   "source": [
    "##### Bei diesen beiden DF interessieren mich die Total-Kolonnen. Ich kann damit plotten, wie sich die Steuererträge und die Anzahl Steuerzahler im Kanton Bern total entwickelt haben. Und zwar so:  "
   ]
  },
  {
   "cell_type": "markdown",
   "metadata": {},
   "source": [
    "### 1a) Entwicklung Steuererträge und Anzahl Steuerzahler im Kanton Bern"
   ]
  },
  {
   "cell_type": "code",
   "execution_count": 8,
   "metadata": {},
   "outputs": [],
   "source": [
    "Steuerbetrag_gekippt = Steuerbetrag.T"
   ]
  },
  {
   "cell_type": "code",
   "execution_count": 9,
   "metadata": {
    "scrolled": false
   },
   "outputs": [
    {
     "data": {
      "text/plain": [
       "(44, 18)"
      ]
     },
     "execution_count": 9,
     "metadata": {},
     "output_type": "execute_result"
    }
   ],
   "source": [
    "Steuerbetrag_gekippt.shape"
   ]
  },
  {
   "cell_type": "code",
   "execution_count": 10,
   "metadata": {},
   "outputs": [
    {
     "data": {
      "text/plain": [
       "<matplotlib.axes._subplots.AxesSubplot at 0x1dcfdb28f28>"
      ]
     },
     "execution_count": 10,
     "metadata": {},
     "output_type": "execute_result"
    },
    {
     "data": {
      "image/png": "[encoded data removed]",
      "text/plain": [
       "<Figure size 432x288 with 1 Axes>"
      ]
     },
     "metadata": {
      "needs_background": "light"
     },
     "output_type": "display_data"
    }
   ],
   "source": [
    "Steuerbetrag_gekippt['Total Steuerertrag'].iloc[33:44].plot(kind = 'bar', title = 'Entwicklung Steuerertrag im Kanton Bern')"
   ]
  },
  {
   "cell_type": "markdown",
   "metadata": {},
   "source": [
    "### Kernaussage\n",
    "Der totale Steuerertrag ist von 2007 bis 2017 von  998533942  auf  1161468863  Franken angewachsen. Das sind 162'934'921‬ Franken bzw 14 Prozent (100 / 1161468863 * 162934921)"
   ]
  },
  {
   "cell_type": "code",
   "execution_count": 11,
   "metadata": {},
   "outputs": [],
   "source": [
    "Anzahl_Steuerpflichtige_gekippt = Anzahl_Steuerpflichtige.T"
   ]
  },
  {
   "cell_type": "code",
   "execution_count": 12,
   "metadata": {},
   "outputs": [
    {
     "data": {
      "text/plain": [
       "<matplotlib.axes._subplots.AxesSubplot at 0x1dcfdfc73c8>"
      ]
     },
     "execution_count": 12,
     "metadata": {},
     "output_type": "execute_result"
    },
    {
     "data": {
      "image/png": "[encoded data removed]",
      "text/plain": [
       "<Figure size 432x288 with 1 Axes>"
      ]
     },
     "metadata": {
      "needs_background": "light"
     },
     "output_type": "display_data"
    }
   ],
   "source": [
    "Anzahl_Steuerpflichtige_gekippt['Total Anzahl'].iloc[33:44].plot(kind = 'bar', title = 'Entwicklung Steuerzahler im Kanton Bern')"
   ]
  },
  {
   "cell_type": "markdown",
   "metadata": {},
   "source": [
    "### Kernaussage\n",
    "Die Anzahl Steuerzahler ist von 2007 bis 2017 von 627938 auf 680471 angestiegen. Das sind 52'533‬ (vgl mit einer Stadt hinziehen) oder 7,7 Prozent. \n",
    "\n",
    "Da fällt im Vergleich zur Steigerung des Steuerbetrags auf, dass dieser fast doppelt so stark anstieg prozentual wie es neue Steuerzahler gab. Also interessiert, wie sich diese Steuerzahler verändert haben punkto Einkommensklassen."
   ]
  },
  {
   "cell_type": "markdown",
   "metadata": {},
   "source": [
    "# 2. Wie sich die Steuerzahler von 2007 zu 2017 unterscheiden"
   ]
  },
  {
   "cell_type": "markdown",
   "metadata": {},
   "source": [
    "Als erstes erstelle ich in den beiden Dataframes \"Anzahl_Steuerpflichtige\" und \"Steuerbetrag\" drei neue Spalte, die für jede Art Steuerzahler den Unterschied zwischen 2007 und 2017 anzeigt. "
   ]
  },
  {
   "cell_type": "code",
   "execution_count": 13,
   "metadata": {},
   "outputs": [],
   "source": [
    "Anzahl_Steuerpflichtige['Unterschied Ehepaare 2007 zu 2017'] = Anzahl_Steuerpflichtige['Ehepaare 2017'] - Anzahl_Steuerpflichtige['Ehepaare 2007']\n",
    "Anzahl_Steuerpflichtige['Unterschied AS ohne Abzug 2007 zu 2017'] = Anzahl_Steuerpflichtige['AS ohne Abzug 2017'] - Anzahl_Steuerpflichtige['AS ohne Abzug 2007']\n",
    "Anzahl_Steuerpflichtige['Unterschied AS mit Abzug 2007 zu 2017'] = Anzahl_Steuerpflichtige['AS mit Abzug 2017'] - Anzahl_Steuerpflichtige['AS mit Abzug 2007']"
   ]
  },
  {
   "cell_type": "code",
   "execution_count": 14,
   "metadata": {},
   "outputs": [],
   "source": [
    "Steuerbetrag['Unterschied Ehepaare 2007 zu 2017'] = Steuerbetrag['Ehepaare 2017'] - Steuerbetrag['Ehepaare 2007']\n",
    "Steuerbetrag['Unterschied AS ohne Abzug 2007 zu 2017'] = Steuerbetrag['AS ohne Abzug 2017'] - Steuerbetrag['AS ohne Abzug 2007']\n",
    "Steuerbetrag['Unterschied AS mit Abzug 2007 zu 2017'] = Steuerbetrag['AS mit Abzug 2017'] - Steuerbetrag['AS mit Abzug 2007']"
   ]
  },
  {
   "cell_type": "code",
   "execution_count": 61,
   "metadata": {},
   "outputs": [
    {
     "data": {
      "text/html": [
       "<div>\n",
       "<style scoped>\n",
       "    .dataframe tbody tr th:only-of-type {\n",
       "        vertical-align: middle;\n",
       "    }\n",
       "\n",
       "    .dataframe tbody tr th {\n",
       "        vertical-align: top;\n",
       "    }\n",
       "\n",
       "    .dataframe thead th {\n",
       "        text-align: right;\n",
       "    }\n",
       "</style>\n",
       "<table border=\"1\" class=\"dataframe\">\n",
       "  <thead>\n",
       "    <tr style=\"text-align: right;\">\n",
       "      <th></th>\n",
       "      <th>AS mit Abzug 2007</th>\n",
       "      <th>AS ohne Abzug 2007</th>\n",
       "      <th>Ehepaare 2007</th>\n",
       "      <th>AS mit Abzug 2008</th>\n",
       "      <th>AS ohne Abzug 2008</th>\n",
       "      <th>Ehepaare 2008</th>\n",
       "      <th>AS mit Abzug 2009</th>\n",
       "      <th>AS ohne Abzug 2009</th>\n",
       "      <th>Ehepaare 2009</th>\n",
       "      <th>AS mit Abzug 2010</th>\n",
       "      <th>...</th>\n",
       "      <th>Total 2014</th>\n",
       "      <th>Total 2015</th>\n",
       "      <th>Total 2016</th>\n",
       "      <th>Total 2017</th>\n",
       "      <th>Unterschied Ehepaare 2007 zu 2017</th>\n",
       "      <th>Unterschied AS ohne Abzug 2007 zu 2017</th>\n",
       "      <th>Unterschied AS mit Abzug 2007 zu 2017</th>\n",
       "      <th>Prozent Unterschied AS ohne Abzug 2007 zu 2017</th>\n",
       "      <th>Prozent Unterschied AS mit Abzug 2007 zu 2017</th>\n",
       "      <th>Prozent Unterschied Ehepaare 2007 zu 2017</th>\n",
       "    </tr>\n",
       "  </thead>\n",
       "  <tbody>\n",
       "    <tr>\n",
       "      <th>Anzahl EK 0</th>\n",
       "      <td>16884</td>\n",
       "      <td>79618</td>\n",
       "      <td>16085</td>\n",
       "      <td>15880</td>\n",
       "      <td>79516</td>\n",
       "      <td>16070</td>\n",
       "      <td>16153</td>\n",
       "      <td>81956</td>\n",
       "      <td>16596</td>\n",
       "      <td>16430</td>\n",
       "      <td>...</td>\n",
       "      <td>115751</td>\n",
       "      <td>114978</td>\n",
       "      <td>114589</td>\n",
       "      <td>113480</td>\n",
       "      <td>-860</td>\n",
       "      <td>-146</td>\n",
       "      <td>1899</td>\n",
       "      <td>-0.183713</td>\n",
       "      <td>10.110206</td>\n",
       "      <td>-5.648604</td>\n",
       "    </tr>\n",
       "    <tr>\n",
       "      <th>Anzahl EK 20000</th>\n",
       "      <td>37048</td>\n",
       "      <td>54429</td>\n",
       "      <td>26478</td>\n",
       "      <td>35034</td>\n",
       "      <td>55384</td>\n",
       "      <td>25360</td>\n",
       "      <td>34401</td>\n",
       "      <td>55638</td>\n",
       "      <td>27022</td>\n",
       "      <td>34348</td>\n",
       "      <td>...</td>\n",
       "      <td>119118</td>\n",
       "      <td>121047</td>\n",
       "      <td>120656</td>\n",
       "      <td>121167</td>\n",
       "      <td>-210</td>\n",
       "      <td>4984</td>\n",
       "      <td>-1562</td>\n",
       "      <td>8.388736</td>\n",
       "      <td>-4.401736</td>\n",
       "      <td>-0.799452</td>\n",
       "    </tr>\n",
       "    <tr>\n",
       "      <th>Anzahl EK 40000</th>\n",
       "      <td>59833</td>\n",
       "      <td>51890</td>\n",
       "      <td>44383</td>\n",
       "      <td>58048</td>\n",
       "      <td>53855</td>\n",
       "      <td>42442</td>\n",
       "      <td>56633</td>\n",
       "      <td>55223</td>\n",
       "      <td>43087</td>\n",
       "      <td>56153</td>\n",
       "      <td>...</td>\n",
       "      <td>152246</td>\n",
       "      <td>152739</td>\n",
       "      <td>151351</td>\n",
       "      <td>151372</td>\n",
       "      <td>-7328</td>\n",
       "      <td>6165</td>\n",
       "      <td>-3571</td>\n",
       "      <td>10.619240</td>\n",
       "      <td>-6.347090</td>\n",
       "      <td>-19.776009</td>\n",
       "    </tr>\n",
       "    <tr>\n",
       "      <th>Anzahl EK 60000</th>\n",
       "      <td>35678</td>\n",
       "      <td>27636</td>\n",
       "      <td>51389</td>\n",
       "      <td>36397</td>\n",
       "      <td>30629</td>\n",
       "      <td>50869</td>\n",
       "      <td>36243</td>\n",
       "      <td>32212</td>\n",
       "      <td>49579</td>\n",
       "      <td>36088</td>\n",
       "      <td>...</td>\n",
       "      <td>127197</td>\n",
       "      <td>129095</td>\n",
       "      <td>130803</td>\n",
       "      <td>131842</td>\n",
       "      <td>-5138</td>\n",
       "      <td>15131</td>\n",
       "      <td>7146</td>\n",
       "      <td>35.380083</td>\n",
       "      <td>16.686905</td>\n",
       "      <td>-11.108949</td>\n",
       "    </tr>\n",
       "    <tr>\n",
       "      <th>Anzahl EK 80000</th>\n",
       "      <td>13018</td>\n",
       "      <td>8484</td>\n",
       "      <td>38832</td>\n",
       "      <td>13591</td>\n",
       "      <td>9808</td>\n",
       "      <td>39517</td>\n",
       "      <td>13597</td>\n",
       "      <td>10169</td>\n",
       "      <td>38469</td>\n",
       "      <td>13850</td>\n",
       "      <td>...</td>\n",
       "      <td>68787</td>\n",
       "      <td>70069</td>\n",
       "      <td>71913</td>\n",
       "      <td>73048</td>\n",
       "      <td>1866</td>\n",
       "      <td>6447</td>\n",
       "      <td>4401</td>\n",
       "      <td>43.178622</td>\n",
       "      <td>25.265515</td>\n",
       "      <td>4.584992</td>\n",
       "    </tr>\n",
       "    <tr>\n",
       "      <th>Anzahl EK 100000</th>\n",
       "      <td>4916</td>\n",
       "      <td>2958</td>\n",
       "      <td>21638</td>\n",
       "      <td>5130</td>\n",
       "      <td>3472</td>\n",
       "      <td>22757</td>\n",
       "      <td>5207</td>\n",
       "      <td>3747</td>\n",
       "      <td>22250</td>\n",
       "      <td>5338</td>\n",
       "      <td>...</td>\n",
       "      <td>35687</td>\n",
       "      <td>37160</td>\n",
       "      <td>37754</td>\n",
       "      <td>38202</td>\n",
       "      <td>4054</td>\n",
       "      <td>2650</td>\n",
       "      <td>1986</td>\n",
       "      <td>47.253923</td>\n",
       "      <td>28.774268</td>\n",
       "      <td>15.779231</td>\n",
       "    </tr>\n",
       "    <tr>\n",
       "      <th>Anzahl EK 125000</th>\n",
       "      <td>2244</td>\n",
       "      <td>1382</td>\n",
       "      <td>13324</td>\n",
       "      <td>2468</td>\n",
       "      <td>1564</td>\n",
       "      <td>14187</td>\n",
       "      <td>2478</td>\n",
       "      <td>1779</td>\n",
       "      <td>13928</td>\n",
       "      <td>2536</td>\n",
       "      <td>...</td>\n",
       "      <td>21240</td>\n",
       "      <td>21907</td>\n",
       "      <td>22840</td>\n",
       "      <td>23272</td>\n",
       "      <td>4051</td>\n",
       "      <td>1238</td>\n",
       "      <td>1033</td>\n",
       "      <td>47.251908</td>\n",
       "      <td>31.522734</td>\n",
       "      <td>23.315108</td>\n",
       "    </tr>\n",
       "    <tr>\n",
       "      <th>Anzahl EK 150000</th>\n",
       "      <td>934</td>\n",
       "      <td>603</td>\n",
       "      <td>6341</td>\n",
       "      <td>1023</td>\n",
       "      <td>697</td>\n",
       "      <td>6736</td>\n",
       "      <td>1008</td>\n",
       "      <td>770</td>\n",
       "      <td>6937</td>\n",
       "      <td>1035</td>\n",
       "      <td>...</td>\n",
       "      <td>10023</td>\n",
       "      <td>10569</td>\n",
       "      <td>10845</td>\n",
       "      <td>10968</td>\n",
       "      <td>2225</td>\n",
       "      <td>482</td>\n",
       "      <td>383</td>\n",
       "      <td>44.423963</td>\n",
       "      <td>29.081245</td>\n",
       "      <td>25.974784</td>\n",
       "    </tr>\n",
       "    <tr>\n",
       "      <th>Anzahl EK 175000</th>\n",
       "      <td>424</td>\n",
       "      <td>266</td>\n",
       "      <td>3214</td>\n",
       "      <td>483</td>\n",
       "      <td>297</td>\n",
       "      <td>3366</td>\n",
       "      <td>491</td>\n",
       "      <td>349</td>\n",
       "      <td>3507</td>\n",
       "      <td>514</td>\n",
       "      <td>...</td>\n",
       "      <td>5064</td>\n",
       "      <td>5435</td>\n",
       "      <td>5509</td>\n",
       "      <td>5683</td>\n",
       "      <td>1289</td>\n",
       "      <td>259</td>\n",
       "      <td>231</td>\n",
       "      <td>49.333333</td>\n",
       "      <td>35.267176</td>\n",
       "      <td>28.625361</td>\n",
       "    </tr>\n",
       "    <tr>\n",
       "      <th>Anzahl EK 200000</th>\n",
       "      <td>276</td>\n",
       "      <td>180</td>\n",
       "      <td>1838</td>\n",
       "      <td>253</td>\n",
       "      <td>199</td>\n",
       "      <td>1906</td>\n",
       "      <td>278</td>\n",
       "      <td>203</td>\n",
       "      <td>1884</td>\n",
       "      <td>269</td>\n",
       "      <td>...</td>\n",
       "      <td>2813</td>\n",
       "      <td>2970</td>\n",
       "      <td>3185</td>\n",
       "      <td>3215</td>\n",
       "      <td>690</td>\n",
       "      <td>141</td>\n",
       "      <td>90</td>\n",
       "      <td>43.925234</td>\n",
       "      <td>24.590164</td>\n",
       "      <td>27.294304</td>\n",
       "    </tr>\n",
       "    <tr>\n",
       "      <th>Anzahl EK 250000</th>\n",
       "      <td>291</td>\n",
       "      <td>182</td>\n",
       "      <td>1826</td>\n",
       "      <td>302</td>\n",
       "      <td>212</td>\n",
       "      <td>2042</td>\n",
       "      <td>308</td>\n",
       "      <td>208</td>\n",
       "      <td>1985</td>\n",
       "      <td>334</td>\n",
       "      <td>...</td>\n",
       "      <td>3033</td>\n",
       "      <td>3063</td>\n",
       "      <td>3143</td>\n",
       "      <td>3300</td>\n",
       "      <td>805</td>\n",
       "      <td>84</td>\n",
       "      <td>112</td>\n",
       "      <td>31.578947</td>\n",
       "      <td>27.791563</td>\n",
       "      <td>30.596731</td>\n",
       "    </tr>\n",
       "    <tr>\n",
       "      <th>Anzahl EK 300000</th>\n",
       "      <td>177</td>\n",
       "      <td>92</td>\n",
       "      <td>915</td>\n",
       "      <td>148</td>\n",
       "      <td>98</td>\n",
       "      <td>987</td>\n",
       "      <td>168</td>\n",
       "      <td>98</td>\n",
       "      <td>1014</td>\n",
       "      <td>133</td>\n",
       "      <td>...</td>\n",
       "      <td>1516</td>\n",
       "      <td>1543</td>\n",
       "      <td>1610</td>\n",
       "      <td>1609</td>\n",
       "      <td>328</td>\n",
       "      <td>83</td>\n",
       "      <td>14</td>\n",
       "      <td>47.428571</td>\n",
       "      <td>7.329843</td>\n",
       "      <td>26.387772</td>\n",
       "    </tr>\n",
       "    <tr>\n",
       "      <th>Anzahl EK 400000</th>\n",
       "      <td>129</td>\n",
       "      <td>81</td>\n",
       "      <td>829</td>\n",
       "      <td>146</td>\n",
       "      <td>76</td>\n",
       "      <td>893</td>\n",
       "      <td>149</td>\n",
       "      <td>80</td>\n",
       "      <td>857</td>\n",
       "      <td>166</td>\n",
       "      <td>...</td>\n",
       "      <td>1323</td>\n",
       "      <td>1421</td>\n",
       "      <td>1509</td>\n",
       "      <td>1534</td>\n",
       "      <td>357</td>\n",
       "      <td>76</td>\n",
       "      <td>62</td>\n",
       "      <td>48.407643</td>\n",
       "      <td>32.460733</td>\n",
       "      <td>30.101180</td>\n",
       "    </tr>\n",
       "    <tr>\n",
       "      <th>Anzahl EK 500000</th>\n",
       "      <td>52</td>\n",
       "      <td>37</td>\n",
       "      <td>374</td>\n",
       "      <td>70</td>\n",
       "      <td>35</td>\n",
       "      <td>375</td>\n",
       "      <td>62</td>\n",
       "      <td>46</td>\n",
       "      <td>396</td>\n",
       "      <td>61</td>\n",
       "      <td>...</td>\n",
       "      <td>616</td>\n",
       "      <td>643</td>\n",
       "      <td>655</td>\n",
       "      <td>673</td>\n",
       "      <td>171</td>\n",
       "      <td>18</td>\n",
       "      <td>21</td>\n",
       "      <td>32.727273</td>\n",
       "      <td>28.767123</td>\n",
       "      <td>31.376147</td>\n",
       "    </tr>\n",
       "    <tr>\n",
       "      <th>Anzahl EK 750000</th>\n",
       "      <td>42</td>\n",
       "      <td>30</td>\n",
       "      <td>346</td>\n",
       "      <td>60</td>\n",
       "      <td>32</td>\n",
       "      <td>358</td>\n",
       "      <td>58</td>\n",
       "      <td>37</td>\n",
       "      <td>360</td>\n",
       "      <td>54</td>\n",
       "      <td>...</td>\n",
       "      <td>527</td>\n",
       "      <td>566</td>\n",
       "      <td>594</td>\n",
       "      <td>610</td>\n",
       "      <td>122</td>\n",
       "      <td>32</td>\n",
       "      <td>38</td>\n",
       "      <td>51.612903</td>\n",
       "      <td>47.500000</td>\n",
       "      <td>26.068376</td>\n",
       "    </tr>\n",
       "    <tr>\n",
       "      <th>Anzahl EK 1000000</th>\n",
       "      <td>20</td>\n",
       "      <td>7</td>\n",
       "      <td>118</td>\n",
       "      <td>13</td>\n",
       "      <td>11</td>\n",
       "      <td>106</td>\n",
       "      <td>18</td>\n",
       "      <td>19</td>\n",
       "      <td>111</td>\n",
       "      <td>17</td>\n",
       "      <td>...</td>\n",
       "      <td>151</td>\n",
       "      <td>153</td>\n",
       "      <td>180</td>\n",
       "      <td>212</td>\n",
       "      <td>36</td>\n",
       "      <td>24</td>\n",
       "      <td>7</td>\n",
       "      <td>77.419355</td>\n",
       "      <td>25.925926</td>\n",
       "      <td>23.376623</td>\n",
       "    </tr>\n",
       "    <tr>\n",
       "      <th>Anzahl EK 1000001</th>\n",
       "      <td>32</td>\n",
       "      <td>14</td>\n",
       "      <td>121</td>\n",
       "      <td>37</td>\n",
       "      <td>10</td>\n",
       "      <td>133</td>\n",
       "      <td>32</td>\n",
       "      <td>13</td>\n",
       "      <td>159</td>\n",
       "      <td>38</td>\n",
       "      <td>...</td>\n",
       "      <td>236</td>\n",
       "      <td>264</td>\n",
       "      <td>278</td>\n",
       "      <td>284</td>\n",
       "      <td>91</td>\n",
       "      <td>21</td>\n",
       "      <td>5</td>\n",
       "      <td>60.000000</td>\n",
       "      <td>13.513514</td>\n",
       "      <td>42.924528</td>\n",
       "    </tr>\n",
       "    <tr>\n",
       "      <th>Total Anzahl</th>\n",
       "      <td>171998</td>\n",
       "      <td>227889</td>\n",
       "      <td>228051</td>\n",
       "      <td>169083</td>\n",
       "      <td>235895</td>\n",
       "      <td>228104</td>\n",
       "      <td>167284</td>\n",
       "      <td>242547</td>\n",
       "      <td>228141</td>\n",
       "      <td>167364</td>\n",
       "      <td>...</td>\n",
       "      <td>665328</td>\n",
       "      <td>673622</td>\n",
       "      <td>677414</td>\n",
       "      <td>680471</td>\n",
       "      <td>2549</td>\n",
       "      <td>37689</td>\n",
       "      <td>12295</td>\n",
       "      <td>14.191311</td>\n",
       "      <td>6.671442</td>\n",
       "      <td>1.105377</td>\n",
       "    </tr>\n",
       "  </tbody>\n",
       "</table>\n",
       "<p>18 rows × 50 columns</p>\n",
       "</div>"
      ],
      "text/plain": [
       "                   AS mit Abzug 2007  AS ohne Abzug 2007  Ehepaare 2007  \\\n",
       "Anzahl EK 0                    16884               79618          16085   \n",
       "Anzahl EK 20000                37048               54429          26478   \n",
       "Anzahl EK 40000                59833               51890          44383   \n",
       "Anzahl EK 60000                35678               27636          51389   \n",
       "Anzahl EK 80000                13018                8484          38832   \n",
       "Anzahl EK 100000                4916                2958          21638   \n",
       "Anzahl EK 125000                2244                1382          13324   \n",
       "Anzahl EK 150000                 934                 603           6341   \n",
       "Anzahl EK 175000                 424                 266           3214   \n",
       "Anzahl EK 200000                 276                 180           1838   \n",
       "Anzahl EK 250000                 291                 182           1826   \n",
       "Anzahl EK 300000                 177                  92            915   \n",
       "Anzahl EK 400000                 129                  81            829   \n",
       "Anzahl EK 500000                  52                  37            374   \n",
       "Anzahl EK 750000                  42                  30            346   \n",
       "Anzahl EK 1000000                 20                   7            118   \n",
       "Anzahl EK 1000001                 32                  14            121   \n",
       "Total Anzahl                  171998              227889         228051   \n",
       "\n",
       "                   AS mit Abzug 2008  AS ohne Abzug 2008  Ehepaare 2008  \\\n",
       "Anzahl EK 0                    15880               79516          16070   \n",
       "Anzahl EK 20000                35034               55384          25360   \n",
       "Anzahl EK 40000                58048               53855          42442   \n",
       "Anzahl EK 60000                36397               30629          50869   \n",
       "Anzahl EK 80000                13591                9808          39517   \n",
       "Anzahl EK 100000                5130                3472          22757   \n",
       "Anzahl EK 125000                2468                1564          14187   \n",
       "Anzahl EK 150000                1023                 697           6736   \n",
       "Anzahl EK 175000                 483                 297           3366   \n",
       "Anzahl EK 200000                 253                 199           1906   \n",
       "Anzahl EK 250000                 302                 212           2042   \n",
       "Anzahl EK 300000                 148                  98            987   \n",
       "Anzahl EK 400000                 146                  76            893   \n",
       "Anzahl EK 500000                  70                  35            375   \n",
       "Anzahl EK 750000                  60                  32            358   \n",
       "Anzahl EK 1000000                 13                  11            106   \n",
       "Anzahl EK 1000001                 37                  10            133   \n",
       "Total Anzahl                  169083              235895         228104   \n",
       "\n",
       "                   AS mit Abzug 2009  AS ohne Abzug 2009  Ehepaare 2009  \\\n",
       "Anzahl EK 0                    16153               81956          16596   \n",
       "Anzahl EK 20000                34401               55638          27022   \n",
       "Anzahl EK 40000                56633               55223          43087   \n",
       "Anzahl EK 60000                36243               32212          49579   \n",
       "Anzahl EK 80000                13597               10169          38469   \n",
       "Anzahl EK 100000                5207                3747          22250   \n",
       "Anzahl EK 125000                2478                1779          13928   \n",
       "Anzahl EK 150000                1008                 770           6937   \n",
       "Anzahl EK 175000                 491                 349           3507   \n",
       "Anzahl EK 200000                 278                 203           1884   \n",
       "Anzahl EK 250000                 308                 208           1985   \n",
       "Anzahl EK 300000                 168                  98           1014   \n",
       "Anzahl EK 400000                 149                  80            857   \n",
       "Anzahl EK 500000                  62                  46            396   \n",
       "Anzahl EK 750000                  58                  37            360   \n",
       "Anzahl EK 1000000                 18                  19            111   \n",
       "Anzahl EK 1000001                 32                  13            159   \n",
       "Total Anzahl                  167284              242547         228141   \n",
       "\n",
       "                   AS mit Abzug 2010  ...  Total 2014  Total 2015  Total 2016  \\\n",
       "Anzahl EK 0                    16430  ...      115751      114978      114589   \n",
       "Anzahl EK 20000                34348  ...      119118      121047      120656   \n",
       "Anzahl EK 40000                56153  ...      152246      152739      151351   \n",
       "Anzahl EK 60000                36088  ...      127197      129095      130803   \n",
       "Anzahl EK 80000                13850  ...       68787       70069       71913   \n",
       "Anzahl EK 100000                5338  ...       35687       37160       37754   \n",
       "Anzahl EK 125000                2536  ...       21240       21907       22840   \n",
       "Anzahl EK 150000                1035  ...       10023       10569       10845   \n",
       "Anzahl EK 175000                 514  ...        5064        5435        5509   \n",
       "Anzahl EK 200000                 269  ...        2813        2970        3185   \n",
       "Anzahl EK 250000                 334  ...        3033        3063        3143   \n",
       "Anzahl EK 300000                 133  ...        1516        1543        1610   \n",
       "Anzahl EK 400000                 166  ...        1323        1421        1509   \n",
       "Anzahl EK 500000                  61  ...         616         643         655   \n",
       "Anzahl EK 750000                  54  ...         527         566         594   \n",
       "Anzahl EK 1000000                 17  ...         151         153         180   \n",
       "Anzahl EK 1000001                 38  ...         236         264         278   \n",
       "Total Anzahl                  167364  ...      665328      673622      677414   \n",
       "\n",
       "                   Total 2017  Unterschied Ehepaare 2007 zu 2017  \\\n",
       "Anzahl EK 0            113480                               -860   \n",
       "Anzahl EK 20000        121167                               -210   \n",
       "Anzahl EK 40000        151372                              -7328   \n",
       "Anzahl EK 60000        131842                              -5138   \n",
       "Anzahl EK 80000         73048                               1866   \n",
       "Anzahl EK 100000        38202                               4054   \n",
       "Anzahl EK 125000        23272                               4051   \n",
       "Anzahl EK 150000        10968                               2225   \n",
       "Anzahl EK 175000         5683                               1289   \n",
       "Anzahl EK 200000         3215                                690   \n",
       "Anzahl EK 250000         3300                                805   \n",
       "Anzahl EK 300000         1609                                328   \n",
       "Anzahl EK 400000         1534                                357   \n",
       "Anzahl EK 500000          673                                171   \n",
       "Anzahl EK 750000          610                                122   \n",
       "Anzahl EK 1000000         212                                 36   \n",
       "Anzahl EK 1000001         284                                 91   \n",
       "Total Anzahl           680471                               2549   \n",
       "\n",
       "                   Unterschied AS ohne Abzug 2007 zu 2017  \\\n",
       "Anzahl EK 0                                          -146   \n",
       "Anzahl EK 20000                                      4984   \n",
       "Anzahl EK 40000                                      6165   \n",
       "Anzahl EK 60000                                     15131   \n",
       "Anzahl EK 80000                                      6447   \n",
       "Anzahl EK 100000                                     2650   \n",
       "Anzahl EK 125000                                     1238   \n",
       "Anzahl EK 150000                                      482   \n",
       "Anzahl EK 175000                                      259   \n",
       "Anzahl EK 200000                                      141   \n",
       "Anzahl EK 250000                                       84   \n",
       "Anzahl EK 300000                                       83   \n",
       "Anzahl EK 400000                                       76   \n",
       "Anzahl EK 500000                                       18   \n",
       "Anzahl EK 750000                                       32   \n",
       "Anzahl EK 1000000                                      24   \n",
       "Anzahl EK 1000001                                      21   \n",
       "Total Anzahl                                        37689   \n",
       "\n",
       "                   Unterschied AS mit Abzug 2007 zu 2017  \\\n",
       "Anzahl EK 0                                         1899   \n",
       "Anzahl EK 20000                                    -1562   \n",
       "Anzahl EK 40000                                    -3571   \n",
       "Anzahl EK 60000                                     7146   \n",
       "Anzahl EK 80000                                     4401   \n",
       "Anzahl EK 100000                                    1986   \n",
       "Anzahl EK 125000                                    1033   \n",
       "Anzahl EK 150000                                     383   \n",
       "Anzahl EK 175000                                     231   \n",
       "Anzahl EK 200000                                      90   \n",
       "Anzahl EK 250000                                     112   \n",
       "Anzahl EK 300000                                      14   \n",
       "Anzahl EK 400000                                      62   \n",
       "Anzahl EK 500000                                      21   \n",
       "Anzahl EK 750000                                      38   \n",
       "Anzahl EK 1000000                                      7   \n",
       "Anzahl EK 1000001                                      5   \n",
       "Total Anzahl                                       12295   \n",
       "\n",
       "                   Prozent Unterschied AS ohne Abzug 2007 zu 2017  \\\n",
       "Anzahl EK 0                                             -0.183713   \n",
       "Anzahl EK 20000                                          8.388736   \n",
       "Anzahl EK 40000                                         10.619240   \n",
       "Anzahl EK 60000                                         35.380083   \n",
       "Anzahl EK 80000                                         43.178622   \n",
       "Anzahl EK 100000                                        47.253923   \n",
       "Anzahl EK 125000                                        47.251908   \n",
       "Anzahl EK 150000                                        44.423963   \n",
       "Anzahl EK 175000                                        49.333333   \n",
       "Anzahl EK 200000                                        43.925234   \n",
       "Anzahl EK 250000                                        31.578947   \n",
       "Anzahl EK 300000                                        47.428571   \n",
       "Anzahl EK 400000                                        48.407643   \n",
       "Anzahl EK 500000                                        32.727273   \n",
       "Anzahl EK 750000                                        51.612903   \n",
       "Anzahl EK 1000000                                       77.419355   \n",
       "Anzahl EK 1000001                                       60.000000   \n",
       "Total Anzahl                                            14.191311   \n",
       "\n",
       "                   Prozent Unterschied AS mit Abzug 2007 zu 2017  \\\n",
       "Anzahl EK 0                                            10.110206   \n",
       "Anzahl EK 20000                                        -4.401736   \n",
       "Anzahl EK 40000                                        -6.347090   \n",
       "Anzahl EK 60000                                        16.686905   \n",
       "Anzahl EK 80000                                        25.265515   \n",
       "Anzahl EK 100000                                       28.774268   \n",
       "Anzahl EK 125000                                       31.522734   \n",
       "Anzahl EK 150000                                       29.081245   \n",
       "Anzahl EK 175000                                       35.267176   \n",
       "Anzahl EK 200000                                       24.590164   \n",
       "Anzahl EK 250000                                       27.791563   \n",
       "Anzahl EK 300000                                        7.329843   \n",
       "Anzahl EK 400000                                       32.460733   \n",
       "Anzahl EK 500000                                       28.767123   \n",
       "Anzahl EK 750000                                       47.500000   \n",
       "Anzahl EK 1000000                                      25.925926   \n",
       "Anzahl EK 1000001                                      13.513514   \n",
       "Total Anzahl                                            6.671442   \n",
       "\n",
       "                   Prozent Unterschied Ehepaare 2007 zu 2017  \n",
       "Anzahl EK 0                                        -5.648604  \n",
       "Anzahl EK 20000                                    -0.799452  \n",
       "Anzahl EK 40000                                   -19.776009  \n",
       "Anzahl EK 60000                                   -11.108949  \n",
       "Anzahl EK 80000                                     4.584992  \n",
       "Anzahl EK 100000                                   15.779231  \n",
       "Anzahl EK 125000                                   23.315108  \n",
       "Anzahl EK 150000                                   25.974784  \n",
       "Anzahl EK 175000                                   28.625361  \n",
       "Anzahl EK 200000                                   27.294304  \n",
       "Anzahl EK 250000                                   30.596731  \n",
       "Anzahl EK 300000                                   26.387772  \n",
       "Anzahl EK 400000                                   30.101180  \n",
       "Anzahl EK 500000                                   31.376147  \n",
       "Anzahl EK 750000                                   26.068376  \n",
       "Anzahl EK 1000000                                  23.376623  \n",
       "Anzahl EK 1000001                                  42.924528  \n",
       "Total Anzahl                                        1.105377  \n",
       "\n",
       "[18 rows x 50 columns]"
      ]
     },
     "execution_count": 61,
     "metadata": {},
     "output_type": "execute_result"
    }
   ],
   "source": [
    "Anzahl_Steuerpflichtige['Unterschied Total'] = Anzahl_Steuerpflichtige['Total 2017'] - Anzahl_Steuerpflichtige['Total 2007']  #hier neue kolonne machen, in der ich das total von 2017 minus das total "
   ]
  },
  {
   "cell_type": "markdown",
   "metadata": {},
   "source": [
    "Dann plotte ich diese Unterschiede."
   ]
  },
  {
   "cell_type": "markdown",
   "metadata": {},
   "source": [
    "### 2a) Alleinstehende ohne Abzug\n"
   ]
  },
  {
   "cell_type": "code",
   "execution_count": 15,
   "metadata": {},
   "outputs": [
    {
     "data": {
      "text/plain": [
       "<matplotlib.axes._subplots.AxesSubplot at 0x1dcfe06c710>"
      ]
     },
     "execution_count": 15,
     "metadata": {},
     "output_type": "execute_result"
    },
    {
     "data": {
      "image/png": "[encoded data removed]",
      "text/plain": [
       "<Figure size 432x288 with 1 Axes>"
      ]
     },
     "metadata": {
      "needs_background": "light"
     },
     "output_type": "display_data"
    }
   ],
   "source": [
    "Steuerbetrag['Unterschied AS ohne Abzug 2007 zu 2017'].plot(kind='barh', title = 'Veränderung Steuerertrag Alleinstehende ohne Abzug in CHF')"
   ]
  },
  {
   "cell_type": "code",
   "execution_count": 16,
   "metadata": {
    "scrolled": true
   },
   "outputs": [
    {
     "data": {
      "text/plain": [
       "<matplotlib.axes._subplots.AxesSubplot at 0x1dcfe10c6d8>"
      ]
     },
     "execution_count": 16,
     "metadata": {},
     "output_type": "execute_result"
    },
    {
     "data": {
      "image/png": "[encoded data removed]",
      "text/plain": [
       "<Figure size 432x288 with 1 Axes>"
      ]
     },
     "metadata": {
      "needs_background": "light"
     },
     "output_type": "display_data"
    }
   ],
   "source": [
    "Anzahl_Steuerpflichtige['Unterschied AS ohne Abzug 2007 zu 2017'].plot(kind='barh', title = 'Veränderung Anzahl Alleinstehende ohne Abzug absolute Zahlen')"
   ]
  },
  {
   "cell_type": "code",
   "execution_count": 17,
   "metadata": {},
   "outputs": [
    {
     "data": {
      "text/plain": [
       "Anzahl EK 0           -146\n",
       "Anzahl EK 20000       4984\n",
       "Anzahl EK 40000       6165\n",
       "Anzahl EK 60000      15131\n",
       "Anzahl EK 80000       6447\n",
       "Anzahl EK 100000      2650\n",
       "Anzahl EK 125000      1238\n",
       "Anzahl EK 150000       482\n",
       "Anzahl EK 175000       259\n",
       "Anzahl EK 200000       141\n",
       "Anzahl EK 250000        84\n",
       "Anzahl EK 300000        83\n",
       "Anzahl EK 400000        76\n",
       "Anzahl EK 500000        18\n",
       "Anzahl EK 750000        32\n",
       "Anzahl EK 1000000       24\n",
       "Anzahl EK 1000001       21\n",
       "Total Anzahl         37689\n",
       "Name: Unterschied AS ohne Abzug 2007 zu 2017, dtype: int32"
      ]
     },
     "execution_count": 17,
     "metadata": {},
     "output_type": "execute_result"
    }
   ],
   "source": [
    "Anzahl_Steuerpflichtige['Unterschied AS ohne Abzug 2007 zu 2017']"
   ]
  },
  {
   "cell_type": "markdown",
   "metadata": {},
   "source": [
    "#### Kernaussage: \n",
    "Steuerbetrag: Alleinstehende ohne Abzug bezahlten 2017 rund 7,86 Millionen Franken mehr Steuern als 2007. Die Zunahme fand vor allem in den Einkommensklassen von 60000 und 80000 Franken statt.\n",
    "\n",
    "Anzahl: 2017 gab es 37689 mehr Alleinstehende ohne Abzug als 2007. Vor allem in der Einkommensklasse 60000 gibt es eine markante Zunahme.\n",
    "\n",
    "Fazit: Mehr Steuerzahler bezahlen also auch mehr Steuern."
   ]
  },
  {
   "cell_type": "markdown",
   "metadata": {},
   "source": [
    "### 2b) Alleinstehende mit Abzug"
   ]
  },
  {
   "cell_type": "code",
   "execution_count": 18,
   "metadata": {},
   "outputs": [
    {
     "data": {
      "text/plain": [
       "<matplotlib.axes._subplots.AxesSubplot at 0x1dcfe079a20>"
      ]
     },
     "execution_count": 18,
     "metadata": {},
     "output_type": "execute_result"
    },
    {
     "data": {
      "image/png": "[encoded data removed]",
      "text/plain": [
       "<Figure size 432x288 with 1 Axes>"
      ]
     },
     "metadata": {
      "needs_background": "light"
     },
     "output_type": "display_data"
    }
   ],
   "source": [
    "Steuerbetrag['Unterschied AS mit Abzug 2007 zu 2017'].plot(kind='barh', title = 'Veränderung Steuerertrag Alleinstehende mit Abzug in CHF')"
   ]
  },
  {
   "cell_type": "code",
   "execution_count": 19,
   "metadata": {},
   "outputs": [
    {
     "data": {
      "text/plain": [
       "Anzahl EK 0           1899\n",
       "Anzahl EK 20000      -1562\n",
       "Anzahl EK 40000      -3571\n",
       "Anzahl EK 60000       7146\n",
       "Anzahl EK 80000       4401\n",
       "Anzahl EK 100000      1986\n",
       "Anzahl EK 125000      1033\n",
       "Anzahl EK 150000       383\n",
       "Anzahl EK 175000       231\n",
       "Anzahl EK 200000        90\n",
       "Anzahl EK 250000       112\n",
       "Anzahl EK 300000        14\n",
       "Anzahl EK 400000        62\n",
       "Anzahl EK 500000        21\n",
       "Anzahl EK 750000        38\n",
       "Anzahl EK 1000000        7\n",
       "Anzahl EK 1000001        5\n",
       "Total Anzahl         12295\n",
       "Name: Unterschied AS mit Abzug 2007 zu 2017, dtype: int32"
      ]
     },
     "execution_count": 19,
     "metadata": {},
     "output_type": "execute_result"
    }
   ],
   "source": [
    "Anzahl_Steuerpflichtige['Unterschied AS mit Abzug 2007 zu 2017']"
   ]
  },
  {
   "cell_type": "code",
   "execution_count": 20,
   "metadata": {},
   "outputs": [
    {
     "data": {
      "text/plain": [
       "<matplotlib.axes._subplots.AxesSubplot at 0x1dcfe268780>"
      ]
     },
     "execution_count": 20,
     "metadata": {},
     "output_type": "execute_result"
    },
    {
     "data": {
      "image/png": "[encoded data removed]",
      "text/plain": [
       "<Figure size 432x288 with 1 Axes>"
      ]
     },
     "metadata": {
      "needs_background": "light"
     },
     "output_type": "display_data"
    }
   ],
   "source": [
    "Anzahl_Steuerpflichtige['Unterschied AS mit Abzug 2007 zu 2017'].plot(kind='barh', title = 'Veränderung Anzahl Alleinstehende mit Abzug absolute Zahlen')"
   ]
  },
  {
   "cell_type": "markdown",
   "metadata": {},
   "source": [
    "#### Kernaussage:\n",
    "Steuerertrag: Alleinstehende mit Abzug bezahlten 2017 rund 3,74 Millionen Franken mehr als 2007. Dabei nahmen die Steuererträge aus den tiefen Einkommen bis 40000 Franken ab. Besonders stark wuchsen die Erträge aus den Einkommensklassen 60000 und 80000. Auch jene der Millionäre nahm zu. \n",
    "\n",
    "Anzahl: 2017 gab es 12295 Alleinstehende mit Abzug mehr als 2007. Es gibt weniger Alleinstehende mit Abzug in den Einkommensklassen 40000 und 20000. Zugenommen haben die Singles der EK 0 (knapp 2000 mehr). Vor allem gibt es mehr Singles in der Einkommensklasse 60000 und auch in der Einkommensklasse 80000 ist der Anstieg markant.\n",
    "\n",
    "Fazit: Auch hier scheint es mengenmässig bedingt, dass es mehr Steuereinnahmen gibt."
   ]
  },
  {
   "cell_type": "markdown",
   "metadata": {},
   "source": [
    "### 2c) Ehepaare"
   ]
  },
  {
   "cell_type": "code",
   "execution_count": 21,
   "metadata": {},
   "outputs": [
    {
     "data": {
      "text/plain": [
       "<matplotlib.axes._subplots.AxesSubplot at 0x1dcff310208>"
      ]
     },
     "execution_count": 21,
     "metadata": {},
     "output_type": "execute_result"
    },
    {
     "data": {
      "image/png": "[encoded data removed]",
      "text/plain": [
       "<Figure size 432x288 with 1 Axes>"
      ]
     },
     "metadata": {
      "needs_background": "light"
     },
     "output_type": "display_data"
    }
   ],
   "source": [
    "Steuerbetrag['Unterschied Ehepaare 2007 zu 2017'].plot(kind='barh', title = 'Veränderung Steuerertrag Ehepaare in CHF')"
   ]
  },
  {
   "cell_type": "code",
   "execution_count": 22,
   "metadata": {
    "scrolled": true
   },
   "outputs": [
    {
     "data": {
      "text/plain": [
       "<matplotlib.axes._subplots.AxesSubplot at 0x1dcff3bb9e8>"
      ]
     },
     "execution_count": 22,
     "metadata": {},
     "output_type": "execute_result"
    },
    {
     "data": {
      "image/png": "[encoded data removed]",
      "text/plain": [
       "<Figure size 432x288 with 1 Axes>"
      ]
     },
     "metadata": {
      "needs_background": "light"
     },
     "output_type": "display_data"
    }
   ],
   "source": [
    "Anzahl_Steuerpflichtige['Unterschied Ehepaare 2007 zu 2017'].plot(kind='barh', title = 'Veränderung Anzahl Ehepaare absolute Zahlen')"
   ]
  },
  {
   "cell_type": "code",
   "execution_count": 23,
   "metadata": {},
   "outputs": [
    {
     "data": {
      "text/plain": [
       "Anzahl EK 0          -860\n",
       "Anzahl EK 20000      -210\n",
       "Anzahl EK 40000     -7328\n",
       "Anzahl EK 60000     -5138\n",
       "Anzahl EK 80000      1866\n",
       "Anzahl EK 100000     4054\n",
       "Anzahl EK 125000     4051\n",
       "Anzahl EK 150000     2225\n",
       "Anzahl EK 175000     1289\n",
       "Anzahl EK 200000      690\n",
       "Anzahl EK 250000      805\n",
       "Anzahl EK 300000      328\n",
       "Anzahl EK 400000      357\n",
       "Anzahl EK 500000      171\n",
       "Anzahl EK 750000      122\n",
       "Anzahl EK 1000000      36\n",
       "Anzahl EK 1000001      91\n",
       "Total Anzahl         2549\n",
       "Name: Unterschied Ehepaare 2007 zu 2017, dtype: int32"
      ]
     },
     "execution_count": 23,
     "metadata": {},
     "output_type": "execute_result"
    }
   ],
   "source": [
    "Anzahl_Steuerpflichtige['Unterschied Ehepaare 2007 zu 2017']"
   ]
  },
  {
   "cell_type": "markdown",
   "metadata": {},
   "source": [
    "#### Kernaussage:\n",
    "Steuerertrag: Ehepaare bezahlten 2017 rund 4,69 Millionen Franken mehr Steuern als 2007. In den Einkommensklassen bis 80000 Franken gingen die Erträge zurück. Dafür wuchsen sie besonders stark in den Einkommensklassen 125000 und 150000 Franken.\n",
    "\n",
    "Anzahl: Die Anzahl Ehepaare hat von 2007 bis 2017 um bloss 2549 zugenommen. Das heisst, um 5098 Personen. Das sind immer noch massiv weniger Personen als Alleinstehende mit Abzug (plus 12295) und vor allem als Alleinstehende ohne Abzug (37689). Das liegt daran, dass vor allem die Einkommensklassen 40000 und 60000 sind zurückgegangen, aber auch die tieferen EK. Der grösste Anstieg fand in den EK 100000 und 125000 statt. Das widerspiegelt sich bei den 125000 im Steuerertrag. \n",
    "\n",
    "Fazit: Die EK 125000 hat am meisten zugenommen in Steuerbetrag, aber auch in Anzahl sind das viele. Beim Steuerbetrag bezahlt die 150000 EK-Klasse mehr als die 100000, obschon weniger zugenommen hat Anzahlmässig. "
   ]
  },
  {
   "cell_type": "markdown",
   "metadata": {},
   "source": [
    "#### Ich möchte das ganze noch etwas genauer anschauen. Und schaue, wie sich die Veränderung in Prozent auswirkt."
   ]
  },
  {
   "cell_type": "markdown",
   "metadata": {},
   "source": [
    "Dazu erstelle ich wiederum in beiden DF \"Steuerbetrag\" und \"Anzahl_Steuerpflichtige\" eine Spalte, die angibt, wie viel Prozent von 2017 diese Veränderung beträgt. "
   ]
  },
  {
   "cell_type": "code",
   "execution_count": 24,
   "metadata": {},
   "outputs": [],
   "source": [
    "Steuerbetrag['Prozent Unterschied AS ohne Abzug 2007 zu 2017'] = (100 / Steuerbetrag['AS ohne Abzug 2017'] * Steuerbetrag['Unterschied AS ohne Abzug 2007 zu 2017'])\n",
    "Steuerbetrag['Prozent Unterschied AS mit Abzug 2007 zu 2017'] = (100 / Steuerbetrag['AS mit Abzug 2017'] * Steuerbetrag['Unterschied AS mit Abzug 2007 zu 2017'])\n",
    "Steuerbetrag['Prozent Unterschied Ehepaare 2007 zu 2017'] = (100 / Steuerbetrag['Ehepaare 2017'] * Steuerbetrag['Unterschied Ehepaare 2007 zu 2017'])"
   ]
  },
  {
   "cell_type": "code",
   "execution_count": 25,
   "metadata": {},
   "outputs": [],
   "source": [
    "Anzahl_Steuerpflichtige['Prozent Unterschied AS ohne Abzug 2007 zu 2017'] = (100 / Anzahl_Steuerpflichtige['AS ohne Abzug 2017'] * Anzahl_Steuerpflichtige['Unterschied AS ohne Abzug 2007 zu 2017'])\n",
    "Anzahl_Steuerpflichtige['Prozent Unterschied AS mit Abzug 2007 zu 2017'] = (100 / Anzahl_Steuerpflichtige['AS mit Abzug 2017'] * Anzahl_Steuerpflichtige['Unterschied AS mit Abzug 2007 zu 2017'])\n",
    "Anzahl_Steuerpflichtige['Prozent Unterschied Ehepaare 2007 zu 2017'] = (100 / Anzahl_Steuerpflichtige['Ehepaare 2017'] * Anzahl_Steuerpflichtige['Unterschied Ehepaare 2007 zu 2017'])"
   ]
  },
  {
   "cell_type": "markdown",
   "metadata": {},
   "source": [
    "### 2d) Alleinstehende ohne Abzug Prozent"
   ]
  },
  {
   "cell_type": "code",
   "execution_count": 26,
   "metadata": {},
   "outputs": [
    {
     "data": {
      "text/plain": [
       "<matplotlib.axes._subplots.AxesSubplot at 0x1dcff43b198>"
      ]
     },
     "execution_count": 26,
     "metadata": {},
     "output_type": "execute_result"
    },
    {
     "data": {
      "image/png": "[encoded data removed]",
      "text/plain": [
       "<Figure size 432x288 with 1 Axes>"
      ]
     },
     "metadata": {
      "needs_background": "light"
     },
     "output_type": "display_data"
    }
   ],
   "source": [
    "Steuerbetrag['Prozent Unterschied AS ohne Abzug 2007 zu 2017'].plot(kind='barh', title = 'Veränderung Steuerertrag Alleinstehende ohne Abzug in Prozent')"
   ]
  },
  {
   "cell_type": "code",
   "execution_count": 27,
   "metadata": {},
   "outputs": [
    {
     "data": {
      "text/plain": [
       "<matplotlib.axes._subplots.AxesSubplot at 0x1dcff50dd68>"
      ]
     },
     "execution_count": 27,
     "metadata": {},
     "output_type": "execute_result"
    },
    {
     "data": {
      "image/png": "[encoded data removed]",
      "text/plain": [
       "<Figure size 432x288 with 1 Axes>"
      ]
     },
     "metadata": {
      "needs_background": "light"
     },
     "output_type": "display_data"
    }
   ],
   "source": [
    "Anzahl_Steuerpflichtige['Prozent Unterschied AS ohne Abzug 2007 zu 2017'].plot(kind='barh', title = 'Veränderung Anzahl Alleinstehende ohne Abzug in Prozent')"
   ]
  },
  {
   "cell_type": "markdown",
   "metadata": {},
   "source": [
    "#### Kernaussage: \n",
    "\n",
    "Prozentual hat vor allem die EK von 100000 zugenommen, sowohl bei den Steuereinnahmen als auch bei der Anzahl. Das heisst, es gibt verhältnismässig recht viel mehr Millionäre, das sieht man auch an den Einnahmen. \n",
    "\n",
    "Insgesamt verändert sich der Steuerertrag um 29,13 Prozent. Die Anzahl hat sich aber lediglich um 14,19 Prozent gesteigert.\n",
    "\n",
    "Das heisst, diese Steuerzahler haben in den letzten zehn Jahren mehr Steuern bezahlt. Das könnte daran liegen, dass es einen verhältnismässig starken Anstieg in den hohen Einkommensklassen gibt, die entsprechend auch höhere Steuerbeträge bezahlen.  "
   ]
  },
  {
   "cell_type": "markdown",
   "metadata": {},
   "source": [
    "### 2e) Alleinstehende mit Abzug in Prozent"
   ]
  },
  {
   "cell_type": "code",
   "execution_count": 28,
   "metadata": {},
   "outputs": [
    {
     "data": {
      "text/plain": [
       "<matplotlib.axes._subplots.AxesSubplot at 0x1dcff5ad390>"
      ]
     },
     "execution_count": 28,
     "metadata": {},
     "output_type": "execute_result"
    },
    {
     "data": {
      "image/png": "[encoded data removed]",
      "text/plain": [
       "<Figure size 432x288 with 1 Axes>"
      ]
     },
     "metadata": {
      "needs_background": "light"
     },
     "output_type": "display_data"
    }
   ],
   "source": [
    "Steuerbetrag['Prozent Unterschied AS mit Abzug 2007 zu 2017'].plot(kind='barh', title = 'Veränderung Steuerertrag Alleinstehende ohne Abzug in Prozent')"
   ]
  },
  {
   "cell_type": "code",
   "execution_count": 29,
   "metadata": {},
   "outputs": [
    {
     "data": {
      "text/plain": [
       "<matplotlib.axes._subplots.AxesSubplot at 0x1dcff650780>"
      ]
     },
     "execution_count": 29,
     "metadata": {},
     "output_type": "execute_result"
    },
    {
     "data": {
      "image/png": "[encoded data removed]",
      "text/plain": [
       "<Figure size 432x288 with 1 Axes>"
      ]
     },
     "metadata": {
      "needs_background": "light"
     },
     "output_type": "display_data"
    }
   ],
   "source": [
    "Anzahl_Steuerpflichtige['Prozent Unterschied AS mit Abzug 2007 zu 2017'].plot(kind='barh', title = 'Veränderung Anzahl Alleinstehende ohne Abzug in Prozent')"
   ]
  },
  {
   "cell_type": "markdown",
   "metadata": {},
   "source": [
    "#### Kernaussage: \n",
    "\n",
    "Prozentmässig hat die Anzahl der EK 750000 am stärksten zugelegt, was sich auch in Steuererträgen wiederspiegelt. Prozentmässig weniger Steuern bezahlte die EK 300000; sie hat auch nur leicht zugelegt in Prozent anteilsmässig. "
   ]
  },
  {
   "cell_type": "markdown",
   "metadata": {},
   "source": [
    "### 2f) Ehepaare in Prozent"
   ]
  },
  {
   "cell_type": "code",
   "execution_count": 30,
   "metadata": {},
   "outputs": [
    {
     "data": {
      "text/plain": [
       "<matplotlib.axes._subplots.AxesSubplot at 0x1dcff656d30>"
      ]
     },
     "execution_count": 30,
     "metadata": {},
     "output_type": "execute_result"
    },
    {
     "data": {
      "image/png": "[encoded data removed]",
      "text/plain": [
       "<Figure size 432x288 with 1 Axes>"
      ]
     },
     "metadata": {
      "needs_background": "light"
     },
     "output_type": "display_data"
    }
   ],
   "source": [
    "Steuerbetrag['Prozent Unterschied Ehepaare 2007 zu 2017'].plot(kind='barh', title = 'Veränderung Steuerertrag Ehepaare in Prozent')"
   ]
  },
  {
   "cell_type": "code",
   "execution_count": 31,
   "metadata": {},
   "outputs": [
    {
     "data": {
      "text/plain": [
       "<matplotlib.axes._subplots.AxesSubplot at 0x1dcff7a1ef0>"
      ]
     },
     "execution_count": 31,
     "metadata": {},
     "output_type": "execute_result"
    },
    {
     "data": {
      "image/png": "[encoded data removed]",
      "text/plain": [
       "<Figure size 432x288 with 1 Axes>"
      ]
     },
     "metadata": {
      "needs_background": "light"
     },
     "output_type": "display_data"
    }
   ],
   "source": [
    "Anzahl_Steuerpflichtige['Prozent Unterschied Ehepaare 2007 zu 2017'].plot(kind='barh', title = 'Veränderung Anzahl Ehepaare in Prozent')"
   ]
  },
  {
   "cell_type": "markdown",
   "metadata": {},
   "source": [
    "#### Kernaussage: \n",
    "\n",
    "Auch bei den Ehepaaren haben die Besserverdienenden Anzahl- und Steuerertragsmässig prozentual zugelegt (ab 1000001 chf). Insgesamt lässt sich das Bild festhalten, dass es den Bernerinnen und Bernern einkommensmässig immer besser geht und sich das entsprechend auch niederschlägt auf die Steuern. \n",
    "\n",
    "Die einzige Kategorie, in der EK 0 prozentmässig (und wohl auch in absoluten Zahlen) zugenommen hat, sind die Alleinstehenden ohne Abzug. Sind dort die Rentner dabei, im Altersheim? Mehr Studis? Oder zeigt das ein Armutsrisiko?"
   ]
  },
  {
   "cell_type": "markdown",
   "metadata": {},
   "source": [
    "### 2e) Unterschied der Anzahl Steuerzahler nach Einkommensklassen"
   ]
  },
  {
   "cell_type": "code",
   "execution_count": 64,
   "metadata": {
    "scrolled": true
   },
   "outputs": [
    {
     "data": {
      "text/plain": [
       "Anzahl EK 0            893\n",
       "Anzahl EK 20000       3212\n",
       "Anzahl EK 40000      -4734\n",
       "Anzahl EK 60000      17139\n",
       "Anzahl EK 80000      12714\n",
       "Anzahl EK 100000      8690\n",
       "Anzahl EK 125000      6322\n",
       "Anzahl EK 150000      3090\n",
       "Anzahl EK 175000      1779\n",
       "Anzahl EK 200000       921\n",
       "Anzahl EK 250000      1001\n",
       "Anzahl EK 300000       425\n",
       "Anzahl EK 400000       495\n",
       "Anzahl EK 500000       210\n",
       "Anzahl EK 750000       192\n",
       "Anzahl EK 1000000       67\n",
       "Anzahl EK 1000001      117\n",
       "Total Anzahl         52533\n",
       "Name: Unterschied Total, dtype: int32"
      ]
     },
     "execution_count": 64,
     "metadata": {},
     "output_type": "execute_result"
    }
   ],
   "source": [
    "Anzahl_Steuerpflichtige['Unterschied Total'] = Anzahl_Steuerpflichtige['Total 2017'] - Anzahl_Steuerpflichtige['Total 2007']  #hier neue kolonne machen, in der ich das total von 2017 minus das total \n",
    "Anzahl_Steuerpflichtige['Unterschied Total']"
   ]
  },
  {
   "cell_type": "markdown",
   "metadata": {},
   "source": [
    "#### Kernaussage:"
   ]
  },
  {
   "cell_type": "markdown",
   "metadata": {},
   "source": [
    "Am stärksten angestiegen anzahlmässig sind die Einkommensklassen zwischen 40000 und 80000 Franken. Die einzige Einkommensklasse, die abgenommen hat, ist jene von 20000 bis 40000 Franken."
   ]
  },
  {
   "cell_type": "markdown",
   "metadata": {},
   "source": [
    "# 3. Wie hat sich der total Steuerertrag der einzelnen Kategorien entwickelt?"
   ]
  },
  {
   "cell_type": "markdown",
   "metadata": {},
   "source": [
    "Als erstes unterteile ich die Dataframes in einzelne Dataframes pro Steuerzahlerkategorie"
   ]
  },
  {
   "cell_type": "code",
   "execution_count": 32,
   "metadata": {},
   "outputs": [],
   "source": [
    "# Meine Dataframes für die Anzahl Steuerpflichtige\n",
    "\n",
    "joker = Anzahl_Steuerpflichtige.T\n",
    "\n",
    "Anzahl_Alleinstehende_mit_Abzug = joker.drop(['AS ohne Abzug 2007', 'AS ohne Abzug 2008','AS ohne Abzug 2009','AS ohne Abzug 2010',\n",
    "                                              'AS ohne Abzug 2011','AS ohne Abzug 2012','AS ohne Abzug 2013','AS ohne Abzug 2014',\n",
    "                                              'AS ohne Abzug 2015','AS ohne Abzug 2016','AS ohne Abzug 2017',\n",
    "                                              'Ehepaare 2007', 'Ehepaare 2008','Ehepaare 2009','Ehepaare 2010','Ehepaare 2011',\n",
    "                                              'Ehepaare 2012','Ehepaare 2013','Ehepaare 2014','Ehepaare 2015','Ehepaare 2016','Ehepaare 2017',\n",
    "                                             'Unterschied Ehepaare 2007 zu 2017', 'Unterschied AS ohne Abzug 2007 zu 2017', \n",
    "                                              'Prozent Unterschied AS ohne Abzug 2007 zu 2017', 'Prozent Unterschied AS mit Abzug 2007 zu 2017', \n",
    "                                                     'Unterschied AS mit Abzug 2007 zu 2017','Prozent Unterschied Ehepaare 2007 zu 2017',\n",
    "                                             'Total 2007', 'Total 2008','Total 2009','Total 2010','Total 2011','Total 2012',\n",
    "                              'Total 2013','Total 2014','Total 2015','Total 2016','Total 2017'])\n",
    "\n",
    "\n",
    "Anzahl_Alleinstehende_ohne_Abzug = joker.drop(['AS mit Abzug 2007', 'AS mit Abzug 2008','AS mit Abzug 2009','AS mit Abzug 2010',\n",
    "                                              'AS mit Abzug 2011','AS mit Abzug 2012','AS mit Abzug 2013','AS mit Abzug 2014',\n",
    "                                              'AS mit Abzug 2015','AS mit Abzug 2016','AS mit Abzug 2017',\n",
    "                                              'Ehepaare 2007', 'Ehepaare 2008','Ehepaare 2009','Ehepaare 2010','Ehepaare 2011',\n",
    "                                              'Ehepaare 2012','Ehepaare 2013','Ehepaare 2014','Ehepaare 2015','Ehepaare 2016','Ehepaare 2017',\n",
    "                                             'Unterschied Ehepaare 2007 zu 2017', 'Unterschied AS mit Abzug 2007 zu 2017', \n",
    "                                              'Prozent Unterschied AS mit Abzug 2007 zu 2017', 'Unterschied AS ohne Abzug 2007 zu 2017', \n",
    "                                                      'Prozent Unterschied Ehepaare 2007 zu 2017','Prozent Unterschied AS ohne Abzug 2007 zu 2017', \n",
    "                                              'Total 2007', 'Total 2008','Total 2009','Total 2010','Total 2011','Total 2012',\n",
    "                              'Total 2013','Total 2014','Total 2015','Total 2016','Total 2017'])\n",
    "\n",
    "Anzahl_Ehepaare = joker.drop(['AS mit Abzug 2007', 'AS mit Abzug 2008','AS mit Abzug 2009','AS mit Abzug 2010',\n",
    "                              'AS mit Abzug 2011','AS mit Abzug 2012','AS mit Abzug 2013','AS mit Abzug 2014',\n",
    "                              'AS mit Abzug 2015','AS mit Abzug 2016','AS mit Abzug 2017','AS ohne Abzug 2007', \n",
    "                              'AS ohne Abzug 2008','AS ohne Abzug 2009','AS ohne Abzug 2010','AS ohne Abzug 2011',\n",
    "                              'AS ohne Abzug 2012','AS ohne Abzug 2013','AS ohne Abzug 2014','AS ohne Abzug 2015',\n",
    "                              'AS ohne Abzug 2016','AS ohne Abzug 2017', 'Unterschied AS ohne Abzug 2007 zu 2017', \n",
    "                              'Unterschied AS mit Abzug 2007 zu 2017', 'Unterschied Ehepaare 2007 zu 2017', \n",
    "                                     'Prozent Unterschied AS mit Abzug 2007 zu 2017', \n",
    "                              'Prozent Unterschied AS ohne Abzug 2007 zu 2017', 'Prozent Unterschied Ehepaare 2007 zu 2017', \n",
    "                              'Total 2007', 'Total 2008','Total 2009','Total 2010','Total 2011','Total 2012',\n",
    "                              'Total 2013','Total 2014','Total 2015','Total 2016','Total 2017'])"
   ]
  },
  {
   "cell_type": "code",
   "execution_count": 33,
   "metadata": {},
   "outputs": [],
   "source": [
    "# Meine Dataframes für die Steuererträge\n",
    "\n",
    "joker2 = Steuerbetrag.T\n",
    "\n",
    "Steuerbetrag_Alleinstehende_mit_Abzug = joker2.drop(['AS ohne Abzug 2007', 'AS ohne Abzug 2008','AS ohne Abzug 2009','AS ohne Abzug 2010',\n",
    "                                              'AS ohne Abzug 2011','AS ohne Abzug 2012','AS ohne Abzug 2013','AS ohne Abzug 2014',\n",
    "                                              'AS ohne Abzug 2015','AS ohne Abzug 2016','AS ohne Abzug 2017',\n",
    "                                              'Ehepaare 2007', 'Ehepaare 2008','Ehepaare 2009','Ehepaare 2010','Ehepaare 2011',\n",
    "                                              'Ehepaare 2012','Ehepaare 2013','Ehepaare 2014','Ehepaare 2015','Ehepaare 2016','Ehepaare 2017',\n",
    "                                             'Unterschied Ehepaare 2007 zu 2017', 'Unterschied AS ohne Abzug 2007 zu 2017', \n",
    "                                              'Prozent Unterschied AS ohne Abzug 2007 zu 2017', 'Prozent Unterschied AS mit Abzug 2007 zu 2017', \n",
    "                                                     'Unterschied AS mit Abzug 2007 zu 2017','Prozent Unterschied Ehepaare 2007 zu 2017',\n",
    "                                                    'Total 2007', 'Total 2008','Total 2009','Total 2010','Total 2011','Total 2012',\n",
    "                                                  'Total 2013','Total 2014','Total 2015','Total 2016','Total 2017'])\n",
    "\n",
    "Steuerbetrag_Alleinstehende_ohne_Abzug = joker2.drop(['AS mit Abzug 2007', 'AS mit Abzug 2008','AS mit Abzug 2009','AS mit Abzug 2010',\n",
    "                                              'AS mit Abzug 2011','AS mit Abzug 2012','AS mit Abzug 2013','AS mit Abzug 2014',\n",
    "                                              'AS mit Abzug 2015','AS mit Abzug 2016','AS mit Abzug 2017',\n",
    "                                              'Ehepaare 2007', 'Ehepaare 2008','Ehepaare 2009','Ehepaare 2010','Ehepaare 2011',\n",
    "                                              'Ehepaare 2012','Ehepaare 2013','Ehepaare 2014','Ehepaare 2015','Ehepaare 2016','Ehepaare 2017',\n",
    "                                             'Unterschied Ehepaare 2007 zu 2017', 'Unterschied AS mit Abzug 2007 zu 2017', \n",
    "                                              'Prozent Unterschied AS mit Abzug 2007 zu 2017', 'Unterschied AS ohne Abzug 2007 zu 2017', \n",
    "                                                      'Prozent Unterschied Ehepaare 2007 zu 2017','Prozent Unterschied AS ohne Abzug 2007 zu 2017',\n",
    "                                                     'Total 2007', 'Total 2008','Total 2009','Total 2010','Total 2011','Total 2012',\n",
    "                              'Total 2013','Total 2014','Total 2015','Total 2016','Total 2017'])\n",
    "\n",
    "Steuerbetrag_Ehepaare = joker2.drop(['AS mit Abzug 2007', 'AS mit Abzug 2008','AS mit Abzug 2009','AS mit Abzug 2010',\n",
    "                              'AS mit Abzug 2011','AS mit Abzug 2012','AS mit Abzug 2013','AS mit Abzug 2014',\n",
    "                              'AS mit Abzug 2015','AS mit Abzug 2016','AS mit Abzug 2017','AS ohne Abzug 2007', \n",
    "                              'AS ohne Abzug 2008','AS ohne Abzug 2009','AS ohne Abzug 2010','AS ohne Abzug 2011',\n",
    "                              'AS ohne Abzug 2012','AS ohne Abzug 2013','AS ohne Abzug 2014','AS ohne Abzug 2015',\n",
    "                              'AS ohne Abzug 2016','AS ohne Abzug 2017', 'Unterschied AS ohne Abzug 2007 zu 2017', \n",
    "                              'Unterschied AS mit Abzug 2007 zu 2017', 'Unterschied Ehepaare 2007 zu 2017', \n",
    "                                     'Prozent Unterschied AS mit Abzug 2007 zu 2017', \n",
    "                              'Prozent Unterschied AS ohne Abzug 2007 zu 2017', 'Prozent Unterschied Ehepaare 2007 zu 2017', 'Total 2007', 'Total 2008','Total 2009','Total 2010','Total 2011','Total 2012',\n",
    "                              'Total 2013','Total 2014','Total 2015','Total 2016','Total 2017'])"
   ]
  },
  {
   "cell_type": "markdown",
   "metadata": {},
   "source": [
    "### 3a) Ehepaare"
   ]
  },
  {
   "cell_type": "code",
   "execution_count": 34,
   "metadata": {},
   "outputs": [
    {
     "data": {
      "text/plain": [
       "<matplotlib.axes._subplots.AxesSubplot at 0x1dcff84e9e8>"
      ]
     },
     "execution_count": 34,
     "metadata": {},
     "output_type": "execute_result"
    },
    {
     "data": {
      "image/png": "[encoded data removed]",
      "text/plain": [
       "<Figure size 432x288 with 1 Axes>"
      ]
     },
     "metadata": {
      "needs_background": "light"
     },
     "output_type": "display_data"
    }
   ],
   "source": [
    "Steuerbetrag_Ehepaare['Total Steuerertrag'].sort_index().plot(kind = 'bar',\n",
    "                                                             title = 'Entwicklung Steuerertrag Ehepaare')"
   ]
  },
  {
   "cell_type": "code",
   "execution_count": 35,
   "metadata": {
    "scrolled": true
   },
   "outputs": [
    {
     "data": {
      "text/plain": [
       "<matplotlib.axes._subplots.AxesSubplot at 0x1dcff8d56d8>"
      ]
     },
     "execution_count": 35,
     "metadata": {},
     "output_type": "execute_result"
    },
    {
     "data": {
      "image/png": "[encoded data removed]",
      "text/plain": [
       "<Figure size 432x288 with 1 Axes>"
      ]
     },
     "metadata": {
      "needs_background": "light"
     },
     "output_type": "display_data"
    }
   ],
   "source": [
    "Anzahl_Ehepaare['Total Anzahl'].sort_index().plot(kind = 'bar', title = 'Entwicklung Anzahl Ehepaare')"
   ]
  },
  {
   "cell_type": "markdown",
   "metadata": {},
   "source": [
    "#### Kernaussage: \n",
    "Die Anzahl Ehepaare ist insgesamt relativ stabil geblieben (228051 in 2007; 230600 in 2017; Unterschied 2'549‬, das sind 1,1 Prozent). Seit 2014 jedoch steigt der Steuerertrag aus dieser Kategorie stetig an (556701434 im 2007; 603593842 im 2017; Unterschied 46'892'408, das sind 7,8 Prozent). "
   ]
  },
  {
   "cell_type": "markdown",
   "metadata": {},
   "source": [
    "### 3b) Alleinstehende ohne Abzug"
   ]
  },
  {
   "cell_type": "code",
   "execution_count": 36,
   "metadata": {
    "scrolled": false
   },
   "outputs": [
    {
     "data": {
      "text/plain": [
       "<matplotlib.axes._subplots.AxesSubplot at 0x1dcff9475c0>"
      ]
     },
     "execution_count": 36,
     "metadata": {},
     "output_type": "execute_result"
    },
    {
     "data": {
      "image/png": "[encoded data removed]",
      "text/plain": [
       "<Figure size 432x288 with 1 Axes>"
      ]
     },
     "metadata": {
      "needs_background": "light"
     },
     "output_type": "display_data"
    }
   ],
   "source": [
    "Anzahl_Alleinstehende_ohne_Abzug['Total Anzahl'].sort_index().plot(kind = 'bar', \n",
    "                                                                   title = 'Entwicklung Anzahl Alleinstehende ohne Abzug')"
   ]
  },
  {
   "cell_type": "code",
   "execution_count": 37,
   "metadata": {
    "scrolled": true
   },
   "outputs": [
    {
     "data": {
      "text/plain": [
       "<matplotlib.axes._subplots.AxesSubplot at 0x1dcff9d8b38>"
      ]
     },
     "execution_count": 37,
     "metadata": {},
     "output_type": "execute_result"
    },
    {
     "data": {
      "image/png": "[encoded data removed]",
      "text/plain": [
       "<Figure size 432x288 with 1 Axes>"
      ]
     },
     "metadata": {
      "needs_background": "light"
     },
     "output_type": "display_data"
    }
   ],
   "source": [
    "Steuerbetrag_Alleinstehende_ohne_Abzug['Total Steuerertrag'].sort_index().plot(kind = 'bar', \n",
    "                                                                               title = 'Entwicklung Steuerertrag Alleinstehende ohne Abzug')"
   ]
  },
  {
   "cell_type": "markdown",
   "metadata": {},
   "source": [
    "#### Kernaussage: \n",
    "Das Steuerspitzenjahr der Anzahl Alleinstehende ohne Abzug war 2013. Damals gab es im Vergleich zu den anderen Jahren am meisten von ihnen (265846), 2017 sind es mit 265578 leicht weniger, allerdings gab es 2014 wieder ein leichte Delle, seither steigt die Anzahl weiter. Insgesamt ist die Anzahl seit 2007 um 37'689 Leute angewachsen. Das sind 14,19 Prozent.\n",
    "\n",
    "Allerdings war 2013 nicht auch das Spitzenjahr an Steuereinnahmen aus dieser Kategorie. Vielmehr sind die Steuereinnahmen nach der leichten Delle von 2014 kontinuierlich wieder angestiegen. 2007 betrugen sie 191210234 Franken, 2017 waren es 269811782 Franken. (Unterschied: 78'601'548 Franken, das sind stolze 29,13 Prozent!!!). "
   ]
  },
  {
   "cell_type": "markdown",
   "metadata": {},
   "source": [
    "### 3c) Alleinstehende mit Abzug"
   ]
  },
  {
   "cell_type": "code",
   "execution_count": 38,
   "metadata": {
    "scrolled": true
   },
   "outputs": [
    {
     "data": {
      "text/plain": [
       "<matplotlib.axes._subplots.AxesSubplot at 0x1dcffa5b4a8>"
      ]
     },
     "execution_count": 38,
     "metadata": {},
     "output_type": "execute_result"
    },
    {
     "data": {
      "image/png": "[encoded data removed]",
      "text/plain": [
       "<Figure size 432x288 with 1 Axes>"
      ]
     },
     "metadata": {
      "needs_background": "light"
     },
     "output_type": "display_data"
    }
   ],
   "source": [
    "Steuerbetrag_Alleinstehende_mit_Abzug['Total Steuerertrag'].sort_index().plot(kind = 'bar',\n",
    "                                                                             title = 'Entwicklung Steuerertrag Alleinstehende mit Abzug')"
   ]
  },
  {
   "cell_type": "code",
   "execution_count": 39,
   "metadata": {
    "scrolled": true
   },
   "outputs": [
    {
     "data": {
      "text/plain": [
       "<matplotlib.axes._subplots.AxesSubplot at 0x1dcff9d8ba8>"
      ]
     },
     "execution_count": 39,
     "metadata": {},
     "output_type": "execute_result"
    },
    {
     "data": {
      "image/png": "[encoded data removed]",
      "text/plain": [
       "<Figure size 432x288 with 1 Axes>"
      ]
     },
     "metadata": {
      "needs_background": "light"
     },
     "output_type": "display_data"
    }
   ],
   "source": [
    "Anzahl_Alleinstehende_mit_Abzug['Total Anzahl'].sort_index().plot(kind = 'bar', \n",
    "                                                                   title = 'Entwicklung Anzahl Alleinstehende mit Abzug')"
   ]
  },
  {
   "cell_type": "markdown",
   "metadata": {},
   "source": [
    "#### Kernaussage: \n",
    "Bei den Alleinstehenden mit Abzug steigen sowohl die Anzahl als auch der Steuerertrag ab 2014 markant an, während beides vorher leicht zurückging. \n",
    "\n",
    "2017 gab es 12'295‬ Steuerzahler mehr, das sind 6.67 Prozent. Der Steuerertrag nahm um 37'440'965‬ Franken zu, das sind 13 Prozent. "
   ]
  },
  {
   "cell_type": "markdown",
   "metadata": {},
   "source": [
    "### 3d) Das ganze übereinander geplottet"
   ]
  },
  {
   "cell_type": "code",
   "execution_count": 40,
   "metadata": {},
   "outputs": [],
   "source": [
    "import matplotlib.pyplot as plt"
   ]
  },
  {
   "cell_type": "markdown",
   "metadata": {},
   "source": [
    "#### Steuerbetrag"
   ]
  },
  {
   "cell_type": "code",
   "execution_count": 41,
   "metadata": {},
   "outputs": [],
   "source": [
    "data1 = Steuerbetrag_Alleinstehende_ohne_Abzug['Total Steuerertrag'].sort_index()\n",
    "data2 = Steuerbetrag_Alleinstehende_mit_Abzug['Total Steuerertrag'].sort_index()\n",
    "data3 = Steuerbetrag_Ehepaare['Total Steuerertrag'].sort_index()\n",
    "\n",
    "df_neu = pd.concat([data1.reset_index(), data2.reset_index(), data3.reset_index()], axis = 1)"
   ]
  },
  {
   "cell_type": "code",
   "execution_count": 42,
   "metadata": {
    "scrolled": true
   },
   "outputs": [],
   "source": [
    "df_neu.columns = ['Index 1', 'Total Ertrag AS ohne Abzug', 'Index2', 'Total Ertrag AS mit Abzug', 'Index 3', 'Total Ertrag Ehepaare']"
   ]
  },
  {
   "cell_type": "code",
   "execution_count": 43,
   "metadata": {},
   "outputs": [],
   "source": [
    "df_neu['Jahr'] = df_neu['Index 1'].str[-4:]"
   ]
  },
  {
   "cell_type": "code",
   "execution_count": 44,
   "metadata": {},
   "outputs": [
    {
     "data": {
      "text/html": [
       "<div>\n",
       "<style scoped>\n",
       "    .dataframe tbody tr th:only-of-type {\n",
       "        vertical-align: middle;\n",
       "    }\n",
       "\n",
       "    .dataframe tbody tr th {\n",
       "        vertical-align: top;\n",
       "    }\n",
       "\n",
       "    .dataframe thead th {\n",
       "        text-align: right;\n",
       "    }\n",
       "</style>\n",
       "<table border=\"1\" class=\"dataframe\">\n",
       "  <thead>\n",
       "    <tr style=\"text-align: right;\">\n",
       "      <th></th>\n",
       "      <th>Index 1</th>\n",
       "      <th>Total Ertrag AS ohne Abzug</th>\n",
       "      <th>Index2</th>\n",
       "      <th>Total Ertrag AS mit Abzug</th>\n",
       "      <th>Index 3</th>\n",
       "      <th>Total Ertrag Ehepaare</th>\n",
       "      <th>Jahr</th>\n",
       "    </tr>\n",
       "  </thead>\n",
       "  <tbody>\n",
       "    <tr>\n",
       "      <th>0</th>\n",
       "      <td>AS ohne Abzug 2007</td>\n",
       "      <td>191210234.0</td>\n",
       "      <td>AS mit Abzug 2007</td>\n",
       "      <td>250622274.0</td>\n",
       "      <td>Ehepaare 2007</td>\n",
       "      <td>556701434.0</td>\n",
       "      <td>2007</td>\n",
       "    </tr>\n",
       "    <tr>\n",
       "      <th>1</th>\n",
       "      <td>AS ohne Abzug 2008</td>\n",
       "      <td>207484005.0</td>\n",
       "      <td>AS mit Abzug 2008</td>\n",
       "      <td>254609035.0</td>\n",
       "      <td>Ehepaare 2008</td>\n",
       "      <td>568280729.0</td>\n",
       "      <td>2008</td>\n",
       "    </tr>\n",
       "    <tr>\n",
       "      <th>2</th>\n",
       "      <td>AS ohne Abzug 2009</td>\n",
       "      <td>214430970.0</td>\n",
       "      <td>AS mit Abzug 2009</td>\n",
       "      <td>251225876.0</td>\n",
       "      <td>Ehepaare 2009</td>\n",
       "      <td>548980449.0</td>\n",
       "      <td>2009</td>\n",
       "    </tr>\n",
       "    <tr>\n",
       "      <th>3</th>\n",
       "      <td>AS ohne Abzug 2010</td>\n",
       "      <td>224206080.0</td>\n",
       "      <td>AS mit Abzug 2010</td>\n",
       "      <td>252510011.0</td>\n",
       "      <td>Ehepaare 2010</td>\n",
       "      <td>558570638.0</td>\n",
       "      <td>2010</td>\n",
       "    </tr>\n",
       "    <tr>\n",
       "      <th>4</th>\n",
       "      <td>AS ohne Abzug 2011</td>\n",
       "      <td>232811844.0</td>\n",
       "      <td>AS mit Abzug 2011</td>\n",
       "      <td>251454022.0</td>\n",
       "      <td>Ehepaare 2011</td>\n",
       "      <td>556688683.0</td>\n",
       "      <td>2011</td>\n",
       "    </tr>\n",
       "    <tr>\n",
       "      <th>5</th>\n",
       "      <td>AS ohne Abzug 2012</td>\n",
       "      <td>240871437.0</td>\n",
       "      <td>AS mit Abzug 2012</td>\n",
       "      <td>247143291.0</td>\n",
       "      <td>Ehepaare 2012</td>\n",
       "      <td>548793279.0</td>\n",
       "      <td>2012</td>\n",
       "    </tr>\n",
       "    <tr>\n",
       "      <th>6</th>\n",
       "      <td>AS ohne Abzug 2013</td>\n",
       "      <td>251274663.0</td>\n",
       "      <td>AS mit Abzug 2013</td>\n",
       "      <td>249814087.0</td>\n",
       "      <td>Ehepaare 2013</td>\n",
       "      <td>551110826.0</td>\n",
       "      <td>2013</td>\n",
       "    </tr>\n",
       "    <tr>\n",
       "      <th>7</th>\n",
       "      <td>AS ohne Abzug 2014</td>\n",
       "      <td>243560304.0</td>\n",
       "      <td>AS mit Abzug 2014</td>\n",
       "      <td>275827208.0</td>\n",
       "      <td>Ehepaare 2014</td>\n",
       "      <td>568562889.0</td>\n",
       "      <td>2014</td>\n",
       "    </tr>\n",
       "    <tr>\n",
       "      <th>8</th>\n",
       "      <td>AS ohne Abzug 2015</td>\n",
       "      <td>255212257.0</td>\n",
       "      <td>AS mit Abzug 2015</td>\n",
       "      <td>281569214.0</td>\n",
       "      <td>Ehepaare 2015</td>\n",
       "      <td>583158803.0</td>\n",
       "      <td>2015</td>\n",
       "    </tr>\n",
       "    <tr>\n",
       "      <th>9</th>\n",
       "      <td>AS ohne Abzug 2016</td>\n",
       "      <td>263537742.0</td>\n",
       "      <td>AS mit Abzug 2016</td>\n",
       "      <td>285956990.0</td>\n",
       "      <td>Ehepaare 2016</td>\n",
       "      <td>595679522.0</td>\n",
       "      <td>2016</td>\n",
       "    </tr>\n",
       "    <tr>\n",
       "      <th>10</th>\n",
       "      <td>AS ohne Abzug 2017</td>\n",
       "      <td>269811782.0</td>\n",
       "      <td>AS mit Abzug 2017</td>\n",
       "      <td>288063239.0</td>\n",
       "      <td>Ehepaare 2017</td>\n",
       "      <td>603593842.0</td>\n",
       "      <td>2017</td>\n",
       "    </tr>\n",
       "  </tbody>\n",
       "</table>\n",
       "</div>"
      ],
      "text/plain": [
       "               Index 1  Total Ertrag AS ohne Abzug             Index2  \\\n",
       "0   AS ohne Abzug 2007                 191210234.0  AS mit Abzug 2007   \n",
       "1   AS ohne Abzug 2008                 207484005.0  AS mit Abzug 2008   \n",
       "2   AS ohne Abzug 2009                 214430970.0  AS mit Abzug 2009   \n",
       "3   AS ohne Abzug 2010                 224206080.0  AS mit Abzug 2010   \n",
       "4   AS ohne Abzug 2011                 232811844.0  AS mit Abzug 2011   \n",
       "5   AS ohne Abzug 2012                 240871437.0  AS mit Abzug 2012   \n",
       "6   AS ohne Abzug 2013                 251274663.0  AS mit Abzug 2013   \n",
       "7   AS ohne Abzug 2014                 243560304.0  AS mit Abzug 2014   \n",
       "8   AS ohne Abzug 2015                 255212257.0  AS mit Abzug 2015   \n",
       "9   AS ohne Abzug 2016                 263537742.0  AS mit Abzug 2016   \n",
       "10  AS ohne Abzug 2017                 269811782.0  AS mit Abzug 2017   \n",
       "\n",
       "    Total Ertrag AS mit Abzug        Index 3  Total Ertrag Ehepaare  Jahr  \n",
       "0                 250622274.0  Ehepaare 2007            556701434.0  2007  \n",
       "1                 254609035.0  Ehepaare 2008            568280729.0  2008  \n",
       "2                 251225876.0  Ehepaare 2009            548980449.0  2009  \n",
       "3                 252510011.0  Ehepaare 2010            558570638.0  2010  \n",
       "4                 251454022.0  Ehepaare 2011            556688683.0  2011  \n",
       "5                 247143291.0  Ehepaare 2012            548793279.0  2012  \n",
       "6                 249814087.0  Ehepaare 2013            551110826.0  2013  \n",
       "7                 275827208.0  Ehepaare 2014            568562889.0  2014  \n",
       "8                 281569214.0  Ehepaare 2015            583158803.0  2015  \n",
       "9                 285956990.0  Ehepaare 2016            595679522.0  2016  \n",
       "10                288063239.0  Ehepaare 2017            603593842.0  2017  "
      ]
     },
     "execution_count": 44,
     "metadata": {},
     "output_type": "execute_result"
    }
   ],
   "source": [
    "df_neu"
   ]
  },
  {
   "cell_type": "code",
   "execution_count": 45,
   "metadata": {},
   "outputs": [],
   "source": [
    "df_neu.index = df_neu['Jahr']"
   ]
  },
  {
   "cell_type": "code",
   "execution_count": 46,
   "metadata": {},
   "outputs": [
    {
     "data": {
      "text/html": [
       "<div>\n",
       "<style scoped>\n",
       "    .dataframe tbody tr th:only-of-type {\n",
       "        vertical-align: middle;\n",
       "    }\n",
       "\n",
       "    .dataframe tbody tr th {\n",
       "        vertical-align: top;\n",
       "    }\n",
       "\n",
       "    .dataframe thead th {\n",
       "        text-align: right;\n",
       "    }\n",
       "</style>\n",
       "<table border=\"1\" class=\"dataframe\">\n",
       "  <thead>\n",
       "    <tr style=\"text-align: right;\">\n",
       "      <th></th>\n",
       "      <th>Index 1</th>\n",
       "      <th>Total Ertrag AS ohne Abzug</th>\n",
       "      <th>Index2</th>\n",
       "      <th>Total Ertrag AS mit Abzug</th>\n",
       "      <th>Index 3</th>\n",
       "      <th>Total Ertrag Ehepaare</th>\n",
       "      <th>Jahr</th>\n",
       "    </tr>\n",
       "    <tr>\n",
       "      <th>Jahr</th>\n",
       "      <th></th>\n",
       "      <th></th>\n",
       "      <th></th>\n",
       "      <th></th>\n",
       "      <th></th>\n",
       "      <th></th>\n",
       "      <th></th>\n",
       "    </tr>\n",
       "  </thead>\n",
       "  <tbody>\n",
       "    <tr>\n",
       "      <th>2007</th>\n",
       "      <td>AS ohne Abzug 2007</td>\n",
       "      <td>191210234.0</td>\n",
       "      <td>AS mit Abzug 2007</td>\n",
       "      <td>250622274.0</td>\n",
       "      <td>Ehepaare 2007</td>\n",
       "      <td>556701434.0</td>\n",
       "      <td>2007</td>\n",
       "    </tr>\n",
       "    <tr>\n",
       "      <th>2008</th>\n",
       "      <td>AS ohne Abzug 2008</td>\n",
       "      <td>207484005.0</td>\n",
       "      <td>AS mit Abzug 2008</td>\n",
       "      <td>254609035.0</td>\n",
       "      <td>Ehepaare 2008</td>\n",
       "      <td>568280729.0</td>\n",
       "      <td>2008</td>\n",
       "    </tr>\n",
       "    <tr>\n",
       "      <th>2009</th>\n",
       "      <td>AS ohne Abzug 2009</td>\n",
       "      <td>214430970.0</td>\n",
       "      <td>AS mit Abzug 2009</td>\n",
       "      <td>251225876.0</td>\n",
       "      <td>Ehepaare 2009</td>\n",
       "      <td>548980449.0</td>\n",
       "      <td>2009</td>\n",
       "    </tr>\n",
       "    <tr>\n",
       "      <th>2010</th>\n",
       "      <td>AS ohne Abzug 2010</td>\n",
       "      <td>224206080.0</td>\n",
       "      <td>AS mit Abzug 2010</td>\n",
       "      <td>252510011.0</td>\n",
       "      <td>Ehepaare 2010</td>\n",
       "      <td>558570638.0</td>\n",
       "      <td>2010</td>\n",
       "    </tr>\n",
       "    <tr>\n",
       "      <th>2011</th>\n",
       "      <td>AS ohne Abzug 2011</td>\n",
       "      <td>232811844.0</td>\n",
       "      <td>AS mit Abzug 2011</td>\n",
       "      <td>251454022.0</td>\n",
       "      <td>Ehepaare 2011</td>\n",
       "      <td>556688683.0</td>\n",
       "      <td>2011</td>\n",
       "    </tr>\n",
       "    <tr>\n",
       "      <th>2012</th>\n",
       "      <td>AS ohne Abzug 2012</td>\n",
       "      <td>240871437.0</td>\n",
       "      <td>AS mit Abzug 2012</td>\n",
       "      <td>247143291.0</td>\n",
       "      <td>Ehepaare 2012</td>\n",
       "      <td>548793279.0</td>\n",
       "      <td>2012</td>\n",
       "    </tr>\n",
       "    <tr>\n",
       "      <th>2013</th>\n",
       "      <td>AS ohne Abzug 2013</td>\n",
       "      <td>251274663.0</td>\n",
       "      <td>AS mit Abzug 2013</td>\n",
       "      <td>249814087.0</td>\n",
       "      <td>Ehepaare 2013</td>\n",
       "      <td>551110826.0</td>\n",
       "      <td>2013</td>\n",
       "    </tr>\n",
       "    <tr>\n",
       "      <th>2014</th>\n",
       "      <td>AS ohne Abzug 2014</td>\n",
       "      <td>243560304.0</td>\n",
       "      <td>AS mit Abzug 2014</td>\n",
       "      <td>275827208.0</td>\n",
       "      <td>Ehepaare 2014</td>\n",
       "      <td>568562889.0</td>\n",
       "      <td>2014</td>\n",
       "    </tr>\n",
       "    <tr>\n",
       "      <th>2015</th>\n",
       "      <td>AS ohne Abzug 2015</td>\n",
       "      <td>255212257.0</td>\n",
       "      <td>AS mit Abzug 2015</td>\n",
       "      <td>281569214.0</td>\n",
       "      <td>Ehepaare 2015</td>\n",
       "      <td>583158803.0</td>\n",
       "      <td>2015</td>\n",
       "    </tr>\n",
       "    <tr>\n",
       "      <th>2016</th>\n",
       "      <td>AS ohne Abzug 2016</td>\n",
       "      <td>263537742.0</td>\n",
       "      <td>AS mit Abzug 2016</td>\n",
       "      <td>285956990.0</td>\n",
       "      <td>Ehepaare 2016</td>\n",
       "      <td>595679522.0</td>\n",
       "      <td>2016</td>\n",
       "    </tr>\n",
       "    <tr>\n",
       "      <th>2017</th>\n",
       "      <td>AS ohne Abzug 2017</td>\n",
       "      <td>269811782.0</td>\n",
       "      <td>AS mit Abzug 2017</td>\n",
       "      <td>288063239.0</td>\n",
       "      <td>Ehepaare 2017</td>\n",
       "      <td>603593842.0</td>\n",
       "      <td>2017</td>\n",
       "    </tr>\n",
       "  </tbody>\n",
       "</table>\n",
       "</div>"
      ],
      "text/plain": [
       "                 Index 1  Total Ertrag AS ohne Abzug             Index2  \\\n",
       "Jahr                                                                      \n",
       "2007  AS ohne Abzug 2007                 191210234.0  AS mit Abzug 2007   \n",
       "2008  AS ohne Abzug 2008                 207484005.0  AS mit Abzug 2008   \n",
       "2009  AS ohne Abzug 2009                 214430970.0  AS mit Abzug 2009   \n",
       "2010  AS ohne Abzug 2010                 224206080.0  AS mit Abzug 2010   \n",
       "2011  AS ohne Abzug 2011                 232811844.0  AS mit Abzug 2011   \n",
       "2012  AS ohne Abzug 2012                 240871437.0  AS mit Abzug 2012   \n",
       "2013  AS ohne Abzug 2013                 251274663.0  AS mit Abzug 2013   \n",
       "2014  AS ohne Abzug 2014                 243560304.0  AS mit Abzug 2014   \n",
       "2015  AS ohne Abzug 2015                 255212257.0  AS mit Abzug 2015   \n",
       "2016  AS ohne Abzug 2016                 263537742.0  AS mit Abzug 2016   \n",
       "2017  AS ohne Abzug 2017                 269811782.0  AS mit Abzug 2017   \n",
       "\n",
       "      Total Ertrag AS mit Abzug        Index 3  Total Ertrag Ehepaare  Jahr  \n",
       "Jahr                                                                         \n",
       "2007                250622274.0  Ehepaare 2007            556701434.0  2007  \n",
       "2008                254609035.0  Ehepaare 2008            568280729.0  2008  \n",
       "2009                251225876.0  Ehepaare 2009            548980449.0  2009  \n",
       "2010                252510011.0  Ehepaare 2010            558570638.0  2010  \n",
       "2011                251454022.0  Ehepaare 2011            556688683.0  2011  \n",
       "2012                247143291.0  Ehepaare 2012            548793279.0  2012  \n",
       "2013                249814087.0  Ehepaare 2013            551110826.0  2013  \n",
       "2014                275827208.0  Ehepaare 2014            568562889.0  2014  \n",
       "2015                281569214.0  Ehepaare 2015            583158803.0  2015  \n",
       "2016                285956990.0  Ehepaare 2016            595679522.0  2016  \n",
       "2017                288063239.0  Ehepaare 2017            603593842.0  2017  "
      ]
     },
     "execution_count": 46,
     "metadata": {},
     "output_type": "execute_result"
    }
   ],
   "source": [
    "df_neu"
   ]
  },
  {
   "cell_type": "code",
   "execution_count": 47,
   "metadata": {},
   "outputs": [],
   "source": [
    "df_neu = df_neu[['Total Ertrag AS ohne Abzug', 'Total Ertrag AS mit Abzug', 'Total Ertrag Ehepaare']]"
   ]
  },
  {
   "cell_type": "code",
   "execution_count": 48,
   "metadata": {},
   "outputs": [
    {
     "data": {
      "text/html": [
       "<div>\n",
       "<style scoped>\n",
       "    .dataframe tbody tr th:only-of-type {\n",
       "        vertical-align: middle;\n",
       "    }\n",
       "\n",
       "    .dataframe tbody tr th {\n",
       "        vertical-align: top;\n",
       "    }\n",
       "\n",
       "    .dataframe thead th {\n",
       "        text-align: right;\n",
       "    }\n",
       "</style>\n",
       "<table border=\"1\" class=\"dataframe\">\n",
       "  <thead>\n",
       "    <tr style=\"text-align: right;\">\n",
       "      <th></th>\n",
       "      <th>Total Ertrag AS ohne Abzug</th>\n",
       "      <th>Total Ertrag AS mit Abzug</th>\n",
       "      <th>Total Ertrag Ehepaare</th>\n",
       "    </tr>\n",
       "    <tr>\n",
       "      <th>Jahr</th>\n",
       "      <th></th>\n",
       "      <th></th>\n",
       "      <th></th>\n",
       "    </tr>\n",
       "  </thead>\n",
       "  <tbody>\n",
       "    <tr>\n",
       "      <th>2007</th>\n",
       "      <td>191210234.0</td>\n",
       "      <td>250622274.0</td>\n",
       "      <td>556701434.0</td>\n",
       "    </tr>\n",
       "    <tr>\n",
       "      <th>2008</th>\n",
       "      <td>207484005.0</td>\n",
       "      <td>254609035.0</td>\n",
       "      <td>568280729.0</td>\n",
       "    </tr>\n",
       "    <tr>\n",
       "      <th>2009</th>\n",
       "      <td>214430970.0</td>\n",
       "      <td>251225876.0</td>\n",
       "      <td>548980449.0</td>\n",
       "    </tr>\n",
       "    <tr>\n",
       "      <th>2010</th>\n",
       "      <td>224206080.0</td>\n",
       "      <td>252510011.0</td>\n",
       "      <td>558570638.0</td>\n",
       "    </tr>\n",
       "    <tr>\n",
       "      <th>2011</th>\n",
       "      <td>232811844.0</td>\n",
       "      <td>251454022.0</td>\n",
       "      <td>556688683.0</td>\n",
       "    </tr>\n",
       "    <tr>\n",
       "      <th>2012</th>\n",
       "      <td>240871437.0</td>\n",
       "      <td>247143291.0</td>\n",
       "      <td>548793279.0</td>\n",
       "    </tr>\n",
       "    <tr>\n",
       "      <th>2013</th>\n",
       "      <td>251274663.0</td>\n",
       "      <td>249814087.0</td>\n",
       "      <td>551110826.0</td>\n",
       "    </tr>\n",
       "    <tr>\n",
       "      <th>2014</th>\n",
       "      <td>243560304.0</td>\n",
       "      <td>275827208.0</td>\n",
       "      <td>568562889.0</td>\n",
       "    </tr>\n",
       "    <tr>\n",
       "      <th>2015</th>\n",
       "      <td>255212257.0</td>\n",
       "      <td>281569214.0</td>\n",
       "      <td>583158803.0</td>\n",
       "    </tr>\n",
       "    <tr>\n",
       "      <th>2016</th>\n",
       "      <td>263537742.0</td>\n",
       "      <td>285956990.0</td>\n",
       "      <td>595679522.0</td>\n",
       "    </tr>\n",
       "    <tr>\n",
       "      <th>2017</th>\n",
       "      <td>269811782.0</td>\n",
       "      <td>288063239.0</td>\n",
       "      <td>603593842.0</td>\n",
       "    </tr>\n",
       "  </tbody>\n",
       "</table>\n",
       "</div>"
      ],
      "text/plain": [
       "      Total Ertrag AS ohne Abzug  Total Ertrag AS mit Abzug  \\\n",
       "Jahr                                                          \n",
       "2007                 191210234.0                250622274.0   \n",
       "2008                 207484005.0                254609035.0   \n",
       "2009                 214430970.0                251225876.0   \n",
       "2010                 224206080.0                252510011.0   \n",
       "2011                 232811844.0                251454022.0   \n",
       "2012                 240871437.0                247143291.0   \n",
       "2013                 251274663.0                249814087.0   \n",
       "2014                 243560304.0                275827208.0   \n",
       "2015                 255212257.0                281569214.0   \n",
       "2016                 263537742.0                285956990.0   \n",
       "2017                 269811782.0                288063239.0   \n",
       "\n",
       "      Total Ertrag Ehepaare  \n",
       "Jahr                         \n",
       "2007            556701434.0  \n",
       "2008            568280729.0  \n",
       "2009            548980449.0  \n",
       "2010            558570638.0  \n",
       "2011            556688683.0  \n",
       "2012            548793279.0  \n",
       "2013            551110826.0  \n",
       "2014            568562889.0  \n",
       "2015            583158803.0  \n",
       "2016            595679522.0  \n",
       "2017            603593842.0  "
      ]
     },
     "execution_count": 48,
     "metadata": {},
     "output_type": "execute_result"
    }
   ],
   "source": [
    "df_neu"
   ]
  },
  {
   "cell_type": "code",
   "execution_count": 49,
   "metadata": {
    "scrolled": true
   },
   "outputs": [
    {
     "data": {
      "text/plain": [
       "<matplotlib.axes._subplots.AxesSubplot at 0x1dcffb90358>"
      ]
     },
     "execution_count": 49,
     "metadata": {},
     "output_type": "execute_result"
    },
    {
     "data": {
      "image/png": "[encoded data removed]",
      "text/plain": [
       "<Figure size 432x288 with 1 Axes>"
      ]
     },
     "metadata": {
      "needs_background": "light"
     },
     "output_type": "display_data"
    }
   ],
   "source": [
    "df_neu.plot(kind = 'bar', stacked = True, title = 'Entwicklung der Steuereinnahmen im Kanton Bern')"
   ]
  },
  {
   "cell_type": "code",
   "execution_count": 50,
   "metadata": {},
   "outputs": [
    {
     "data": {
      "text/html": [
       "<div>\n",
       "<style scoped>\n",
       "    .dataframe tbody tr th:only-of-type {\n",
       "        vertical-align: middle;\n",
       "    }\n",
       "\n",
       "    .dataframe tbody tr th {\n",
       "        vertical-align: top;\n",
       "    }\n",
       "\n",
       "    .dataframe thead th {\n",
       "        text-align: right;\n",
       "    }\n",
       "</style>\n",
       "<table border=\"1\" class=\"dataframe\">\n",
       "  <thead>\n",
       "    <tr style=\"text-align: right;\">\n",
       "      <th></th>\n",
       "      <th>Total Ertrag AS ohne Abzug</th>\n",
       "      <th>Total Ertrag AS mit Abzug</th>\n",
       "      <th>Total Ertrag Ehepaare</th>\n",
       "    </tr>\n",
       "    <tr>\n",
       "      <th>Jahr</th>\n",
       "      <th></th>\n",
       "      <th></th>\n",
       "      <th></th>\n",
       "    </tr>\n",
       "  </thead>\n",
       "  <tbody>\n",
       "    <tr>\n",
       "      <th>2007</th>\n",
       "      <td>191210234.0</td>\n",
       "      <td>250622274.0</td>\n",
       "      <td>556701434.0</td>\n",
       "    </tr>\n",
       "    <tr>\n",
       "      <th>2008</th>\n",
       "      <td>207484005.0</td>\n",
       "      <td>254609035.0</td>\n",
       "      <td>568280729.0</td>\n",
       "    </tr>\n",
       "    <tr>\n",
       "      <th>2009</th>\n",
       "      <td>214430970.0</td>\n",
       "      <td>251225876.0</td>\n",
       "      <td>548980449.0</td>\n",
       "    </tr>\n",
       "    <tr>\n",
       "      <th>2010</th>\n",
       "      <td>224206080.0</td>\n",
       "      <td>252510011.0</td>\n",
       "      <td>558570638.0</td>\n",
       "    </tr>\n",
       "    <tr>\n",
       "      <th>2011</th>\n",
       "      <td>232811844.0</td>\n",
       "      <td>251454022.0</td>\n",
       "      <td>556688683.0</td>\n",
       "    </tr>\n",
       "    <tr>\n",
       "      <th>2012</th>\n",
       "      <td>240871437.0</td>\n",
       "      <td>247143291.0</td>\n",
       "      <td>548793279.0</td>\n",
       "    </tr>\n",
       "    <tr>\n",
       "      <th>2013</th>\n",
       "      <td>251274663.0</td>\n",
       "      <td>249814087.0</td>\n",
       "      <td>551110826.0</td>\n",
       "    </tr>\n",
       "    <tr>\n",
       "      <th>2014</th>\n",
       "      <td>243560304.0</td>\n",
       "      <td>275827208.0</td>\n",
       "      <td>568562889.0</td>\n",
       "    </tr>\n",
       "    <tr>\n",
       "      <th>2015</th>\n",
       "      <td>255212257.0</td>\n",
       "      <td>281569214.0</td>\n",
       "      <td>583158803.0</td>\n",
       "    </tr>\n",
       "    <tr>\n",
       "      <th>2016</th>\n",
       "      <td>263537742.0</td>\n",
       "      <td>285956990.0</td>\n",
       "      <td>595679522.0</td>\n",
       "    </tr>\n",
       "    <tr>\n",
       "      <th>2017</th>\n",
       "      <td>269811782.0</td>\n",
       "      <td>288063239.0</td>\n",
       "      <td>603593842.0</td>\n",
       "    </tr>\n",
       "  </tbody>\n",
       "</table>\n",
       "</div>"
      ],
      "text/plain": [
       "      Total Ertrag AS ohne Abzug  Total Ertrag AS mit Abzug  \\\n",
       "Jahr                                                          \n",
       "2007                 191210234.0                250622274.0   \n",
       "2008                 207484005.0                254609035.0   \n",
       "2009                 214430970.0                251225876.0   \n",
       "2010                 224206080.0                252510011.0   \n",
       "2011                 232811844.0                251454022.0   \n",
       "2012                 240871437.0                247143291.0   \n",
       "2013                 251274663.0                249814087.0   \n",
       "2014                 243560304.0                275827208.0   \n",
       "2015                 255212257.0                281569214.0   \n",
       "2016                 263537742.0                285956990.0   \n",
       "2017                 269811782.0                288063239.0   \n",
       "\n",
       "      Total Ertrag Ehepaare  \n",
       "Jahr                         \n",
       "2007            556701434.0  \n",
       "2008            568280729.0  \n",
       "2009            548980449.0  \n",
       "2010            558570638.0  \n",
       "2011            556688683.0  \n",
       "2012            548793279.0  \n",
       "2013            551110826.0  \n",
       "2014            568562889.0  \n",
       "2015            583158803.0  \n",
       "2016            595679522.0  \n",
       "2017            603593842.0  "
      ]
     },
     "execution_count": 50,
     "metadata": {},
     "output_type": "execute_result"
    }
   ],
   "source": [
    "df_neu"
   ]
  },
  {
   "cell_type": "code",
   "execution_count": 51,
   "metadata": {},
   "outputs": [
    {
     "name": "stdout",
     "output_type": "stream",
     "text": [
      "Jahr,Total Ertrag AS ohne Abzug,Total Ertrag AS mit Abzug,Total Ertrag Ehepaare\r\n",
      "2007,191210234.0,250622274.0,556701434.0\r\n",
      "2008,207484005.0,254609035.0,568280729.0\r\n",
      "2009,214430970.0,251225876.0,548980449.0\r\n",
      "2010,224206080.0,252510011.0,558570638.0\r\n",
      "2011,232811844.0,251454022.0,556688683.0\r\n",
      "2012,240871437.0,247143291.0,548793279.0\r\n",
      "2013,251274663.0,249814087.0,551110826.0\r\n",
      "2014,243560304.0,275827208.0,568562889.0\r\n",
      "2015,255212257.0,281569214.0,583158803.0\r\n",
      "2016,263537742.0,285956990.0,595679522.0\r\n",
      "2017,269811782.0,288063239.0,603593842.0\r\n",
      "\n"
     ]
    }
   ],
   "source": [
    "print(df_neu.to_csv())"
   ]
  },
  {
   "cell_type": "markdown",
   "metadata": {},
   "source": [
    "#### Anzahl"
   ]
  },
  {
   "cell_type": "code",
   "execution_count": 52,
   "metadata": {},
   "outputs": [],
   "source": [
    "data4 = Anzahl_Alleinstehende_ohne_Abzug['Total Anzahl'].sort_index()\n",
    "data5 = Anzahl_Alleinstehende_mit_Abzug['Total Anzahl'].sort_index()\n",
    "data6 = Anzahl_Ehepaare['Total Anzahl'].sort_index()\n",
    "\n",
    "df_zwei_neu = pd.concat([data4.reset_index(), data5.reset_index(), data6.reset_index()], axis = 1)"
   ]
  },
  {
   "cell_type": "code",
   "execution_count": 53,
   "metadata": {},
   "outputs": [],
   "source": [
    "df_zwei_neu.columns = ['Index 1', 'Total Anzahl AS ohne Abzug', 'Index2', 'Total Anzahl AS mit Abzug', 'Index 3', 'Total Anzahl Ehepaare']\n",
    "df_zwei_neu['Jahr'] = df_zwei_neu['Index 1'].str[-4:]\n",
    "df_zwei_neu.index = df_zwei_neu['Jahr']\n",
    "df_zwei_neu = df_zwei_neu[['Total Anzahl AS ohne Abzug', 'Total Anzahl AS mit Abzug', 'Total Anzahl Ehepaare']]"
   ]
  },
  {
   "cell_type": "code",
   "execution_count": 54,
   "metadata": {},
   "outputs": [
    {
     "data": {
      "text/html": [
       "<div>\n",
       "<style scoped>\n",
       "    .dataframe tbody tr th:only-of-type {\n",
       "        vertical-align: middle;\n",
       "    }\n",
       "\n",
       "    .dataframe tbody tr th {\n",
       "        vertical-align: top;\n",
       "    }\n",
       "\n",
       "    .dataframe thead th {\n",
       "        text-align: right;\n",
       "    }\n",
       "</style>\n",
       "<table border=\"1\" class=\"dataframe\">\n",
       "  <thead>\n",
       "    <tr style=\"text-align: right;\">\n",
       "      <th></th>\n",
       "      <th>Total Anzahl AS ohne Abzug</th>\n",
       "      <th>Total Anzahl AS mit Abzug</th>\n",
       "      <th>Total Anzahl Ehepaare</th>\n",
       "    </tr>\n",
       "    <tr>\n",
       "      <th>Jahr</th>\n",
       "      <th></th>\n",
       "      <th></th>\n",
       "      <th></th>\n",
       "    </tr>\n",
       "  </thead>\n",
       "  <tbody>\n",
       "    <tr>\n",
       "      <th>2007</th>\n",
       "      <td>227889.0</td>\n",
       "      <td>171998.0</td>\n",
       "      <td>228051.0</td>\n",
       "    </tr>\n",
       "    <tr>\n",
       "      <th>2008</th>\n",
       "      <td>235895.0</td>\n",
       "      <td>169083.0</td>\n",
       "      <td>228104.0</td>\n",
       "    </tr>\n",
       "    <tr>\n",
       "      <th>2009</th>\n",
       "      <td>242547.0</td>\n",
       "      <td>167284.0</td>\n",
       "      <td>228141.0</td>\n",
       "    </tr>\n",
       "    <tr>\n",
       "      <th>2010</th>\n",
       "      <td>247694.0</td>\n",
       "      <td>167364.0</td>\n",
       "      <td>228010.0</td>\n",
       "    </tr>\n",
       "    <tr>\n",
       "      <th>2011</th>\n",
       "      <td>253540.0</td>\n",
       "      <td>167000.0</td>\n",
       "      <td>228303.0</td>\n",
       "    </tr>\n",
       "    <tr>\n",
       "      <th>2012</th>\n",
       "      <td>261112.0</td>\n",
       "      <td>165229.0</td>\n",
       "      <td>228824.0</td>\n",
       "    </tr>\n",
       "    <tr>\n",
       "      <th>2013</th>\n",
       "      <td>265846.0</td>\n",
       "      <td>166245.0</td>\n",
       "      <td>229296.0</td>\n",
       "    </tr>\n",
       "    <tr>\n",
       "      <th>2014</th>\n",
       "      <td>254545.0</td>\n",
       "      <td>181359.0</td>\n",
       "      <td>229424.0</td>\n",
       "    </tr>\n",
       "    <tr>\n",
       "      <th>2015</th>\n",
       "      <td>259724.0</td>\n",
       "      <td>182699.0</td>\n",
       "      <td>231199.0</td>\n",
       "    </tr>\n",
       "    <tr>\n",
       "      <th>2016</th>\n",
       "      <td>263227.0</td>\n",
       "      <td>183292.0</td>\n",
       "      <td>230895.0</td>\n",
       "    </tr>\n",
       "    <tr>\n",
       "      <th>2017</th>\n",
       "      <td>265578.0</td>\n",
       "      <td>184293.0</td>\n",
       "      <td>230600.0</td>\n",
       "    </tr>\n",
       "  </tbody>\n",
       "</table>\n",
       "</div>"
      ],
      "text/plain": [
       "      Total Anzahl AS ohne Abzug  Total Anzahl AS mit Abzug  \\\n",
       "Jahr                                                          \n",
       "2007                    227889.0                   171998.0   \n",
       "2008                    235895.0                   169083.0   \n",
       "2009                    242547.0                   167284.0   \n",
       "2010                    247694.0                   167364.0   \n",
       "2011                    253540.0                   167000.0   \n",
       "2012                    261112.0                   165229.0   \n",
       "2013                    265846.0                   166245.0   \n",
       "2014                    254545.0                   181359.0   \n",
       "2015                    259724.0                   182699.0   \n",
       "2016                    263227.0                   183292.0   \n",
       "2017                    265578.0                   184293.0   \n",
       "\n",
       "      Total Anzahl Ehepaare  \n",
       "Jahr                         \n",
       "2007               228051.0  \n",
       "2008               228104.0  \n",
       "2009               228141.0  \n",
       "2010               228010.0  \n",
       "2011               228303.0  \n",
       "2012               228824.0  \n",
       "2013               229296.0  \n",
       "2014               229424.0  \n",
       "2015               231199.0  \n",
       "2016               230895.0  \n",
       "2017               230600.0  "
      ]
     },
     "execution_count": 54,
     "metadata": {},
     "output_type": "execute_result"
    }
   ],
   "source": [
    "df_zwei_neu"
   ]
  },
  {
   "cell_type": "code",
   "execution_count": 55,
   "metadata": {
    "scrolled": false
   },
   "outputs": [
    {
     "data": {
      "text/plain": [
       "<matplotlib.axes._subplots.AxesSubplot at 0x1dcffc41128>"
      ]
     },
     "execution_count": 55,
     "metadata": {},
     "output_type": "execute_result"
    },
    {
     "data": {
      "image/png": "[encoded data removed]",
      "text/plain": [
       "<Figure size 432x288 with 1 Axes>"
      ]
     },
     "metadata": {
      "needs_background": "light"
     },
     "output_type": "display_data"
    }
   ],
   "source": [
    "df_zwei_neu.plot(kind = 'bar', stacked = True, title = 'Entwicklung der Steuerzahler im Kanton Bern')"
   ]
  },
  {
   "cell_type": "code",
   "execution_count": 56,
   "metadata": {},
   "outputs": [
    {
     "data": {
      "text/html": [
       "<div>\n",
       "<style scoped>\n",
       "    .dataframe tbody tr th:only-of-type {\n",
       "        vertical-align: middle;\n",
       "    }\n",
       "\n",
       "    .dataframe tbody tr th {\n",
       "        vertical-align: top;\n",
       "    }\n",
       "\n",
       "    .dataframe thead th {\n",
       "        text-align: right;\n",
       "    }\n",
       "</style>\n",
       "<table border=\"1\" class=\"dataframe\">\n",
       "  <thead>\n",
       "    <tr style=\"text-align: right;\">\n",
       "      <th></th>\n",
       "      <th>Total Anzahl AS ohne Abzug</th>\n",
       "      <th>Total Anzahl AS mit Abzug</th>\n",
       "      <th>Total Anzahl Ehepaare</th>\n",
       "    </tr>\n",
       "    <tr>\n",
       "      <th>Jahr</th>\n",
       "      <th></th>\n",
       "      <th></th>\n",
       "      <th></th>\n",
       "    </tr>\n",
       "  </thead>\n",
       "  <tbody>\n",
       "    <tr>\n",
       "      <th>2007</th>\n",
       "      <td>227889.0</td>\n",
       "      <td>171998.0</td>\n",
       "      <td>228051.0</td>\n",
       "    </tr>\n",
       "    <tr>\n",
       "      <th>2008</th>\n",
       "      <td>235895.0</td>\n",
       "      <td>169083.0</td>\n",
       "      <td>228104.0</td>\n",
       "    </tr>\n",
       "    <tr>\n",
       "      <th>2009</th>\n",
       "      <td>242547.0</td>\n",
       "      <td>167284.0</td>\n",
       "      <td>228141.0</td>\n",
       "    </tr>\n",
       "    <tr>\n",
       "      <th>2010</th>\n",
       "      <td>247694.0</td>\n",
       "      <td>167364.0</td>\n",
       "      <td>228010.0</td>\n",
       "    </tr>\n",
       "    <tr>\n",
       "      <th>2011</th>\n",
       "      <td>253540.0</td>\n",
       "      <td>167000.0</td>\n",
       "      <td>228303.0</td>\n",
       "    </tr>\n",
       "    <tr>\n",
       "      <th>2012</th>\n",
       "      <td>261112.0</td>\n",
       "      <td>165229.0</td>\n",
       "      <td>228824.0</td>\n",
       "    </tr>\n",
       "    <tr>\n",
       "      <th>2013</th>\n",
       "      <td>265846.0</td>\n",
       "      <td>166245.0</td>\n",
       "      <td>229296.0</td>\n",
       "    </tr>\n",
       "    <tr>\n",
       "      <th>2014</th>\n",
       "      <td>254545.0</td>\n",
       "      <td>181359.0</td>\n",
       "      <td>229424.0</td>\n",
       "    </tr>\n",
       "    <tr>\n",
       "      <th>2015</th>\n",
       "      <td>259724.0</td>\n",
       "      <td>182699.0</td>\n",
       "      <td>231199.0</td>\n",
       "    </tr>\n",
       "    <tr>\n",
       "      <th>2016</th>\n",
       "      <td>263227.0</td>\n",
       "      <td>183292.0</td>\n",
       "      <td>230895.0</td>\n",
       "    </tr>\n",
       "    <tr>\n",
       "      <th>2017</th>\n",
       "      <td>265578.0</td>\n",
       "      <td>184293.0</td>\n",
       "      <td>230600.0</td>\n",
       "    </tr>\n",
       "  </tbody>\n",
       "</table>\n",
       "</div>"
      ],
      "text/plain": [
       "      Total Anzahl AS ohne Abzug  Total Anzahl AS mit Abzug  \\\n",
       "Jahr                                                          \n",
       "2007                    227889.0                   171998.0   \n",
       "2008                    235895.0                   169083.0   \n",
       "2009                    242547.0                   167284.0   \n",
       "2010                    247694.0                   167364.0   \n",
       "2011                    253540.0                   167000.0   \n",
       "2012                    261112.0                   165229.0   \n",
       "2013                    265846.0                   166245.0   \n",
       "2014                    254545.0                   181359.0   \n",
       "2015                    259724.0                   182699.0   \n",
       "2016                    263227.0                   183292.0   \n",
       "2017                    265578.0                   184293.0   \n",
       "\n",
       "      Total Anzahl Ehepaare  \n",
       "Jahr                         \n",
       "2007               228051.0  \n",
       "2008               228104.0  \n",
       "2009               228141.0  \n",
       "2010               228010.0  \n",
       "2011               228303.0  \n",
       "2012               228824.0  \n",
       "2013               229296.0  \n",
       "2014               229424.0  \n",
       "2015               231199.0  \n",
       "2016               230895.0  \n",
       "2017               230600.0  "
      ]
     },
     "execution_count": 56,
     "metadata": {},
     "output_type": "execute_result"
    }
   ],
   "source": [
    "df_zwei_neu"
   ]
  },
  {
   "cell_type": "markdown",
   "metadata": {},
   "source": [
    "#### Kernaussage:\n",
    "Die meisten Steuererträge kommen von Ehepaaren. Allerdings ist zu beachten, dass hier durch zwei geteilt werden muss, um den Betrag pro Person zu berechnen. Anzahlmässig haben die Alleinstehenden stärker zugenommen als die Ehepaare. "
   ]
  },
  {
   "cell_type": "code",
   "execution_count": 57,
   "metadata": {},
   "outputs": [
    {
     "name": "stderr",
     "output_type": "stream",
     "text": [
      "C:\\Users\\Admin\\Anaconda3\\lib\\site-packages\\ipykernel_launcher.py:1: SettingWithCopyWarning: \n",
      "A value is trying to be set on a copy of a slice from a DataFrame.\n",
      "Try using .loc[row_indexer,col_indexer] = value instead\n",
      "\n",
      "See the caveats in the documentation: http://pandas.pydata.org/pandas-docs/stable/indexing.html#indexing-view-versus-copy\n",
      "  \"\"\"Entry point for launching an IPython kernel.\n"
     ]
    }
   ],
   "source": [
    "df_neu['Total Alleinstehende'] = (df_neu['Total Ertrag AS ohne Abzug'] + df_neu['Total Ertrag AS mit Abzug'])"
   ]
  },
  {
   "cell_type": "code",
   "execution_count": 58,
   "metadata": {},
   "outputs": [
    {
     "data": {
      "text/html": [
       "<div>\n",
       "<style scoped>\n",
       "    .dataframe tbody tr th:only-of-type {\n",
       "        vertical-align: middle;\n",
       "    }\n",
       "\n",
       "    .dataframe tbody tr th {\n",
       "        vertical-align: top;\n",
       "    }\n",
       "\n",
       "    .dataframe thead th {\n",
       "        text-align: right;\n",
       "    }\n",
       "</style>\n",
       "<table border=\"1\" class=\"dataframe\">\n",
       "  <thead>\n",
       "    <tr style=\"text-align: right;\">\n",
       "      <th></th>\n",
       "      <th>Total Ertrag AS ohne Abzug</th>\n",
       "      <th>Total Ertrag AS mit Abzug</th>\n",
       "      <th>Total Ertrag Ehepaare</th>\n",
       "      <th>Total Alleinstehende</th>\n",
       "    </tr>\n",
       "    <tr>\n",
       "      <th>Jahr</th>\n",
       "      <th></th>\n",
       "      <th></th>\n",
       "      <th></th>\n",
       "      <th></th>\n",
       "    </tr>\n",
       "  </thead>\n",
       "  <tbody>\n",
       "    <tr>\n",
       "      <th>2007</th>\n",
       "      <td>191210234.0</td>\n",
       "      <td>250622274.0</td>\n",
       "      <td>556701434.0</td>\n",
       "      <td>441832508.0</td>\n",
       "    </tr>\n",
       "    <tr>\n",
       "      <th>2008</th>\n",
       "      <td>207484005.0</td>\n",
       "      <td>254609035.0</td>\n",
       "      <td>568280729.0</td>\n",
       "      <td>462093040.0</td>\n",
       "    </tr>\n",
       "    <tr>\n",
       "      <th>2009</th>\n",
       "      <td>214430970.0</td>\n",
       "      <td>251225876.0</td>\n",
       "      <td>548980449.0</td>\n",
       "      <td>465656846.0</td>\n",
       "    </tr>\n",
       "    <tr>\n",
       "      <th>2010</th>\n",
       "      <td>224206080.0</td>\n",
       "      <td>252510011.0</td>\n",
       "      <td>558570638.0</td>\n",
       "      <td>476716091.0</td>\n",
       "    </tr>\n",
       "    <tr>\n",
       "      <th>2011</th>\n",
       "      <td>232811844.0</td>\n",
       "      <td>251454022.0</td>\n",
       "      <td>556688683.0</td>\n",
       "      <td>484265866.0</td>\n",
       "    </tr>\n",
       "    <tr>\n",
       "      <th>2012</th>\n",
       "      <td>240871437.0</td>\n",
       "      <td>247143291.0</td>\n",
       "      <td>548793279.0</td>\n",
       "      <td>488014728.0</td>\n",
       "    </tr>\n",
       "    <tr>\n",
       "      <th>2013</th>\n",
       "      <td>251274663.0</td>\n",
       "      <td>249814087.0</td>\n",
       "      <td>551110826.0</td>\n",
       "      <td>501088750.0</td>\n",
       "    </tr>\n",
       "    <tr>\n",
       "      <th>2014</th>\n",
       "      <td>243560304.0</td>\n",
       "      <td>275827208.0</td>\n",
       "      <td>568562889.0</td>\n",
       "      <td>519387512.0</td>\n",
       "    </tr>\n",
       "    <tr>\n",
       "      <th>2015</th>\n",
       "      <td>255212257.0</td>\n",
       "      <td>281569214.0</td>\n",
       "      <td>583158803.0</td>\n",
       "      <td>536781471.0</td>\n",
       "    </tr>\n",
       "    <tr>\n",
       "      <th>2016</th>\n",
       "      <td>263537742.0</td>\n",
       "      <td>285956990.0</td>\n",
       "      <td>595679522.0</td>\n",
       "      <td>549494732.0</td>\n",
       "    </tr>\n",
       "    <tr>\n",
       "      <th>2017</th>\n",
       "      <td>269811782.0</td>\n",
       "      <td>288063239.0</td>\n",
       "      <td>603593842.0</td>\n",
       "      <td>557875021.0</td>\n",
       "    </tr>\n",
       "  </tbody>\n",
       "</table>\n",
       "</div>"
      ],
      "text/plain": [
       "      Total Ertrag AS ohne Abzug  Total Ertrag AS mit Abzug  \\\n",
       "Jahr                                                          \n",
       "2007                 191210234.0                250622274.0   \n",
       "2008                 207484005.0                254609035.0   \n",
       "2009                 214430970.0                251225876.0   \n",
       "2010                 224206080.0                252510011.0   \n",
       "2011                 232811844.0                251454022.0   \n",
       "2012                 240871437.0                247143291.0   \n",
       "2013                 251274663.0                249814087.0   \n",
       "2014                 243560304.0                275827208.0   \n",
       "2015                 255212257.0                281569214.0   \n",
       "2016                 263537742.0                285956990.0   \n",
       "2017                 269811782.0                288063239.0   \n",
       "\n",
       "      Total Ertrag Ehepaare  Total Alleinstehende  \n",
       "Jahr                                               \n",
       "2007            556701434.0           441832508.0  \n",
       "2008            568280729.0           462093040.0  \n",
       "2009            548980449.0           465656846.0  \n",
       "2010            558570638.0           476716091.0  \n",
       "2011            556688683.0           484265866.0  \n",
       "2012            548793279.0           488014728.0  \n",
       "2013            551110826.0           501088750.0  \n",
       "2014            568562889.0           519387512.0  \n",
       "2015            583158803.0           536781471.0  \n",
       "2016            595679522.0           549494732.0  \n",
       "2017            603593842.0           557875021.0  "
      ]
     },
     "execution_count": 58,
     "metadata": {},
     "output_type": "execute_result"
    }
   ],
   "source": [
    "df_neu"
   ]
  },
  {
   "cell_type": "code",
   "execution_count": 59,
   "metadata": {},
   "outputs": [
    {
     "name": "stderr",
     "output_type": "stream",
     "text": [
      "C:\\Users\\Admin\\Anaconda3\\lib\\site-packages\\ipykernel_launcher.py:1: SettingWithCopyWarning: \n",
      "A value is trying to be set on a copy of a slice from a DataFrame.\n",
      "Try using .loc[row_indexer,col_indexer] = value instead\n",
      "\n",
      "See the caveats in the documentation: http://pandas.pydata.org/pandas-docs/stable/indexing.html#indexing-view-versus-copy\n",
      "  \"\"\"Entry point for launching an IPython kernel.\n"
     ]
    }
   ],
   "source": [
    "df_neu['Unterschied Alleinstehende zu Ehepaaren'] = (df_neu['Total Ertrag Ehepaare'] - df_neu['Total Alleinstehende'])"
   ]
  },
  {
   "cell_type": "code",
   "execution_count": 60,
   "metadata": {},
   "outputs": [
    {
     "data": {
      "text/html": [
       "<div>\n",
       "<style scoped>\n",
       "    .dataframe tbody tr th:only-of-type {\n",
       "        vertical-align: middle;\n",
       "    }\n",
       "\n",
       "    .dataframe tbody tr th {\n",
       "        vertical-align: top;\n",
       "    }\n",
       "\n",
       "    .dataframe thead th {\n",
       "        text-align: right;\n",
       "    }\n",
       "</style>\n",
       "<table border=\"1\" class=\"dataframe\">\n",
       "  <thead>\n",
       "    <tr style=\"text-align: right;\">\n",
       "      <th></th>\n",
       "      <th>Total Ertrag AS ohne Abzug</th>\n",
       "      <th>Total Ertrag AS mit Abzug</th>\n",
       "      <th>Total Ertrag Ehepaare</th>\n",
       "      <th>Total Alleinstehende</th>\n",
       "      <th>Unterschied Alleinstehende zu Ehepaaren</th>\n",
       "    </tr>\n",
       "    <tr>\n",
       "      <th>Jahr</th>\n",
       "      <th></th>\n",
       "      <th></th>\n",
       "      <th></th>\n",
       "      <th></th>\n",
       "      <th></th>\n",
       "    </tr>\n",
       "  </thead>\n",
       "  <tbody>\n",
       "    <tr>\n",
       "      <th>2007</th>\n",
       "      <td>191210234.0</td>\n",
       "      <td>250622274.0</td>\n",
       "      <td>556701434.0</td>\n",
       "      <td>441832508.0</td>\n",
       "      <td>114868926.0</td>\n",
       "    </tr>\n",
       "    <tr>\n",
       "      <th>2008</th>\n",
       "      <td>207484005.0</td>\n",
       "      <td>254609035.0</td>\n",
       "      <td>568280729.0</td>\n",
       "      <td>462093040.0</td>\n",
       "      <td>106187689.0</td>\n",
       "    </tr>\n",
       "    <tr>\n",
       "      <th>2009</th>\n",
       "      <td>214430970.0</td>\n",
       "      <td>251225876.0</td>\n",
       "      <td>548980449.0</td>\n",
       "      <td>465656846.0</td>\n",
       "      <td>83323603.0</td>\n",
       "    </tr>\n",
       "    <tr>\n",
       "      <th>2010</th>\n",
       "      <td>224206080.0</td>\n",
       "      <td>252510011.0</td>\n",
       "      <td>558570638.0</td>\n",
       "      <td>476716091.0</td>\n",
       "      <td>81854547.0</td>\n",
       "    </tr>\n",
       "    <tr>\n",
       "      <th>2011</th>\n",
       "      <td>232811844.0</td>\n",
       "      <td>251454022.0</td>\n",
       "      <td>556688683.0</td>\n",
       "      <td>484265866.0</td>\n",
       "      <td>72422817.0</td>\n",
       "    </tr>\n",
       "    <tr>\n",
       "      <th>2012</th>\n",
       "      <td>240871437.0</td>\n",
       "      <td>247143291.0</td>\n",
       "      <td>548793279.0</td>\n",
       "      <td>488014728.0</td>\n",
       "      <td>60778551.0</td>\n",
       "    </tr>\n",
       "    <tr>\n",
       "      <th>2013</th>\n",
       "      <td>251274663.0</td>\n",
       "      <td>249814087.0</td>\n",
       "      <td>551110826.0</td>\n",
       "      <td>501088750.0</td>\n",
       "      <td>50022076.0</td>\n",
       "    </tr>\n",
       "    <tr>\n",
       "      <th>2014</th>\n",
       "      <td>243560304.0</td>\n",
       "      <td>275827208.0</td>\n",
       "      <td>568562889.0</td>\n",
       "      <td>519387512.0</td>\n",
       "      <td>49175377.0</td>\n",
       "    </tr>\n",
       "    <tr>\n",
       "      <th>2015</th>\n",
       "      <td>255212257.0</td>\n",
       "      <td>281569214.0</td>\n",
       "      <td>583158803.0</td>\n",
       "      <td>536781471.0</td>\n",
       "      <td>46377332.0</td>\n",
       "    </tr>\n",
       "    <tr>\n",
       "      <th>2016</th>\n",
       "      <td>263537742.0</td>\n",
       "      <td>285956990.0</td>\n",
       "      <td>595679522.0</td>\n",
       "      <td>549494732.0</td>\n",
       "      <td>46184790.0</td>\n",
       "    </tr>\n",
       "    <tr>\n",
       "      <th>2017</th>\n",
       "      <td>269811782.0</td>\n",
       "      <td>288063239.0</td>\n",
       "      <td>603593842.0</td>\n",
       "      <td>557875021.0</td>\n",
       "      <td>45718821.0</td>\n",
       "    </tr>\n",
       "  </tbody>\n",
       "</table>\n",
       "</div>"
      ],
      "text/plain": [
       "      Total Ertrag AS ohne Abzug  Total Ertrag AS mit Abzug  \\\n",
       "Jahr                                                          \n",
       "2007                 191210234.0                250622274.0   \n",
       "2008                 207484005.0                254609035.0   \n",
       "2009                 214430970.0                251225876.0   \n",
       "2010                 224206080.0                252510011.0   \n",
       "2011                 232811844.0                251454022.0   \n",
       "2012                 240871437.0                247143291.0   \n",
       "2013                 251274663.0                249814087.0   \n",
       "2014                 243560304.0                275827208.0   \n",
       "2015                 255212257.0                281569214.0   \n",
       "2016                 263537742.0                285956990.0   \n",
       "2017                 269811782.0                288063239.0   \n",
       "\n",
       "      Total Ertrag Ehepaare  Total Alleinstehende  \\\n",
       "Jahr                                                \n",
       "2007            556701434.0           441832508.0   \n",
       "2008            568280729.0           462093040.0   \n",
       "2009            548980449.0           465656846.0   \n",
       "2010            558570638.0           476716091.0   \n",
       "2011            556688683.0           484265866.0   \n",
       "2012            548793279.0           488014728.0   \n",
       "2013            551110826.0           501088750.0   \n",
       "2014            568562889.0           519387512.0   \n",
       "2015            583158803.0           536781471.0   \n",
       "2016            595679522.0           549494732.0   \n",
       "2017            603593842.0           557875021.0   \n",
       "\n",
       "      Unterschied Alleinstehende zu Ehepaaren  \n",
       "Jahr                                           \n",
       "2007                              114868926.0  \n",
       "2008                              106187689.0  \n",
       "2009                               83323603.0  \n",
       "2010                               81854547.0  \n",
       "2011                               72422817.0  \n",
       "2012                               60778551.0  \n",
       "2013                               50022076.0  \n",
       "2014                               49175377.0  \n",
       "2015                               46377332.0  \n",
       "2016                               46184790.0  \n",
       "2017                               45718821.0  "
      ]
     },
     "execution_count": 60,
     "metadata": {},
     "output_type": "execute_result"
    }
   ],
   "source": [
    "df_neu"
   ]
  },
  {
   "cell_type": "markdown",
   "metadata": {},
   "source": [
    "114,87 Millionen Unterschied Alleinstehende-Ehepaare im 2007; 45,72 Millionen Franken Unterschied im 2017"
   ]
  },
  {
   "cell_type": "code",
   "execution_count": null,
   "metadata": {},
   "outputs": [],
   "source": []
  }
 ],
 "metadata": {
  "kernelspec": {
   "display_name": "Python 3",
   "language": "python",
   "name": "python3"
  },
  "language_info": {
   "codemirror_mode": {
    "name": "ipython",
    "version": 3
   },
   "file_extension": ".py",
   "mimetype": "text/x-python",
   "name": "python",
   "nbconvert_exporter": "python",
   "pygments_lexer": "ipython3",
   "version": "3.7.3"
  }
 },
 "nbformat": 4,
 "nbformat_minor": 2
}
