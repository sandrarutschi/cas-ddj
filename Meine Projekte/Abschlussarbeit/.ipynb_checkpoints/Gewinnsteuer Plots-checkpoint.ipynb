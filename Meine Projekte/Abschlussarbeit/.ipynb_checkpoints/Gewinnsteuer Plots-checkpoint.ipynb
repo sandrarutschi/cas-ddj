{
 "cells": [
  {
   "cell_type": "markdown",
   "metadata": {},
   "source": [
    "# Gewinnsteuer Plots"
   ]
  },
  {
   "cell_type": "code",
   "execution_count": 1,
   "metadata": {},
   "outputs": [],
   "source": [
    "import pandas as pd\n",
    "%matplotlib inline"
   ]
  },
  {
   "cell_type": "code",
   "execution_count": 2,
   "metadata": {
    "scrolled": false
   },
   "outputs": [],
   "source": [
    "Betrag_Kantonssteuer_Firmen = pd.read_csv('Betrag Kantonssteuer Firmen 2007 bis 2017')\n",
    "Steuerpflichtige_Firmen = pd.read_csv('Steuerpflichtige Firmen 2007 bis 2017')"
   ]
  },
  {
   "cell_type": "markdown",
   "metadata": {},
   "source": [
    "### Meine Fragestellungen\n",
    "\n",
    "- Wie hoch ist der Anteil, den die gewinnstärksten Firmen pro Jahr am Totalbetrag haben? Wie hat sich dieser Anteil in Prozent in diesen 10 Jahren entwickelt? Der Weg dorthin = (100 : Total * Gewinn ab 250100)... und neue Spalte erstellen: df['TOV%'] = df['TOV'] / df['GP']\n",
    "\n",
    "- Welchen Anteil machen die gewinnstärksten Firmen anzahlmässig aus? Wie hat sich dieser Anteil in Prozent in diesen 10 Jahren entwickelt? Der Weg dorthin = (100 : Total * Gewinn ab 250100)... und neue Spalte erstellen: df['TOV%'] = df['TOV'] / df['GP']. Diese plotten. \n",
    "\n",
    "-> in Relation zu einander stellen\n",
    "\n",
    "- Wie stark haben die gewinnstarken Firmen im Vergleich zu den anderen über die Jahre hinweg zugelegt? Der Weg dorthin: a) Betrag 2017 minus Betrag 2007; dann b) 100 : Betrag 2017 * das Resultat aus a)... und neue Spalte erstellen: df['TOV%'] = df['TOV'] / df['GP']\n",
    "- Wie stark haben die gewinnstarken Firmen im Vergleich zu den anderen über die Jahre hinweg zugelegt? Der Weg dorthin: a) Anzahl 2017 minus Anzahl 2007; dann b) 100 : Anzahl 2017 * das Resultat aus a)... und neue Spalte erstellen: df['TOV%'] = df['TOV'] / df['GP']\n",
    "\n",
    "-> In Relation zu einander stellen. \n",
    "\n",
    "- Nicht vergessen, in der Geschichte zu erwähnen, dass sie ab 2015 die höchsten gesondert ausgegeben haben und dass sich so natürlich auch Politik machen lässt."
   ]
  },
  {
   "cell_type": "markdown",
   "metadata": {},
   "source": [
    "## Allgemeine Entwicklung"
   ]
  },
  {
   "cell_type": "code",
   "execution_count": 3,
   "metadata": {
    "scrolled": true
   },
   "outputs": [
    {
     "data": {
      "text/plain": [
       "<matplotlib.axes._subplots.AxesSubplot at 0x2871b149518>"
      ]
     },
     "execution_count": 3,
     "metadata": {},
     "output_type": "execute_result"
    },
    {
     "data": {
      "image/png": "[encoded data removed]",
      "text/plain": [
       "<Figure size 432x288 with 1 Axes>"
      ]
     },
     "metadata": {
      "needs_background": "light"
     },
     "output_type": "display_data"
    }
   ],
   "source": [
    "Betrag_Kantonssteuer_Firmen['Total Steuerbetrag'].plot(kind = 'bar', title = 'Entwicklung Gewinnsteuer Firmen')"
   ]
  },
  {
   "cell_type": "code",
   "execution_count": 4,
   "metadata": {
    "scrolled": true
   },
   "outputs": [
    {
     "data": {
      "text/plain": [
       "<matplotlib.axes._subplots.AxesSubplot at 0x2871b49da58>"
      ]
     },
     "execution_count": 4,
     "metadata": {},
     "output_type": "execute_result"
    },
    {
     "data": {
      "image/png": "[encoded data removed]",
      "text/plain": [
       "<Figure size 432x288 with 1 Axes>"
      ]
     },
     "metadata": {
      "needs_background": "light"
     },
     "output_type": "display_data"
    }
   ],
   "source": [
    "Steuerpflichtige_Firmen['Total Steuerpflichtige'].plot(kind = 'bar', title = 'Entwicklung Anzahl steuerpflichtige Firmen')"
   ]
  },
  {
   "cell_type": "markdown",
   "metadata": {},
   "source": [
    "### Kernaussage:\n",
    "Die Gewinnsteuern brachen 2008 von zuvor 524331616 Franken auf 430637678 Franken ein. Erst ab 2011 ging es wieder kontniuierlich aufwärts. 2017 war das stärkste Steuerjahr. Damals betrug der Steuerertrag 587963490 Franken. (Unterschied zu 2007 = 63'631'874 Franken; das sind 12 Prozent).\n",
    "\n",
    "Obschon der Steuerertrag 2008 einbrach, entwickelte sich die Anzahl steuerpflichtige Firmen konstinuierlich nach oben. Die Anzahl Firmen wuchs von 27146 auf 38072 um 10'926 Firmen an. Das sind stolze 28,7 Prozent. \n",
    "\n",
    "Es ist folglich davon auszugehen, dass die Firmen weniger Gewinn einfuhren. Oder dass eher gewinnschwache Firmen zuzuogen. "
   ]
  },
  {
   "cell_type": "markdown",
   "metadata": {},
   "source": [
    "## Anteil der  Firmen am Totalbetrag"
   ]
  },
  {
   "cell_type": "code",
   "execution_count": 5,
   "metadata": {},
   "outputs": [],
   "source": [
    "#so ziehe ich den jeweiligen Anteil raus und mache eine neue Spalte\n",
    "Betrag_Kantonssteuer_Firmen['Anteil gewinnstärkste Firmen am Totalbetrag in %'] = (100 / Betrag_Kantonssteuer_Firmen['Total Steuerbetrag'] * Betrag_Kantonssteuer_Firmen['Steuerbarer Gewinn ab 250100'])"
   ]
  },
  {
   "cell_type": "code",
   "execution_count": 6,
   "metadata": {},
   "outputs": [],
   "source": [
    "Betrag_Kantonssteuer_Firmen['Anteil zweitstärkste Firmen am Totalbetrag in %'] = (100 / Betrag_Kantonssteuer_Firmen['Total Steuerbetrag'] * Betrag_Kantonssteuer_Firmen['Steuerbarer Gewinn 50100-250000 CHF'])"
   ]
  },
  {
   "cell_type": "code",
   "execution_count": 7,
   "metadata": {},
   "outputs": [],
   "source": [
    "Betrag_Kantonssteuer_Firmen['Anteil zweitschwächste Firmen am Totalbetrag in %'] = (100 / Betrag_Kantonssteuer_Firmen['Total Steuerbetrag'] * Betrag_Kantonssteuer_Firmen['Steuerbarer Gewinn 10100-50000 CHF'])"
   ]
  },
  {
   "cell_type": "code",
   "execution_count": 8,
   "metadata": {},
   "outputs": [],
   "source": [
    "Betrag_Kantonssteuer_Firmen['Anteil schwächste Firmen am Totalbetrag in %'] = (100 / Betrag_Kantonssteuer_Firmen['Total Steuerbetrag'] * Betrag_Kantonssteuer_Firmen['Steuerbarer Gewinn 0-10000 CHF'])"
   ]
  },
  {
   "cell_type": "code",
   "execution_count": 27,
   "metadata": {},
   "outputs": [
    {
     "data": {
      "text/html": [
       "<div>\n",
       "<style scoped>\n",
       "    .dataframe tbody tr th:only-of-type {\n",
       "        vertical-align: middle;\n",
       "    }\n",
       "\n",
       "    .dataframe tbody tr th {\n",
       "        vertical-align: top;\n",
       "    }\n",
       "\n",
       "    .dataframe thead th {\n",
       "        text-align: right;\n",
       "    }\n",
       "</style>\n",
       "<table border=\"1\" class=\"dataframe\">\n",
       "  <thead>\n",
       "    <tr style=\"text-align: right;\">\n",
       "      <th></th>\n",
       "      <th>Unnamed: 0</th>\n",
       "      <th>Steuerbarer Gewinn 0-10000 CHF</th>\n",
       "      <th>Steuerbarer Gewinn 10100-50000 CHF</th>\n",
       "      <th>Steuerbarer Gewinn 50100-250000 CHF</th>\n",
       "      <th>Steuerbarer Gewinn ab 250100</th>\n",
       "      <th>Total Steuerbetrag</th>\n",
       "      <th>Anteil gewinnstärkste Firmen am Totalbetrag in %</th>\n",
       "      <th>Anteil zweitstärkste Firmen am Totalbetrag in %</th>\n",
       "      <th>Anteil zweitschwächste Firmen am Totalbetrag in %</th>\n",
       "      <th>Anteil schwächste Firmen am Totalbetrag in %</th>\n",
       "    </tr>\n",
       "  </thead>\n",
       "  <tbody>\n",
       "    <tr>\n",
       "      <th>0</th>\n",
       "      <td>Betrag Kantonssteuer 2007 in CHF</td>\n",
       "      <td>996701</td>\n",
       "      <td>7654106</td>\n",
       "      <td>28215316</td>\n",
       "      <td>487465494</td>\n",
       "      <td>524331616</td>\n",
       "      <td>92.968930</td>\n",
       "      <td>5.381197</td>\n",
       "      <td>1.459783</td>\n",
       "      <td>0.190090</td>\n",
       "    </tr>\n",
       "    <tr>\n",
       "      <th>1</th>\n",
       "      <td>Betrag Kantonssteuer 2008 in CHF</td>\n",
       "      <td>1270557</td>\n",
       "      <td>7609731</td>\n",
       "      <td>29853096</td>\n",
       "      <td>391904294</td>\n",
       "      <td>430637678</td>\n",
       "      <td>91.005575</td>\n",
       "      <td>6.932300</td>\n",
       "      <td>1.767084</td>\n",
       "      <td>0.295041</td>\n",
       "    </tr>\n",
       "    <tr>\n",
       "      <th>2</th>\n",
       "      <td>Betrag Kantonssteuer 2009 in CHF</td>\n",
       "      <td>1309193</td>\n",
       "      <td>8020546</td>\n",
       "      <td>32339760</td>\n",
       "      <td>431058562</td>\n",
       "      <td>472728062</td>\n",
       "      <td>91.185313</td>\n",
       "      <td>6.841092</td>\n",
       "      <td>1.696651</td>\n",
       "      <td>0.276944</td>\n",
       "    </tr>\n",
       "    <tr>\n",
       "      <th>3</th>\n",
       "      <td>Betrag Kantonssteuer 2010 in CHF</td>\n",
       "      <td>1051519</td>\n",
       "      <td>8379718</td>\n",
       "      <td>35558173</td>\n",
       "      <td>388354588</td>\n",
       "      <td>433343998</td>\n",
       "      <td>89.618084</td>\n",
       "      <td>8.205530</td>\n",
       "      <td>1.933733</td>\n",
       "      <td>0.242652</td>\n",
       "    </tr>\n",
       "    <tr>\n",
       "      <th>4</th>\n",
       "      <td>Betrag Kantonssteuer 2011 in CHF</td>\n",
       "      <td>953215</td>\n",
       "      <td>8743197</td>\n",
       "      <td>37792190</td>\n",
       "      <td>401481456</td>\n",
       "      <td>448970058</td>\n",
       "      <td>89.422769</td>\n",
       "      <td>8.417530</td>\n",
       "      <td>1.947390</td>\n",
       "      <td>0.212311</td>\n",
       "    </tr>\n",
       "    <tr>\n",
       "      <th>5</th>\n",
       "      <td>Betrag Kantonssteuer 2012 in CHF</td>\n",
       "      <td>988128</td>\n",
       "      <td>8889203</td>\n",
       "      <td>39082269</td>\n",
       "      <td>446332012</td>\n",
       "      <td>495291612</td>\n",
       "      <td>90.114995</td>\n",
       "      <td>7.890759</td>\n",
       "      <td>1.794741</td>\n",
       "      <td>0.199504</td>\n",
       "    </tr>\n",
       "    <tr>\n",
       "      <th>6</th>\n",
       "      <td>Betrag Kantonssteuer 2013 in CHF</td>\n",
       "      <td>1120619</td>\n",
       "      <td>9525772</td>\n",
       "      <td>41375861</td>\n",
       "      <td>479217253</td>\n",
       "      <td>531239504</td>\n",
       "      <td>90.207383</td>\n",
       "      <td>7.788551</td>\n",
       "      <td>1.793122</td>\n",
       "      <td>0.210944</td>\n",
       "    </tr>\n",
       "    <tr>\n",
       "      <th>7</th>\n",
       "      <td>Betrag Kantonssteuer 2014 in CHF</td>\n",
       "      <td>1139949</td>\n",
       "      <td>10214132</td>\n",
       "      <td>43823295</td>\n",
       "      <td>487021441</td>\n",
       "      <td>542198817</td>\n",
       "      <td>89.823405</td>\n",
       "      <td>8.082514</td>\n",
       "      <td>1.883835</td>\n",
       "      <td>0.210246</td>\n",
       "    </tr>\n",
       "    <tr>\n",
       "      <th>8</th>\n",
       "      <td>Betrag Kantonssteuer 2015 in CHF</td>\n",
       "      <td>1021922</td>\n",
       "      <td>10091127</td>\n",
       "      <td>45625213</td>\n",
       "      <td>487789059</td>\n",
       "      <td>544527320</td>\n",
       "      <td>89.580273</td>\n",
       "      <td>8.378866</td>\n",
       "      <td>1.853190</td>\n",
       "      <td>0.187671</td>\n",
       "    </tr>\n",
       "    <tr>\n",
       "      <th>9</th>\n",
       "      <td>Betrag Kantonssteuer 2016 in CHF</td>\n",
       "      <td>1077015</td>\n",
       "      <td>10153766</td>\n",
       "      <td>46507243</td>\n",
       "      <td>514703383</td>\n",
       "      <td>572441407</td>\n",
       "      <td>89.913723</td>\n",
       "      <td>8.124367</td>\n",
       "      <td>1.773765</td>\n",
       "      <td>0.188144</td>\n",
       "    </tr>\n",
       "    <tr>\n",
       "      <th>10</th>\n",
       "      <td>Betrag Kantonssteuer 2017 in CHF</td>\n",
       "      <td>1077016</td>\n",
       "      <td>10928683</td>\n",
       "      <td>48346317</td>\n",
       "      <td>527611474</td>\n",
       "      <td>587963490</td>\n",
       "      <td>89.735414</td>\n",
       "      <td>8.222673</td>\n",
       "      <td>1.858735</td>\n",
       "      <td>0.183177</td>\n",
       "    </tr>\n",
       "  </tbody>\n",
       "</table>\n",
       "</div>"
      ],
      "text/plain": [
       "                          Unnamed: 0  Steuerbarer Gewinn 0-10000 CHF  \\\n",
       "0   Betrag Kantonssteuer 2007 in CHF                          996701   \n",
       "1   Betrag Kantonssteuer 2008 in CHF                         1270557   \n",
       "2   Betrag Kantonssteuer 2009 in CHF                         1309193   \n",
       "3   Betrag Kantonssteuer 2010 in CHF                         1051519   \n",
       "4   Betrag Kantonssteuer 2011 in CHF                          953215   \n",
       "5   Betrag Kantonssteuer 2012 in CHF                          988128   \n",
       "6   Betrag Kantonssteuer 2013 in CHF                         1120619   \n",
       "7   Betrag Kantonssteuer 2014 in CHF                         1139949   \n",
       "8   Betrag Kantonssteuer 2015 in CHF                         1021922   \n",
       "9   Betrag Kantonssteuer 2016 in CHF                         1077015   \n",
       "10  Betrag Kantonssteuer 2017 in CHF                         1077016   \n",
       "\n",
       "    Steuerbarer Gewinn 10100-50000 CHF  Steuerbarer Gewinn 50100-250000 CHF  \\\n",
       "0                              7654106                             28215316   \n",
       "1                              7609731                             29853096   \n",
       "2                              8020546                             32339760   \n",
       "3                              8379718                             35558173   \n",
       "4                              8743197                             37792190   \n",
       "5                              8889203                             39082269   \n",
       "6                              9525772                             41375861   \n",
       "7                             10214132                             43823295   \n",
       "8                             10091127                             45625213   \n",
       "9                             10153766                             46507243   \n",
       "10                            10928683                             48346317   \n",
       "\n",
       "    Steuerbarer Gewinn ab 250100  Total Steuerbetrag  \\\n",
       "0                      487465494           524331616   \n",
       "1                      391904294           430637678   \n",
       "2                      431058562           472728062   \n",
       "3                      388354588           433343998   \n",
       "4                      401481456           448970058   \n",
       "5                      446332012           495291612   \n",
       "6                      479217253           531239504   \n",
       "7                      487021441           542198817   \n",
       "8                      487789059           544527320   \n",
       "9                      514703383           572441407   \n",
       "10                     527611474           587963490   \n",
       "\n",
       "    Anteil gewinnstärkste Firmen am Totalbetrag in %  \\\n",
       "0                                          92.968930   \n",
       "1                                          91.005575   \n",
       "2                                          91.185313   \n",
       "3                                          89.618084   \n",
       "4                                          89.422769   \n",
       "5                                          90.114995   \n",
       "6                                          90.207383   \n",
       "7                                          89.823405   \n",
       "8                                          89.580273   \n",
       "9                                          89.913723   \n",
       "10                                         89.735414   \n",
       "\n",
       "    Anteil zweitstärkste Firmen am Totalbetrag in %  \\\n",
       "0                                          5.381197   \n",
       "1                                          6.932300   \n",
       "2                                          6.841092   \n",
       "3                                          8.205530   \n",
       "4                                          8.417530   \n",
       "5                                          7.890759   \n",
       "6                                          7.788551   \n",
       "7                                          8.082514   \n",
       "8                                          8.378866   \n",
       "9                                          8.124367   \n",
       "10                                         8.222673   \n",
       "\n",
       "    Anteil zweitschwächste Firmen am Totalbetrag in %  \\\n",
       "0                                            1.459783   \n",
       "1                                            1.767084   \n",
       "2                                            1.696651   \n",
       "3                                            1.933733   \n",
       "4                                            1.947390   \n",
       "5                                            1.794741   \n",
       "6                                            1.793122   \n",
       "7                                            1.883835   \n",
       "8                                            1.853190   \n",
       "9                                            1.773765   \n",
       "10                                           1.858735   \n",
       "\n",
       "    Anteil schwächste Firmen am Totalbetrag in %  \n",
       "0                                       0.190090  \n",
       "1                                       0.295041  \n",
       "2                                       0.276944  \n",
       "3                                       0.242652  \n",
       "4                                       0.212311  \n",
       "5                                       0.199504  \n",
       "6                                       0.210944  \n",
       "7                                       0.210246  \n",
       "8                                       0.187671  \n",
       "9                                       0.188144  \n",
       "10                                      0.183177  "
      ]
     },
     "execution_count": 27,
     "metadata": {},
     "output_type": "execute_result"
    }
   ],
   "source": [
    "Betrag_Kantonssteuer_Firmen"
   ]
  },
  {
   "cell_type": "markdown",
   "metadata": {},
   "source": [
    "So plotte ich die alle nebeneinander. Eventuell wäre das eine mögliche Grafik"
   ]
  },
  {
   "cell_type": "code",
   "execution_count": 10,
   "metadata": {},
   "outputs": [
    {
     "data": {
      "text/plain": [
       "<matplotlib.axes._subplots.AxesSubplot at 0x2871afa9d30>"
      ]
     },
     "execution_count": 10,
     "metadata": {},
     "output_type": "execute_result"
    },
    {
     "data": {
      "image/png": "[encoded data removed]",
      "text/plain": [
       "<Figure size 432x288 with 1 Axes>"
      ]
     },
     "metadata": {
      "needs_background": "light"
     },
     "output_type": "display_data"
    }
   ],
   "source": [
    "Betrag_Kantonssteuer_Firmen.plot(x=\"Unnamed: 0\", y=[\"Anteil gewinnstärkste Firmen am Totalbetrag in %\", 'Anteil zweitstärkste Firmen am Totalbetrag in %', 'Anteil zweitschwächste Firmen am Totalbetrag in %', 'Anteil schwächste Firmen am Totalbetrag in %'], kind=\"bar\", title='Anteil der Firmen an den Gewinnsteuereinnahmen in Prozent')"
   ]
  },
  {
   "cell_type": "markdown",
   "metadata": {},
   "source": [
    "### Kernaussage: \n",
    "Die gewinnstärksten Firmen machten in den zehn Jahren immer den Löwenanteil der Gewinnsteuern im Kanton Bern aus. Er schwankte stets so bei 90 Prozent. Er ist allerdings leicht rückläuftig: 2007 betrug er noch fast 93 Prozent, 2017 waren es noch 89,7 Prozent. In die Bresche sprangen die zweitstärksten Firmen mit einem steuerbaren Gewinn von 50100 bis 250000 Franken. Sie legten in dieser Zeit um fast 3 Prozent von 5,4 auf 8,2 Prozent zu. Kaum zu Buche schlagen die gewinnschwächeren Firmen. Sie konnten zwar ein bisschen zulegen, machen aber gemeinsam bloss rund 2 Prozent am Totalbetrag aus.  \n",
    "\n",
    "Zu bedenken gilt es, dass ab 2015 die gewinnstarken Firmen sogar unterteilt waren. "
   ]
  },
  {
   "cell_type": "markdown",
   "metadata": {},
   "source": [
    "## Anteil der Firmen an der Anzahl Firmen"
   ]
  },
  {
   "cell_type": "code",
   "execution_count": 11,
   "metadata": {
    "scrolled": true
   },
   "outputs": [],
   "source": [
    "Steuerpflichtige_Firmen = pd.read_csv('Steuerpflichtige Firmen 2007 bis 2017')"
   ]
  },
  {
   "cell_type": "code",
   "execution_count": 12,
   "metadata": {},
   "outputs": [],
   "source": [
    "Steuerpflichtige_Firmen['Anzahl gewinnstärkste Firmen in Prozent'] = (100 / Steuerpflichtige_Firmen['Total Steuerpflichtige'] * Steuerpflichtige_Firmen['Steuerbarer Gewinn ab 250100'])"
   ]
  },
  {
   "cell_type": "code",
   "execution_count": 13,
   "metadata": {},
   "outputs": [],
   "source": [
    "Steuerpflichtige_Firmen['Anzahl zweitstärkste Firmen in Prozent'] = (100 / Steuerpflichtige_Firmen['Total Steuerpflichtige'] * Steuerpflichtige_Firmen['Steuerbarer Gewinn 50100-250000 CHF'])"
   ]
  },
  {
   "cell_type": "code",
   "execution_count": 14,
   "metadata": {},
   "outputs": [],
   "source": [
    "Steuerpflichtige_Firmen['Anzahl zweitschwächste Firmen in Prozent'] = (100 / Steuerpflichtige_Firmen['Total Steuerpflichtige'] * Steuerpflichtige_Firmen['Steuerbarer Gewinn 10100-50000 CHF'])"
   ]
  },
  {
   "cell_type": "code",
   "execution_count": 15,
   "metadata": {},
   "outputs": [],
   "source": [
    "Steuerpflichtige_Firmen['Anzahl gewinnschwächste Firmen in Prozent'] = (100 / Steuerpflichtige_Firmen['Total Steuerpflichtige'] * Steuerpflichtige_Firmen['Steuerbarer Gewinn 0-10000 CHF'])"
   ]
  },
  {
   "cell_type": "code",
   "execution_count": 16,
   "metadata": {},
   "outputs": [
    {
     "data": {
      "text/html": [
       "<div>\n",
       "<style scoped>\n",
       "    .dataframe tbody tr th:only-of-type {\n",
       "        vertical-align: middle;\n",
       "    }\n",
       "\n",
       "    .dataframe tbody tr th {\n",
       "        vertical-align: top;\n",
       "    }\n",
       "\n",
       "    .dataframe thead th {\n",
       "        text-align: right;\n",
       "    }\n",
       "</style>\n",
       "<table border=\"1\" class=\"dataframe\">\n",
       "  <thead>\n",
       "    <tr style=\"text-align: right;\">\n",
       "      <th></th>\n",
       "      <th>Unnamed: 0</th>\n",
       "      <th>Steuerbarer Gewinn 0-10000 CHF</th>\n",
       "      <th>Steuerbarer Gewinn 10100-50000 CHF</th>\n",
       "      <th>Steuerbarer Gewinn 50100-250000 CHF</th>\n",
       "      <th>Steuerbarer Gewinn ab 250100</th>\n",
       "      <th>Total Steuerpflichtige</th>\n",
       "      <th>Anzahl gewinnstärkste Firmen in Prozent</th>\n",
       "      <th>Anzahl zweitstärkste Firmen in Prozent</th>\n",
       "      <th>Anzahl zweitschwächste Firmen in Prozent</th>\n",
       "      <th>Anzahl gewinnschwächste Firmen in Prozent</th>\n",
       "    </tr>\n",
       "  </thead>\n",
       "  <tbody>\n",
       "    <tr>\n",
       "      <th>0</th>\n",
       "      <td>Anzahl Steuerpflichtige 2007</td>\n",
       "      <td>18759</td>\n",
       "      <td>4028</td>\n",
       "      <td>2636</td>\n",
       "      <td>1723</td>\n",
       "      <td>27146</td>\n",
       "      <td>6.347160</td>\n",
       "      <td>9.710455</td>\n",
       "      <td>14.838282</td>\n",
       "      <td>69.104104</td>\n",
       "    </tr>\n",
       "    <tr>\n",
       "      <th>1</th>\n",
       "      <td>Anzahl Steuerpflichtige 2008</td>\n",
       "      <td>19165</td>\n",
       "      <td>4172</td>\n",
       "      <td>2871</td>\n",
       "      <td>1764</td>\n",
       "      <td>27972</td>\n",
       "      <td>6.306306</td>\n",
       "      <td>10.263835</td>\n",
       "      <td>14.914915</td>\n",
       "      <td>68.514944</td>\n",
       "    </tr>\n",
       "    <tr>\n",
       "      <th>2</th>\n",
       "      <td>Anzahl Steuerpflichtige 2009</td>\n",
       "      <td>19749</td>\n",
       "      <td>4238</td>\n",
       "      <td>2992</td>\n",
       "      <td>1833</td>\n",
       "      <td>28812</td>\n",
       "      <td>6.361933</td>\n",
       "      <td>10.384562</td>\n",
       "      <td>14.709149</td>\n",
       "      <td>68.544357</td>\n",
       "    </tr>\n",
       "    <tr>\n",
       "      <th>3</th>\n",
       "      <td>Anzahl Steuerpflichtige 2010</td>\n",
       "      <td>21101</td>\n",
       "      <td>4270</td>\n",
       "      <td>3302</td>\n",
       "      <td>2028</td>\n",
       "      <td>30701</td>\n",
       "      <td>6.605648</td>\n",
       "      <td>10.755350</td>\n",
       "      <td>13.908342</td>\n",
       "      <td>68.730660</td>\n",
       "    </tr>\n",
       "    <tr>\n",
       "      <th>4</th>\n",
       "      <td>Anzahl Steuerpflichtige 2011</td>\n",
       "      <td>21061</td>\n",
       "      <td>4659</td>\n",
       "      <td>3581</td>\n",
       "      <td>2148</td>\n",
       "      <td>31449</td>\n",
       "      <td>6.830106</td>\n",
       "      <td>11.386690</td>\n",
       "      <td>14.814462</td>\n",
       "      <td>66.968743</td>\n",
       "    </tr>\n",
       "    <tr>\n",
       "      <th>5</th>\n",
       "      <td>Anzahl Steuerpflichtige 2012</td>\n",
       "      <td>21770</td>\n",
       "      <td>4759</td>\n",
       "      <td>3746</td>\n",
       "      <td>2276</td>\n",
       "      <td>32551</td>\n",
       "      <td>6.992105</td>\n",
       "      <td>11.508095</td>\n",
       "      <td>14.620135</td>\n",
       "      <td>66.879666</td>\n",
       "    </tr>\n",
       "    <tr>\n",
       "      <th>6</th>\n",
       "      <td>Anzahl Steuerpflichtige 2013</td>\n",
       "      <td>22561</td>\n",
       "      <td>4806</td>\n",
       "      <td>3926</td>\n",
       "      <td>2332</td>\n",
       "      <td>33625</td>\n",
       "      <td>6.935316</td>\n",
       "      <td>11.675836</td>\n",
       "      <td>14.292937</td>\n",
       "      <td>67.095911</td>\n",
       "    </tr>\n",
       "    <tr>\n",
       "      <th>7</th>\n",
       "      <td>Anzahl Steuerpflichtige 2014</td>\n",
       "      <td>23123</td>\n",
       "      <td>5130</td>\n",
       "      <td>4114</td>\n",
       "      <td>2416</td>\n",
       "      <td>34783</td>\n",
       "      <td>6.945922</td>\n",
       "      <td>11.827617</td>\n",
       "      <td>14.748584</td>\n",
       "      <td>66.477877</td>\n",
       "    </tr>\n",
       "    <tr>\n",
       "      <th>8</th>\n",
       "      <td>Anzahl Steuerpflichtige 2015</td>\n",
       "      <td>23673</td>\n",
       "      <td>5331</td>\n",
       "      <td>4341</td>\n",
       "      <td>2493</td>\n",
       "      <td>35838</td>\n",
       "      <td>6.956303</td>\n",
       "      <td>12.112841</td>\n",
       "      <td>14.875272</td>\n",
       "      <td>66.055583</td>\n",
       "    </tr>\n",
       "    <tr>\n",
       "      <th>9</th>\n",
       "      <td>Anzahl Steuerpflichtige 2016</td>\n",
       "      <td>24450</td>\n",
       "      <td>5493</td>\n",
       "      <td>4503</td>\n",
       "      <td>2589</td>\n",
       "      <td>37035</td>\n",
       "      <td>6.990684</td>\n",
       "      <td>12.158769</td>\n",
       "      <td>14.831916</td>\n",
       "      <td>66.018631</td>\n",
       "    </tr>\n",
       "    <tr>\n",
       "      <th>10</th>\n",
       "      <td>Anzahl Steuerpflichtige 2017</td>\n",
       "      <td>24918</td>\n",
       "      <td>5787</td>\n",
       "      <td>4660</td>\n",
       "      <td>2707</td>\n",
       "      <td>38072</td>\n",
       "      <td>7.110212</td>\n",
       "      <td>12.239966</td>\n",
       "      <td>15.200147</td>\n",
       "      <td>65.449674</td>\n",
       "    </tr>\n",
       "  </tbody>\n",
       "</table>\n",
       "</div>"
      ],
      "text/plain": [
       "                      Unnamed: 0  Steuerbarer Gewinn 0-10000 CHF  \\\n",
       "0   Anzahl Steuerpflichtige 2007                           18759   \n",
       "1   Anzahl Steuerpflichtige 2008                           19165   \n",
       "2   Anzahl Steuerpflichtige 2009                           19749   \n",
       "3   Anzahl Steuerpflichtige 2010                           21101   \n",
       "4   Anzahl Steuerpflichtige 2011                           21061   \n",
       "5   Anzahl Steuerpflichtige 2012                           21770   \n",
       "6   Anzahl Steuerpflichtige 2013                           22561   \n",
       "7   Anzahl Steuerpflichtige 2014                           23123   \n",
       "8   Anzahl Steuerpflichtige 2015                           23673   \n",
       "9   Anzahl Steuerpflichtige 2016                           24450   \n",
       "10  Anzahl Steuerpflichtige 2017                           24918   \n",
       "\n",
       "    Steuerbarer Gewinn 10100-50000 CHF  Steuerbarer Gewinn 50100-250000 CHF  \\\n",
       "0                                 4028                                 2636   \n",
       "1                                 4172                                 2871   \n",
       "2                                 4238                                 2992   \n",
       "3                                 4270                                 3302   \n",
       "4                                 4659                                 3581   \n",
       "5                                 4759                                 3746   \n",
       "6                                 4806                                 3926   \n",
       "7                                 5130                                 4114   \n",
       "8                                 5331                                 4341   \n",
       "9                                 5493                                 4503   \n",
       "10                                5787                                 4660   \n",
       "\n",
       "    Steuerbarer Gewinn ab 250100  Total Steuerpflichtige  \\\n",
       "0                           1723                   27146   \n",
       "1                           1764                   27972   \n",
       "2                           1833                   28812   \n",
       "3                           2028                   30701   \n",
       "4                           2148                   31449   \n",
       "5                           2276                   32551   \n",
       "6                           2332                   33625   \n",
       "7                           2416                   34783   \n",
       "8                           2493                   35838   \n",
       "9                           2589                   37035   \n",
       "10                          2707                   38072   \n",
       "\n",
       "    Anzahl gewinnstärkste Firmen in Prozent  \\\n",
       "0                                  6.347160   \n",
       "1                                  6.306306   \n",
       "2                                  6.361933   \n",
       "3                                  6.605648   \n",
       "4                                  6.830106   \n",
       "5                                  6.992105   \n",
       "6                                  6.935316   \n",
       "7                                  6.945922   \n",
       "8                                  6.956303   \n",
       "9                                  6.990684   \n",
       "10                                 7.110212   \n",
       "\n",
       "    Anzahl zweitstärkste Firmen in Prozent  \\\n",
       "0                                 9.710455   \n",
       "1                                10.263835   \n",
       "2                                10.384562   \n",
       "3                                10.755350   \n",
       "4                                11.386690   \n",
       "5                                11.508095   \n",
       "6                                11.675836   \n",
       "7                                11.827617   \n",
       "8                                12.112841   \n",
       "9                                12.158769   \n",
       "10                               12.239966   \n",
       "\n",
       "    Anzahl zweitschwächste Firmen in Prozent  \\\n",
       "0                                  14.838282   \n",
       "1                                  14.914915   \n",
       "2                                  14.709149   \n",
       "3                                  13.908342   \n",
       "4                                  14.814462   \n",
       "5                                  14.620135   \n",
       "6                                  14.292937   \n",
       "7                                  14.748584   \n",
       "8                                  14.875272   \n",
       "9                                  14.831916   \n",
       "10                                 15.200147   \n",
       "\n",
       "    Anzahl gewinnschwächste Firmen in Prozent  \n",
       "0                                   69.104104  \n",
       "1                                   68.514944  \n",
       "2                                   68.544357  \n",
       "3                                   68.730660  \n",
       "4                                   66.968743  \n",
       "5                                   66.879666  \n",
       "6                                   67.095911  \n",
       "7                                   66.477877  \n",
       "8                                   66.055583  \n",
       "9                                   66.018631  \n",
       "10                                  65.449674  "
      ]
     },
     "execution_count": 16,
     "metadata": {},
     "output_type": "execute_result"
    }
   ],
   "source": [
    "Steuerpflichtige_Firmen"
   ]
  },
  {
   "cell_type": "code",
   "execution_count": 17,
   "metadata": {},
   "outputs": [
    {
     "data": {
      "text/plain": [
       "<matplotlib.axes._subplots.AxesSubplot at 0x2871b6a6b00>"
      ]
     },
     "execution_count": 17,
     "metadata": {},
     "output_type": "execute_result"
    },
    {
     "data": {
      "image/png": "[encoded data removed]",
      "text/plain": [
       "<Figure size 432x288 with 1 Axes>"
      ]
     },
     "metadata": {
      "needs_background": "light"
     },
     "output_type": "display_data"
    }
   ],
   "source": [
    "Steuerpflichtige_Firmen.plot(x=\"Unnamed: 0\", y=[\"Anzahl gewinnstärkste Firmen in Prozent\", \n",
    "                                                'Anzahl zweitstärkste Firmen in Prozent', \n",
    "                                                'Anzahl zweitschwächste Firmen in Prozent', \n",
    "                                                'Anzahl gewinnschwächste Firmen in Prozent'], \n",
    "                             kind=\"bar\", title='Anzahl Firmen in Prozent')"
   ]
  },
  {
   "cell_type": "markdown",
   "metadata": {},
   "source": [
    "### Kernaussage: \n",
    "Offenbar ist der Kanton Bern für Firmen doch nicht so unattraktiv. Ihre Anzahl hat total von 27146 Firmen im 2007 auf 38072 zugenommen. Den grössten Anteil machen dabei stets die gewinnschwächsten Firmen mit 65,5 Prozent (2017) aus. Das heisst, dass die 7,1 Prozent gewinnstärksten Firmen 89,7 Prozent der Gewinnsteuereinnahmen beisteuerten (2017). \n",
    "\n",
    "Betrachtet man den Firmenmix im Kanton Bern über die zehn Jahre hinweg, legten die gewinnstärkeren Firmen prozentmässig leicht zu. Lediglich die gewinnschwächsten Firmen machten 2007 noch 69,1 Prozent und damit knapp 4 Prozent mehr im Firmenmix aus als 2017. "
   ]
  },
  {
   "cell_type": "markdown",
   "metadata": {},
   "source": [
    "Frage: Interessant! Die starken Firmen legen zu, die schwachen nehmen ab anzahlmässig! Das heisst, die starken Firmen bezahlten weniger Steuern, oder? Dazu würde eventuell der Median des Steuerbetrags pro Firma etwas aussagen. Darum kümmere ich mich am Freitag."
   ]
  },
  {
   "cell_type": "markdown",
   "metadata": {},
   "source": [
    "## Welche Firmen haben wie stark zugelegt?"
   ]
  },
  {
   "cell_type": "markdown",
   "metadata": {},
   "source": []
  },
  {
   "cell_type": "code",
   "execution_count": 18,
   "metadata": {
    "scrolled": true
   },
   "outputs": [],
   "source": [
    "#ich kippe die Tabellen und setze die Headers, damit ich so mit ihnen arbeiten kann. \n",
    "\n",
    "Betrag_Firmen = Betrag_Kantonssteuer_Firmen.T\n",
    "\n",
    "\n",
    "headers = ['Betrag Kantonssteuer 2007 in CHF', 'Betrag Kantonssteuer 2008 in CHF', 'Betrag Kantonssteuer 2009 in CHF',\n",
    "           'Betrag Kantonssteuer 2010 in CHF', 'Betrag Kantonssteuer 2011 in CHF', 'Betrag Kantonssteuer 2012 in CHF',\n",
    "           'Betrag Kantonssteuer 2013 in CHF', 'Betrag Kantonssteuer 2014 in CHF', 'Betrag Kantonssteuer 2015 in CHF',\n",
    "           'Betrag Kantonssteuer 2016 in CHF', 'Betrag Kantonssteuer 2017 in CHF']\n",
    "\n",
    "Betrag_Firmen.columns = headers\n",
    "Betrag_Firmen = Betrag_Firmen[1:]\n",
    "\n",
    "Betrag_Firmen_rein = Betrag_Firmen.drop(['Anteil gewinnstärkste Firmen am Totalbetrag in %', \n",
    "                                         'Anteil zweitstärkste Firmen am Totalbetrag in %',\n",
    "                                        'Anteil zweitschwächste Firmen am Totalbetrag in %',\n",
    "                                        'Anteil schwächste Firmen am Totalbetrag in %'])"
   ]
  },
  {
   "cell_type": "code",
   "execution_count": 19,
   "metadata": {},
   "outputs": [
    {
     "data": {
      "text/html": [
       "<div>\n",
       "<style scoped>\n",
       "    .dataframe tbody tr th:only-of-type {\n",
       "        vertical-align: middle;\n",
       "    }\n",
       "\n",
       "    .dataframe tbody tr th {\n",
       "        vertical-align: top;\n",
       "    }\n",
       "\n",
       "    .dataframe thead th {\n",
       "        text-align: right;\n",
       "    }\n",
       "</style>\n",
       "<table border=\"1\" class=\"dataframe\">\n",
       "  <thead>\n",
       "    <tr style=\"text-align: right;\">\n",
       "      <th></th>\n",
       "      <th>Betrag Kantonssteuer 2007 in CHF</th>\n",
       "      <th>Betrag Kantonssteuer 2008 in CHF</th>\n",
       "      <th>Betrag Kantonssteuer 2009 in CHF</th>\n",
       "      <th>Betrag Kantonssteuer 2010 in CHF</th>\n",
       "      <th>Betrag Kantonssteuer 2011 in CHF</th>\n",
       "      <th>Betrag Kantonssteuer 2012 in CHF</th>\n",
       "      <th>Betrag Kantonssteuer 2013 in CHF</th>\n",
       "      <th>Betrag Kantonssteuer 2014 in CHF</th>\n",
       "      <th>Betrag Kantonssteuer 2015 in CHF</th>\n",
       "      <th>Betrag Kantonssteuer 2016 in CHF</th>\n",
       "      <th>Betrag Kantonssteuer 2017 in CHF</th>\n",
       "    </tr>\n",
       "  </thead>\n",
       "  <tbody>\n",
       "    <tr>\n",
       "      <th>Steuerbarer Gewinn 0-10000 CHF</th>\n",
       "      <td>996701</td>\n",
       "      <td>1270557</td>\n",
       "      <td>1309193</td>\n",
       "      <td>1051519</td>\n",
       "      <td>953215</td>\n",
       "      <td>988128</td>\n",
       "      <td>1120619</td>\n",
       "      <td>1139949</td>\n",
       "      <td>1021922</td>\n",
       "      <td>1077015</td>\n",
       "      <td>1077016</td>\n",
       "    </tr>\n",
       "    <tr>\n",
       "      <th>Steuerbarer Gewinn 10100-50000 CHF</th>\n",
       "      <td>7654106</td>\n",
       "      <td>7609731</td>\n",
       "      <td>8020546</td>\n",
       "      <td>8379718</td>\n",
       "      <td>8743197</td>\n",
       "      <td>8889203</td>\n",
       "      <td>9525772</td>\n",
       "      <td>10214132</td>\n",
       "      <td>10091127</td>\n",
       "      <td>10153766</td>\n",
       "      <td>10928683</td>\n",
       "    </tr>\n",
       "    <tr>\n",
       "      <th>Steuerbarer Gewinn 50100-250000 CHF</th>\n",
       "      <td>28215316</td>\n",
       "      <td>29853096</td>\n",
       "      <td>32339760</td>\n",
       "      <td>35558173</td>\n",
       "      <td>37792190</td>\n",
       "      <td>39082269</td>\n",
       "      <td>41375861</td>\n",
       "      <td>43823295</td>\n",
       "      <td>45625213</td>\n",
       "      <td>46507243</td>\n",
       "      <td>48346317</td>\n",
       "    </tr>\n",
       "    <tr>\n",
       "      <th>Steuerbarer Gewinn ab 250100</th>\n",
       "      <td>487465494</td>\n",
       "      <td>391904294</td>\n",
       "      <td>431058562</td>\n",
       "      <td>388354588</td>\n",
       "      <td>401481456</td>\n",
       "      <td>446332012</td>\n",
       "      <td>479217253</td>\n",
       "      <td>487021441</td>\n",
       "      <td>487789059</td>\n",
       "      <td>514703383</td>\n",
       "      <td>527611474</td>\n",
       "    </tr>\n",
       "    <tr>\n",
       "      <th>Total Steuerbetrag</th>\n",
       "      <td>524331616</td>\n",
       "      <td>430637678</td>\n",
       "      <td>472728062</td>\n",
       "      <td>433343998</td>\n",
       "      <td>448970058</td>\n",
       "      <td>495291612</td>\n",
       "      <td>531239504</td>\n",
       "      <td>542198817</td>\n",
       "      <td>544527320</td>\n",
       "      <td>572441407</td>\n",
       "      <td>587963490</td>\n",
       "    </tr>\n",
       "  </tbody>\n",
       "</table>\n",
       "</div>"
      ],
      "text/plain": [
       "                                    Betrag Kantonssteuer 2007 in CHF  \\\n",
       "Steuerbarer Gewinn 0-10000 CHF                                996701   \n",
       "Steuerbarer Gewinn 10100-50000 CHF                           7654106   \n",
       "Steuerbarer Gewinn 50100-250000 CHF                         28215316   \n",
       "Steuerbarer Gewinn ab 250100                               487465494   \n",
       "Total Steuerbetrag                                         524331616   \n",
       "\n",
       "                                    Betrag Kantonssteuer 2008 in CHF  \\\n",
       "Steuerbarer Gewinn 0-10000 CHF                               1270557   \n",
       "Steuerbarer Gewinn 10100-50000 CHF                           7609731   \n",
       "Steuerbarer Gewinn 50100-250000 CHF                         29853096   \n",
       "Steuerbarer Gewinn ab 250100                               391904294   \n",
       "Total Steuerbetrag                                         430637678   \n",
       "\n",
       "                                    Betrag Kantonssteuer 2009 in CHF  \\\n",
       "Steuerbarer Gewinn 0-10000 CHF                               1309193   \n",
       "Steuerbarer Gewinn 10100-50000 CHF                           8020546   \n",
       "Steuerbarer Gewinn 50100-250000 CHF                         32339760   \n",
       "Steuerbarer Gewinn ab 250100                               431058562   \n",
       "Total Steuerbetrag                                         472728062   \n",
       "\n",
       "                                    Betrag Kantonssteuer 2010 in CHF  \\\n",
       "Steuerbarer Gewinn 0-10000 CHF                               1051519   \n",
       "Steuerbarer Gewinn 10100-50000 CHF                           8379718   \n",
       "Steuerbarer Gewinn 50100-250000 CHF                         35558173   \n",
       "Steuerbarer Gewinn ab 250100                               388354588   \n",
       "Total Steuerbetrag                                         433343998   \n",
       "\n",
       "                                    Betrag Kantonssteuer 2011 in CHF  \\\n",
       "Steuerbarer Gewinn 0-10000 CHF                                953215   \n",
       "Steuerbarer Gewinn 10100-50000 CHF                           8743197   \n",
       "Steuerbarer Gewinn 50100-250000 CHF                         37792190   \n",
       "Steuerbarer Gewinn ab 250100                               401481456   \n",
       "Total Steuerbetrag                                         448970058   \n",
       "\n",
       "                                    Betrag Kantonssteuer 2012 in CHF  \\\n",
       "Steuerbarer Gewinn 0-10000 CHF                                988128   \n",
       "Steuerbarer Gewinn 10100-50000 CHF                           8889203   \n",
       "Steuerbarer Gewinn 50100-250000 CHF                         39082269   \n",
       "Steuerbarer Gewinn ab 250100                               446332012   \n",
       "Total Steuerbetrag                                         495291612   \n",
       "\n",
       "                                    Betrag Kantonssteuer 2013 in CHF  \\\n",
       "Steuerbarer Gewinn 0-10000 CHF                               1120619   \n",
       "Steuerbarer Gewinn 10100-50000 CHF                           9525772   \n",
       "Steuerbarer Gewinn 50100-250000 CHF                         41375861   \n",
       "Steuerbarer Gewinn ab 250100                               479217253   \n",
       "Total Steuerbetrag                                         531239504   \n",
       "\n",
       "                                    Betrag Kantonssteuer 2014 in CHF  \\\n",
       "Steuerbarer Gewinn 0-10000 CHF                               1139949   \n",
       "Steuerbarer Gewinn 10100-50000 CHF                          10214132   \n",
       "Steuerbarer Gewinn 50100-250000 CHF                         43823295   \n",
       "Steuerbarer Gewinn ab 250100                               487021441   \n",
       "Total Steuerbetrag                                         542198817   \n",
       "\n",
       "                                    Betrag Kantonssteuer 2015 in CHF  \\\n",
       "Steuerbarer Gewinn 0-10000 CHF                               1021922   \n",
       "Steuerbarer Gewinn 10100-50000 CHF                          10091127   \n",
       "Steuerbarer Gewinn 50100-250000 CHF                         45625213   \n",
       "Steuerbarer Gewinn ab 250100                               487789059   \n",
       "Total Steuerbetrag                                         544527320   \n",
       "\n",
       "                                    Betrag Kantonssteuer 2016 in CHF  \\\n",
       "Steuerbarer Gewinn 0-10000 CHF                               1077015   \n",
       "Steuerbarer Gewinn 10100-50000 CHF                          10153766   \n",
       "Steuerbarer Gewinn 50100-250000 CHF                         46507243   \n",
       "Steuerbarer Gewinn ab 250100                               514703383   \n",
       "Total Steuerbetrag                                         572441407   \n",
       "\n",
       "                                    Betrag Kantonssteuer 2017 in CHF  \n",
       "Steuerbarer Gewinn 0-10000 CHF                               1077016  \n",
       "Steuerbarer Gewinn 10100-50000 CHF                          10928683  \n",
       "Steuerbarer Gewinn 50100-250000 CHF                         48346317  \n",
       "Steuerbarer Gewinn ab 250100                               527611474  \n",
       "Total Steuerbetrag                                         587963490  "
      ]
     },
     "execution_count": 19,
     "metadata": {},
     "output_type": "execute_result"
    }
   ],
   "source": [
    "Betrag_Firmen_rein"
   ]
  },
  {
   "cell_type": "code",
   "execution_count": 20,
   "metadata": {
    "scrolled": true
   },
   "outputs": [],
   "source": [
    "Steuerpflichtige_Firmen_gekippt = Steuerpflichtige_Firmen.T\n",
    "\n",
    "headers = ['Anzahl Steuerpflichtige 2007', 'Anzahl Steuerpflichtige 2008', 'Anzahl Steuerpflichtige 2009', \n",
    "           'Anzahl Steuerpflichtige 2010', 'Anzahl Steuerpflichtige 2011', 'Anzahl Steuerpflichtige 2012',\n",
    "          'Anzahl Steuerpflichtige 2013', 'Anzahl Steuerpflichtige 2014', 'Anzahl Steuerpflichtige 2015', \n",
    "          'Anzahl Steuerpflichtige 2016', 'Anzahl Steuerpflichtige 2017']\n",
    "\n",
    "Steuerpflichtige_Firmen_gekippt.columns = headers\n",
    "Anzahl_Firmen = Steuerpflichtige_Firmen_gekippt[1:]\n",
    "\n",
    "Anzahl_Firmen_rein = Anzahl_Firmen.drop(['Anzahl gewinnstärkste Firmen in Prozent', 'Anzahl zweitstärkste Firmen in Prozent',\n",
    "                                        'Anzahl zweitschwächste Firmen in Prozent', 'Anzahl gewinnschwächste Firmen in Prozent'])"
   ]
  },
  {
   "cell_type": "code",
   "execution_count": 21,
   "metadata": {},
   "outputs": [],
   "source": [
    "# neue Kolonnen mit dem Unterschied\n",
    "Betrag_Firmen_rein['Unterschied'] = (Betrag_Firmen_rein['Betrag Kantonssteuer 2017 in CHF'] - Betrag_Firmen_rein['Betrag Kantonssteuer 2007 in CHF'])"
   ]
  },
  {
   "cell_type": "code",
   "execution_count": 22,
   "metadata": {},
   "outputs": [],
   "source": [
    "Anzahl_Firmen_rein['Unterschied'] = (Anzahl_Firmen_rein['Anzahl Steuerpflichtige 2017'] - Anzahl_Firmen_rein['Anzahl Steuerpflichtige 2007'])"
   ]
  },
  {
   "cell_type": "code",
   "execution_count": 23,
   "metadata": {},
   "outputs": [
    {
     "data": {
      "text/plain": [
       "Steuerbarer Gewinn 0-10000 CHF          6159\n",
       "Steuerbarer Gewinn 10100-50000 CHF      1759\n",
       "Steuerbarer Gewinn 50100-250000 CHF     2024\n",
       "Steuerbarer Gewinn ab 250100             984\n",
       "Total Steuerpflichtige                 10926\n",
       "Name: Unterschied, dtype: object"
      ]
     },
     "execution_count": 23,
     "metadata": {},
     "output_type": "execute_result"
    }
   ],
   "source": [
    "Anzahl_Firmen_rein['Unterschied']"
   ]
  },
  {
   "cell_type": "code",
   "execution_count": 24,
   "metadata": {
    "scrolled": true
   },
   "outputs": [
    {
     "data": {
      "text/plain": [
       "<matplotlib.axes._subplots.AxesSubplot at 0x2871b745940>"
      ]
     },
     "execution_count": 24,
     "metadata": {},
     "output_type": "execute_result"
    },
    {
     "data": {
      "image/png": "[encoded data removed]",
      "text/plain": [
       "<Figure size 432x288 with 1 Axes>"
      ]
     },
     "metadata": {
      "needs_background": "light"
     },
     "output_type": "display_data"
    }
   ],
   "source": [
    "Anzahl_Firmen_rein['Unterschied'].plot(kind = 'bar', title = '')"
   ]
  },
  {
   "cell_type": "code",
   "execution_count": 25,
   "metadata": {
    "scrolled": true
   },
   "outputs": [
    {
     "data": {
      "text/plain": [
       "Steuerbarer Gewinn 0-10000 CHF            80315\n",
       "Steuerbarer Gewinn 10100-50000 CHF      3274577\n",
       "Steuerbarer Gewinn 50100-250000 CHF    20131001\n",
       "Steuerbarer Gewinn ab 250100           40145980\n",
       "Total Steuerbetrag                     63631874\n",
       "Name: Unterschied, dtype: object"
      ]
     },
     "execution_count": 25,
     "metadata": {},
     "output_type": "execute_result"
    }
   ],
   "source": [
    "Betrag_Firmen_rein['Unterschied']"
   ]
  },
  {
   "cell_type": "code",
   "execution_count": 26,
   "metadata": {
    "scrolled": false
   },
   "outputs": [
    {
     "data": {
      "text/plain": [
       "<matplotlib.axes._subplots.AxesSubplot at 0x2871b806400>"
      ]
     },
     "execution_count": 26,
     "metadata": {},
     "output_type": "execute_result"
    },
    {
     "data": {
      "image/png": "[encoded data removed]",
      "text/plain": [
       "<Figure size 432x288 with 1 Axes>"
      ]
     },
     "metadata": {
      "needs_background": "light"
     },
     "output_type": "display_data"
    }
   ],
   "source": [
    "Betrag_Firmen_rein['Unterschied'].plot(kind = 'bar')"
   ]
  },
  {
   "cell_type": "markdown",
   "metadata": {},
   "source": [
    "## Kernaussage: \n",
    "Es gibt 2017 total 10926 steuerpflichtige Firmen im Kanton Bern mehr als 2007. Den Löwenanteil dieser zusätzlichen Firmen machen die gewinnschwächsten Firmen (0-10000 Franken) aus (6159 Stück). Auf Rang 2 folgen aber bereits die zweitstärksten Firmen mit einer Steigerung von 2024. \n",
    "\n",
    "Im Gegensatz dazu sind es die gewinnstärksten Firmen, die bei den zusätzlichen 63631874 Franken Steuereinnahmen (2007 im VGL zu 2017) zu Buche schlagen. Sie tragen davon 40145980 Franken in die Kantonskasse. \n"
   ]
  }
 ],
 "metadata": {
  "kernelspec": {
   "display_name": "Python 3",
   "language": "python",
   "name": "python3"
  },
  "language_info": {
   "codemirror_mode": {
    "name": "ipython",
    "version": 3
   },
   "file_extension": ".py",
   "mimetype": "text/x-python",
   "name": "python",
   "nbconvert_exporter": "python",
   "pygments_lexer": "ipython3",
   "version": "3.7.3"
  }
 },
 "nbformat": 4,
 "nbformat_minor": 2
}
