{
 "cells": [
  {
   "cell_type": "markdown",
   "metadata": {},
   "source": [
    "Ab 2015 sind bei den Gewinnsteuern die Firmen mit hohen Gewinnen in zwei Kategorien aufgeteilt. Hier schaue ich, wie ich sie in eine bringen kann, damit sie vergleichbar sind mit den anderen Tabellen."
   ]
  },
  {
   "cell_type": "code",
   "execution_count": 76,
   "metadata": {},
   "outputs": [],
   "source": [
    "import camelot\n",
    "import tabula\n",
    "import pandas as pd"
   ]
  },
  {
   "cell_type": "code",
   "execution_count": 77,
   "metadata": {},
   "outputs": [],
   "source": [
    "Firmen_2015 = camelot.read_pdf(\"Firmen_2015.pdf\", flavor='stream', pages='all', table_areas=['0,842,595,0'])"
   ]
  },
  {
   "cell_type": "code",
   "execution_count": 78,
   "metadata": {},
   "outputs": [
    {
     "data": {
      "text/html": [
       "<div>\n",
       "<style scoped>\n",
       "    .dataframe tbody tr th:only-of-type {\n",
       "        vertical-align: middle;\n",
       "    }\n",
       "\n",
       "    .dataframe tbody tr th {\n",
       "        vertical-align: top;\n",
       "    }\n",
       "\n",
       "    .dataframe thead th {\n",
       "        text-align: right;\n",
       "    }\n",
       "</style>\n",
       "<table border=\"1\" class=\"dataframe\">\n",
       "  <thead>\n",
       "    <tr style=\"text-align: right;\">\n",
       "      <th></th>\n",
       "      <th>0</th>\n",
       "      <th>1</th>\n",
       "      <th>2</th>\n",
       "      <th>3</th>\n",
       "      <th>4</th>\n",
       "      <th>5</th>\n",
       "    </tr>\n",
       "  </thead>\n",
       "  <tbody>\n",
       "    <tr>\n",
       "      <th>12</th>\n",
       "      <td></td>\n",
       "      <td>0</td>\n",
       "      <td>10'000</td>\n",
       "      <td>23'673\\n           \\n1'021'922</td>\n",
       "      <td>7'260</td>\n",
       "      <td>116'207</td>\n",
       "    </tr>\n",
       "    <tr>\n",
       "      <th>13</th>\n",
       "      <td></td>\n",
       "      <td>10'100</td>\n",
       "      <td>50'000</td>\n",
       "      <td>5'331\\n        \\n10'091'127</td>\n",
       "      <td>336</td>\n",
       "      <td>432'201</td>\n",
       "    </tr>\n",
       "    <tr>\n",
       "      <th>14</th>\n",
       "      <td></td>\n",
       "      <td>50'100</td>\n",
       "      <td>250'000</td>\n",
       "      <td>4'341\\n        \\n45'625'213</td>\n",
       "      <td>83</td>\n",
       "      <td>516'748</td>\n",
       "    </tr>\n",
       "    <tr>\n",
       "      <th>15</th>\n",
       "      <td></td>\n",
       "      <td>250'100</td>\n",
       "      <td>1'000'000</td>\n",
       "      <td>1'682\\n        \\n74'418'861</td>\n",
       "      <td>29</td>\n",
       "      <td>793'017</td>\n",
       "    </tr>\n",
       "    <tr>\n",
       "      <th>16</th>\n",
       "      <td></td>\n",
       "      <td>1'000'100</td>\n",
       "      <td>+</td>\n",
       "      <td>811\\n      \\n413'370'198</td>\n",
       "      <td>4</td>\n",
       "      <td>2'539'892</td>\n",
       "    </tr>\n",
       "    <tr>\n",
       "      <th>17</th>\n",
       "      <td></td>\n",
       "      <td>Total</td>\n",
       "      <td></td>\n",
       "      <td>35'838\\n      \\n544'527'320</td>\n",
       "      <td>7'712</td>\n",
       "      <td>4'398'065</td>\n",
       "    </tr>\n",
       "  </tbody>\n",
       "</table>\n",
       "</div>"
      ],
      "text/plain": [
       "   0          1          2                               3      4          5\n",
       "12            0     10'000  23'673\\n           \\n1'021'922  7'260    116'207\n",
       "13       10'100     50'000     5'331\\n        \\n10'091'127    336    432'201\n",
       "14       50'100    250'000     4'341\\n        \\n45'625'213     83    516'748\n",
       "15      250'100  1'000'000     1'682\\n        \\n74'418'861     29    793'017\n",
       "16    1'000'100          +        811\\n      \\n413'370'198      4  2'539'892\n",
       "17        Total                35'838\\n      \\n544'527'320  7'712  4'398'065"
      ]
     },
     "execution_count": 78,
     "metadata": {},
     "output_type": "execute_result"
    }
   ],
   "source": [
    "#zurechtschneiden\n",
    "test_df = Firmen_2015[0].df\n",
    "Firmen_15 = test_df[12:]\n",
    "firmen_2015 = Firmen_15.head(6)\n",
    "firmen_2015"
   ]
  },
  {
   "cell_type": "code",
   "execution_count": 79,
   "metadata": {},
   "outputs": [
    {
     "data": {
      "text/html": [
       "<div>\n",
       "<style scoped>\n",
       "    .dataframe tbody tr th:only-of-type {\n",
       "        vertical-align: middle;\n",
       "    }\n",
       "\n",
       "    .dataframe tbody tr th {\n",
       "        vertical-align: top;\n",
       "    }\n",
       "\n",
       "    .dataframe thead th {\n",
       "        text-align: right;\n",
       "    }\n",
       "</style>\n",
       "<table border=\"1\" class=\"dataframe\">\n",
       "  <thead>\n",
       "    <tr style=\"text-align: right;\">\n",
       "      <th></th>\n",
       "      <th>Weglassen</th>\n",
       "      <th>Steuerbarer Gewinn ab CHF</th>\n",
       "      <th>weglassen</th>\n",
       "      <th>etwas seltsames</th>\n",
       "      <th>lassweg</th>\n",
       "      <th>überflüssig</th>\n",
       "    </tr>\n",
       "  </thead>\n",
       "  <tbody>\n",
       "    <tr>\n",
       "      <th>12</th>\n",
       "      <td></td>\n",
       "      <td>0</td>\n",
       "      <td>10'000</td>\n",
       "      <td>23'673\\n           \\n1'021'922</td>\n",
       "      <td>7'260</td>\n",
       "      <td>116'207</td>\n",
       "    </tr>\n",
       "    <tr>\n",
       "      <th>13</th>\n",
       "      <td></td>\n",
       "      <td>10'100</td>\n",
       "      <td>50'000</td>\n",
       "      <td>5'331\\n        \\n10'091'127</td>\n",
       "      <td>336</td>\n",
       "      <td>432'201</td>\n",
       "    </tr>\n",
       "    <tr>\n",
       "      <th>14</th>\n",
       "      <td></td>\n",
       "      <td>50'100</td>\n",
       "      <td>250'000</td>\n",
       "      <td>4'341\\n        \\n45'625'213</td>\n",
       "      <td>83</td>\n",
       "      <td>516'748</td>\n",
       "    </tr>\n",
       "    <tr>\n",
       "      <th>15</th>\n",
       "      <td></td>\n",
       "      <td>250'100</td>\n",
       "      <td>1'000'000</td>\n",
       "      <td>1'682\\n        \\n74'418'861</td>\n",
       "      <td>29</td>\n",
       "      <td>793'017</td>\n",
       "    </tr>\n",
       "    <tr>\n",
       "      <th>16</th>\n",
       "      <td></td>\n",
       "      <td>1'000'100</td>\n",
       "      <td>+</td>\n",
       "      <td>811\\n      \\n413'370'198</td>\n",
       "      <td>4</td>\n",
       "      <td>2'539'892</td>\n",
       "    </tr>\n",
       "    <tr>\n",
       "      <th>17</th>\n",
       "      <td></td>\n",
       "      <td>Total</td>\n",
       "      <td></td>\n",
       "      <td>35'838\\n      \\n544'527'320</td>\n",
       "      <td>7'712</td>\n",
       "      <td>4'398'065</td>\n",
       "    </tr>\n",
       "  </tbody>\n",
       "</table>\n",
       "</div>"
      ],
      "text/plain": [
       "   Weglassen Steuerbarer Gewinn ab CHF  weglassen  \\\n",
       "12                                   0     10'000   \n",
       "13                              10'100     50'000   \n",
       "14                              50'100    250'000   \n",
       "15                             250'100  1'000'000   \n",
       "16                           1'000'100          +   \n",
       "17                               Total              \n",
       "\n",
       "                   etwas seltsames lassweg überflüssig  \n",
       "12  23'673\\n           \\n1'021'922   7'260     116'207  \n",
       "13     5'331\\n        \\n10'091'127     336     432'201  \n",
       "14     4'341\\n        \\n45'625'213      83     516'748  \n",
       "15     1'682\\n        \\n74'418'861      29     793'017  \n",
       "16        811\\n      \\n413'370'198       4   2'539'892  \n",
       "17     35'838\\n      \\n544'527'320   7'712   4'398'065  "
      ]
     },
     "execution_count": 79,
     "metadata": {},
     "output_type": "execute_result"
    }
   ],
   "source": [
    "#headers setzen\n",
    "headers = ['Weglassen', 'Steuerbarer Gewinn ab CHF', 'weglassen', 'etwas seltsames',\n",
    "           'lassweg', 'überflüssig']\n",
    "firmen_2015.columns = headers\n",
    "firmen_2015"
   ]
  },
  {
   "cell_type": "code",
   "execution_count": 80,
   "metadata": {},
   "outputs": [],
   "source": [
    "# aus einer Kolonne zwei Kolonnen machen\n",
    "# von https://stackoverflow.com/questions/14745022/how-to-split-a-column-into-two-columns\n",
    "getrennte_kolonnen15 = firmen_2015['etwas seltsames'].str.split(' ', 1, expand=True)"
   ]
  },
  {
   "cell_type": "code",
   "execution_count": 81,
   "metadata": {},
   "outputs": [],
   "source": [
    "# überflüssige kolonnen löschen\n",
    "del firmen_2015['Weglassen']\n",
    "del firmen_2015['weglassen']\n",
    "del firmen_2015['lassweg']\n",
    "del firmen_2015['etwas seltsames']\n",
    "del firmen_2015['überflüssig']"
   ]
  },
  {
   "cell_type": "code",
   "execution_count": 82,
   "metadata": {},
   "outputs": [
    {
     "data": {
      "text/html": [
       "<div>\n",
       "<style scoped>\n",
       "    .dataframe tbody tr th:only-of-type {\n",
       "        vertical-align: middle;\n",
       "    }\n",
       "\n",
       "    .dataframe tbody tr th {\n",
       "        vertical-align: top;\n",
       "    }\n",
       "\n",
       "    .dataframe thead th {\n",
       "        text-align: right;\n",
       "    }\n",
       "</style>\n",
       "<table border=\"1\" class=\"dataframe\">\n",
       "  <thead>\n",
       "    <tr style=\"text-align: right;\">\n",
       "      <th></th>\n",
       "      <th>Steuerbarer Gewinn ab CHF</th>\n",
       "      <th>0</th>\n",
       "      <th>1</th>\n",
       "    </tr>\n",
       "  </thead>\n",
       "  <tbody>\n",
       "    <tr>\n",
       "      <th>12</th>\n",
       "      <td>0</td>\n",
       "      <td>23'673\\n</td>\n",
       "      <td>\\n1'021'922</td>\n",
       "    </tr>\n",
       "    <tr>\n",
       "      <th>13</th>\n",
       "      <td>10'100</td>\n",
       "      <td>5'331\\n</td>\n",
       "      <td>\\n10'091'127</td>\n",
       "    </tr>\n",
       "    <tr>\n",
       "      <th>14</th>\n",
       "      <td>50'100</td>\n",
       "      <td>4'341\\n</td>\n",
       "      <td>\\n45'625'213</td>\n",
       "    </tr>\n",
       "    <tr>\n",
       "      <th>15</th>\n",
       "      <td>250'100</td>\n",
       "      <td>1'682\\n</td>\n",
       "      <td>\\n74'418'861</td>\n",
       "    </tr>\n",
       "    <tr>\n",
       "      <th>16</th>\n",
       "      <td>1'000'100</td>\n",
       "      <td>811\\n</td>\n",
       "      <td>\\n413'370'198</td>\n",
       "    </tr>\n",
       "    <tr>\n",
       "      <th>17</th>\n",
       "      <td>Total</td>\n",
       "      <td>35'838\\n</td>\n",
       "      <td>\\n544'527'320</td>\n",
       "    </tr>\n",
       "  </tbody>\n",
       "</table>\n",
       "</div>"
      ],
      "text/plain": [
       "   Steuerbarer Gewinn ab CHF         0                      1\n",
       "12                         0  23'673\\n            \\n1'021'922\n",
       "13                    10'100   5'331\\n           \\n10'091'127\n",
       "14                    50'100   4'341\\n           \\n45'625'213\n",
       "15                   250'100   1'682\\n           \\n74'418'861\n",
       "16                 1'000'100     811\\n          \\n413'370'198\n",
       "17                     Total  35'838\\n          \\n544'527'320"
      ]
     },
     "execution_count": 82,
     "metadata": {},
     "output_type": "execute_result"
    }
   ],
   "source": [
    "#die beiden df firmen_2015 und getrennte_kolonnen zusammenfügen\n",
    "Firmen_2015_neu = pd.concat([firmen_2015, getrennte_kolonnen15], axis=1)\n",
    "Firmen_2015_neu"
   ]
  },
  {
   "cell_type": "code",
   "execution_count": 83,
   "metadata": {},
   "outputs": [
    {
     "data": {
      "text/html": [
       "<div>\n",
       "<style scoped>\n",
       "    .dataframe tbody tr th:only-of-type {\n",
       "        vertical-align: middle;\n",
       "    }\n",
       "\n",
       "    .dataframe tbody tr th {\n",
       "        vertical-align: top;\n",
       "    }\n",
       "\n",
       "    .dataframe thead th {\n",
       "        text-align: right;\n",
       "    }\n",
       "</style>\n",
       "<table border=\"1\" class=\"dataframe\">\n",
       "  <thead>\n",
       "    <tr style=\"text-align: right;\">\n",
       "      <th></th>\n",
       "      <th>12</th>\n",
       "      <th>13</th>\n",
       "      <th>14</th>\n",
       "      <th>15</th>\n",
       "      <th>16</th>\n",
       "      <th>17</th>\n",
       "    </tr>\n",
       "  </thead>\n",
       "  <tbody>\n",
       "    <tr>\n",
       "      <th>Steuerbarer Gewinn ab CHF</th>\n",
       "      <td>0</td>\n",
       "      <td>10100</td>\n",
       "      <td>50100</td>\n",
       "      <td>250100</td>\n",
       "      <td>1000100</td>\n",
       "      <td>Total</td>\n",
       "    </tr>\n",
       "    <tr>\n",
       "      <th>Anzahl Steuerpflichtige 2015</th>\n",
       "      <td>23673</td>\n",
       "      <td>5331</td>\n",
       "      <td>4341</td>\n",
       "      <td>1682</td>\n",
       "      <td>811</td>\n",
       "      <td>35838</td>\n",
       "    </tr>\n",
       "    <tr>\n",
       "      <th>Betrag Kantonssteuer 2015 in CHF</th>\n",
       "      <td>1021922</td>\n",
       "      <td>10091127</td>\n",
       "      <td>45625213</td>\n",
       "      <td>74418861</td>\n",
       "      <td>413370198</td>\n",
       "      <td>544527320</td>\n",
       "    </tr>\n",
       "  </tbody>\n",
       "</table>\n",
       "</div>"
      ],
      "text/plain": [
       "                                       12        13        14        15  \\\n",
       "Steuerbarer Gewinn ab CHF               0     10100     50100    250100   \n",
       "Anzahl Steuerpflichtige 2015        23673      5331      4341      1682   \n",
       "Betrag Kantonssteuer 2015 in CHF  1021922  10091127  45625213  74418861   \n",
       "\n",
       "                                         16         17  \n",
       "Steuerbarer Gewinn ab CHF           1000100      Total  \n",
       "Anzahl Steuerpflichtige 2015            811      35838  \n",
       "Betrag Kantonssteuer 2015 in CHF  413370198  544527320  "
      ]
     },
     "execution_count": 83,
     "metadata": {},
     "output_type": "execute_result"
    }
   ],
   "source": [
    "#headers setzen\n",
    "headers = ['Steuerbarer Gewinn ab CHF', 'Anzahl Steuerpflichtige 2015', 'Betrag Kantonssteuer 2015 in CHF']\n",
    "Firmen_2015_neu.columns = headers\n",
    "\n",
    "#putzen\n",
    "def geputzt(zeile):\n",
    "    zeile = zeile.replace('(', '')\n",
    "    zeile = zeile.replace(')', '')\n",
    "    zeile = zeile.replace('\\n', '') #das neu rein\n",
    "    zeile = zeile.replace(\"'\", \"\").strip()\n",
    "    return zeile\n",
    "Firmen_2015_neu['Steuerbarer Gewinn ab CHF'] = Firmen_2015_neu['Steuerbarer Gewinn ab CHF'].apply(geputzt)\n",
    "Firmen_2015_neu['Anzahl Steuerpflichtige 2015'] = Firmen_2015_neu['Anzahl Steuerpflichtige 2015'].apply(geputzt)\n",
    "Firmen_2015_neu['Betrag Kantonssteuer 2015 in CHF'] = Firmen_2015_neu['Betrag Kantonssteuer 2015 in CHF'].apply(geputzt)\n",
    "\n",
    "#um 90 Grad drehen\n",
    "firmen_15_neu = Firmen_2015_neu.T\n",
    "firmen_15_neu"
   ]
  },
  {
   "cell_type": "code",
   "execution_count": 84,
   "metadata": {},
   "outputs": [
    {
     "data": {
      "text/html": [
       "<div>\n",
       "<style scoped>\n",
       "    .dataframe tbody tr th:only-of-type {\n",
       "        vertical-align: middle;\n",
       "    }\n",
       "\n",
       "    .dataframe tbody tr th {\n",
       "        vertical-align: top;\n",
       "    }\n",
       "\n",
       "    .dataframe thead th {\n",
       "        text-align: right;\n",
       "    }\n",
       "</style>\n",
       "<table border=\"1\" class=\"dataframe\">\n",
       "  <thead>\n",
       "    <tr style=\"text-align: right;\">\n",
       "      <th></th>\n",
       "      <th>Steuerbarer Gewinn 0-10000 CHF</th>\n",
       "      <th>Steuerbarer Gewinn 10100-50000 CHF</th>\n",
       "      <th>Steuerbarer Gewinn 50100-250000 CHF</th>\n",
       "      <th>Steuerbarer Gewinn 250100 bis 1000000 CHF</th>\n",
       "      <th>Steuerbarer Gewinn ab 1000100 CHF</th>\n",
       "      <th>Total Steuerbarer Gewinn</th>\n",
       "    </tr>\n",
       "  </thead>\n",
       "  <tbody>\n",
       "    <tr>\n",
       "      <th>Anzahl Steuerpflichtige 2015</th>\n",
       "      <td>23673</td>\n",
       "      <td>5331</td>\n",
       "      <td>4341</td>\n",
       "      <td>1682</td>\n",
       "      <td>811</td>\n",
       "      <td>35838</td>\n",
       "    </tr>\n",
       "    <tr>\n",
       "      <th>Betrag Kantonssteuer 2015 in CHF</th>\n",
       "      <td>1021922</td>\n",
       "      <td>10091127</td>\n",
       "      <td>45625213</td>\n",
       "      <td>74418861</td>\n",
       "      <td>413370198</td>\n",
       "      <td>544527320</td>\n",
       "    </tr>\n",
       "  </tbody>\n",
       "</table>\n",
       "</div>"
      ],
      "text/plain": [
       "                                 Steuerbarer Gewinn 0-10000 CHF  \\\n",
       "Anzahl Steuerpflichtige 2015                              23673   \n",
       "Betrag Kantonssteuer 2015 in CHF                        1021922   \n",
       "\n",
       "                                 Steuerbarer Gewinn 10100-50000 CHF  \\\n",
       "Anzahl Steuerpflichtige 2015                                   5331   \n",
       "Betrag Kantonssteuer 2015 in CHF                           10091127   \n",
       "\n",
       "                                 Steuerbarer Gewinn 50100-250000 CHF  \\\n",
       "Anzahl Steuerpflichtige 2015                                    4341   \n",
       "Betrag Kantonssteuer 2015 in CHF                            45625213   \n",
       "\n",
       "                                 Steuerbarer Gewinn 250100 bis 1000000 CHF  \\\n",
       "Anzahl Steuerpflichtige 2015                                          1682   \n",
       "Betrag Kantonssteuer 2015 in CHF                                  74418861   \n",
       "\n",
       "                                 Steuerbarer Gewinn ab 1000100 CHF  \\\n",
       "Anzahl Steuerpflichtige 2015                                   811   \n",
       "Betrag Kantonssteuer 2015 in CHF                         413370198   \n",
       "\n",
       "                                 Total Steuerbarer Gewinn  \n",
       "Anzahl Steuerpflichtige 2015                        35838  \n",
       "Betrag Kantonssteuer 2015 in CHF                544527320  "
      ]
     },
     "execution_count": 84,
     "metadata": {},
     "output_type": "execute_result"
    }
   ],
   "source": [
    "# erste Zeile weg\n",
    "Firmen15 = firmen_15_neu[1:]\n",
    "\n",
    "# headers neu\n",
    "headers = ['Steuerbarer Gewinn 0-10000 CHF', 'Steuerbarer Gewinn 10100-50000 CHF', 'Steuerbarer Gewinn 50100-250000 CHF', \n",
    "           'Steuerbarer Gewinn 250100 bis 1000000 CHF', 'Steuerbarer Gewinn ab 1000100 CHF', 'Total Steuerbarer Gewinn']\n",
    "Firmen15.columns = headers\n",
    "Firmen15"
   ]
  },
  {
   "cell_type": "markdown",
   "metadata": {},
   "source": [
    "### nun will ich die grossen gewinne addieren zu einer neuen Kolonne \"Steuerbarer Gewinn ab 250100 CHF\", damit ich die dann mit den anderen Jahren zusammenführen und vergleichen kann"
   ]
  },
  {
   "cell_type": "markdown",
   "metadata": {},
   "source": [
    "ich schau mir mal an, ob ich integers oder floats oder strings oder was drin hab."
   ]
  },
  {
   "cell_type": "code",
   "execution_count": 85,
   "metadata": {
    "scrolled": true
   },
   "outputs": [
    {
     "data": {
      "text/plain": [
       "Steuerbarer Gewinn 0-10000 CHF               object\n",
       "Steuerbarer Gewinn 10100-50000 CHF           object\n",
       "Steuerbarer Gewinn 50100-250000 CHF          object\n",
       "Steuerbarer Gewinn 250100 bis 1000000 CHF    object\n",
       "Steuerbarer Gewinn ab 1000100 CHF            object\n",
       "Total Steuerbarer Gewinn                     object\n",
       "dtype: object"
      ]
     },
     "execution_count": 85,
     "metadata": {},
     "output_type": "execute_result"
    }
   ],
   "source": [
    "Firmen15.dtypes"
   ]
  },
  {
   "cell_type": "markdown",
   "metadata": {},
   "source": [
    "mal schauen, ob ich die spalten zusammenaddieren kann, wenn sie objekte beinhalten"
   ]
  },
  {
   "cell_type": "code",
   "execution_count": 86,
   "metadata": {},
   "outputs": [],
   "source": [
    "#Firmen15['test'] = Firmen15['Steuerbarer Gewinn 250100 bis 1000000 CHF'] + Firmen15['Steuerbarer Gewinn ab 1000100 CHF']"
   ]
  },
  {
   "cell_type": "markdown",
   "metadata": {},
   "source": [
    "### das geht nicht. ich muss die objekte in integers verwandeln, um mit ihnen rechnen zu können"
   ]
  },
  {
   "cell_type": "code",
   "execution_count": 87,
   "metadata": {},
   "outputs": [
    {
     "name": "stderr",
     "output_type": "stream",
     "text": [
      "C:\\Users\\Admin\\Anaconda3\\lib\\site-packages\\ipykernel_launcher.py:1: SettingWithCopyWarning: \n",
      "A value is trying to be set on a copy of a slice from a DataFrame.\n",
      "Try using .loc[row_indexer,col_indexer] = value instead\n",
      "\n",
      "See the caveats in the documentation: http://pandas.pydata.org/pandas-docs/stable/indexing.html#indexing-view-versus-copy\n",
      "  \"\"\"Entry point for launching an IPython kernel.\n"
     ]
    }
   ],
   "source": [
    "Firmen15['Steuerbarer Gewinn 0-10000 CHF'] = Firmen15['Steuerbarer Gewinn 0-10000 CHF'].astype(str).astype(int)"
   ]
  },
  {
   "cell_type": "code",
   "execution_count": 88,
   "metadata": {},
   "outputs": [
    {
     "name": "stderr",
     "output_type": "stream",
     "text": [
      "C:\\Users\\Admin\\Anaconda3\\lib\\site-packages\\ipykernel_launcher.py:1: SettingWithCopyWarning: \n",
      "A value is trying to be set on a copy of a slice from a DataFrame.\n",
      "Try using .loc[row_indexer,col_indexer] = value instead\n",
      "\n",
      "See the caveats in the documentation: http://pandas.pydata.org/pandas-docs/stable/indexing.html#indexing-view-versus-copy\n",
      "  \"\"\"Entry point for launching an IPython kernel.\n"
     ]
    }
   ],
   "source": [
    "Firmen15['Steuerbarer Gewinn 10100-50000 CHF'] = Firmen15['Steuerbarer Gewinn 10100-50000 CHF'].astype(str).astype(int)"
   ]
  },
  {
   "cell_type": "code",
   "execution_count": 89,
   "metadata": {},
   "outputs": [
    {
     "name": "stderr",
     "output_type": "stream",
     "text": [
      "C:\\Users\\Admin\\Anaconda3\\lib\\site-packages\\ipykernel_launcher.py:1: SettingWithCopyWarning: \n",
      "A value is trying to be set on a copy of a slice from a DataFrame.\n",
      "Try using .loc[row_indexer,col_indexer] = value instead\n",
      "\n",
      "See the caveats in the documentation: http://pandas.pydata.org/pandas-docs/stable/indexing.html#indexing-view-versus-copy\n",
      "  \"\"\"Entry point for launching an IPython kernel.\n"
     ]
    }
   ],
   "source": [
    "Firmen15['Steuerbarer Gewinn 50100-250000 CHF'] = Firmen15['Steuerbarer Gewinn 50100-250000 CHF'].astype(str).astype(int)"
   ]
  },
  {
   "cell_type": "code",
   "execution_count": 90,
   "metadata": {},
   "outputs": [
    {
     "name": "stderr",
     "output_type": "stream",
     "text": [
      "C:\\Users\\Admin\\Anaconda3\\lib\\site-packages\\ipykernel_launcher.py:1: SettingWithCopyWarning: \n",
      "A value is trying to be set on a copy of a slice from a DataFrame.\n",
      "Try using .loc[row_indexer,col_indexer] = value instead\n",
      "\n",
      "See the caveats in the documentation: http://pandas.pydata.org/pandas-docs/stable/indexing.html#indexing-view-versus-copy\n",
      "  \"\"\"Entry point for launching an IPython kernel.\n"
     ]
    }
   ],
   "source": [
    "Firmen15['Steuerbarer Gewinn 250100 bis 1000000 CHF'] = Firmen15['Steuerbarer Gewinn 250100 bis 1000000 CHF'].astype(str).astype(int)"
   ]
  },
  {
   "cell_type": "code",
   "execution_count": 91,
   "metadata": {},
   "outputs": [
    {
     "name": "stderr",
     "output_type": "stream",
     "text": [
      "C:\\Users\\Admin\\Anaconda3\\lib\\site-packages\\ipykernel_launcher.py:1: SettingWithCopyWarning: \n",
      "A value is trying to be set on a copy of a slice from a DataFrame.\n",
      "Try using .loc[row_indexer,col_indexer] = value instead\n",
      "\n",
      "See the caveats in the documentation: http://pandas.pydata.org/pandas-docs/stable/indexing.html#indexing-view-versus-copy\n",
      "  \"\"\"Entry point for launching an IPython kernel.\n"
     ]
    }
   ],
   "source": [
    "Firmen15['Steuerbarer Gewinn ab 1000100 CHF'] = Firmen15['Steuerbarer Gewinn ab 1000100 CHF'].astype(str).astype(int)"
   ]
  },
  {
   "cell_type": "code",
   "execution_count": 92,
   "metadata": {},
   "outputs": [
    {
     "name": "stderr",
     "output_type": "stream",
     "text": [
      "C:\\Users\\Admin\\Anaconda3\\lib\\site-packages\\ipykernel_launcher.py:1: SettingWithCopyWarning: \n",
      "A value is trying to be set on a copy of a slice from a DataFrame.\n",
      "Try using .loc[row_indexer,col_indexer] = value instead\n",
      "\n",
      "See the caveats in the documentation: http://pandas.pydata.org/pandas-docs/stable/indexing.html#indexing-view-versus-copy\n",
      "  \"\"\"Entry point for launching an IPython kernel.\n"
     ]
    }
   ],
   "source": [
    "Firmen15['Total Steuerbarer Gewinn'] = Firmen15['Total Steuerbarer Gewinn'].astype(str).astype(int)"
   ]
  },
  {
   "cell_type": "code",
   "execution_count": 93,
   "metadata": {},
   "outputs": [
    {
     "data": {
      "text/plain": [
       "Steuerbarer Gewinn 0-10000 CHF               int32\n",
       "Steuerbarer Gewinn 10100-50000 CHF           int32\n",
       "Steuerbarer Gewinn 50100-250000 CHF          int32\n",
       "Steuerbarer Gewinn 250100 bis 1000000 CHF    int32\n",
       "Steuerbarer Gewinn ab 1000100 CHF            int32\n",
       "Total Steuerbarer Gewinn                     int32\n",
       "dtype: object"
      ]
     },
     "execution_count": 93,
     "metadata": {},
     "output_type": "execute_result"
    }
   ],
   "source": [
    "Firmen15.dtypes"
   ]
  },
  {
   "cell_type": "markdown",
   "metadata": {},
   "source": [
    "## Ich addiere die Spalten nochmals"
   ]
  },
  {
   "cell_type": "code",
   "execution_count": 94,
   "metadata": {},
   "outputs": [
    {
     "name": "stderr",
     "output_type": "stream",
     "text": [
      "C:\\Users\\Admin\\Anaconda3\\lib\\site-packages\\ipykernel_launcher.py:1: SettingWithCopyWarning: \n",
      "A value is trying to be set on a copy of a slice from a DataFrame.\n",
      "Try using .loc[row_indexer,col_indexer] = value instead\n",
      "\n",
      "See the caveats in the documentation: http://pandas.pydata.org/pandas-docs/stable/indexing.html#indexing-view-versus-copy\n",
      "  \"\"\"Entry point for launching an IPython kernel.\n"
     ]
    }
   ],
   "source": [
    "Firmen15['Steuerbarer Gewinn ab 250100 CHF'] = Firmen15['Steuerbarer Gewinn 250100 bis 1000000 CHF'] + Firmen15['Steuerbarer Gewinn ab 1000100 CHF']"
   ]
  },
  {
   "cell_type": "code",
   "execution_count": 95,
   "metadata": {},
   "outputs": [
    {
     "data": {
      "text/html": [
       "<div>\n",
       "<style scoped>\n",
       "    .dataframe tbody tr th:only-of-type {\n",
       "        vertical-align: middle;\n",
       "    }\n",
       "\n",
       "    .dataframe tbody tr th {\n",
       "        vertical-align: top;\n",
       "    }\n",
       "\n",
       "    .dataframe thead th {\n",
       "        text-align: right;\n",
       "    }\n",
       "</style>\n",
       "<table border=\"1\" class=\"dataframe\">\n",
       "  <thead>\n",
       "    <tr style=\"text-align: right;\">\n",
       "      <th></th>\n",
       "      <th>Steuerbarer Gewinn 0-10000 CHF</th>\n",
       "      <th>Steuerbarer Gewinn 10100-50000 CHF</th>\n",
       "      <th>Steuerbarer Gewinn 50100-250000 CHF</th>\n",
       "      <th>Steuerbarer Gewinn 250100 bis 1000000 CHF</th>\n",
       "      <th>Steuerbarer Gewinn ab 1000100 CHF</th>\n",
       "      <th>Total Steuerbarer Gewinn</th>\n",
       "      <th>Steuerbarer Gewinn ab 250100 CHF</th>\n",
       "    </tr>\n",
       "  </thead>\n",
       "  <tbody>\n",
       "    <tr>\n",
       "      <th>Anzahl Steuerpflichtige 2015</th>\n",
       "      <td>23673</td>\n",
       "      <td>5331</td>\n",
       "      <td>4341</td>\n",
       "      <td>1682</td>\n",
       "      <td>811</td>\n",
       "      <td>35838</td>\n",
       "      <td>2493</td>\n",
       "    </tr>\n",
       "    <tr>\n",
       "      <th>Betrag Kantonssteuer 2015 in CHF</th>\n",
       "      <td>1021922</td>\n",
       "      <td>10091127</td>\n",
       "      <td>45625213</td>\n",
       "      <td>74418861</td>\n",
       "      <td>413370198</td>\n",
       "      <td>544527320</td>\n",
       "      <td>487789059</td>\n",
       "    </tr>\n",
       "  </tbody>\n",
       "</table>\n",
       "</div>"
      ],
      "text/plain": [
       "                                  Steuerbarer Gewinn 0-10000 CHF  \\\n",
       "Anzahl Steuerpflichtige 2015                               23673   \n",
       "Betrag Kantonssteuer 2015 in CHF                         1021922   \n",
       "\n",
       "                                  Steuerbarer Gewinn 10100-50000 CHF  \\\n",
       "Anzahl Steuerpflichtige 2015                                    5331   \n",
       "Betrag Kantonssteuer 2015 in CHF                            10091127   \n",
       "\n",
       "                                  Steuerbarer Gewinn 50100-250000 CHF  \\\n",
       "Anzahl Steuerpflichtige 2015                                     4341   \n",
       "Betrag Kantonssteuer 2015 in CHF                             45625213   \n",
       "\n",
       "                                  Steuerbarer Gewinn 250100 bis 1000000 CHF  \\\n",
       "Anzahl Steuerpflichtige 2015                                           1682   \n",
       "Betrag Kantonssteuer 2015 in CHF                                   74418861   \n",
       "\n",
       "                                  Steuerbarer Gewinn ab 1000100 CHF  \\\n",
       "Anzahl Steuerpflichtige 2015                                    811   \n",
       "Betrag Kantonssteuer 2015 in CHF                          413370198   \n",
       "\n",
       "                                  Total Steuerbarer Gewinn  \\\n",
       "Anzahl Steuerpflichtige 2015                         35838   \n",
       "Betrag Kantonssteuer 2015 in CHF                 544527320   \n",
       "\n",
       "                                  Steuerbarer Gewinn ab 250100 CHF  \n",
       "Anzahl Steuerpflichtige 2015                                  2493  \n",
       "Betrag Kantonssteuer 2015 in CHF                         487789059  "
      ]
     },
     "execution_count": 95,
     "metadata": {},
     "output_type": "execute_result"
    }
   ],
   "source": [
    "Firmen15"
   ]
  },
  {
   "cell_type": "markdown",
   "metadata": {},
   "source": [
    "Passt! Nur ist jetzt die Reihenfolge noch etwas tscheps. und huch, was ich mich frage: bleibt der steuerbare gewinn ab 250100, wenn ich die grundlagen-kolonnen danach lösche? mal schauen."
   ]
  },
  {
   "cell_type": "code",
   "execution_count": 96,
   "metadata": {},
   "outputs": [
    {
     "data": {
      "text/html": [
       "<div>\n",
       "<style scoped>\n",
       "    .dataframe tbody tr th:only-of-type {\n",
       "        vertical-align: middle;\n",
       "    }\n",
       "\n",
       "    .dataframe tbody tr th {\n",
       "        vertical-align: top;\n",
       "    }\n",
       "\n",
       "    .dataframe thead th {\n",
       "        text-align: right;\n",
       "    }\n",
       "</style>\n",
       "<table border=\"1\" class=\"dataframe\">\n",
       "  <thead>\n",
       "    <tr style=\"text-align: right;\">\n",
       "      <th></th>\n",
       "      <th>Steuerbarer Gewinn 0-10000 CHF</th>\n",
       "      <th>Steuerbarer Gewinn 10100-50000 CHF</th>\n",
       "      <th>Steuerbarer Gewinn 50100-250000 CHF</th>\n",
       "      <th>Total Steuerbarer Gewinn</th>\n",
       "      <th>Steuerbarer Gewinn ab 250100 CHF</th>\n",
       "    </tr>\n",
       "  </thead>\n",
       "  <tbody>\n",
       "    <tr>\n",
       "      <th>Anzahl Steuerpflichtige 2015</th>\n",
       "      <td>23673</td>\n",
       "      <td>5331</td>\n",
       "      <td>4341</td>\n",
       "      <td>35838</td>\n",
       "      <td>2493</td>\n",
       "    </tr>\n",
       "    <tr>\n",
       "      <th>Betrag Kantonssteuer 2015 in CHF</th>\n",
       "      <td>1021922</td>\n",
       "      <td>10091127</td>\n",
       "      <td>45625213</td>\n",
       "      <td>544527320</td>\n",
       "      <td>487789059</td>\n",
       "    </tr>\n",
       "  </tbody>\n",
       "</table>\n",
       "</div>"
      ],
      "text/plain": [
       "                                  Steuerbarer Gewinn 0-10000 CHF  \\\n",
       "Anzahl Steuerpflichtige 2015                               23673   \n",
       "Betrag Kantonssteuer 2015 in CHF                         1021922   \n",
       "\n",
       "                                  Steuerbarer Gewinn 10100-50000 CHF  \\\n",
       "Anzahl Steuerpflichtige 2015                                    5331   \n",
       "Betrag Kantonssteuer 2015 in CHF                            10091127   \n",
       "\n",
       "                                  Steuerbarer Gewinn 50100-250000 CHF  \\\n",
       "Anzahl Steuerpflichtige 2015                                     4341   \n",
       "Betrag Kantonssteuer 2015 in CHF                             45625213   \n",
       "\n",
       "                                  Total Steuerbarer Gewinn  \\\n",
       "Anzahl Steuerpflichtige 2015                         35838   \n",
       "Betrag Kantonssteuer 2015 in CHF                 544527320   \n",
       "\n",
       "                                  Steuerbarer Gewinn ab 250100 CHF  \n",
       "Anzahl Steuerpflichtige 2015                                  2493  \n",
       "Betrag Kantonssteuer 2015 in CHF                         487789059  "
      ]
     },
     "execution_count": 96,
     "metadata": {},
     "output_type": "execute_result"
    }
   ],
   "source": [
    "del Firmen15['Steuerbarer Gewinn 250100 bis 1000000 CHF']\n",
    "del Firmen15['Steuerbarer Gewinn ab 1000100 CHF']\n",
    "Firmen15"
   ]
  },
  {
   "cell_type": "markdown",
   "metadata": {},
   "source": [
    "Uff, zum Glück, er bleibt! wie bringe ich jetzt aber die Reihenfolge hin?"
   ]
  },
  {
   "cell_type": "code",
   "execution_count": null,
   "metadata": {},
   "outputs": [],
   "source": []
  },
  {
   "cell_type": "code",
   "execution_count": null,
   "metadata": {},
   "outputs": [],
   "source": []
  },
  {
   "cell_type": "code",
   "execution_count": null,
   "metadata": {},
   "outputs": [],
   "source": []
  },
  {
   "cell_type": "code",
   "execution_count": null,
   "metadata": {},
   "outputs": [],
   "source": []
  },
  {
   "cell_type": "markdown",
   "metadata": {},
   "source": [
    "der code, der bislang funktionierte:"
   ]
  },
  {
   "cell_type": "code",
   "execution_count": 73,
   "metadata": {},
   "outputs": [
    {
     "ename": "NameError",
     "evalue": "name 'Firmen_2014' is not defined",
     "output_type": "error",
     "traceback": [
      "\u001b[1;31m---------------------------------------------------------------------------\u001b[0m",
      "\u001b[1;31mNameError\u001b[0m                                 Traceback (most recent call last)",
      "\u001b[1;32m<ipython-input-73-5b842fe171a9>\u001b[0m in \u001b[0;36m<module>\u001b[1;34m\u001b[0m\n\u001b[0;32m      1\u001b[0m \u001b[1;31m#zurechtschneiden\u001b[0m\u001b[1;33m\u001b[0m\u001b[1;33m\u001b[0m\u001b[1;33m\u001b[0m\u001b[0m\n\u001b[1;32m----> 2\u001b[1;33m \u001b[0mtest_df\u001b[0m \u001b[1;33m=\u001b[0m \u001b[0mFirmen_2014\u001b[0m\u001b[1;33m[\u001b[0m\u001b[1;36m0\u001b[0m\u001b[1;33m]\u001b[0m\u001b[1;33m.\u001b[0m\u001b[0mdf\u001b[0m\u001b[1;33m\u001b[0m\u001b[1;33m\u001b[0m\u001b[0m\n\u001b[0m\u001b[0;32m      3\u001b[0m \u001b[0mFirmen_14\u001b[0m \u001b[1;33m=\u001b[0m \u001b[0mtest_df\u001b[0m\u001b[1;33m[\u001b[0m\u001b[1;36m12\u001b[0m\u001b[1;33m:\u001b[0m\u001b[1;33m]\u001b[0m\u001b[1;33m\u001b[0m\u001b[1;33m\u001b[0m\u001b[0m\n\u001b[0;32m      4\u001b[0m \u001b[0mfirmen_2014\u001b[0m \u001b[1;33m=\u001b[0m \u001b[0mFirmen_14\u001b[0m\u001b[1;33m.\u001b[0m\u001b[0mhead\u001b[0m\u001b[1;33m(\u001b[0m\u001b[1;36m5\u001b[0m\u001b[1;33m)\u001b[0m\u001b[1;33m\u001b[0m\u001b[1;33m\u001b[0m\u001b[0m\n\u001b[0;32m      5\u001b[0m \u001b[1;33m\u001b[0m\u001b[0m\n",
      "\u001b[1;31mNameError\u001b[0m: name 'Firmen_2014' is not defined"
     ]
    }
   ],
   "source": [
    "#zurechtschneiden\n",
    "test_df = Firmen_2014[0].df\n",
    "Firmen_14 = test_df[12:]\n",
    "firmen_2014 = Firmen_14.head(5)\n",
    "\n",
    "#headers setzen\n",
    "headers = ['Weglassen', 'Steuerbarer Gewinn ab CHF', 'weglassen', 'etwas seltsames',\n",
    "           'lassweg', 'überflüssig']\n",
    "firmen_2014.columns = headers\n",
    "\n",
    "# aus einer Kolonne zwei Kolonnen machen\n",
    "# von https://stackoverflow.com/questions/14745022/how-to-split-a-column-into-two-columns\n",
    "getrennte_kolonnen14 = firmen_2014['etwas seltsames'].str.split(' ', 1, expand=True) \n",
    "\n",
    "# überflüssige kolonnen löschen\n",
    "del firmen_2014['Weglassen']\n",
    "del firmen_2014['weglassen']\n",
    "del firmen_2014['lassweg']\n",
    "del firmen_2014['etwas seltsames']\n",
    "del firmen_2014['überflüssig']\n",
    "\n",
    "#die beiden df firmen_2014 und getrennte_kolonnen zusammenfügen\n",
    "Firmen_2014_neu = pd.concat([firmen_2014, getrennte_kolonnen14], axis=1)\n",
    "\n",
    "#headers setzen\n",
    "headers = ['Steuerbarer Gewinn ab CHF', 'Anzahl Steuerpflichtige 2014', 'Betrag Kantonssteuer 2014 in CHF']\n",
    "Firmen_2014_neu.columns = headers\n",
    "\n",
    "#putzen\n",
    "def geputzt(zeile):\n",
    "    zeile = zeile.replace('(', '')\n",
    "    zeile = zeile.replace(')', '')\n",
    "    zeile = zeile.replace('\\n', '') #das neu rein\n",
    "    zeile = zeile.replace(\"'\", \"\").strip()\n",
    "    return zeile\n",
    "Firmen_2014_neu['Steuerbarer Gewinn ab CHF'] = Firmen_2014_neu['Steuerbarer Gewinn ab CHF'].apply(geputzt)\n",
    "Firmen_2014_neu['Anzahl Steuerpflichtige 2014'] = Firmen_2014_neu['Anzahl Steuerpflichtige 2014'].apply(geputzt)\n",
    "Firmen_2014_neu['Betrag Kantonssteuer 2014 in CHF'] = Firmen_2014_neu['Betrag Kantonssteuer 2014 in CHF'].apply(geputzt)\n",
    "\n",
    "#um 90 Grad drehen\n",
    "firmen_14_neu = Firmen_2014_neu.T\n",
    "\n",
    "# erste Zeile weg\n",
    "Firmen14 = firmen_14_neu[1:]\n",
    "\n",
    "# headers neu\n",
    "headers = ['Steuerbarer Gewinn 0-10000 CHF', 'Steuerbarer Gewinn 10100-50000 CHF', 'Steuerbarer Gewinn 50100-250000 CHF', \n",
    "           'Steuerbarer Gewinn ab 250100 CHF', 'Total Steuerbarer Gewinn']\n",
    "Firmen14.columns = headers\n",
    "\n",
    "\n",
    "# Betrag Kantonssteuer raus ziehen\n",
    "Betrag_Kantonssteuer_2014 = Firmen14.drop(['Anzahl Steuerpflichtige 2014'])\n",
    "Betrag_Kantonssteuer_2014"
   ]
  },
  {
   "cell_type": "code",
   "execution_count": null,
   "metadata": {},
   "outputs": [],
   "source": []
  }
 ],
 "metadata": {
  "kernelspec": {
   "display_name": "Python 3",
   "language": "python",
   "name": "python3"
  },
  "language_info": {
   "codemirror_mode": {
    "name": "ipython",
    "version": 3
   },
   "file_extension": ".py",
   "mimetype": "text/x-python",
   "name": "python",
   "nbconvert_exporter": "python",
   "pygments_lexer": "ipython3",
   "version": "3.7.3"
  }
 },
 "nbformat": 4,
 "nbformat_minor": 2
}
