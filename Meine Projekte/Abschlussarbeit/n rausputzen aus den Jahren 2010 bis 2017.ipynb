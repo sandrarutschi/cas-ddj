{
 "cells": [
  {
   "cell_type": "markdown",
   "metadata": {},
   "source": [
    "Ich habe im Notebook \"Gewinnsteuer zusammenfügen\" das Problem gehabt, dass ab 2010 mein vorheriger Code nicht mehr funktioniert, weil die Kolonne drei zwei Zahlen beinhaltet und durch /n getrennt ist. Dieses Problem versuche ich hier zu lösen."
   ]
  },
  {
   "cell_type": "code",
   "execution_count": 140,
   "metadata": {},
   "outputs": [],
   "source": [
    "import camelot\n",
    "import tabula\n",
    "import pandas as pd"
   ]
  },
  {
   "cell_type": "code",
   "execution_count": 141,
   "metadata": {},
   "outputs": [],
   "source": [
    "Firmen_2010 = camelot.read_pdf(\"Firmen_2010.pdf\", flavor='stream', pages='all', table_areas=['0,842,595,0'])"
   ]
  },
  {
   "cell_type": "code",
   "execution_count": 142,
   "metadata": {
    "scrolled": false
   },
   "outputs": [
    {
     "data": {
      "text/html": [
       "<div>\n",
       "<style scoped>\n",
       "    .dataframe tbody tr th:only-of-type {\n",
       "        vertical-align: middle;\n",
       "    }\n",
       "\n",
       "    .dataframe tbody tr th {\n",
       "        vertical-align: top;\n",
       "    }\n",
       "\n",
       "    .dataframe thead th {\n",
       "        text-align: right;\n",
       "    }\n",
       "</style>\n",
       "<table border=\"1\" class=\"dataframe\">\n",
       "  <thead>\n",
       "    <tr style=\"text-align: right;\">\n",
       "      <th></th>\n",
       "      <th>0</th>\n",
       "      <th>1</th>\n",
       "      <th>2</th>\n",
       "      <th>3</th>\n",
       "      <th>4</th>\n",
       "      <th>5</th>\n",
       "    </tr>\n",
       "  </thead>\n",
       "  <tbody>\n",
       "    <tr>\n",
       "      <th>12</th>\n",
       "      <td></td>\n",
       "      <td>0</td>\n",
       "      <td>10'000</td>\n",
       "      <td>21'101\\n           \\n1'051'519</td>\n",
       "      <td>6'782</td>\n",
       "      <td>116'360</td>\n",
       "    </tr>\n",
       "    <tr>\n",
       "      <th>13</th>\n",
       "      <td></td>\n",
       "      <td>10'100</td>\n",
       "      <td>50'000</td>\n",
       "      <td>4'270\\n           \\n8'379'718</td>\n",
       "      <td>279</td>\n",
       "      <td>427'696</td>\n",
       "    </tr>\n",
       "    <tr>\n",
       "      <th>14</th>\n",
       "      <td></td>\n",
       "      <td>50'100</td>\n",
       "      <td>250'000</td>\n",
       "      <td>3'302\\n         \\n35'558'173</td>\n",
       "      <td>77</td>\n",
       "      <td>448'731</td>\n",
       "    </tr>\n",
       "    <tr>\n",
       "      <th>15</th>\n",
       "      <td></td>\n",
       "      <td>250'100</td>\n",
       "      <td>+</td>\n",
       "      <td>2'028\\n       \\n388'354'588</td>\n",
       "      <td>34</td>\n",
       "      <td>1'503'531</td>\n",
       "    </tr>\n",
       "    <tr>\n",
       "      <th>16</th>\n",
       "      <td></td>\n",
       "      <td>Total</td>\n",
       "      <td></td>\n",
       "      <td>30'701\\n      \\n433'343'998</td>\n",
       "      <td>7'172</td>\n",
       "      <td>2'496'318</td>\n",
       "    </tr>\n",
       "  </tbody>\n",
       "</table>\n",
       "</div>"
      ],
      "text/plain": [
       "   0        1        2                               3      4          5\n",
       "12          0   10'000  21'101\\n           \\n1'051'519  6'782    116'360\n",
       "13     10'100   50'000   4'270\\n           \\n8'379'718    279    427'696\n",
       "14     50'100  250'000    3'302\\n         \\n35'558'173     77    448'731\n",
       "15    250'100        +     2'028\\n       \\n388'354'588     34  1'503'531\n",
       "16      Total              30'701\\n      \\n433'343'998  7'172  2'496'318"
      ]
     },
     "execution_count": 142,
     "metadata": {},
     "output_type": "execute_result"
    }
   ],
   "source": [
    "#zurechtschneiden\n",
    "test_df = Firmen_2010[0].df\n",
    "Firmen_10 = test_df[12:]\n",
    "firmen_2010 = Firmen_10.head(5)\n",
    "firmen_2010"
   ]
  },
  {
   "cell_type": "code",
   "execution_count": 143,
   "metadata": {},
   "outputs": [
    {
     "data": {
      "text/html": [
       "<div>\n",
       "<style scoped>\n",
       "    .dataframe tbody tr th:only-of-type {\n",
       "        vertical-align: middle;\n",
       "    }\n",
       "\n",
       "    .dataframe tbody tr th {\n",
       "        vertical-align: top;\n",
       "    }\n",
       "\n",
       "    .dataframe thead th {\n",
       "        text-align: right;\n",
       "    }\n",
       "</style>\n",
       "<table border=\"1\" class=\"dataframe\">\n",
       "  <thead>\n",
       "    <tr style=\"text-align: right;\">\n",
       "      <th></th>\n",
       "      <th>Weglassen</th>\n",
       "      <th>Steuerbarer Gewinn ab CHF</th>\n",
       "      <th>weglassen</th>\n",
       "      <th>etwas seltsames</th>\n",
       "      <th>lassweg</th>\n",
       "      <th>überflüssig</th>\n",
       "    </tr>\n",
       "  </thead>\n",
       "  <tbody>\n",
       "    <tr>\n",
       "      <th>12</th>\n",
       "      <td></td>\n",
       "      <td>0</td>\n",
       "      <td>10'000</td>\n",
       "      <td>21'101\\n           \\n1'051'519</td>\n",
       "      <td>6'782</td>\n",
       "      <td>116'360</td>\n",
       "    </tr>\n",
       "    <tr>\n",
       "      <th>13</th>\n",
       "      <td></td>\n",
       "      <td>10'100</td>\n",
       "      <td>50'000</td>\n",
       "      <td>4'270\\n           \\n8'379'718</td>\n",
       "      <td>279</td>\n",
       "      <td>427'696</td>\n",
       "    </tr>\n",
       "    <tr>\n",
       "      <th>14</th>\n",
       "      <td></td>\n",
       "      <td>50'100</td>\n",
       "      <td>250'000</td>\n",
       "      <td>3'302\\n         \\n35'558'173</td>\n",
       "      <td>77</td>\n",
       "      <td>448'731</td>\n",
       "    </tr>\n",
       "    <tr>\n",
       "      <th>15</th>\n",
       "      <td></td>\n",
       "      <td>250'100</td>\n",
       "      <td>+</td>\n",
       "      <td>2'028\\n       \\n388'354'588</td>\n",
       "      <td>34</td>\n",
       "      <td>1'503'531</td>\n",
       "    </tr>\n",
       "    <tr>\n",
       "      <th>16</th>\n",
       "      <td></td>\n",
       "      <td>Total</td>\n",
       "      <td></td>\n",
       "      <td>30'701\\n      \\n433'343'998</td>\n",
       "      <td>7'172</td>\n",
       "      <td>2'496'318</td>\n",
       "    </tr>\n",
       "  </tbody>\n",
       "</table>\n",
       "</div>"
      ],
      "text/plain": [
       "   Weglassen Steuerbarer Gewinn ab CHF weglassen  \\\n",
       "12                                   0    10'000   \n",
       "13                              10'100    50'000   \n",
       "14                              50'100   250'000   \n",
       "15                             250'100         +   \n",
       "16                               Total             \n",
       "\n",
       "                   etwas seltsames lassweg überflüssig  \n",
       "12  21'101\\n           \\n1'051'519   6'782     116'360  \n",
       "13   4'270\\n           \\n8'379'718     279     427'696  \n",
       "14    3'302\\n         \\n35'558'173      77     448'731  \n",
       "15     2'028\\n       \\n388'354'588      34   1'503'531  \n",
       "16     30'701\\n      \\n433'343'998   7'172   2'496'318  "
      ]
     },
     "execution_count": 143,
     "metadata": {},
     "output_type": "execute_result"
    }
   ],
   "source": [
    "\n",
    "#headers setzen\n",
    "headers = ['Weglassen', 'Steuerbarer Gewinn ab CHF', 'weglassen', 'etwas seltsames',\n",
    "           'lassweg', 'überflüssig']\n",
    "firmen_2010.columns = headers\n",
    "firmen_2010"
   ]
  },
  {
   "cell_type": "code",
   "execution_count": 144,
   "metadata": {
    "scrolled": true
   },
   "outputs": [],
   "source": [
    "# firmen_2010['A'], firmen_2010['B'] = firmen_2010['etwas seltsames'].str.split('\\').str\n",
    "# von https://stackoverflow.com/questions/14745022/how-to-split-a-column-into-two-columns\n",
    "# gibt errormeldung"
   ]
  },
  {
   "cell_type": "markdown",
   "metadata": {},
   "source": [
    "### So erhalte ich (nach 2 Stunden ausprobieren) aus der einen Kolonne zwei Kolonnen"
   ]
  },
  {
   "cell_type": "code",
   "execution_count": 145,
   "metadata": {},
   "outputs": [
    {
     "data": {
      "text/html": [
       "<div>\n",
       "<style scoped>\n",
       "    .dataframe tbody tr th:only-of-type {\n",
       "        vertical-align: middle;\n",
       "    }\n",
       "\n",
       "    .dataframe tbody tr th {\n",
       "        vertical-align: top;\n",
       "    }\n",
       "\n",
       "    .dataframe thead th {\n",
       "        text-align: right;\n",
       "    }\n",
       "</style>\n",
       "<table border=\"1\" class=\"dataframe\">\n",
       "  <thead>\n",
       "    <tr style=\"text-align: right;\">\n",
       "      <th></th>\n",
       "      <th>0</th>\n",
       "      <th>1</th>\n",
       "    </tr>\n",
       "  </thead>\n",
       "  <tbody>\n",
       "    <tr>\n",
       "      <th>12</th>\n",
       "      <td>21'101\\n</td>\n",
       "      <td>\\n1'051'519</td>\n",
       "    </tr>\n",
       "    <tr>\n",
       "      <th>13</th>\n",
       "      <td>4'270\\n</td>\n",
       "      <td>\\n8'379'718</td>\n",
       "    </tr>\n",
       "    <tr>\n",
       "      <th>14</th>\n",
       "      <td>3'302\\n</td>\n",
       "      <td>\\n35'558'173</td>\n",
       "    </tr>\n",
       "    <tr>\n",
       "      <th>15</th>\n",
       "      <td>2'028\\n</td>\n",
       "      <td>\\n388'354'588</td>\n",
       "    </tr>\n",
       "    <tr>\n",
       "      <th>16</th>\n",
       "      <td>30'701\\n</td>\n",
       "      <td>\\n433'343'998</td>\n",
       "    </tr>\n",
       "  </tbody>\n",
       "</table>\n",
       "</div>"
      ],
      "text/plain": [
       "           0                      1\n",
       "12  21'101\\n            \\n1'051'519\n",
       "13   4'270\\n            \\n8'379'718\n",
       "14   3'302\\n           \\n35'558'173\n",
       "15   2'028\\n          \\n388'354'588\n",
       "16  30'701\\n          \\n433'343'998"
      ]
     },
     "execution_count": 145,
     "metadata": {},
     "output_type": "execute_result"
    }
   ],
   "source": [
    "getrennte_kolonnen = firmen_2010['etwas seltsames'].str.split(' ', 1, expand=True) \n",
    "# von https://stackoverflow.com/questions/14745022/how-to-split-a-column-into-two-columns\n",
    "getrennte_kolonnen"
   ]
  },
  {
   "cell_type": "code",
   "execution_count": 146,
   "metadata": {},
   "outputs": [],
   "source": [
    "#firmen_2010['Anzahl Steuerpflichtige 2010'], firmen_2010['Betrag Kantonssteuer 2010 in CHF'] = firmen_2010['etwas seltsames'].str.split(' ', 1, expand=True) \n",
    "#fügt mir nur zwei kolonnen hinten an"
   ]
  },
  {
   "cell_type": "code",
   "execution_count": 147,
   "metadata": {},
   "outputs": [
    {
     "data": {
      "text/html": [
       "<div>\n",
       "<style scoped>\n",
       "    .dataframe tbody tr th:only-of-type {\n",
       "        vertical-align: middle;\n",
       "    }\n",
       "\n",
       "    .dataframe tbody tr th {\n",
       "        vertical-align: top;\n",
       "    }\n",
       "\n",
       "    .dataframe thead th {\n",
       "        text-align: right;\n",
       "    }\n",
       "</style>\n",
       "<table border=\"1\" class=\"dataframe\">\n",
       "  <thead>\n",
       "    <tr style=\"text-align: right;\">\n",
       "      <th></th>\n",
       "      <th>Weglassen</th>\n",
       "      <th>Steuerbarer Gewinn ab CHF</th>\n",
       "      <th>weglassen</th>\n",
       "      <th>etwas seltsames</th>\n",
       "      <th>lassweg</th>\n",
       "      <th>überflüssig</th>\n",
       "    </tr>\n",
       "  </thead>\n",
       "  <tbody>\n",
       "    <tr>\n",
       "      <th>12</th>\n",
       "      <td></td>\n",
       "      <td>0</td>\n",
       "      <td>10'000</td>\n",
       "      <td>21'101\\n           \\n1'051'519</td>\n",
       "      <td>6'782</td>\n",
       "      <td>116'360</td>\n",
       "    </tr>\n",
       "    <tr>\n",
       "      <th>13</th>\n",
       "      <td></td>\n",
       "      <td>10'100</td>\n",
       "      <td>50'000</td>\n",
       "      <td>4'270\\n           \\n8'379'718</td>\n",
       "      <td>279</td>\n",
       "      <td>427'696</td>\n",
       "    </tr>\n",
       "    <tr>\n",
       "      <th>14</th>\n",
       "      <td></td>\n",
       "      <td>50'100</td>\n",
       "      <td>250'000</td>\n",
       "      <td>3'302\\n         \\n35'558'173</td>\n",
       "      <td>77</td>\n",
       "      <td>448'731</td>\n",
       "    </tr>\n",
       "    <tr>\n",
       "      <th>15</th>\n",
       "      <td></td>\n",
       "      <td>250'100</td>\n",
       "      <td>+</td>\n",
       "      <td>2'028\\n       \\n388'354'588</td>\n",
       "      <td>34</td>\n",
       "      <td>1'503'531</td>\n",
       "    </tr>\n",
       "    <tr>\n",
       "      <th>16</th>\n",
       "      <td></td>\n",
       "      <td>Total</td>\n",
       "      <td></td>\n",
       "      <td>30'701\\n      \\n433'343'998</td>\n",
       "      <td>7'172</td>\n",
       "      <td>2'496'318</td>\n",
       "    </tr>\n",
       "  </tbody>\n",
       "</table>\n",
       "</div>"
      ],
      "text/plain": [
       "   Weglassen Steuerbarer Gewinn ab CHF weglassen  \\\n",
       "12                                   0    10'000   \n",
       "13                              10'100    50'000   \n",
       "14                              50'100   250'000   \n",
       "15                             250'100         +   \n",
       "16                               Total             \n",
       "\n",
       "                   etwas seltsames lassweg überflüssig  \n",
       "12  21'101\\n           \\n1'051'519   6'782     116'360  \n",
       "13   4'270\\n           \\n8'379'718     279     427'696  \n",
       "14    3'302\\n         \\n35'558'173      77     448'731  \n",
       "15     2'028\\n       \\n388'354'588      34   1'503'531  \n",
       "16     30'701\\n      \\n433'343'998   7'172   2'496'318  "
      ]
     },
     "execution_count": 147,
     "metadata": {},
     "output_type": "execute_result"
    }
   ],
   "source": [
    "firmen_2010"
   ]
  },
  {
   "cell_type": "markdown",
   "metadata": {},
   "source": [
    "### Ich versuche, firmen_2010 mit getrennte_kolonnen zu mergen"
   ]
  },
  {
   "cell_type": "code",
   "execution_count": 148,
   "metadata": {},
   "outputs": [],
   "source": [
    "del firmen_2010['Weglassen']\n",
    "del firmen_2010['weglassen']\n",
    "del firmen_2010['lassweg']\n",
    "del firmen_2010['etwas seltsames']"
   ]
  },
  {
   "cell_type": "code",
   "execution_count": 149,
   "metadata": {},
   "outputs": [
    {
     "data": {
      "text/html": [
       "<div>\n",
       "<style scoped>\n",
       "    .dataframe tbody tr th:only-of-type {\n",
       "        vertical-align: middle;\n",
       "    }\n",
       "\n",
       "    .dataframe tbody tr th {\n",
       "        vertical-align: top;\n",
       "    }\n",
       "\n",
       "    .dataframe thead th {\n",
       "        text-align: right;\n",
       "    }\n",
       "</style>\n",
       "<table border=\"1\" class=\"dataframe\">\n",
       "  <thead>\n",
       "    <tr style=\"text-align: right;\">\n",
       "      <th></th>\n",
       "      <th>Steuerbarer Gewinn ab CHF</th>\n",
       "      <th>überflüssig</th>\n",
       "    </tr>\n",
       "  </thead>\n",
       "  <tbody>\n",
       "    <tr>\n",
       "      <th>12</th>\n",
       "      <td>0</td>\n",
       "      <td>116'360</td>\n",
       "    </tr>\n",
       "    <tr>\n",
       "      <th>13</th>\n",
       "      <td>10'100</td>\n",
       "      <td>427'696</td>\n",
       "    </tr>\n",
       "    <tr>\n",
       "      <th>14</th>\n",
       "      <td>50'100</td>\n",
       "      <td>448'731</td>\n",
       "    </tr>\n",
       "    <tr>\n",
       "      <th>15</th>\n",
       "      <td>250'100</td>\n",
       "      <td>1'503'531</td>\n",
       "    </tr>\n",
       "    <tr>\n",
       "      <th>16</th>\n",
       "      <td>Total</td>\n",
       "      <td>2'496'318</td>\n",
       "    </tr>\n",
       "  </tbody>\n",
       "</table>\n",
       "</div>"
      ],
      "text/plain": [
       "   Steuerbarer Gewinn ab CHF überflüssig\n",
       "12                         0     116'360\n",
       "13                    10'100     427'696\n",
       "14                    50'100     448'731\n",
       "15                   250'100   1'503'531\n",
       "16                     Total   2'496'318"
      ]
     },
     "execution_count": 149,
     "metadata": {},
     "output_type": "execute_result"
    }
   ],
   "source": [
    "firmen_2010"
   ]
  },
  {
   "cell_type": "code",
   "execution_count": 150,
   "metadata": {},
   "outputs": [],
   "source": [
    "del firmen_2010['überflüssig']"
   ]
  },
  {
   "cell_type": "code",
   "execution_count": 151,
   "metadata": {
    "scrolled": true
   },
   "outputs": [
    {
     "data": {
      "text/html": [
       "<div>\n",
       "<style scoped>\n",
       "    .dataframe tbody tr th:only-of-type {\n",
       "        vertical-align: middle;\n",
       "    }\n",
       "\n",
       "    .dataframe tbody tr th {\n",
       "        vertical-align: top;\n",
       "    }\n",
       "\n",
       "    .dataframe thead th {\n",
       "        text-align: right;\n",
       "    }\n",
       "</style>\n",
       "<table border=\"1\" class=\"dataframe\">\n",
       "  <thead>\n",
       "    <tr style=\"text-align: right;\">\n",
       "      <th></th>\n",
       "      <th>Steuerbarer Gewinn ab CHF</th>\n",
       "    </tr>\n",
       "  </thead>\n",
       "  <tbody>\n",
       "    <tr>\n",
       "      <th>12</th>\n",
       "      <td>0</td>\n",
       "    </tr>\n",
       "    <tr>\n",
       "      <th>13</th>\n",
       "      <td>10'100</td>\n",
       "    </tr>\n",
       "    <tr>\n",
       "      <th>14</th>\n",
       "      <td>50'100</td>\n",
       "    </tr>\n",
       "    <tr>\n",
       "      <th>15</th>\n",
       "      <td>250'100</td>\n",
       "    </tr>\n",
       "    <tr>\n",
       "      <th>16</th>\n",
       "      <td>Total</td>\n",
       "    </tr>\n",
       "  </tbody>\n",
       "</table>\n",
       "</div>"
      ],
      "text/plain": [
       "   Steuerbarer Gewinn ab CHF\n",
       "12                         0\n",
       "13                    10'100\n",
       "14                    50'100\n",
       "15                   250'100\n",
       "16                     Total"
      ]
     },
     "execution_count": 151,
     "metadata": {},
     "output_type": "execute_result"
    }
   ],
   "source": [
    "firmen_2010"
   ]
  },
  {
   "cell_type": "code",
   "execution_count": 152,
   "metadata": {},
   "outputs": [],
   "source": [
    "#pd.merge(dfunfälle,einwohnerzahlenneu,\n",
    "        # how ='left',on='Gemeinde')"
   ]
  },
  {
   "cell_type": "code",
   "execution_count": 153,
   "metadata": {},
   "outputs": [
    {
     "ename": "NameError",
     "evalue": "name 'right' is not defined",
     "output_type": "error",
     "traceback": [
      "\u001b[1;31m---------------------------------------------------------------------------\u001b[0m",
      "\u001b[1;31mNameError\u001b[0m                                 Traceback (most recent call last)",
      "\u001b[1;32m<ipython-input-153-3657ea65208b>\u001b[0m in \u001b[0;36m<module>\u001b[1;34m\u001b[0m\n\u001b[0;32m      1\u001b[0m pd.merge(firmen_2010, getrennte_kolonnen, \n\u001b[1;32m----> 2\u001b[1;33m          how = right, left_index = False)  #, left_index=False, right_index=False\n\u001b[0m",
      "\u001b[1;31mNameError\u001b[0m: name 'right' is not defined"
     ]
    }
   ],
   "source": [
    "pd.merge(firmen_2010, getrennte_kolonnen, \n",
    "         how = right, left_index = False)  #, left_index=False, right_index=False"
   ]
  },
  {
   "cell_type": "markdown",
   "metadata": {},
   "source": [
    "## das funktioniert nicht, weil ich keine gemeinsame kolonne habe der beiden. ich überlege mir ernsthaft, eine neue kolonne hinzuzufügen. so wie vorhin. "
   ]
  },
  {
   "cell_type": "code",
   "execution_count": null,
   "metadata": {},
   "outputs": [],
   "source": [
    "firmen_2010['alibi kolonne'] = firmen_2010['Steuerbarer Gewinn ab CHF'].str.split(' ', 1, expand=True) "
   ]
  },
  {
   "cell_type": "code",
   "execution_count": null,
   "metadata": {},
   "outputs": [],
   "source": [
    "firmen_2010"
   ]
  },
  {
   "cell_type": "code",
   "execution_count": 154,
   "metadata": {},
   "outputs": [
    {
     "ename": "KeyError",
     "evalue": "'Steuerbarer Gewinn ab CHF'",
     "output_type": "error",
     "traceback": [
      "\u001b[1;31m---------------------------------------------------------------------------\u001b[0m",
      "\u001b[1;31mKeyError\u001b[0m                                  Traceback (most recent call last)",
      "\u001b[1;32m~\\Anaconda3\\lib\\site-packages\\pandas\\core\\indexes\\base.py\u001b[0m in \u001b[0;36mget_loc\u001b[1;34m(self, key, method, tolerance)\u001b[0m\n\u001b[0;32m   2656\u001b[0m             \u001b[1;32mtry\u001b[0m\u001b[1;33m:\u001b[0m\u001b[1;33m\u001b[0m\u001b[1;33m\u001b[0m\u001b[0m\n\u001b[1;32m-> 2657\u001b[1;33m                 \u001b[1;32mreturn\u001b[0m \u001b[0mself\u001b[0m\u001b[1;33m.\u001b[0m\u001b[0m_engine\u001b[0m\u001b[1;33m.\u001b[0m\u001b[0mget_loc\u001b[0m\u001b[1;33m(\u001b[0m\u001b[0mkey\u001b[0m\u001b[1;33m)\u001b[0m\u001b[1;33m\u001b[0m\u001b[1;33m\u001b[0m\u001b[0m\n\u001b[0m\u001b[0;32m   2658\u001b[0m             \u001b[1;32mexcept\u001b[0m \u001b[0mKeyError\u001b[0m\u001b[1;33m:\u001b[0m\u001b[1;33m\u001b[0m\u001b[1;33m\u001b[0m\u001b[0m\n",
      "\u001b[1;32mpandas/_libs/index.pyx\u001b[0m in \u001b[0;36mpandas._libs.index.IndexEngine.get_loc\u001b[1;34m()\u001b[0m\n",
      "\u001b[1;32mpandas/_libs/index.pyx\u001b[0m in \u001b[0;36mpandas._libs.index.IndexEngine.get_loc\u001b[1;34m()\u001b[0m\n",
      "\u001b[1;32mpandas/_libs/index_class_helper.pxi\u001b[0m in \u001b[0;36mpandas._libs.index.Int64Engine._check_type\u001b[1;34m()\u001b[0m\n",
      "\u001b[1;31mKeyError\u001b[0m: 'Steuerbarer Gewinn ab CHF'",
      "\nDuring handling of the above exception, another exception occurred:\n",
      "\u001b[1;31mKeyError\u001b[0m                                  Traceback (most recent call last)",
      "\u001b[1;32m<ipython-input-154-90d932dd09fc>\u001b[0m in \u001b[0;36m<module>\u001b[1;34m\u001b[0m\n\u001b[1;32m----> 1\u001b[1;33m \u001b[0mgetrennte_kolonnen\u001b[0m\u001b[1;33m[\u001b[0m\u001b[1;34m'alibi kolonne'\u001b[0m\u001b[1;33m]\u001b[0m \u001b[1;33m=\u001b[0m \u001b[0mgetrennte_kolonnen\u001b[0m\u001b[1;33m[\u001b[0m\u001b[1;34m'Steuerbarer Gewinn ab CHF'\u001b[0m\u001b[1;33m]\u001b[0m\u001b[1;33m.\u001b[0m\u001b[0mstr\u001b[0m\u001b[1;33m.\u001b[0m\u001b[0msplit\u001b[0m\u001b[1;33m(\u001b[0m\u001b[1;34m' '\u001b[0m\u001b[1;33m,\u001b[0m \u001b[1;36m1\u001b[0m\u001b[1;33m,\u001b[0m \u001b[0mexpand\u001b[0m\u001b[1;33m=\u001b[0m\u001b[1;32mTrue\u001b[0m\u001b[1;33m)\u001b[0m\u001b[1;33m\u001b[0m\u001b[1;33m\u001b[0m\u001b[0m\n\u001b[0m",
      "\u001b[1;32m~\\Anaconda3\\lib\\site-packages\\pandas\\core\\frame.py\u001b[0m in \u001b[0;36m__getitem__\u001b[1;34m(self, key)\u001b[0m\n\u001b[0;32m   2925\u001b[0m             \u001b[1;32mif\u001b[0m \u001b[0mself\u001b[0m\u001b[1;33m.\u001b[0m\u001b[0mcolumns\u001b[0m\u001b[1;33m.\u001b[0m\u001b[0mnlevels\u001b[0m \u001b[1;33m>\u001b[0m \u001b[1;36m1\u001b[0m\u001b[1;33m:\u001b[0m\u001b[1;33m\u001b[0m\u001b[1;33m\u001b[0m\u001b[0m\n\u001b[0;32m   2926\u001b[0m                 \u001b[1;32mreturn\u001b[0m \u001b[0mself\u001b[0m\u001b[1;33m.\u001b[0m\u001b[0m_getitem_multilevel\u001b[0m\u001b[1;33m(\u001b[0m\u001b[0mkey\u001b[0m\u001b[1;33m)\u001b[0m\u001b[1;33m\u001b[0m\u001b[1;33m\u001b[0m\u001b[0m\n\u001b[1;32m-> 2927\u001b[1;33m             \u001b[0mindexer\u001b[0m \u001b[1;33m=\u001b[0m \u001b[0mself\u001b[0m\u001b[1;33m.\u001b[0m\u001b[0mcolumns\u001b[0m\u001b[1;33m.\u001b[0m\u001b[0mget_loc\u001b[0m\u001b[1;33m(\u001b[0m\u001b[0mkey\u001b[0m\u001b[1;33m)\u001b[0m\u001b[1;33m\u001b[0m\u001b[1;33m\u001b[0m\u001b[0m\n\u001b[0m\u001b[0;32m   2928\u001b[0m             \u001b[1;32mif\u001b[0m \u001b[0mis_integer\u001b[0m\u001b[1;33m(\u001b[0m\u001b[0mindexer\u001b[0m\u001b[1;33m)\u001b[0m\u001b[1;33m:\u001b[0m\u001b[1;33m\u001b[0m\u001b[1;33m\u001b[0m\u001b[0m\n\u001b[0;32m   2929\u001b[0m                 \u001b[0mindexer\u001b[0m \u001b[1;33m=\u001b[0m \u001b[1;33m[\u001b[0m\u001b[0mindexer\u001b[0m\u001b[1;33m]\u001b[0m\u001b[1;33m\u001b[0m\u001b[1;33m\u001b[0m\u001b[0m\n",
      "\u001b[1;32m~\\Anaconda3\\lib\\site-packages\\pandas\\core\\indexes\\base.py\u001b[0m in \u001b[0;36mget_loc\u001b[1;34m(self, key, method, tolerance)\u001b[0m\n\u001b[0;32m   2657\u001b[0m                 \u001b[1;32mreturn\u001b[0m \u001b[0mself\u001b[0m\u001b[1;33m.\u001b[0m\u001b[0m_engine\u001b[0m\u001b[1;33m.\u001b[0m\u001b[0mget_loc\u001b[0m\u001b[1;33m(\u001b[0m\u001b[0mkey\u001b[0m\u001b[1;33m)\u001b[0m\u001b[1;33m\u001b[0m\u001b[1;33m\u001b[0m\u001b[0m\n\u001b[0;32m   2658\u001b[0m             \u001b[1;32mexcept\u001b[0m \u001b[0mKeyError\u001b[0m\u001b[1;33m:\u001b[0m\u001b[1;33m\u001b[0m\u001b[1;33m\u001b[0m\u001b[0m\n\u001b[1;32m-> 2659\u001b[1;33m                 \u001b[1;32mreturn\u001b[0m \u001b[0mself\u001b[0m\u001b[1;33m.\u001b[0m\u001b[0m_engine\u001b[0m\u001b[1;33m.\u001b[0m\u001b[0mget_loc\u001b[0m\u001b[1;33m(\u001b[0m\u001b[0mself\u001b[0m\u001b[1;33m.\u001b[0m\u001b[0m_maybe_cast_indexer\u001b[0m\u001b[1;33m(\u001b[0m\u001b[0mkey\u001b[0m\u001b[1;33m)\u001b[0m\u001b[1;33m)\u001b[0m\u001b[1;33m\u001b[0m\u001b[1;33m\u001b[0m\u001b[0m\n\u001b[0m\u001b[0;32m   2660\u001b[0m         \u001b[0mindexer\u001b[0m \u001b[1;33m=\u001b[0m \u001b[0mself\u001b[0m\u001b[1;33m.\u001b[0m\u001b[0mget_indexer\u001b[0m\u001b[1;33m(\u001b[0m\u001b[1;33m[\u001b[0m\u001b[0mkey\u001b[0m\u001b[1;33m]\u001b[0m\u001b[1;33m,\u001b[0m \u001b[0mmethod\u001b[0m\u001b[1;33m=\u001b[0m\u001b[0mmethod\u001b[0m\u001b[1;33m,\u001b[0m \u001b[0mtolerance\u001b[0m\u001b[1;33m=\u001b[0m\u001b[0mtolerance\u001b[0m\u001b[1;33m)\u001b[0m\u001b[1;33m\u001b[0m\u001b[1;33m\u001b[0m\u001b[0m\n\u001b[0;32m   2661\u001b[0m         \u001b[1;32mif\u001b[0m \u001b[0mindexer\u001b[0m\u001b[1;33m.\u001b[0m\u001b[0mndim\u001b[0m \u001b[1;33m>\u001b[0m \u001b[1;36m1\u001b[0m \u001b[1;32mor\u001b[0m \u001b[0mindexer\u001b[0m\u001b[1;33m.\u001b[0m\u001b[0msize\u001b[0m \u001b[1;33m>\u001b[0m \u001b[1;36m1\u001b[0m\u001b[1;33m:\u001b[0m\u001b[1;33m\u001b[0m\u001b[1;33m\u001b[0m\u001b[0m\n",
      "\u001b[1;32mpandas/_libs/index.pyx\u001b[0m in \u001b[0;36mpandas._libs.index.IndexEngine.get_loc\u001b[1;34m()\u001b[0m\n",
      "\u001b[1;32mpandas/_libs/index.pyx\u001b[0m in \u001b[0;36mpandas._libs.index.IndexEngine.get_loc\u001b[1;34m()\u001b[0m\n",
      "\u001b[1;32mpandas/_libs/index_class_helper.pxi\u001b[0m in \u001b[0;36mpandas._libs.index.Int64Engine._check_type\u001b[1;34m()\u001b[0m\n",
      "\u001b[1;31mKeyError\u001b[0m: 'Steuerbarer Gewinn ab CHF'"
     ]
    }
   ],
   "source": [
    "getrennte_kolonnen['alibi kolonne'] = getrennte_kolonnen['Steuerbarer Gewinn ab CHF'].str.split(' ', 1, expand=True) "
   ]
  },
  {
   "cell_type": "markdown",
   "metadata": {},
   "source": [
    "### funktioniert nicht. "
   ]
  },
  {
   "cell_type": "code",
   "execution_count": 155,
   "metadata": {},
   "outputs": [
    {
     "ename": "AttributeError",
     "evalue": "'DataFrame' object has no attribute 'random'",
     "output_type": "error",
     "traceback": [
      "\u001b[1;31m---------------------------------------------------------------------------\u001b[0m",
      "\u001b[1;31mAttributeError\u001b[0m                            Traceback (most recent call last)",
      "\u001b[1;32m<ipython-input-155-005221dee3de>\u001b[0m in \u001b[0;36m<module>\u001b[1;34m\u001b[0m\n\u001b[1;32m----> 1\u001b[1;33m \u001b[0mfirmen_2010\u001b[0m\u001b[1;33m[\u001b[0m\u001b[1;34m'Steuerbarer Gewinn ab CHF'\u001b[0m\u001b[1;33m]\u001b[0m \u001b[1;33m=\u001b[0m \u001b[0mpd\u001b[0m\u001b[1;33m.\u001b[0m\u001b[0mSeries\u001b[0m\u001b[1;33m(\u001b[0m\u001b[0mgetrennte_kolonnen\u001b[0m\u001b[1;33m.\u001b[0m\u001b[0mrandom\u001b[0m\u001b[1;33m.\u001b[0m\u001b[0mrandn\u001b[0m\u001b[1;33m(\u001b[0m\u001b[0msLength\u001b[0m\u001b[1;33m)\u001b[0m\u001b[1;33m,\u001b[0m \u001b[0mindex\u001b[0m\u001b[1;33m=\u001b[0m\u001b[0mfirmen_2010\u001b[0m\u001b[1;33m.\u001b[0m\u001b[0mindex\u001b[0m\u001b[1;33m)\u001b[0m\u001b[1;33m\u001b[0m\u001b[1;33m\u001b[0m\u001b[0m\n\u001b[0m",
      "\u001b[1;32m~\\Anaconda3\\lib\\site-packages\\pandas\\core\\generic.py\u001b[0m in \u001b[0;36m__getattr__\u001b[1;34m(self, name)\u001b[0m\n\u001b[0;32m   5065\u001b[0m             \u001b[1;32mif\u001b[0m \u001b[0mself\u001b[0m\u001b[1;33m.\u001b[0m\u001b[0m_info_axis\u001b[0m\u001b[1;33m.\u001b[0m\u001b[0m_can_hold_identifiers_and_holds_name\u001b[0m\u001b[1;33m(\u001b[0m\u001b[0mname\u001b[0m\u001b[1;33m)\u001b[0m\u001b[1;33m:\u001b[0m\u001b[1;33m\u001b[0m\u001b[1;33m\u001b[0m\u001b[0m\n\u001b[0;32m   5066\u001b[0m                 \u001b[1;32mreturn\u001b[0m \u001b[0mself\u001b[0m\u001b[1;33m[\u001b[0m\u001b[0mname\u001b[0m\u001b[1;33m]\u001b[0m\u001b[1;33m\u001b[0m\u001b[1;33m\u001b[0m\u001b[0m\n\u001b[1;32m-> 5067\u001b[1;33m             \u001b[1;32mreturn\u001b[0m \u001b[0mobject\u001b[0m\u001b[1;33m.\u001b[0m\u001b[0m__getattribute__\u001b[0m\u001b[1;33m(\u001b[0m\u001b[0mself\u001b[0m\u001b[1;33m,\u001b[0m \u001b[0mname\u001b[0m\u001b[1;33m)\u001b[0m\u001b[1;33m\u001b[0m\u001b[1;33m\u001b[0m\u001b[0m\n\u001b[0m\u001b[0;32m   5068\u001b[0m \u001b[1;33m\u001b[0m\u001b[0m\n\u001b[0;32m   5069\u001b[0m     \u001b[1;32mdef\u001b[0m \u001b[0m__setattr__\u001b[0m\u001b[1;33m(\u001b[0m\u001b[0mself\u001b[0m\u001b[1;33m,\u001b[0m \u001b[0mname\u001b[0m\u001b[1;33m,\u001b[0m \u001b[0mvalue\u001b[0m\u001b[1;33m)\u001b[0m\u001b[1;33m:\u001b[0m\u001b[1;33m\u001b[0m\u001b[1;33m\u001b[0m\u001b[0m\n",
      "\u001b[1;31mAttributeError\u001b[0m: 'DataFrame' object has no attribute 'random'"
     ]
    }
   ],
   "source": [
    "firmen_2010['Steuerbarer Gewinn ab CHF'] = pd.Series(getrennte_kolonnen.random.randn(sLength), index=firmen_2010.index)"
   ]
  },
  {
   "cell_type": "code",
   "execution_count": 156,
   "metadata": {},
   "outputs": [],
   "source": [
    "getrennte_kolonnen['Steuerbarer Gewinn ab CHF'] = firmen_2010.values"
   ]
  },
  {
   "cell_type": "markdown",
   "metadata": {},
   "source": [
    "## Alles Arschlöcher!!!!!!!!!!!!!!!!!! Nochmals von vorne mit diesen beiden Dataframes hier"
   ]
  },
  {
   "cell_type": "code",
   "execution_count": 157,
   "metadata": {},
   "outputs": [
    {
     "data": {
      "text/html": [
       "<div>\n",
       "<style scoped>\n",
       "    .dataframe tbody tr th:only-of-type {\n",
       "        vertical-align: middle;\n",
       "    }\n",
       "\n",
       "    .dataframe tbody tr th {\n",
       "        vertical-align: top;\n",
       "    }\n",
       "\n",
       "    .dataframe thead th {\n",
       "        text-align: right;\n",
       "    }\n",
       "</style>\n",
       "<table border=\"1\" class=\"dataframe\">\n",
       "  <thead>\n",
       "    <tr style=\"text-align: right;\">\n",
       "      <th></th>\n",
       "      <th>Steuerbarer Gewinn ab CHF</th>\n",
       "    </tr>\n",
       "  </thead>\n",
       "  <tbody>\n",
       "    <tr>\n",
       "      <th>12</th>\n",
       "      <td>0</td>\n",
       "    </tr>\n",
       "    <tr>\n",
       "      <th>13</th>\n",
       "      <td>10'100</td>\n",
       "    </tr>\n",
       "    <tr>\n",
       "      <th>14</th>\n",
       "      <td>50'100</td>\n",
       "    </tr>\n",
       "    <tr>\n",
       "      <th>15</th>\n",
       "      <td>250'100</td>\n",
       "    </tr>\n",
       "    <tr>\n",
       "      <th>16</th>\n",
       "      <td>Total</td>\n",
       "    </tr>\n",
       "  </tbody>\n",
       "</table>\n",
       "</div>"
      ],
      "text/plain": [
       "   Steuerbarer Gewinn ab CHF\n",
       "12                         0\n",
       "13                    10'100\n",
       "14                    50'100\n",
       "15                   250'100\n",
       "16                     Total"
      ]
     },
     "execution_count": 157,
     "metadata": {},
     "output_type": "execute_result"
    }
   ],
   "source": [
    "firmen_2010"
   ]
  },
  {
   "cell_type": "code",
   "execution_count": 125,
   "metadata": {
    "scrolled": false
   },
   "outputs": [
    {
     "data": {
      "text/html": [
       "<div>\n",
       "<style scoped>\n",
       "    .dataframe tbody tr th:only-of-type {\n",
       "        vertical-align: middle;\n",
       "    }\n",
       "\n",
       "    .dataframe tbody tr th {\n",
       "        vertical-align: top;\n",
       "    }\n",
       "\n",
       "    .dataframe thead th {\n",
       "        text-align: right;\n",
       "    }\n",
       "</style>\n",
       "<table border=\"1\" class=\"dataframe\">\n",
       "  <thead>\n",
       "    <tr style=\"text-align: right;\">\n",
       "      <th></th>\n",
       "      <th>0</th>\n",
       "      <th>1</th>\n",
       "    </tr>\n",
       "  </thead>\n",
       "  <tbody>\n",
       "    <tr>\n",
       "      <th>12</th>\n",
       "      <td>21'101\\n</td>\n",
       "      <td>\\n1'051'519</td>\n",
       "    </tr>\n",
       "    <tr>\n",
       "      <th>13</th>\n",
       "      <td>4'270\\n</td>\n",
       "      <td>\\n8'379'718</td>\n",
       "    </tr>\n",
       "    <tr>\n",
       "      <th>14</th>\n",
       "      <td>3'302\\n</td>\n",
       "      <td>\\n35'558'173</td>\n",
       "    </tr>\n",
       "    <tr>\n",
       "      <th>15</th>\n",
       "      <td>2'028\\n</td>\n",
       "      <td>\\n388'354'588</td>\n",
       "    </tr>\n",
       "    <tr>\n",
       "      <th>16</th>\n",
       "      <td>30'701\\n</td>\n",
       "      <td>\\n433'343'998</td>\n",
       "    </tr>\n",
       "  </tbody>\n",
       "</table>\n",
       "</div>"
      ],
      "text/plain": [
       "           0                      1\n",
       "12  21'101\\n            \\n1'051'519\n",
       "13   4'270\\n            \\n8'379'718\n",
       "14   3'302\\n           \\n35'558'173\n",
       "15   2'028\\n          \\n388'354'588\n",
       "16  30'701\\n          \\n433'343'998"
      ]
     },
     "execution_count": 125,
     "metadata": {},
     "output_type": "execute_result"
    }
   ],
   "source": [
    "getrennte_kolonnen"
   ]
  },
  {
   "cell_type": "code",
   "execution_count": 163,
   "metadata": {},
   "outputs": [],
   "source": [
    "#pd.merge(firmen_2010, getrennte_kolonnen,\n",
    "        #how ='left', on = \"Index\")\n",
    "    \n",
    "#das hatte nicht funktioniert"
   ]
  },
  {
   "cell_type": "markdown",
   "metadata": {},
   "source": [
    "## Versuch mit Concat\n",
    "defunden hier dank dem Hinweis auf zip in einem älteren Notebook https://stackoverflow.com/questions/34318141/zip-pandas-dataframes-into-a-new-dataframe"
   ]
  },
  {
   "cell_type": "code",
   "execution_count": 164,
   "metadata": {
    "scrolled": true
   },
   "outputs": [
    {
     "data": {
      "text/html": [
       "<div>\n",
       "<style scoped>\n",
       "    .dataframe tbody tr th:only-of-type {\n",
       "        vertical-align: middle;\n",
       "    }\n",
       "\n",
       "    .dataframe tbody tr th {\n",
       "        vertical-align: top;\n",
       "    }\n",
       "\n",
       "    .dataframe thead th {\n",
       "        text-align: right;\n",
       "    }\n",
       "</style>\n",
       "<table border=\"1\" class=\"dataframe\">\n",
       "  <thead>\n",
       "    <tr style=\"text-align: right;\">\n",
       "      <th></th>\n",
       "      <th>Steuerbarer Gewinn ab CHF</th>\n",
       "      <th>0</th>\n",
       "      <th>1</th>\n",
       "      <th>Steuerbarer Gewinn ab CHF</th>\n",
       "    </tr>\n",
       "  </thead>\n",
       "  <tbody>\n",
       "    <tr>\n",
       "      <th>12</th>\n",
       "      <td>0</td>\n",
       "      <td>21'101\\n</td>\n",
       "      <td>\\n1'051'519</td>\n",
       "      <td>0</td>\n",
       "    </tr>\n",
       "    <tr>\n",
       "      <th>13</th>\n",
       "      <td>10'100</td>\n",
       "      <td>4'270\\n</td>\n",
       "      <td>\\n8'379'718</td>\n",
       "      <td>10'100</td>\n",
       "    </tr>\n",
       "    <tr>\n",
       "      <th>14</th>\n",
       "      <td>50'100</td>\n",
       "      <td>3'302\\n</td>\n",
       "      <td>\\n35'558'173</td>\n",
       "      <td>50'100</td>\n",
       "    </tr>\n",
       "    <tr>\n",
       "      <th>15</th>\n",
       "      <td>250'100</td>\n",
       "      <td>2'028\\n</td>\n",
       "      <td>\\n388'354'588</td>\n",
       "      <td>250'100</td>\n",
       "    </tr>\n",
       "    <tr>\n",
       "      <th>16</th>\n",
       "      <td>Total</td>\n",
       "      <td>30'701\\n</td>\n",
       "      <td>\\n433'343'998</td>\n",
       "      <td>Total</td>\n",
       "    </tr>\n",
       "  </tbody>\n",
       "</table>\n",
       "</div>"
      ],
      "text/plain": [
       "   Steuerbarer Gewinn ab CHF         0                      1  \\\n",
       "12                         0  21'101\\n            \\n1'051'519   \n",
       "13                    10'100   4'270\\n            \\n8'379'718   \n",
       "14                    50'100   3'302\\n           \\n35'558'173   \n",
       "15                   250'100   2'028\\n          \\n388'354'588   \n",
       "16                     Total  30'701\\n          \\n433'343'998   \n",
       "\n",
       "   Steuerbarer Gewinn ab CHF  \n",
       "12                         0  \n",
       "13                    10'100  \n",
       "14                    50'100  \n",
       "15                   250'100  \n",
       "16                     Total  "
      ]
     },
     "execution_count": 164,
     "metadata": {},
     "output_type": "execute_result"
    }
   ],
   "source": [
    "Firmen_2010_neu = pd.concat([firmen_2010, getrennte_kolonnen], axis=1)\n",
    "Firmen_2010_neu"
   ]
  },
  {
   "cell_type": "code",
   "execution_count": 165,
   "metadata": {},
   "outputs": [
    {
     "data": {
      "text/html": [
       "<div>\n",
       "<style scoped>\n",
       "    .dataframe tbody tr th:only-of-type {\n",
       "        vertical-align: middle;\n",
       "    }\n",
       "\n",
       "    .dataframe tbody tr th {\n",
       "        vertical-align: top;\n",
       "    }\n",
       "\n",
       "    .dataframe thead th {\n",
       "        text-align: right;\n",
       "    }\n",
       "</style>\n",
       "<table border=\"1\" class=\"dataframe\">\n",
       "  <thead>\n",
       "    <tr style=\"text-align: right;\">\n",
       "      <th></th>\n",
       "      <th>Steuerbarer Gewinn ab CHF</th>\n",
       "      <th>Anzahl Steuerpflichtige 2010</th>\n",
       "      <th>Betrag Kantonssteuer 2010 in CHF</th>\n",
       "      <th>streichen</th>\n",
       "    </tr>\n",
       "  </thead>\n",
       "  <tbody>\n",
       "    <tr>\n",
       "      <th>12</th>\n",
       "      <td>0</td>\n",
       "      <td>21'101\\n</td>\n",
       "      <td>\\n1'051'519</td>\n",
       "      <td>0</td>\n",
       "    </tr>\n",
       "    <tr>\n",
       "      <th>13</th>\n",
       "      <td>10'100</td>\n",
       "      <td>4'270\\n</td>\n",
       "      <td>\\n8'379'718</td>\n",
       "      <td>10'100</td>\n",
       "    </tr>\n",
       "    <tr>\n",
       "      <th>14</th>\n",
       "      <td>50'100</td>\n",
       "      <td>3'302\\n</td>\n",
       "      <td>\\n35'558'173</td>\n",
       "      <td>50'100</td>\n",
       "    </tr>\n",
       "    <tr>\n",
       "      <th>15</th>\n",
       "      <td>250'100</td>\n",
       "      <td>2'028\\n</td>\n",
       "      <td>\\n388'354'588</td>\n",
       "      <td>250'100</td>\n",
       "    </tr>\n",
       "    <tr>\n",
       "      <th>16</th>\n",
       "      <td>Total</td>\n",
       "      <td>30'701\\n</td>\n",
       "      <td>\\n433'343'998</td>\n",
       "      <td>Total</td>\n",
       "    </tr>\n",
       "  </tbody>\n",
       "</table>\n",
       "</div>"
      ],
      "text/plain": [
       "   Steuerbarer Gewinn ab CHF Anzahl Steuerpflichtige 2010  \\\n",
       "12                         0                     21'101\\n   \n",
       "13                    10'100                      4'270\\n   \n",
       "14                    50'100                      3'302\\n   \n",
       "15                   250'100                      2'028\\n   \n",
       "16                     Total                     30'701\\n   \n",
       "\n",
       "   Betrag Kantonssteuer 2010 in CHF streichen  \n",
       "12                      \\n1'051'519         0  \n",
       "13                      \\n8'379'718    10'100  \n",
       "14                     \\n35'558'173    50'100  \n",
       "15                    \\n388'354'588   250'100  \n",
       "16                    \\n433'343'998     Total  "
      ]
     },
     "execution_count": 165,
     "metadata": {},
     "output_type": "execute_result"
    }
   ],
   "source": [
    "#headers setzen\n",
    "headers = ['Steuerbarer Gewinn ab CHF', 'Anzahl Steuerpflichtige 2010', 'Betrag Kantonssteuer 2010 in CHF',\n",
    "           'streichen']\n",
    "Firmen_2010_neu.columns = headers\n",
    "Firmen_2010_neu"
   ]
  },
  {
   "cell_type": "code",
   "execution_count": 166,
   "metadata": {},
   "outputs": [
    {
     "data": {
      "text/html": [
       "<div>\n",
       "<style scoped>\n",
       "    .dataframe tbody tr th:only-of-type {\n",
       "        vertical-align: middle;\n",
       "    }\n",
       "\n",
       "    .dataframe tbody tr th {\n",
       "        vertical-align: top;\n",
       "    }\n",
       "\n",
       "    .dataframe thead th {\n",
       "        text-align: right;\n",
       "    }\n",
       "</style>\n",
       "<table border=\"1\" class=\"dataframe\">\n",
       "  <thead>\n",
       "    <tr style=\"text-align: right;\">\n",
       "      <th></th>\n",
       "      <th>Steuerbarer Gewinn ab CHF</th>\n",
       "      <th>Anzahl Steuerpflichtige 2010</th>\n",
       "      <th>Betrag Kantonssteuer 2010 in CHF</th>\n",
       "    </tr>\n",
       "  </thead>\n",
       "  <tbody>\n",
       "    <tr>\n",
       "      <th>12</th>\n",
       "      <td>0</td>\n",
       "      <td>21'101\\n</td>\n",
       "      <td>\\n1'051'519</td>\n",
       "    </tr>\n",
       "    <tr>\n",
       "      <th>13</th>\n",
       "      <td>10'100</td>\n",
       "      <td>4'270\\n</td>\n",
       "      <td>\\n8'379'718</td>\n",
       "    </tr>\n",
       "    <tr>\n",
       "      <th>14</th>\n",
       "      <td>50'100</td>\n",
       "      <td>3'302\\n</td>\n",
       "      <td>\\n35'558'173</td>\n",
       "    </tr>\n",
       "    <tr>\n",
       "      <th>15</th>\n",
       "      <td>250'100</td>\n",
       "      <td>2'028\\n</td>\n",
       "      <td>\\n388'354'588</td>\n",
       "    </tr>\n",
       "    <tr>\n",
       "      <th>16</th>\n",
       "      <td>Total</td>\n",
       "      <td>30'701\\n</td>\n",
       "      <td>\\n433'343'998</td>\n",
       "    </tr>\n",
       "  </tbody>\n",
       "</table>\n",
       "</div>"
      ],
      "text/plain": [
       "   Steuerbarer Gewinn ab CHF Anzahl Steuerpflichtige 2010  \\\n",
       "12                         0                     21'101\\n   \n",
       "13                    10'100                      4'270\\n   \n",
       "14                    50'100                      3'302\\n   \n",
       "15                   250'100                      2'028\\n   \n",
       "16                     Total                     30'701\\n   \n",
       "\n",
       "   Betrag Kantonssteuer 2010 in CHF  \n",
       "12                      \\n1'051'519  \n",
       "13                      \\n8'379'718  \n",
       "14                     \\n35'558'173  \n",
       "15                    \\n388'354'588  \n",
       "16                    \\n433'343'998  "
      ]
     },
     "execution_count": 166,
     "metadata": {},
     "output_type": "execute_result"
    }
   ],
   "source": [
    "del Firmen_2010_neu['streichen']\n",
    "Firmen_2010_neu"
   ]
  },
  {
   "cell_type": "markdown",
   "metadata": {},
   "source": [
    "Jetzt muss ich putzen, und zwar etwas mehr als vorhin"
   ]
  },
  {
   "cell_type": "code",
   "execution_count": 167,
   "metadata": {},
   "outputs": [],
   "source": [
    "def geputzt(zeile):\n",
    "    zeile = zeile.replace('(', '')\n",
    "    zeile = zeile.replace(')', '')\n",
    "    zeile = zeile.replace('\\n', '') #das neu rein\n",
    "    zeile = zeile.replace(\"'\", \"\").strip()\n",
    "    return zeile\n",
    "Firmen_2010_neu['Steuerbarer Gewinn ab CHF'] = Firmen_2010_neu['Steuerbarer Gewinn ab CHF'].apply(geputzt)\n",
    "Firmen_2010_neu['Anzahl Steuerpflichtige 2010'] = Firmen_2010_neu['Anzahl Steuerpflichtige 2010'].apply(geputzt)\n",
    "Firmen_2010_neu['Betrag Kantonssteuer 2010 in CHF'] = Firmen_2010_neu['Betrag Kantonssteuer 2010 in CHF'].apply(geputzt)"
   ]
  },
  {
   "cell_type": "code",
   "execution_count": 168,
   "metadata": {},
   "outputs": [
    {
     "data": {
      "text/html": [
       "<div>\n",
       "<style scoped>\n",
       "    .dataframe tbody tr th:only-of-type {\n",
       "        vertical-align: middle;\n",
       "    }\n",
       "\n",
       "    .dataframe tbody tr th {\n",
       "        vertical-align: top;\n",
       "    }\n",
       "\n",
       "    .dataframe thead th {\n",
       "        text-align: right;\n",
       "    }\n",
       "</style>\n",
       "<table border=\"1\" class=\"dataframe\">\n",
       "  <thead>\n",
       "    <tr style=\"text-align: right;\">\n",
       "      <th></th>\n",
       "      <th>Steuerbarer Gewinn ab CHF</th>\n",
       "      <th>Anzahl Steuerpflichtige 2010</th>\n",
       "      <th>Betrag Kantonssteuer 2010 in CHF</th>\n",
       "    </tr>\n",
       "  </thead>\n",
       "  <tbody>\n",
       "    <tr>\n",
       "      <th>12</th>\n",
       "      <td>0</td>\n",
       "      <td>21101</td>\n",
       "      <td>1051519</td>\n",
       "    </tr>\n",
       "    <tr>\n",
       "      <th>13</th>\n",
       "      <td>10100</td>\n",
       "      <td>4270</td>\n",
       "      <td>8379718</td>\n",
       "    </tr>\n",
       "    <tr>\n",
       "      <th>14</th>\n",
       "      <td>50100</td>\n",
       "      <td>3302</td>\n",
       "      <td>35558173</td>\n",
       "    </tr>\n",
       "    <tr>\n",
       "      <th>15</th>\n",
       "      <td>250100</td>\n",
       "      <td>2028</td>\n",
       "      <td>388354588</td>\n",
       "    </tr>\n",
       "    <tr>\n",
       "      <th>16</th>\n",
       "      <td>Total</td>\n",
       "      <td>30701</td>\n",
       "      <td>433343998</td>\n",
       "    </tr>\n",
       "  </tbody>\n",
       "</table>\n",
       "</div>"
      ],
      "text/plain": [
       "   Steuerbarer Gewinn ab CHF Anzahl Steuerpflichtige 2010  \\\n",
       "12                         0                        21101   \n",
       "13                     10100                         4270   \n",
       "14                     50100                         3302   \n",
       "15                    250100                         2028   \n",
       "16                     Total                        30701   \n",
       "\n",
       "   Betrag Kantonssteuer 2010 in CHF  \n",
       "12                          1051519  \n",
       "13                          8379718  \n",
       "14                         35558173  \n",
       "15                        388354588  \n",
       "16                        433343998  "
      ]
     },
     "execution_count": 168,
     "metadata": {},
     "output_type": "execute_result"
    }
   ],
   "source": [
    "Firmen_2010_neu"
   ]
  },
  {
   "cell_type": "markdown",
   "metadata": {},
   "source": [
    "# Juhuiii, ich hab die Chose gepackt! Nach fast einem Tag Arbeit!"
   ]
  },
  {
   "cell_type": "markdown",
   "metadata": {},
   "source": [
    "### morgen schaue ich, wie ich von hier weiter gehe. Achtung: Den Code oben werde ich voraussichtlich auch bei den Einkommenssteuern brauchen können. Dort hab ich dieselbe Chose gesichtet"
   ]
  },
  {
   "cell_type": "code",
   "execution_count": 169,
   "metadata": {},
   "outputs": [
    {
     "data": {
      "text/html": [
       "<div>\n",
       "<style scoped>\n",
       "    .dataframe tbody tr th:only-of-type {\n",
       "        vertical-align: middle;\n",
       "    }\n",
       "\n",
       "    .dataframe tbody tr th {\n",
       "        vertical-align: top;\n",
       "    }\n",
       "\n",
       "    .dataframe thead th {\n",
       "        text-align: right;\n",
       "    }\n",
       "</style>\n",
       "<table border=\"1\" class=\"dataframe\">\n",
       "  <thead>\n",
       "    <tr style=\"text-align: right;\">\n",
       "      <th></th>\n",
       "      <th>12</th>\n",
       "      <th>13</th>\n",
       "      <th>14</th>\n",
       "      <th>15</th>\n",
       "      <th>16</th>\n",
       "    </tr>\n",
       "  </thead>\n",
       "  <tbody>\n",
       "    <tr>\n",
       "      <th>Steuerbarer Gewinn ab CHF</th>\n",
       "      <td>0</td>\n",
       "      <td>10100</td>\n",
       "      <td>50100</td>\n",
       "      <td>250100</td>\n",
       "      <td>Total</td>\n",
       "    </tr>\n",
       "    <tr>\n",
       "      <th>Anzahl Steuerpflichtige 2010</th>\n",
       "      <td>21101</td>\n",
       "      <td>4270</td>\n",
       "      <td>3302</td>\n",
       "      <td>2028</td>\n",
       "      <td>30701</td>\n",
       "    </tr>\n",
       "    <tr>\n",
       "      <th>Betrag Kantonssteuer 2010 in CHF</th>\n",
       "      <td>1051519</td>\n",
       "      <td>8379718</td>\n",
       "      <td>35558173</td>\n",
       "      <td>388354588</td>\n",
       "      <td>433343998</td>\n",
       "    </tr>\n",
       "  </tbody>\n",
       "</table>\n",
       "</div>"
      ],
      "text/plain": [
       "                                       12       13        14         15  \\\n",
       "Steuerbarer Gewinn ab CHF               0    10100     50100     250100   \n",
       "Anzahl Steuerpflichtige 2010        21101     4270      3302       2028   \n",
       "Betrag Kantonssteuer 2010 in CHF  1051519  8379718  35558173  388354588   \n",
       "\n",
       "                                         16  \n",
       "Steuerbarer Gewinn ab CHF             Total  \n",
       "Anzahl Steuerpflichtige 2010          30701  \n",
       "Betrag Kantonssteuer 2010 in CHF  433343998  "
      ]
     },
     "execution_count": 169,
     "metadata": {},
     "output_type": "execute_result"
    }
   ],
   "source": [
    "Firmen_2010_neu.T"
   ]
  },
  {
   "cell_type": "markdown",
   "metadata": {},
   "source": [
    "Hier dann schauen, ob das gleich ist wie bei den Vorherigen, oder ob ich etwas kleines anders machen muss.."
   ]
  },
  {
   "cell_type": "code",
   "execution_count": null,
   "metadata": {},
   "outputs": [],
   "source": []
  },
  {
   "cell_type": "code",
   "execution_count": null,
   "metadata": {},
   "outputs": [],
   "source": []
  },
  {
   "cell_type": "code",
   "execution_count": null,
   "metadata": {},
   "outputs": [],
   "source": []
  },
  {
   "cell_type": "markdown",
   "metadata": {},
   "source": [
    "Hier der ganze bisherige Code, der aber noch ergänzt werden muss:"
   ]
  },
  {
   "cell_type": "code",
   "execution_count": null,
   "metadata": {},
   "outputs": [],
   "source": [
    "#zurechtschneiden\n",
    "test_df = Firmen_2010[0].df\n",
    "Firmen_10 = test_df[12:]\n",
    "firmen_2010 = Firmen_10.head(5)\n",
    "\n",
    "#headers setzen\n",
    "headers = ['Weglassen', 'Steuerbarer Gewinn ab CHF', 'weglassen', 'Anzahl Steuerpflichtige 2010', 'Betrag Kantonssteuer 2010 in CHF', \n",
    "           'lassweg']\n",
    "firmen_2010.columns = headers\n",
    "\n",
    "#überflüssige kolonnen weg\n",
    "del firmen_2010['Weglassen']\n",
    "del firmen_2010['weglassen']\n",
    "del firmen_2010['lassweg']\n",
    "\n",
    "#putzen\n",
    "def geputzt(zeile):\n",
    "    zeile = zeile.replace('(', '')\n",
    "    zeile = zeile.replace(')', '')\n",
    "    zeile = zeile.replace(\"'\", \"\").strip()\n",
    "    return zeile\n",
    "firmen_2010['Steuerbarer Gewinn ab CHF'] = firmen_2010['Steuerbarer Gewinn ab CHF'].apply(geputzt)\n",
    "firmen_2010['Anzahl Steuerpflichtige 2010'] = firmen_2010['Anzahl Steuerpflichtige 2010'].apply(geputzt)\n",
    "firmen_2010['Betrag Kantonssteuer 2010 in CHF'] = firmen_2010['Betrag Kantonssteuer 2010 in CHF'].apply(geputzt)\n",
    "\n",
    "#um 90 Grad drehen\n",
    "firmen_10 = firmen_2010.T\n",
    "\n",
    "#headers weg\n",
    "Firmen10 = firmen_10[1:]\n",
    "\n",
    "#headers neu setzen\n",
    "headers = ['Steuerbarer Gewinn 0-10000 CHF', 'Steuerbarer Gewinn 10100-50000 CHF', 'Steuerbarer Gewinn 50100-250000 CHF', \n",
    "           'Steuerbarer Gewinn ab 250100 CHF', 'Total Steuerbarer Gewinn']\n",
    "Firmen10.columns = headers\n",
    "\n",
    "#nur den Betrag Kantonssteuer rausziehen\n",
    "Betrag_Kantonssteuer_2010 = Firmen10.drop(['Anzahl Steuerpflichtige 2010'])\n",
    "Betrag_Kantonssteuer_2010"
   ]
  }
 ],
 "metadata": {
  "kernelspec": {
   "display_name": "Python 3",
   "language": "python",
   "name": "python3"
  },
  "language_info": {
   "codemirror_mode": {
    "name": "ipython",
    "version": 3
   },
   "file_extension": ".py",
   "mimetype": "text/x-python",
   "name": "python",
   "nbconvert_exporter": "python",
   "pygments_lexer": "ipython3",
   "version": "3.7.3"
  }
 },
 "nbformat": 4,
 "nbformat_minor": 2
}
