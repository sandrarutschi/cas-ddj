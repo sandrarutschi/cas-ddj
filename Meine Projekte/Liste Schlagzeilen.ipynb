{
 "cells": [
  {
   "cell_type": "code",
   "execution_count": 1,
   "metadata": {},
   "outputs": [],
   "source": [
    "import requests\n",
    "import pandas as pd\n",
    "from bs4 import BeautifulSoup"
   ]
  },
  {
   "cell_type": "code",
   "execution_count": 2,
   "metadata": {
    "scrolled": true
   },
   "outputs": [
    {
     "name": "stdout",
     "output_type": "stream",
     "text": [
      "Proteste in Chile: Ein Aufschrei gegen das neoliberale Regime.\n",
      "Seit dem 21.10 arbeiten Frauen* unentgeltlich. Ist das ihre* Privatsache?\n",
      "Zahlen und Züge, Fakten und Flüge\n",
      "Schweizer Waffengeschäfte mit chilenischen Militärs: wenig bekannt, aber verheerend\n",
      "„Ich habe mich selbst lange nicht als politisches Subjekt wahrgenommen“\n",
      "Diese Schweiz verträgt keine grossen Veränderungen\n",
      "Mattea Meyer, betreibt die SP Lagerpolitik?\n",
      "  Instagram \n",
      "  #Ernährung \n",
      "Die 6 häufigsten Einwände gegen die sogenannten Gutmenschen – und weshalb sie nichts taugen\n",
      "Glencores Meisterwerk im aufkommenden Genre des ‚Sustainability Porn’\n",
      "Drei Argumente gegen Plastikverpackungen – und drei Gegenargumente von Coop, Lidl, Spar und co.\n",
      "  #porträt \n",
      "„Wenn Sie die Lieferkette nachvollziehen wollen, müssen Sie neben den Steinen herlaufen.“ Ein Gespräch mit einem Diamantenhändler über die Konzernverantwortungsinitiative\n",
      "Sexuelle Gewalt auf der Flucht: Ein Monat, eine Woche und zwei Tage in der Hölle\n",
      "Schweizer Incel (17): „Ich möchte eigentlich keine Frauen hassen!“\n",
      "  #sommer \n",
      "Vegane Glace selber machen? So gehts!\n",
      "Wie man nachhaltige Ferien macht\n",
      "München-Wien. Eine Velotour zwischen Flüchtlingen, Verschwörungstheorien und Tomaten\n"
     ]
    }
   ],
   "source": [
    "url = \"https://daslamm.ch/\"\n",
    "r = requests.get(url)\n",
    "soup = BeautifulSoup(r.content, 'lxml') #oder: html.parser\n",
    "titles = soup.find_all('h2')\n",
    "for title in titles:\n",
    "    print(title.text)"
   ]
  },
  {
   "cell_type": "code",
   "execution_count": 3,
   "metadata": {},
   "outputs": [
    {
     "name": "stdout",
     "output_type": "stream",
     "text": [
      "Proteste in Chile: Ein Aufschrei gegen das neoliberale Regime.\n",
      "Seit dem 21.10 arbeiten Frauen* unentgeltlich. Ist das ihre* Privatsache?\n",
      "Zahlen und Züge, Fakten und Flüge\n",
      "Schweizer Waffengeschäfte mit chilenischen Militärs: wenig bekannt, aber verheerend\n",
      "„Ich habe mich selbst lange nicht als politisches Subjekt wahrgenommen“\n",
      "Diese Schweiz verträgt keine grossen Veränderungen\n",
      "Mattea Meyer, betreibt die SP Lagerpolitik?\n",
      "  Instagram \n",
      "  #Ernährung \n",
      "Die 6 häufigsten Einwände gegen die sogenannten Gutmenschen – und weshalb sie nichts taugen\n",
      "Glencores Meisterwerk im aufkommenden Genre des ‚Sustainability Porn’\n",
      "Drei Argumente gegen Plastikverpackungen – und drei Gegenargumente von Coop, Lidl, Spar und co.\n",
      "  #porträt \n",
      "„Wenn Sie die Lieferkette nachvollziehen wollen, müssen Sie neben den Steinen herlaufen.“ Ein Gespräch mit einem Diamantenhändler über die Konzernverantwortungsinitiative\n",
      "Sexuelle Gewalt auf der Flucht: Ein Monat, eine Woche und zwei Tage in der Hölle\n",
      "Schweizer Incel (17): „Ich möchte eigentlich keine Frauen hassen!“\n",
      "  #sommer \n",
      "Vegane Glace selber machen? So gehts!\n",
      "Wie man nachhaltige Ferien macht\n",
      "München-Wien. Eine Velotour zwischen Flüchtlingen, Verschwörungstheorien und Tomaten\n"
     ]
    },
    {
     "data": {
      "text/html": [
       "<div>\n",
       "<style scoped>\n",
       "    .dataframe tbody tr th:only-of-type {\n",
       "        vertical-align: middle;\n",
       "    }\n",
       "\n",
       "    .dataframe tbody tr th {\n",
       "        vertical-align: top;\n",
       "    }\n",
       "\n",
       "    .dataframe thead th {\n",
       "        text-align: right;\n",
       "    }\n",
       "</style>\n",
       "<table border=\"1\" class=\"dataframe\">\n",
       "  <thead>\n",
       "    <tr style=\"text-align: right;\">\n",
       "      <th></th>\n",
       "      <th>0</th>\n",
       "    </tr>\n",
       "  </thead>\n",
       "  <tbody>\n",
       "    <tr>\n",
       "      <th>0</th>\n",
       "      <td>Proteste in Chile: Ein Aufschrei gegen das neo...</td>\n",
       "    </tr>\n",
       "    <tr>\n",
       "      <th>1</th>\n",
       "      <td>Seit dem 21.10 arbeiten Frauen* unentgeltlich....</td>\n",
       "    </tr>\n",
       "    <tr>\n",
       "      <th>2</th>\n",
       "      <td>Zahlen und Züge, Fakten und Flüge</td>\n",
       "    </tr>\n",
       "    <tr>\n",
       "      <th>3</th>\n",
       "      <td>Schweizer Waffengeschäfte mit chilenischen Mil...</td>\n",
       "    </tr>\n",
       "    <tr>\n",
       "      <th>4</th>\n",
       "      <td>„Ich habe mich selbst lange nicht als politisc...</td>\n",
       "    </tr>\n",
       "    <tr>\n",
       "      <th>5</th>\n",
       "      <td>Diese Schweiz verträgt keine grossen Veränderu...</td>\n",
       "    </tr>\n",
       "    <tr>\n",
       "      <th>6</th>\n",
       "      <td>Mattea Meyer, betreibt die SP Lagerpolitik?</td>\n",
       "    </tr>\n",
       "    <tr>\n",
       "      <th>7</th>\n",
       "      <td>Instagram</td>\n",
       "    </tr>\n",
       "    <tr>\n",
       "      <th>8</th>\n",
       "      <td>#Ernährung</td>\n",
       "    </tr>\n",
       "    <tr>\n",
       "      <th>9</th>\n",
       "      <td>Die 6 häufigsten Einwände gegen die sogenannte...</td>\n",
       "    </tr>\n",
       "    <tr>\n",
       "      <th>10</th>\n",
       "      <td>Glencores Meisterwerk im aufkommenden Genre de...</td>\n",
       "    </tr>\n",
       "    <tr>\n",
       "      <th>11</th>\n",
       "      <td>Drei Argumente gegen Plastikverpackungen – und...</td>\n",
       "    </tr>\n",
       "    <tr>\n",
       "      <th>12</th>\n",
       "      <td>#porträt</td>\n",
       "    </tr>\n",
       "    <tr>\n",
       "      <th>13</th>\n",
       "      <td>„Wenn Sie die Lieferkette nachvollziehen wolle...</td>\n",
       "    </tr>\n",
       "    <tr>\n",
       "      <th>14</th>\n",
       "      <td>Sexuelle Gewalt auf der Flucht: Ein Monat, ein...</td>\n",
       "    </tr>\n",
       "    <tr>\n",
       "      <th>15</th>\n",
       "      <td>Schweizer Incel (17): „Ich möchte eigentlich k...</td>\n",
       "    </tr>\n",
       "    <tr>\n",
       "      <th>16</th>\n",
       "      <td>#sommer</td>\n",
       "    </tr>\n",
       "    <tr>\n",
       "      <th>17</th>\n",
       "      <td>Vegane Glace selber machen? So gehts!</td>\n",
       "    </tr>\n",
       "    <tr>\n",
       "      <th>18</th>\n",
       "      <td>Wie man nachhaltige Ferien macht</td>\n",
       "    </tr>\n",
       "    <tr>\n",
       "      <th>19</th>\n",
       "      <td>München-Wien. Eine Velotour zwischen Flüchtlin...</td>\n",
       "    </tr>\n",
       "  </tbody>\n",
       "</table>\n",
       "</div>"
      ],
      "text/plain": [
       "                                                    0\n",
       "0   Proteste in Chile: Ein Aufschrei gegen das neo...\n",
       "1   Seit dem 21.10 arbeiten Frauen* unentgeltlich....\n",
       "2                   Zahlen und Züge, Fakten und Flüge\n",
       "3   Schweizer Waffengeschäfte mit chilenischen Mil...\n",
       "4   „Ich habe mich selbst lange nicht als politisc...\n",
       "5   Diese Schweiz verträgt keine grossen Veränderu...\n",
       "6         Mattea Meyer, betreibt die SP Lagerpolitik?\n",
       "7                                          Instagram \n",
       "8                                         #Ernährung \n",
       "9   Die 6 häufigsten Einwände gegen die sogenannte...\n",
       "10  Glencores Meisterwerk im aufkommenden Genre de...\n",
       "11  Drei Argumente gegen Plastikverpackungen – und...\n",
       "12                                          #porträt \n",
       "13  „Wenn Sie die Lieferkette nachvollziehen wolle...\n",
       "14  Sexuelle Gewalt auf der Flucht: Ein Monat, ein...\n",
       "15  Schweizer Incel (17): „Ich möchte eigentlich k...\n",
       "16                                           #sommer \n",
       "17              Vegane Glace selber machen? So gehts!\n",
       "18                   Wie man nachhaltige Ferien macht\n",
       "19  München-Wien. Eine Velotour zwischen Flüchtlin..."
      ]
     },
     "execution_count": 3,
     "metadata": {},
     "output_type": "execute_result"
    }
   ],
   "source": [
    "liste = []\n",
    "for title in titles:\n",
    "    print(title.text)\n",
    "    liste.append(title.text)\n",
    "pd.DataFrame(liste)"
   ]
  },
  {
   "cell_type": "code",
   "execution_count": 4,
   "metadata": {},
   "outputs": [],
   "source": [
    "pd.DataFrame(liste).to_csv('titel_das_lamm.csv') #so speichere ich das ab"
   ]
  },
  {
   "cell_type": "markdown",
   "metadata": {},
   "source": [
    "Ziel heue Morgen: einen Roboter programmieren, der jeden Tag diese Schlagzeilen holt von der Website"
   ]
  },
  {
   "cell_type": "code",
   "execution_count": null,
   "metadata": {},
   "outputs": [],
   "source": []
  }
 ],
 "metadata": {
  "kernelspec": {
   "display_name": "Python 3",
   "language": "python",
   "name": "python3"
  },
  "language_info": {
   "codemirror_mode": {
    "name": "ipython",
    "version": 3
   },
   "file_extension": ".py",
   "mimetype": "text/x-python",
   "name": "python",
   "nbconvert_exporter": "python",
   "pygments_lexer": "ipython3",
   "version": "3.7.3"
  }
 },
 "nbformat": 4,
 "nbformat_minor": 2
}
