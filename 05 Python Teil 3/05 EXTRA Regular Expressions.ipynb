{
 "cells": [
  {
   "cell_type": "markdown",
   "metadata": {},
   "source": [
    "# Regular Expressions \n",
    "Ermöglicht mit sog. \"regulären Ausdrücken\" sehr flexibel, Strings zu durchsuchen."
   ]
  },
  {
   "cell_type": "markdown",
   "metadata": {},
   "source": [
    "#### Modul einbinden"
   ]
  },
  {
   "cell_type": "code",
   "execution_count": 1,
   "metadata": {},
   "outputs": [],
   "source": [
    "import re"
   ]
  },
  {
   "cell_type": "markdown",
   "metadata": {},
   "source": [
    "### Findall"
   ]
  },
  {
   "cell_type": "code",
   "execution_count": 2,
   "metadata": {},
   "outputs": [
    {
     "data": {
      "text/plain": [
       "['30', '4', '2']"
      ]
     },
     "execution_count": 2,
     "metadata": {},
     "output_type": "execute_result"
    }
   ],
   "source": [
    "sentence = \"Habe 30 Hunde, die jeweils 4 Liter Wasser brauchen und 2 kg Nahrung.\"\n",
    "re.findall(\"[0-9]+\", sentence) #das + steht für mindestens einmal.\n",
    "#nur die zahlen rausfiltern (wende diesen filter an auf diesen satz). oder auch auf ein wort durchsuchen (z.b. \"hate\")"
   ]
  },
  {
   "cell_type": "markdown",
   "metadata": {},
   "source": [
    "### Suche nach Zahlen"
   ]
  },
  {
   "cell_type": "code",
   "execution_count": 3,
   "metadata": {},
   "outputs": [
    {
     "data": {
      "text/plain": [
       "'30'"
      ]
     },
     "execution_count": 3,
     "metadata": {},
     "output_type": "execute_result"
    }
   ],
   "source": [
    "sentence = \"Ich habe 30 Hunde, die jeweils 4 Liter Wasser brauchen und 2 kg Nahrung.\"\n",
    "re.search(\"[0-9]+\", sentence)[0] #also nur das erste element der zahl suchen, die 30 hunde"
   ]
  },
  {
   "cell_type": "markdown",
   "metadata": {},
   "source": [
    "### Suche nach Zahlen []"
   ]
  },
  {
   "cell_type": "code",
   "execution_count": 4,
   "metadata": {},
   "outputs": [
    {
     "name": "stdout",
     "output_type": "stream",
     "text": [
      "<re.Match object; span=(6, 8), match='12'>\n",
      "<re.Match object; span=(6, 9), match='123'>\n"
     ]
    }
   ],
   "source": [
    "print(re.search(\"[012456789]+\", \"Hallo 123 Hallo\"))  #+ heisst ein oder mehrmals\n",
    "#oder\n",
    "print(re.search(\"[0-9]+\", \"Hallo 123 Hallo\"))"
   ]
  },
  {
   "cell_type": "markdown",
   "metadata": {},
   "source": [
    "###CHEATLISTE für Regular Expressions: https://pythex.org"
   ]
  },
  {
   "cell_type": "markdown",
   "metadata": {},
   "source": [
    "### Suche nach Wörtern"
   ]
  },
  {
   "cell_type": "code",
   "execution_count": 5,
   "metadata": {},
   "outputs": [
    {
     "data": {
      "text/plain": [
       "<re.Match object; span=(6, 9), match='der'>"
      ]
     },
     "execution_count": 5,
     "metadata": {},
     "output_type": "execute_result"
    }
   ],
   "source": [
    "re.search(\"der?\", \"Hallo der Hallo\")"
   ]
  },
  {
   "cell_type": "markdown",
   "metadata": {},
   "source": [
    "### Suche nach Wörtern *"
   ]
  },
  {
   "cell_type": "code",
   "execution_count": 6,
   "metadata": {},
   "outputs": [
    {
     "name": "stdout",
     "output_type": "stream",
     "text": [
      "<re.Match object; span=(6, 8), match='de'>\n",
      "<re.Match object; span=(6, 9), match='der'>\n",
      "<re.Match object; span=(6, 16), match='derrrrrrrr'>\n"
     ]
    }
   ],
   "source": [
    "print(re.search(\"der*\", \"Hallo de Hallo\"))  #*heisst null oder mehrmals\n",
    "print(re.search(\"der*\", \"Hallo der Hallo\"))\n",
    "print(re.search(\"der*\", \"Hallo derrrrrrrr Hallo\"))"
   ]
  },
  {
   "cell_type": "markdown",
   "metadata": {},
   "source": [
    "### Suche nach Wörtern +"
   ]
  },
  {
   "cell_type": "code",
   "execution_count": 37,
   "metadata": {},
   "outputs": [
    {
     "name": "stdout",
     "output_type": "stream",
     "text": [
      "None\n",
      "<_sre.SRE_Match object; span=(6, 9), match='der'>\n",
      "<_sre.SRE_Match object; span=(6, 16), match='derrrrrrrr'>\n"
     ]
    }
   ],
   "source": [
    "print(re.search(\"der+\", \"Hallo de Hallo\"))\n",
    "print(re.search(\"der+\", \"Hallo der Hallo\"))\n",
    "print(re.search(\"der+\", \"Hallo derrrrrrrr Hallo\"))"
   ]
  },
  {
   "cell_type": "markdown",
   "metadata": {},
   "source": [
    "#### Weitere Infos:\n",
    "\n",
    "- https://docs.python.org/3.6/library/re.html\n",
    "- http://rubular.com"
   ]
  },
  {
   "cell_type": "markdown",
   "metadata": {},
   "source": [
    "## Übung\n",
    "\n",
    "- Kopiert einen Text aus 20 min. \n",
    "- Wie oft kommt dort das Wort \"der\" vor?"
   ]
  },
  {
   "cell_type": "code",
   "execution_count": 24,
   "metadata": {},
   "outputs": [
    {
     "name": "stdout",
     "output_type": "stream",
     "text": [
      "14\n"
     ]
    }
   ],
   "source": [
    "# Hier kommt euer cod\n",
    "text = \"\"\"Ein Stressfaktor ist auch das Handy, das permanent nach Antworten auf Nachrichten verlangt. Wie handhaben Sie das?\n",
    "Ich lasse mich nicht stressen. Wenn ich noch nicht genau weiss, was ich antworten soll, warte ich ab. Ich lasse die Antwort zunächst wachsen.\n",
    "\n",
    "Und wenn es eilt?\n",
    "In der Regel eilt es nicht. Dennoch wird von den Leuten den ganzen Tag verlangt, so schnell wie möglich, also umgehend, zu reagieren. Und dann setzen sie sich abends vor den Fernseher. Unsere Sinne sind so permanent beschäftigt. Aber beim Fernsehen schauen wir eigentlich nicht, der Augensinn wird bloss gebraucht, um zu registrieren, was einem gezeigt wird. Dadurch schwinden die kostbaren Fähigkeiten, Wirklichkeiten zu schauen, zu gucken, zu erblicken und zu hören.\n",
    "\n",
    "Wie könnte man denn richtig schauen und hören?\n",
    "Indem man zur Ruhe kommt, den eigenen Rhythmus findet. Auch den körperlichen.\n",
    "\n",
    "Das klingt jetzt esoterisch.\n",
    "Wir versuchen heute, alles im Kopf zu verarbeiten. Dabei erleben wir Dinge nicht mit dem Hirn, sondern mit dem Herzen und den Eingeweiden. In unzähligen Briefen, Erzählungen und Gedichten, die ich aus der Vergangenheit kenne, war das Herz das Organ der Empfindungen, der Gefühle. Man sprach vom Herzen, das hüpft und springt, das zuckte, wenn es einer ersehnten Person ansichtig wurde. Doch die anatomische Sektion des Körpers im 19. Jahrhundert machte aus dem Herzen ein funktionales Pumporgan.\n",
    "\n",
    "Das Mystische ist verloren gegangen?\n",
    "Eher wohl die Bereitschaft zur Verwunderung, zur Überraschung. Ebenso das somatische, also inwendige Wissen, dass Ereignisse nicht nur äusserlich stattfinden, sondern auch im Inneren erlebt werden. Mir ist diese Bezüglichkeit wichtig: Das Herz wird nicht durch sich selber berührt, sondern nur durch ein Gegenüber. Eine moderne Auszeit bedeutet aber oft, dass man sich zurückzieht, das schliesst ein Gegenüber aus.\n",
    "\n",
    "Ist eine Krankheit im Grunde nicht auch eine Auszeit?\n",
    "Das ist völlig richtig. Auch körperlicher Erkrankung und Schwäche muss man Raum geben. Meine Mutter hat sich früher zwei Tage im Monat zurückgezogen. Heute würde man das wohl als «Auszeit» bezeichnen: Sie legte sich ins Bett und las. Uns Kindern sagte sie jeweils: «Macht, was ihr wollt. Ich bin jetzt hier bei mir.» Frauen hatten natürlich eher die Möglichkeit dazu, weil damals die «Krankheit Menstruation» ihnen eine anerkannte Begründung dafür gab.\n",
    "\n",
    "Das konnten sich damals nur privilegierte Frauen leisten. Eine Bäuerin durfte während der Ernte nicht einfach aus­fallen.\n",
    "Ja, Krankheit war in dem Sinne ein Phänomen der bürgerlichen Schichten. Und «Auszeiten» sind bis heute vor allem den Eliten vorbehalten: Kein Handwerker spricht von einem Sabbatical.\"\"\"\n",
    "\n",
    "text = text.lower()\n",
    "\n",
    "print(len(re.findall(\"der+\", text)))"
   ]
  },
  {
   "cell_type": "code",
   "execution_count": null,
   "metadata": {},
   "outputs": [],
   "source": []
  },
  {
   "cell_type": "code",
   "execution_count": null,
   "metadata": {},
   "outputs": [],
   "source": []
  }
 ],
 "metadata": {
  "kernelspec": {
   "display_name": "Python 3",
   "language": "python",
   "name": "python3"
  },
  "language_info": {
   "codemirror_mode": {
    "name": "ipython",
    "version": 3
   },
   "file_extension": ".py",
   "mimetype": "text/x-python",
   "name": "python",
   "nbconvert_exporter": "python",
   "pygments_lexer": "ipython3",
   "version": "3.7.3"
  }
 },
 "nbformat": 4,
 "nbformat_minor": 2
}
